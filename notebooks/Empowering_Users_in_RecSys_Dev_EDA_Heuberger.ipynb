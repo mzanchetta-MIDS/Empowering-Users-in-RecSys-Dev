{
  "nbformat": 4,
  "nbformat_minor": 0,
  "metadata": {
    "colab": {
      "provenance": [],
      "machine_shape": "hm",
      "toc_visible": true,
      "gpuType": "A100"
    },
    "kernelspec": {
      "name": "python3",
      "display_name": "Python 3"
    },
    "language_info": {
      "name": "python"
    },
    "widgets": {
      "application/vnd.jupyter.widget-state+json": {
        "1fbf32a7cc714daeaad72ca5ec4abca7": {
          "model_module": "@jupyter-widgets/controls",
          "model_name": "HBoxModel",
          "model_module_version": "1.5.0",
          "state": {
            "_dom_classes": [],
            "_model_module": "@jupyter-widgets/controls",
            "_model_module_version": "1.5.0",
            "_model_name": "HBoxModel",
            "_view_count": null,
            "_view_module": "@jupyter-widgets/controls",
            "_view_module_version": "1.5.0",
            "_view_name": "HBoxView",
            "box_style": "",
            "children": [
              "IPY_MODEL_b5e57ee73e8340248ef5a3e9f49faf3d",
              "IPY_MODEL_cb3cc3254d56438183bb0b4d56d5cbda",
              "IPY_MODEL_541d9b536a664b0794dde3f007cae655"
            ],
            "layout": "IPY_MODEL_8844129f95fd4b53a9f95e1b9d9c679b"
          }
        },
        "b5e57ee73e8340248ef5a3e9f49faf3d": {
          "model_module": "@jupyter-widgets/controls",
          "model_name": "HTMLModel",
          "model_module_version": "1.5.0",
          "state": {
            "_dom_classes": [],
            "_model_module": "@jupyter-widgets/controls",
            "_model_module_version": "1.5.0",
            "_model_name": "HTMLModel",
            "_view_count": null,
            "_view_module": "@jupyter-widgets/controls",
            "_view_module_version": "1.5.0",
            "_view_name": "HTMLView",
            "description": "",
            "description_tooltip": null,
            "layout": "IPY_MODEL_817468254eb044878fc31994dea538c1",
            "placeholder": "​",
            "style": "IPY_MODEL_2b2d5541065b44fab79d4151e7117590",
            "value": "Batches: 100%"
          }
        },
        "cb3cc3254d56438183bb0b4d56d5cbda": {
          "model_module": "@jupyter-widgets/controls",
          "model_name": "FloatProgressModel",
          "model_module_version": "1.5.0",
          "state": {
            "_dom_classes": [],
            "_model_module": "@jupyter-widgets/controls",
            "_model_module_version": "1.5.0",
            "_model_name": "FloatProgressModel",
            "_view_count": null,
            "_view_module": "@jupyter-widgets/controls",
            "_view_module_version": "1.5.0",
            "_view_name": "ProgressView",
            "bar_style": "success",
            "description": "",
            "description_tooltip": null,
            "layout": "IPY_MODEL_503ce6591a0047d5ac08ac07fcd5dbbc",
            "max": 193,
            "min": 0,
            "orientation": "horizontal",
            "style": "IPY_MODEL_85581449e7cd43d288030dc3e793ed30",
            "value": 193
          }
        },
        "541d9b536a664b0794dde3f007cae655": {
          "model_module": "@jupyter-widgets/controls",
          "model_name": "HTMLModel",
          "model_module_version": "1.5.0",
          "state": {
            "_dom_classes": [],
            "_model_module": "@jupyter-widgets/controls",
            "_model_module_version": "1.5.0",
            "_model_name": "HTMLModel",
            "_view_count": null,
            "_view_module": "@jupyter-widgets/controls",
            "_view_module_version": "1.5.0",
            "_view_name": "HTMLView",
            "description": "",
            "description_tooltip": null,
            "layout": "IPY_MODEL_3eb33825f54445808fd24ebd084900e1",
            "placeholder": "​",
            "style": "IPY_MODEL_df233990cf7c4dd689c570d257d48c95",
            "value": " 193/193 [03:05&lt;00:00,  3.00it/s]"
          }
        },
        "8844129f95fd4b53a9f95e1b9d9c679b": {
          "model_module": "@jupyter-widgets/base",
          "model_name": "LayoutModel",
          "model_module_version": "1.2.0",
          "state": {
            "_model_module": "@jupyter-widgets/base",
            "_model_module_version": "1.2.0",
            "_model_name": "LayoutModel",
            "_view_count": null,
            "_view_module": "@jupyter-widgets/base",
            "_view_module_version": "1.2.0",
            "_view_name": "LayoutView",
            "align_content": null,
            "align_items": null,
            "align_self": null,
            "border": null,
            "bottom": null,
            "display": null,
            "flex": null,
            "flex_flow": null,
            "grid_area": null,
            "grid_auto_columns": null,
            "grid_auto_flow": null,
            "grid_auto_rows": null,
            "grid_column": null,
            "grid_gap": null,
            "grid_row": null,
            "grid_template_areas": null,
            "grid_template_columns": null,
            "grid_template_rows": null,
            "height": null,
            "justify_content": null,
            "justify_items": null,
            "left": null,
            "margin": null,
            "max_height": null,
            "max_width": null,
            "min_height": null,
            "min_width": null,
            "object_fit": null,
            "object_position": null,
            "order": null,
            "overflow": null,
            "overflow_x": null,
            "overflow_y": null,
            "padding": null,
            "right": null,
            "top": null,
            "visibility": null,
            "width": null
          }
        },
        "817468254eb044878fc31994dea538c1": {
          "model_module": "@jupyter-widgets/base",
          "model_name": "LayoutModel",
          "model_module_version": "1.2.0",
          "state": {
            "_model_module": "@jupyter-widgets/base",
            "_model_module_version": "1.2.0",
            "_model_name": "LayoutModel",
            "_view_count": null,
            "_view_module": "@jupyter-widgets/base",
            "_view_module_version": "1.2.0",
            "_view_name": "LayoutView",
            "align_content": null,
            "align_items": null,
            "align_self": null,
            "border": null,
            "bottom": null,
            "display": null,
            "flex": null,
            "flex_flow": null,
            "grid_area": null,
            "grid_auto_columns": null,
            "grid_auto_flow": null,
            "grid_auto_rows": null,
            "grid_column": null,
            "grid_gap": null,
            "grid_row": null,
            "grid_template_areas": null,
            "grid_template_columns": null,
            "grid_template_rows": null,
            "height": null,
            "justify_content": null,
            "justify_items": null,
            "left": null,
            "margin": null,
            "max_height": null,
            "max_width": null,
            "min_height": null,
            "min_width": null,
            "object_fit": null,
            "object_position": null,
            "order": null,
            "overflow": null,
            "overflow_x": null,
            "overflow_y": null,
            "padding": null,
            "right": null,
            "top": null,
            "visibility": null,
            "width": null
          }
        },
        "2b2d5541065b44fab79d4151e7117590": {
          "model_module": "@jupyter-widgets/controls",
          "model_name": "DescriptionStyleModel",
          "model_module_version": "1.5.0",
          "state": {
            "_model_module": "@jupyter-widgets/controls",
            "_model_module_version": "1.5.0",
            "_model_name": "DescriptionStyleModel",
            "_view_count": null,
            "_view_module": "@jupyter-widgets/base",
            "_view_module_version": "1.2.0",
            "_view_name": "StyleView",
            "description_width": ""
          }
        },
        "503ce6591a0047d5ac08ac07fcd5dbbc": {
          "model_module": "@jupyter-widgets/base",
          "model_name": "LayoutModel",
          "model_module_version": "1.2.0",
          "state": {
            "_model_module": "@jupyter-widgets/base",
            "_model_module_version": "1.2.0",
            "_model_name": "LayoutModel",
            "_view_count": null,
            "_view_module": "@jupyter-widgets/base",
            "_view_module_version": "1.2.0",
            "_view_name": "LayoutView",
            "align_content": null,
            "align_items": null,
            "align_self": null,
            "border": null,
            "bottom": null,
            "display": null,
            "flex": null,
            "flex_flow": null,
            "grid_area": null,
            "grid_auto_columns": null,
            "grid_auto_flow": null,
            "grid_auto_rows": null,
            "grid_column": null,
            "grid_gap": null,
            "grid_row": null,
            "grid_template_areas": null,
            "grid_template_columns": null,
            "grid_template_rows": null,
            "height": null,
            "justify_content": null,
            "justify_items": null,
            "left": null,
            "margin": null,
            "max_height": null,
            "max_width": null,
            "min_height": null,
            "min_width": null,
            "object_fit": null,
            "object_position": null,
            "order": null,
            "overflow": null,
            "overflow_x": null,
            "overflow_y": null,
            "padding": null,
            "right": null,
            "top": null,
            "visibility": null,
            "width": null
          }
        },
        "85581449e7cd43d288030dc3e793ed30": {
          "model_module": "@jupyter-widgets/controls",
          "model_name": "ProgressStyleModel",
          "model_module_version": "1.5.0",
          "state": {
            "_model_module": "@jupyter-widgets/controls",
            "_model_module_version": "1.5.0",
            "_model_name": "ProgressStyleModel",
            "_view_count": null,
            "_view_module": "@jupyter-widgets/base",
            "_view_module_version": "1.2.0",
            "_view_name": "StyleView",
            "bar_color": null,
            "description_width": ""
          }
        },
        "3eb33825f54445808fd24ebd084900e1": {
          "model_module": "@jupyter-widgets/base",
          "model_name": "LayoutModel",
          "model_module_version": "1.2.0",
          "state": {
            "_model_module": "@jupyter-widgets/base",
            "_model_module_version": "1.2.0",
            "_model_name": "LayoutModel",
            "_view_count": null,
            "_view_module": "@jupyter-widgets/base",
            "_view_module_version": "1.2.0",
            "_view_name": "LayoutView",
            "align_content": null,
            "align_items": null,
            "align_self": null,
            "border": null,
            "bottom": null,
            "display": null,
            "flex": null,
            "flex_flow": null,
            "grid_area": null,
            "grid_auto_columns": null,
            "grid_auto_flow": null,
            "grid_auto_rows": null,
            "grid_column": null,
            "grid_gap": null,
            "grid_row": null,
            "grid_template_areas": null,
            "grid_template_columns": null,
            "grid_template_rows": null,
            "height": null,
            "justify_content": null,
            "justify_items": null,
            "left": null,
            "margin": null,
            "max_height": null,
            "max_width": null,
            "min_height": null,
            "min_width": null,
            "object_fit": null,
            "object_position": null,
            "order": null,
            "overflow": null,
            "overflow_x": null,
            "overflow_y": null,
            "padding": null,
            "right": null,
            "top": null,
            "visibility": null,
            "width": null
          }
        },
        "df233990cf7c4dd689c570d257d48c95": {
          "model_module": "@jupyter-widgets/controls",
          "model_name": "DescriptionStyleModel",
          "model_module_version": "1.5.0",
          "state": {
            "_model_module": "@jupyter-widgets/controls",
            "_model_module_version": "1.5.0",
            "_model_name": "DescriptionStyleModel",
            "_view_count": null,
            "_view_module": "@jupyter-widgets/base",
            "_view_module_version": "1.2.0",
            "_view_name": "StyleView",
            "description_width": ""
          }
        }
      }
    },
    "accelerator": "GPU"
  },
  "cells": [
    {
      "cell_type": "markdown",
      "source": [
        "## SECTION 0: IMPORT DATA"
      ],
      "metadata": {
        "id": "-ntzIT0PuJu4"
      }
    },
    {
      "cell_type": "code",
      "execution_count": 2,
      "metadata": {
        "id": "wzzNT5geq2x_"
      },
      "outputs": [],
      "source": [
        "import pandas as pd\n",
        "import numpy as np\n",
        "import os\n",
        "import matplotlib.pyplot as plt\n",
        "import seaborn as sns"
      ]
    },
    {
      "cell_type": "code",
      "source": [
        "from google.colab import drive\n",
        "\n",
        "drive.mount('/content/drive')\n"
      ],
      "metadata": {
        "colab": {
          "base_uri": "https://localhost:8080/"
        },
        "id": "-aEP1Q-yuByD",
        "outputId": "c621c83c-346a-405e-a9ee-1e11b13e70a2"
      },
      "execution_count": 3,
      "outputs": [
        {
          "output_type": "stream",
          "name": "stdout",
          "text": [
            "Mounted at /content/drive\n"
          ]
        }
      ]
    },
    {
      "cell_type": "code",
      "source": [
        "def load_data(csv_path, pkl_path=None, force_reload=False):\n",
        "    \"\"\"\n",
        "    Load data from CSV, with optional pickle caching.\n",
        "    \"\"\"\n",
        "\n",
        "    if pkl_path is None:\n",
        "        pkl_path = csv_path.rsplit('.', 1)[0] + '.pkl'\n",
        "\n",
        "    # Try to load from pickle if it exists and force_reload is False\n",
        "    if not force_reload and os.path.exists(pkl_path):\n",
        "        try:\n",
        "            print(f\"Loading cached data from {pkl_path}\")\n",
        "            return pd.read_pickle(pkl_path)\n",
        "        except Exception as e:\n",
        "            print(f\"Error loading pickle file: {e}\")\n",
        "            print(\"Falling back to CSV loading\")\n",
        "\n",
        "    print(f\"Loading data from {csv_path}\")\n",
        "    df = pd.read_csv(csv_path)\n",
        "\n",
        "    df.to_pickle(pkl_path)\n",
        "\n",
        "    return df\n"
      ],
      "metadata": {
        "id": "WeZcQ5oLCucY"
      },
      "execution_count": 4,
      "outputs": []
    },
    {
      "cell_type": "code",
      "source": [
        "os.chdir('/content/drive/MyDrive/DATASCI210/data')\n",
        "\n",
        "# Load the data\n",
        "books_df = load_data('books_data.csv')\n",
        "ratings_df = load_data('books_rating.csv')\n"
      ],
      "metadata": {
        "colab": {
          "base_uri": "https://localhost:8080/"
        },
        "id": "T8Ix_KjbDohR",
        "outputId": "7ea5a09f-6b28-44c1-818a-20fab4d40988"
      },
      "execution_count": 6,
      "outputs": [
        {
          "output_type": "stream",
          "name": "stdout",
          "text": [
            "Loading cached data from books_data.pkl\n",
            "Loading cached data from books_rating.pkl\n"
          ]
        }
      ]
    },
    {
      "cell_type": "markdown",
      "source": [
        "# SECTION 1: EDA"
      ],
      "metadata": {
        "id": "YpL7u3JYk-sJ"
      }
    },
    {
      "cell_type": "markdown",
      "source": [
        "#### SECTION 1.1: SUMMARY INF0"
      ],
      "metadata": {
        "id": "vN83RbZGtthK"
      }
    },
    {
      "cell_type": "markdown",
      "source": [
        "Here are the fields available in our two data sources:"
      ],
      "metadata": {
        "id": "J4My5C7XuqBQ"
      }
    },
    {
      "cell_type": "markdown",
      "source": [
        "![Screenshot 2025-02-01 at 5.55.24 PM.png](data:image/png;base64,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)"
      ],
      "metadata": {
        "id": "oyixDLOguVyd"
      }
    },
    {
      "cell_type": "code",
      "source": [
        "\n",
        "print(\"Books Dataset Info:\")\n",
        "print(books_df.info())\n"
      ],
      "metadata": {
        "colab": {
          "base_uri": "https://localhost:8080/"
        },
        "id": "1nI7mu_RrIzJ",
        "outputId": "67196d09-9ca5-48a8-cc34-50602e48487f"
      },
      "execution_count": 77,
      "outputs": [
        {
          "output_type": "stream",
          "name": "stdout",
          "text": [
            "Books Dataset Info:\n",
            "<class 'pandas.core.frame.DataFrame'>\n",
            "RangeIndex: 212404 entries, 0 to 212403\n",
            "Data columns (total 10 columns):\n",
            " #   Column         Non-Null Count   Dtype  \n",
            "---  ------         --------------   -----  \n",
            " 0   Title          212403 non-null  object \n",
            " 1   description    143962 non-null  object \n",
            " 2   authors        180991 non-null  object \n",
            " 3   image          160329 non-null  object \n",
            " 4   previewLink    188568 non-null  object \n",
            " 5   publisher      136518 non-null  object \n",
            " 6   publishedDate  187099 non-null  object \n",
            " 7   infoLink       188568 non-null  object \n",
            " 8   categories     171205 non-null  object \n",
            " 9   ratingsCount   49752 non-null   float64\n",
            "dtypes: float64(1), object(9)\n",
            "memory usage: 16.2+ MB\n",
            "None\n"
          ]
        }
      ]
    },
    {
      "cell_type": "code",
      "source": [
        "books_df.head()\n"
      ],
      "metadata": {
        "colab": {
          "base_uri": "https://localhost:8080/",
          "height": 397
        },
        "id": "WWhEmJu4zK8D",
        "outputId": "37c8f02c-0023-4db3-bd8b-1491e82e607b"
      },
      "execution_count": 78,
      "outputs": [
        {
          "output_type": "execute_result",
          "data": {
            "text/plain": [
              "                                               Title  \\\n",
              "0                     Its Only Art If Its Well Hung!   \n",
              "1                           Dr. Seuss: American Icon   \n",
              "2              Wonderful Worship in Smaller Churches   \n",
              "3                      Whispers of the Wicked Saints   \n",
              "4  Nation Dance: Religion, Identity and Cultural ...   \n",
              "\n",
              "                                         description              authors  \\\n",
              "0                                                NaN     ['Julie Strain']   \n",
              "1  Philip Nel takes a fascinating look into the k...       ['Philip Nel']   \n",
              "2  This resource includes twelve principles in un...     ['David R. Ray']   \n",
              "3  Julia Thomas finds her life spinning out of co...  ['Veronica Haddon']   \n",
              "4                                                NaN      ['Edward Long']   \n",
              "\n",
              "                                               image  \\\n",
              "0  http://books.google.com/books/content?id=DykPA...   \n",
              "1  http://books.google.com/books/content?id=IjvHQ...   \n",
              "2  http://books.google.com/books/content?id=2tsDA...   \n",
              "3  http://books.google.com/books/content?id=aRSIg...   \n",
              "4                                                NaN   \n",
              "\n",
              "                                         previewLink  publisher publishedDate  \\\n",
              "0  http://books.google.nl/books?id=DykPAAAACAAJ&d...        NaN          1996   \n",
              "1  http://books.google.nl/books?id=IjvHQsCn_pgC&p...  A&C Black    2005-01-01   \n",
              "2  http://books.google.nl/books?id=2tsDAAAACAAJ&d...        NaN          2000   \n",
              "3  http://books.google.nl/books?id=aRSIgJlq6JwC&d...  iUniverse       2005-02   \n",
              "4  http://books.google.nl/books?id=399SPgAACAAJ&d...        NaN    2003-03-01   \n",
              "\n",
              "                                            infoLink  \\\n",
              "0  http://books.google.nl/books?id=DykPAAAACAAJ&d...   \n",
              "1  http://books.google.nl/books?id=IjvHQsCn_pgC&d...   \n",
              "2  http://books.google.nl/books?id=2tsDAAAACAAJ&d...   \n",
              "3  http://books.google.nl/books?id=aRSIgJlq6JwC&d...   \n",
              "4  http://books.google.nl/books?id=399SPgAACAAJ&d...   \n",
              "\n",
              "                      categories  ratingsCount  \n",
              "0    ['Comics & Graphic Novels']           NaN  \n",
              "1  ['Biography & Autobiography']           NaN  \n",
              "2                   ['Religion']           NaN  \n",
              "3                    ['Fiction']           NaN  \n",
              "4                            NaN           NaN  "
            ],
            "text/html": [
              "\n",
              "  <div id=\"df-1e438ad0-c3e5-49d8-b5c8-904e48a72ecb\" class=\"colab-df-container\">\n",
              "    <div>\n",
              "<style scoped>\n",
              "    .dataframe tbody tr th:only-of-type {\n",
              "        vertical-align: middle;\n",
              "    }\n",
              "\n",
              "    .dataframe tbody tr th {\n",
              "        vertical-align: top;\n",
              "    }\n",
              "\n",
              "    .dataframe thead th {\n",
              "        text-align: right;\n",
              "    }\n",
              "</style>\n",
              "<table border=\"1\" class=\"dataframe\">\n",
              "  <thead>\n",
              "    <tr style=\"text-align: right;\">\n",
              "      <th></th>\n",
              "      <th>Title</th>\n",
              "      <th>description</th>\n",
              "      <th>authors</th>\n",
              "      <th>image</th>\n",
              "      <th>previewLink</th>\n",
              "      <th>publisher</th>\n",
              "      <th>publishedDate</th>\n",
              "      <th>infoLink</th>\n",
              "      <th>categories</th>\n",
              "      <th>ratingsCount</th>\n",
              "    </tr>\n",
              "  </thead>\n",
              "  <tbody>\n",
              "    <tr>\n",
              "      <th>0</th>\n",
              "      <td>Its Only Art If Its Well Hung!</td>\n",
              "      <td>NaN</td>\n",
              "      <td>['Julie Strain']</td>\n",
              "      <td>http://books.google.com/books/content?id=DykPA...</td>\n",
              "      <td>http://books.google.nl/books?id=DykPAAAACAAJ&amp;d...</td>\n",
              "      <td>NaN</td>\n",
              "      <td>1996</td>\n",
              "      <td>http://books.google.nl/books?id=DykPAAAACAAJ&amp;d...</td>\n",
              "      <td>['Comics &amp; Graphic Novels']</td>\n",
              "      <td>NaN</td>\n",
              "    </tr>\n",
              "    <tr>\n",
              "      <th>1</th>\n",
              "      <td>Dr. Seuss: American Icon</td>\n",
              "      <td>Philip Nel takes a fascinating look into the k...</td>\n",
              "      <td>['Philip Nel']</td>\n",
              "      <td>http://books.google.com/books/content?id=IjvHQ...</td>\n",
              "      <td>http://books.google.nl/books?id=IjvHQsCn_pgC&amp;p...</td>\n",
              "      <td>A&amp;C Black</td>\n",
              "      <td>2005-01-01</td>\n",
              "      <td>http://books.google.nl/books?id=IjvHQsCn_pgC&amp;d...</td>\n",
              "      <td>['Biography &amp; Autobiography']</td>\n",
              "      <td>NaN</td>\n",
              "    </tr>\n",
              "    <tr>\n",
              "      <th>2</th>\n",
              "      <td>Wonderful Worship in Smaller Churches</td>\n",
              "      <td>This resource includes twelve principles in un...</td>\n",
              "      <td>['David R. Ray']</td>\n",
              "      <td>http://books.google.com/books/content?id=2tsDA...</td>\n",
              "      <td>http://books.google.nl/books?id=2tsDAAAACAAJ&amp;d...</td>\n",
              "      <td>NaN</td>\n",
              "      <td>2000</td>\n",
              "      <td>http://books.google.nl/books?id=2tsDAAAACAAJ&amp;d...</td>\n",
              "      <td>['Religion']</td>\n",
              "      <td>NaN</td>\n",
              "    </tr>\n",
              "    <tr>\n",
              "      <th>3</th>\n",
              "      <td>Whispers of the Wicked Saints</td>\n",
              "      <td>Julia Thomas finds her life spinning out of co...</td>\n",
              "      <td>['Veronica Haddon']</td>\n",
              "      <td>http://books.google.com/books/content?id=aRSIg...</td>\n",
              "      <td>http://books.google.nl/books?id=aRSIgJlq6JwC&amp;d...</td>\n",
              "      <td>iUniverse</td>\n",
              "      <td>2005-02</td>\n",
              "      <td>http://books.google.nl/books?id=aRSIgJlq6JwC&amp;d...</td>\n",
              "      <td>['Fiction']</td>\n",
              "      <td>NaN</td>\n",
              "    </tr>\n",
              "    <tr>\n",
              "      <th>4</th>\n",
              "      <td>Nation Dance: Religion, Identity and Cultural ...</td>\n",
              "      <td>NaN</td>\n",
              "      <td>['Edward Long']</td>\n",
              "      <td>NaN</td>\n",
              "      <td>http://books.google.nl/books?id=399SPgAACAAJ&amp;d...</td>\n",
              "      <td>NaN</td>\n",
              "      <td>2003-03-01</td>\n",
              "      <td>http://books.google.nl/books?id=399SPgAACAAJ&amp;d...</td>\n",
              "      <td>NaN</td>\n",
              "      <td>NaN</td>\n",
              "    </tr>\n",
              "  </tbody>\n",
              "</table>\n",
              "</div>\n",
              "    <div class=\"colab-df-buttons\">\n",
              "\n",
              "  <div class=\"colab-df-container\">\n",
              "    <button class=\"colab-df-convert\" onclick=\"convertToInteractive('df-1e438ad0-c3e5-49d8-b5c8-904e48a72ecb')\"\n",
              "            title=\"Convert this dataframe to an interactive table.\"\n",
              "            style=\"display:none;\">\n",
              "\n",
              "  <svg xmlns=\"http://www.w3.org/2000/svg\" height=\"24px\" viewBox=\"0 -960 960 960\">\n",
              "    <path d=\"M120-120v-720h720v720H120Zm60-500h600v-160H180v160Zm220 220h160v-160H400v160Zm0 220h160v-160H400v160ZM180-400h160v-160H180v160Zm440 0h160v-160H620v160ZM180-180h160v-160H180v160Zm440 0h160v-160H620v160Z\"/>\n",
              "  </svg>\n",
              "    </button>\n",
              "\n",
              "  <style>\n",
              "    .colab-df-container {\n",
              "      display:flex;\n",
              "      gap: 12px;\n",
              "    }\n",
              "\n",
              "    .colab-df-convert {\n",
              "      background-color: #E8F0FE;\n",
              "      border: none;\n",
              "      border-radius: 50%;\n",
              "      cursor: pointer;\n",
              "      display: none;\n",
              "      fill: #1967D2;\n",
              "      height: 32px;\n",
              "      padding: 0 0 0 0;\n",
              "      width: 32px;\n",
              "    }\n",
              "\n",
              "    .colab-df-convert:hover {\n",
              "      background-color: #E2EBFA;\n",
              "      box-shadow: 0px 1px 2px rgba(60, 64, 67, 0.3), 0px 1px 3px 1px rgba(60, 64, 67, 0.15);\n",
              "      fill: #174EA6;\n",
              "    }\n",
              "\n",
              "    .colab-df-buttons div {\n",
              "      margin-bottom: 4px;\n",
              "    }\n",
              "\n",
              "    [theme=dark] .colab-df-convert {\n",
              "      background-color: #3B4455;\n",
              "      fill: #D2E3FC;\n",
              "    }\n",
              "\n",
              "    [theme=dark] .colab-df-convert:hover {\n",
              "      background-color: #434B5C;\n",
              "      box-shadow: 0px 1px 3px 1px rgba(0, 0, 0, 0.15);\n",
              "      filter: drop-shadow(0px 1px 2px rgba(0, 0, 0, 0.3));\n",
              "      fill: #FFFFFF;\n",
              "    }\n",
              "  </style>\n",
              "\n",
              "    <script>\n",
              "      const buttonEl =\n",
              "        document.querySelector('#df-1e438ad0-c3e5-49d8-b5c8-904e48a72ecb button.colab-df-convert');\n",
              "      buttonEl.style.display =\n",
              "        google.colab.kernel.accessAllowed ? 'block' : 'none';\n",
              "\n",
              "      async function convertToInteractive(key) {\n",
              "        const element = document.querySelector('#df-1e438ad0-c3e5-49d8-b5c8-904e48a72ecb');\n",
              "        const dataTable =\n",
              "          await google.colab.kernel.invokeFunction('convertToInteractive',\n",
              "                                                    [key], {});\n",
              "        if (!dataTable) return;\n",
              "\n",
              "        const docLinkHtml = 'Like what you see? Visit the ' +\n",
              "          '<a target=\"_blank\" href=https://colab.research.google.com/notebooks/data_table.ipynb>data table notebook</a>'\n",
              "          + ' to learn more about interactive tables.';\n",
              "        element.innerHTML = '';\n",
              "        dataTable['output_type'] = 'display_data';\n",
              "        await google.colab.output.renderOutput(dataTable, element);\n",
              "        const docLink = document.createElement('div');\n",
              "        docLink.innerHTML = docLinkHtml;\n",
              "        element.appendChild(docLink);\n",
              "      }\n",
              "    </script>\n",
              "  </div>\n",
              "\n",
              "\n",
              "<div id=\"df-1166a462-ed9e-4fcb-aad6-154f97586ca9\">\n",
              "  <button class=\"colab-df-quickchart\" onclick=\"quickchart('df-1166a462-ed9e-4fcb-aad6-154f97586ca9')\"\n",
              "            title=\"Suggest charts\"\n",
              "            style=\"display:none;\">\n",
              "\n",
              "<svg xmlns=\"http://www.w3.org/2000/svg\" height=\"24px\"viewBox=\"0 0 24 24\"\n",
              "     width=\"24px\">\n",
              "    <g>\n",
              "        <path d=\"M19 3H5c-1.1 0-2 .9-2 2v14c0 1.1.9 2 2 2h14c1.1 0 2-.9 2-2V5c0-1.1-.9-2-2-2zM9 17H7v-7h2v7zm4 0h-2V7h2v10zm4 0h-2v-4h2v4z\"/>\n",
              "    </g>\n",
              "</svg>\n",
              "  </button>\n",
              "\n",
              "<style>\n",
              "  .colab-df-quickchart {\n",
              "      --bg-color: #E8F0FE;\n",
              "      --fill-color: #1967D2;\n",
              "      --hover-bg-color: #E2EBFA;\n",
              "      --hover-fill-color: #174EA6;\n",
              "      --disabled-fill-color: #AAA;\n",
              "      --disabled-bg-color: #DDD;\n",
              "  }\n",
              "\n",
              "  [theme=dark] .colab-df-quickchart {\n",
              "      --bg-color: #3B4455;\n",
              "      --fill-color: #D2E3FC;\n",
              "      --hover-bg-color: #434B5C;\n",
              "      --hover-fill-color: #FFFFFF;\n",
              "      --disabled-bg-color: #3B4455;\n",
              "      --disabled-fill-color: #666;\n",
              "  }\n",
              "\n",
              "  .colab-df-quickchart {\n",
              "    background-color: var(--bg-color);\n",
              "    border: none;\n",
              "    border-radius: 50%;\n",
              "    cursor: pointer;\n",
              "    display: none;\n",
              "    fill: var(--fill-color);\n",
              "    height: 32px;\n",
              "    padding: 0;\n",
              "    width: 32px;\n",
              "  }\n",
              "\n",
              "  .colab-df-quickchart:hover {\n",
              "    background-color: var(--hover-bg-color);\n",
              "    box-shadow: 0 1px 2px rgba(60, 64, 67, 0.3), 0 1px 3px 1px rgba(60, 64, 67, 0.15);\n",
              "    fill: var(--button-hover-fill-color);\n",
              "  }\n",
              "\n",
              "  .colab-df-quickchart-complete:disabled,\n",
              "  .colab-df-quickchart-complete:disabled:hover {\n",
              "    background-color: var(--disabled-bg-color);\n",
              "    fill: var(--disabled-fill-color);\n",
              "    box-shadow: none;\n",
              "  }\n",
              "\n",
              "  .colab-df-spinner {\n",
              "    border: 2px solid var(--fill-color);\n",
              "    border-color: transparent;\n",
              "    border-bottom-color: var(--fill-color);\n",
              "    animation:\n",
              "      spin 1s steps(1) infinite;\n",
              "  }\n",
              "\n",
              "  @keyframes spin {\n",
              "    0% {\n",
              "      border-color: transparent;\n",
              "      border-bottom-color: var(--fill-color);\n",
              "      border-left-color: var(--fill-color);\n",
              "    }\n",
              "    20% {\n",
              "      border-color: transparent;\n",
              "      border-left-color: var(--fill-color);\n",
              "      border-top-color: var(--fill-color);\n",
              "    }\n",
              "    30% {\n",
              "      border-color: transparent;\n",
              "      border-left-color: var(--fill-color);\n",
              "      border-top-color: var(--fill-color);\n",
              "      border-right-color: var(--fill-color);\n",
              "    }\n",
              "    40% {\n",
              "      border-color: transparent;\n",
              "      border-right-color: var(--fill-color);\n",
              "      border-top-color: var(--fill-color);\n",
              "    }\n",
              "    60% {\n",
              "      border-color: transparent;\n",
              "      border-right-color: var(--fill-color);\n",
              "    }\n",
              "    80% {\n",
              "      border-color: transparent;\n",
              "      border-right-color: var(--fill-color);\n",
              "      border-bottom-color: var(--fill-color);\n",
              "    }\n",
              "    90% {\n",
              "      border-color: transparent;\n",
              "      border-bottom-color: var(--fill-color);\n",
              "    }\n",
              "  }\n",
              "</style>\n",
              "\n",
              "  <script>\n",
              "    async function quickchart(key) {\n",
              "      const quickchartButtonEl =\n",
              "        document.querySelector('#' + key + ' button');\n",
              "      quickchartButtonEl.disabled = true;  // To prevent multiple clicks.\n",
              "      quickchartButtonEl.classList.add('colab-df-spinner');\n",
              "      try {\n",
              "        const charts = await google.colab.kernel.invokeFunction(\n",
              "            'suggestCharts', [key], {});\n",
              "      } catch (error) {\n",
              "        console.error('Error during call to suggestCharts:', error);\n",
              "      }\n",
              "      quickchartButtonEl.classList.remove('colab-df-spinner');\n",
              "      quickchartButtonEl.classList.add('colab-df-quickchart-complete');\n",
              "    }\n",
              "    (() => {\n",
              "      let quickchartButtonEl =\n",
              "        document.querySelector('#df-1166a462-ed9e-4fcb-aad6-154f97586ca9 button');\n",
              "      quickchartButtonEl.style.display =\n",
              "        google.colab.kernel.accessAllowed ? 'block' : 'none';\n",
              "    })();\n",
              "  </script>\n",
              "</div>\n",
              "\n",
              "    </div>\n",
              "  </div>\n"
            ],
            "application/vnd.google.colaboratory.intrinsic+json": {
              "type": "dataframe",
              "variable_name": "books_df"
            }
          },
          "metadata": {},
          "execution_count": 78
        }
      ]
    },
    {
      "cell_type": "code",
      "source": [
        "print(\"Ratings Dataset Info:\")\n",
        "print(ratings_df.info())\n"
      ],
      "metadata": {
        "colab": {
          "base_uri": "https://localhost:8080/"
        },
        "id": "JIa2HnWuuywQ",
        "outputId": "c656d345-598a-42ca-ad2a-2eb74307c4c7"
      },
      "execution_count": 79,
      "outputs": [
        {
          "output_type": "stream",
          "name": "stdout",
          "text": [
            "Ratings Dataset Info:\n",
            "<class 'pandas.core.frame.DataFrame'>\n",
            "RangeIndex: 3000000 entries, 0 to 2999999\n",
            "Data columns (total 10 columns):\n",
            " #   Column              Dtype  \n",
            "---  ------              -----  \n",
            " 0   Id                  object \n",
            " 1   Title               object \n",
            " 2   Price               float64\n",
            " 3   User_id             object \n",
            " 4   profileName         object \n",
            " 5   review/helpfulness  object \n",
            " 6   review/score        float64\n",
            " 7   review/time         int64  \n",
            " 8   review/summary      object \n",
            " 9   review/text         object \n",
            "dtypes: float64(2), int64(1), object(7)\n",
            "memory usage: 228.9+ MB\n",
            "None\n"
          ]
        }
      ]
    },
    {
      "cell_type": "code",
      "source": [
        "ratings_df.head()"
      ],
      "metadata": {
        "colab": {
          "base_uri": "https://localhost:8080/",
          "height": 293
        },
        "id": "4kMNPmA3zPty",
        "outputId": "b133670f-6945-4a8a-8494-3d366d89be70"
      },
      "execution_count": 80,
      "outputs": [
        {
          "output_type": "execute_result",
          "data": {
            "text/plain": [
              "           Id                           Title  Price         User_id  \\\n",
              "0  1882931173  Its Only Art If Its Well Hung!    NaN   AVCGYZL8FQQTD   \n",
              "1  0826414346        Dr. Seuss: American Icon    NaN  A30TK6U7DNS82R   \n",
              "2  0826414346        Dr. Seuss: American Icon    NaN  A3UH4UZ4RSVO82   \n",
              "3  0826414346        Dr. Seuss: American Icon    NaN  A2MVUWT453QH61   \n",
              "4  0826414346        Dr. Seuss: American Icon    NaN  A22X4XUPKF66MR   \n",
              "\n",
              "                          profileName review/helpfulness  review/score  \\\n",
              "0               Jim of Oz \"jim-of-oz\"                7/7           4.0   \n",
              "1                       Kevin Killian              10/10           5.0   \n",
              "2                        John Granger              10/11           5.0   \n",
              "3  Roy E. Perry \"amateur philosopher\"                7/7           4.0   \n",
              "4     D. H. Richards \"ninthwavestore\"                3/3           4.0   \n",
              "\n",
              "   review/time                                   review/summary  \\\n",
              "0    940636800           Nice collection of Julie Strain images   \n",
              "1   1095724800                                Really Enjoyed It   \n",
              "2   1078790400  Essential for every personal and Public Library   \n",
              "3   1090713600  Phlip Nel gives silly Seuss a serious treatment   \n",
              "4   1107993600                           Good academic overview   \n",
              "\n",
              "                                         review/text  \n",
              "0  This is only for Julie Strain fans. It's a col...  \n",
              "1  I don't care much for Dr. Seuss but after read...  \n",
              "2  If people become the books they read and if \"t...  \n",
              "3  Theodore Seuss Geisel (1904-1991), aka &quot;D...  \n",
              "4  Philip Nel - Dr. Seuss: American IconThis is b...  "
            ],
            "text/html": [
              "\n",
              "  <div id=\"df-342fee1f-4e9a-40dc-99fd-346db7c2cefb\" class=\"colab-df-container\">\n",
              "    <div>\n",
              "<style scoped>\n",
              "    .dataframe tbody tr th:only-of-type {\n",
              "        vertical-align: middle;\n",
              "    }\n",
              "\n",
              "    .dataframe tbody tr th {\n",
              "        vertical-align: top;\n",
              "    }\n",
              "\n",
              "    .dataframe thead th {\n",
              "        text-align: right;\n",
              "    }\n",
              "</style>\n",
              "<table border=\"1\" class=\"dataframe\">\n",
              "  <thead>\n",
              "    <tr style=\"text-align: right;\">\n",
              "      <th></th>\n",
              "      <th>Id</th>\n",
              "      <th>Title</th>\n",
              "      <th>Price</th>\n",
              "      <th>User_id</th>\n",
              "      <th>profileName</th>\n",
              "      <th>review/helpfulness</th>\n",
              "      <th>review/score</th>\n",
              "      <th>review/time</th>\n",
              "      <th>review/summary</th>\n",
              "      <th>review/text</th>\n",
              "    </tr>\n",
              "  </thead>\n",
              "  <tbody>\n",
              "    <tr>\n",
              "      <th>0</th>\n",
              "      <td>1882931173</td>\n",
              "      <td>Its Only Art If Its Well Hung!</td>\n",
              "      <td>NaN</td>\n",
              "      <td>AVCGYZL8FQQTD</td>\n",
              "      <td>Jim of Oz \"jim-of-oz\"</td>\n",
              "      <td>7/7</td>\n",
              "      <td>4.0</td>\n",
              "      <td>940636800</td>\n",
              "      <td>Nice collection of Julie Strain images</td>\n",
              "      <td>This is only for Julie Strain fans. It's a col...</td>\n",
              "    </tr>\n",
              "    <tr>\n",
              "      <th>1</th>\n",
              "      <td>0826414346</td>\n",
              "      <td>Dr. Seuss: American Icon</td>\n",
              "      <td>NaN</td>\n",
              "      <td>A30TK6U7DNS82R</td>\n",
              "      <td>Kevin Killian</td>\n",
              "      <td>10/10</td>\n",
              "      <td>5.0</td>\n",
              "      <td>1095724800</td>\n",
              "      <td>Really Enjoyed It</td>\n",
              "      <td>I don't care much for Dr. Seuss but after read...</td>\n",
              "    </tr>\n",
              "    <tr>\n",
              "      <th>2</th>\n",
              "      <td>0826414346</td>\n",
              "      <td>Dr. Seuss: American Icon</td>\n",
              "      <td>NaN</td>\n",
              "      <td>A3UH4UZ4RSVO82</td>\n",
              "      <td>John Granger</td>\n",
              "      <td>10/11</td>\n",
              "      <td>5.0</td>\n",
              "      <td>1078790400</td>\n",
              "      <td>Essential for every personal and Public Library</td>\n",
              "      <td>If people become the books they read and if \"t...</td>\n",
              "    </tr>\n",
              "    <tr>\n",
              "      <th>3</th>\n",
              "      <td>0826414346</td>\n",
              "      <td>Dr. Seuss: American Icon</td>\n",
              "      <td>NaN</td>\n",
              "      <td>A2MVUWT453QH61</td>\n",
              "      <td>Roy E. Perry \"amateur philosopher\"</td>\n",
              "      <td>7/7</td>\n",
              "      <td>4.0</td>\n",
              "      <td>1090713600</td>\n",
              "      <td>Phlip Nel gives silly Seuss a serious treatment</td>\n",
              "      <td>Theodore Seuss Geisel (1904-1991), aka &amp;quot;D...</td>\n",
              "    </tr>\n",
              "    <tr>\n",
              "      <th>4</th>\n",
              "      <td>0826414346</td>\n",
              "      <td>Dr. Seuss: American Icon</td>\n",
              "      <td>NaN</td>\n",
              "      <td>A22X4XUPKF66MR</td>\n",
              "      <td>D. H. Richards \"ninthwavestore\"</td>\n",
              "      <td>3/3</td>\n",
              "      <td>4.0</td>\n",
              "      <td>1107993600</td>\n",
              "      <td>Good academic overview</td>\n",
              "      <td>Philip Nel - Dr. Seuss: American IconThis is b...</td>\n",
              "    </tr>\n",
              "  </tbody>\n",
              "</table>\n",
              "</div>\n",
              "    <div class=\"colab-df-buttons\">\n",
              "\n",
              "  <div class=\"colab-df-container\">\n",
              "    <button class=\"colab-df-convert\" onclick=\"convertToInteractive('df-342fee1f-4e9a-40dc-99fd-346db7c2cefb')\"\n",
              "            title=\"Convert this dataframe to an interactive table.\"\n",
              "            style=\"display:none;\">\n",
              "\n",
              "  <svg xmlns=\"http://www.w3.org/2000/svg\" height=\"24px\" viewBox=\"0 -960 960 960\">\n",
              "    <path d=\"M120-120v-720h720v720H120Zm60-500h600v-160H180v160Zm220 220h160v-160H400v160Zm0 220h160v-160H400v160ZM180-400h160v-160H180v160Zm440 0h160v-160H620v160ZM180-180h160v-160H180v160Zm440 0h160v-160H620v160Z\"/>\n",
              "  </svg>\n",
              "    </button>\n",
              "\n",
              "  <style>\n",
              "    .colab-df-container {\n",
              "      display:flex;\n",
              "      gap: 12px;\n",
              "    }\n",
              "\n",
              "    .colab-df-convert {\n",
              "      background-color: #E8F0FE;\n",
              "      border: none;\n",
              "      border-radius: 50%;\n",
              "      cursor: pointer;\n",
              "      display: none;\n",
              "      fill: #1967D2;\n",
              "      height: 32px;\n",
              "      padding: 0 0 0 0;\n",
              "      width: 32px;\n",
              "    }\n",
              "\n",
              "    .colab-df-convert:hover {\n",
              "      background-color: #E2EBFA;\n",
              "      box-shadow: 0px 1px 2px rgba(60, 64, 67, 0.3), 0px 1px 3px 1px rgba(60, 64, 67, 0.15);\n",
              "      fill: #174EA6;\n",
              "    }\n",
              "\n",
              "    .colab-df-buttons div {\n",
              "      margin-bottom: 4px;\n",
              "    }\n",
              "\n",
              "    [theme=dark] .colab-df-convert {\n",
              "      background-color: #3B4455;\n",
              "      fill: #D2E3FC;\n",
              "    }\n",
              "\n",
              "    [theme=dark] .colab-df-convert:hover {\n",
              "      background-color: #434B5C;\n",
              "      box-shadow: 0px 1px 3px 1px rgba(0, 0, 0, 0.15);\n",
              "      filter: drop-shadow(0px 1px 2px rgba(0, 0, 0, 0.3));\n",
              "      fill: #FFFFFF;\n",
              "    }\n",
              "  </style>\n",
              "\n",
              "    <script>\n",
              "      const buttonEl =\n",
              "        document.querySelector('#df-342fee1f-4e9a-40dc-99fd-346db7c2cefb button.colab-df-convert');\n",
              "      buttonEl.style.display =\n",
              "        google.colab.kernel.accessAllowed ? 'block' : 'none';\n",
              "\n",
              "      async function convertToInteractive(key) {\n",
              "        const element = document.querySelector('#df-342fee1f-4e9a-40dc-99fd-346db7c2cefb');\n",
              "        const dataTable =\n",
              "          await google.colab.kernel.invokeFunction('convertToInteractive',\n",
              "                                                    [key], {});\n",
              "        if (!dataTable) return;\n",
              "\n",
              "        const docLinkHtml = 'Like what you see? Visit the ' +\n",
              "          '<a target=\"_blank\" href=https://colab.research.google.com/notebooks/data_table.ipynb>data table notebook</a>'\n",
              "          + ' to learn more about interactive tables.';\n",
              "        element.innerHTML = '';\n",
              "        dataTable['output_type'] = 'display_data';\n",
              "        await google.colab.output.renderOutput(dataTable, element);\n",
              "        const docLink = document.createElement('div');\n",
              "        docLink.innerHTML = docLinkHtml;\n",
              "        element.appendChild(docLink);\n",
              "      }\n",
              "    </script>\n",
              "  </div>\n",
              "\n",
              "\n",
              "<div id=\"df-a114c4c7-a5e9-42d1-b66d-b2dc470a48ff\">\n",
              "  <button class=\"colab-df-quickchart\" onclick=\"quickchart('df-a114c4c7-a5e9-42d1-b66d-b2dc470a48ff')\"\n",
              "            title=\"Suggest charts\"\n",
              "            style=\"display:none;\">\n",
              "\n",
              "<svg xmlns=\"http://www.w3.org/2000/svg\" height=\"24px\"viewBox=\"0 0 24 24\"\n",
              "     width=\"24px\">\n",
              "    <g>\n",
              "        <path d=\"M19 3H5c-1.1 0-2 .9-2 2v14c0 1.1.9 2 2 2h14c1.1 0 2-.9 2-2V5c0-1.1-.9-2-2-2zM9 17H7v-7h2v7zm4 0h-2V7h2v10zm4 0h-2v-4h2v4z\"/>\n",
              "    </g>\n",
              "</svg>\n",
              "  </button>\n",
              "\n",
              "<style>\n",
              "  .colab-df-quickchart {\n",
              "      --bg-color: #E8F0FE;\n",
              "      --fill-color: #1967D2;\n",
              "      --hover-bg-color: #E2EBFA;\n",
              "      --hover-fill-color: #174EA6;\n",
              "      --disabled-fill-color: #AAA;\n",
              "      --disabled-bg-color: #DDD;\n",
              "  }\n",
              "\n",
              "  [theme=dark] .colab-df-quickchart {\n",
              "      --bg-color: #3B4455;\n",
              "      --fill-color: #D2E3FC;\n",
              "      --hover-bg-color: #434B5C;\n",
              "      --hover-fill-color: #FFFFFF;\n",
              "      --disabled-bg-color: #3B4455;\n",
              "      --disabled-fill-color: #666;\n",
              "  }\n",
              "\n",
              "  .colab-df-quickchart {\n",
              "    background-color: var(--bg-color);\n",
              "    border: none;\n",
              "    border-radius: 50%;\n",
              "    cursor: pointer;\n",
              "    display: none;\n",
              "    fill: var(--fill-color);\n",
              "    height: 32px;\n",
              "    padding: 0;\n",
              "    width: 32px;\n",
              "  }\n",
              "\n",
              "  .colab-df-quickchart:hover {\n",
              "    background-color: var(--hover-bg-color);\n",
              "    box-shadow: 0 1px 2px rgba(60, 64, 67, 0.3), 0 1px 3px 1px rgba(60, 64, 67, 0.15);\n",
              "    fill: var(--button-hover-fill-color);\n",
              "  }\n",
              "\n",
              "  .colab-df-quickchart-complete:disabled,\n",
              "  .colab-df-quickchart-complete:disabled:hover {\n",
              "    background-color: var(--disabled-bg-color);\n",
              "    fill: var(--disabled-fill-color);\n",
              "    box-shadow: none;\n",
              "  }\n",
              "\n",
              "  .colab-df-spinner {\n",
              "    border: 2px solid var(--fill-color);\n",
              "    border-color: transparent;\n",
              "    border-bottom-color: var(--fill-color);\n",
              "    animation:\n",
              "      spin 1s steps(1) infinite;\n",
              "  }\n",
              "\n",
              "  @keyframes spin {\n",
              "    0% {\n",
              "      border-color: transparent;\n",
              "      border-bottom-color: var(--fill-color);\n",
              "      border-left-color: var(--fill-color);\n",
              "    }\n",
              "    20% {\n",
              "      border-color: transparent;\n",
              "      border-left-color: var(--fill-color);\n",
              "      border-top-color: var(--fill-color);\n",
              "    }\n",
              "    30% {\n",
              "      border-color: transparent;\n",
              "      border-left-color: var(--fill-color);\n",
              "      border-top-color: var(--fill-color);\n",
              "      border-right-color: var(--fill-color);\n",
              "    }\n",
              "    40% {\n",
              "      border-color: transparent;\n",
              "      border-right-color: var(--fill-color);\n",
              "      border-top-color: var(--fill-color);\n",
              "    }\n",
              "    60% {\n",
              "      border-color: transparent;\n",
              "      border-right-color: var(--fill-color);\n",
              "    }\n",
              "    80% {\n",
              "      border-color: transparent;\n",
              "      border-right-color: var(--fill-color);\n",
              "      border-bottom-color: var(--fill-color);\n",
              "    }\n",
              "    90% {\n",
              "      border-color: transparent;\n",
              "      border-bottom-color: var(--fill-color);\n",
              "    }\n",
              "  }\n",
              "</style>\n",
              "\n",
              "  <script>\n",
              "    async function quickchart(key) {\n",
              "      const quickchartButtonEl =\n",
              "        document.querySelector('#' + key + ' button');\n",
              "      quickchartButtonEl.disabled = true;  // To prevent multiple clicks.\n",
              "      quickchartButtonEl.classList.add('colab-df-spinner');\n",
              "      try {\n",
              "        const charts = await google.colab.kernel.invokeFunction(\n",
              "            'suggestCharts', [key], {});\n",
              "      } catch (error) {\n",
              "        console.error('Error during call to suggestCharts:', error);\n",
              "      }\n",
              "      quickchartButtonEl.classList.remove('colab-df-spinner');\n",
              "      quickchartButtonEl.classList.add('colab-df-quickchart-complete');\n",
              "    }\n",
              "    (() => {\n",
              "      let quickchartButtonEl =\n",
              "        document.querySelector('#df-a114c4c7-a5e9-42d1-b66d-b2dc470a48ff button');\n",
              "      quickchartButtonEl.style.display =\n",
              "        google.colab.kernel.accessAllowed ? 'block' : 'none';\n",
              "    })();\n",
              "  </script>\n",
              "</div>\n",
              "\n",
              "    </div>\n",
              "  </div>\n"
            ],
            "application/vnd.google.colaboratory.intrinsic+json": {
              "type": "dataframe",
              "variable_name": "ratings_df"
            }
          },
          "metadata": {},
          "execution_count": 80
        }
      ]
    },
    {
      "cell_type": "code",
      "source": [
        "def analyze_null_values(df, dataset_name=\"Dataset\"):\n",
        "    \"\"\"\n",
        "    Analyze and display null values in each column of a dataframe.\n",
        "\n",
        "    Args:\n",
        "        df (pd.DataFrame): Input dataframe\n",
        "        dataset_name (str): Name of dataset for display purposes\n",
        "\n",
        "    Returns:\n",
        "        pd.Series: Percentage of null values per column\n",
        "    \"\"\"\n",
        "    # Calculate null percentages\n",
        "    null_percentages = (df.isnull().sum() / len(df) * 100).round(2)\n",
        "\n",
        "    # Create a summary dataframe\n",
        "    null_summary = pd.DataFrame({\n",
        "        'Column': null_percentages.index,\n",
        "        'Null Count': df.isnull().sum(),\n",
        "        'Null %': null_percentages,\n",
        "        'Data Type': df.dtypes\n",
        "    })\n",
        "\n",
        "    # Sort by null percentage descending\n",
        "    null_summary = null_summary.sort_values('Null %', ascending=False)\n",
        "\n",
        "    print(f\"\\n{dataset_name} Null Value Analysis:\")\n",
        "    print(\"-\" * 80)\n",
        "    print(null_summary)\n",
        "    print(\"-\" * 80)\n",
        "    print(f\"Total rows in dataset: {len(df):,}\")\n",
        "\n",
        "    return null_summary\n"
      ],
      "metadata": {
        "id": "cJRWaV4AFusu"
      },
      "execution_count": 55,
      "outputs": []
    },
    {
      "cell_type": "code",
      "source": [
        "# Analyze both datasets\n",
        "ratings_nulls = analyze_null_values(ratings_df, \"Ratings\")\n",
        "books_nulls = analyze_null_values(books_df, \"Books\")"
      ],
      "metadata": {
        "colab": {
          "base_uri": "https://localhost:8080/"
        },
        "id": "bYGYCDEeFwqR",
        "outputId": "ba060dd9-3c8f-406c-8fc1-a6ec6b8196c3"
      },
      "execution_count": null,
      "outputs": [
        {
          "output_type": "stream",
          "name": "stdout",
          "text": [
            "\n",
            "Ratings Null Value Analysis:\n",
            "--------------------------------------------------------------------------------\n",
            "                                Column  Null Count  Null % Data Type\n",
            "Price                            Price     2518829   83.96   float64\n",
            "User_id                        User_id      561787   18.73    object\n",
            "profileName                profileName      561905   18.73    object\n",
            "Title                            Title         208    0.01    object\n",
            "review/summary          review/summary         407    0.01    object\n",
            "Id                                  Id           0    0.00    object\n",
            "review/helpfulness  review/helpfulness           0    0.00    object\n",
            "review/score              review/score           0    0.00   float64\n",
            "review/time                review/time           0    0.00     int64\n",
            "review/text                review/text           8    0.00    object\n",
            "--------------------------------------------------------------------------------\n",
            "Total rows in dataset: 3,000,000\n",
            "\n",
            "Books Null Value Analysis:\n",
            "--------------------------------------------------------------------------------\n",
            "                      Column  Null Count  Null % Data Type\n",
            "ratingsCount    ratingsCount      162652   76.58   float64\n",
            "publisher          publisher       75886   35.73    object\n",
            "description      description       68442   32.22    object\n",
            "image                  image       52075   24.52    object\n",
            "categories        categories       41199   19.40    object\n",
            "authors              authors       31413   14.79    object\n",
            "publishedDate  publishedDate       25305   11.91    object\n",
            "previewLink      previewLink       23836   11.22    object\n",
            "infoLink            infoLink       23836   11.22    object\n",
            "Title                  Title           1    0.00    object\n",
            "--------------------------------------------------------------------------------\n",
            "Total rows in dataset: 212,404\n"
          ]
        }
      ]
    },
    {
      "cell_type": "markdown",
      "source": [
        "We notice that there a lot of records which are missing important description info. We can potentially get this from the book web link or another source."
      ],
      "metadata": {
        "id": "YO3B6pvbzYpY"
      }
    },
    {
      "cell_type": "code",
      "source": [
        "# Find example rows where infoLink is not null but description is null\n",
        "example_rows = books_df[\n",
        "    books_df['infoLink'].notna() &\n",
        "    books_df['description'].isnull()\n",
        "].head()\n",
        "\n",
        "print(\"Sample rows with missing description but present infoLink:\")\n",
        "print(\"-\" * 80)\n",
        "for _, row in example_rows.iterrows():\n",
        "    print(\"\\nTitle:\", row['Title'])\n",
        "    print(\"Authors:\", row['authors'])\n",
        "    print(\"InfoLink:\", row['infoLink'])\n",
        "    print(\"Published Date:\", row['publishedDate'])\n",
        "    print(\"Categories:\", row['categories'])\n",
        "    print(\"-\" * 40)"
      ],
      "metadata": {
        "colab": {
          "base_uri": "https://localhost:8080/"
        },
        "id": "ej-CsJUrIiaf",
        "outputId": "d03812d1-0121-42aa-f92e-14df861cdae1"
      },
      "execution_count": null,
      "outputs": [
        {
          "output_type": "stream",
          "name": "stdout",
          "text": [
            "Sample rows with missing description but present infoLink:\n",
            "--------------------------------------------------------------------------------\n",
            "\n",
            "Title: Its Only Art If Its Well Hung!\n",
            "Authors: ['Julie Strain']\n",
            "InfoLink: http://books.google.nl/books?id=DykPAAAACAAJ&dq=Its+Only+Art+If+Its+Well+Hung!&hl=&source=gbs_api\n",
            "Published Date: 1996\n",
            "Categories: ['Comics & Graphic Novels']\n",
            "----------------------------------------\n",
            "\n",
            "Title: Nation Dance: Religion, Identity and Cultural Difference in the Caribbean\n",
            "Authors: ['Edward Long']\n",
            "InfoLink: http://books.google.nl/books?id=399SPgAACAAJ&dq=Nation+Dance:+Religion,+Identity+and+Cultural+Difference+in+the+Caribbean&hl=&source=gbs_api\n",
            "Published Date: 2003-03-01\n",
            "Categories: nan\n",
            "----------------------------------------\n",
            "\n",
            "Title: The Overbury affair (Avon)\n",
            "Authors: ['Miriam Allen De Ford']\n",
            "InfoLink: http://books.google.nl/books?id=mHLTngEACAAJ&dq=The+Overbury+affair+(Avon)&hl=&source=gbs_api\n",
            "Published Date: 1960\n",
            "Categories: nan\n",
            "----------------------------------------\n",
            "\n",
            "Title: A Walk in the Woods: a Play in Two Acts\n",
            "Authors: ['Lee Blessing']\n",
            "InfoLink: http://books.google.nl/books?id=6HDOwAEACAAJ&dq=A+Walk+in+the+Woods:+a+Play+in+Two+Acts&hl=&source=gbs_api\n",
            "Published Date: 1988\n",
            "Categories: nan\n",
            "----------------------------------------\n",
            "\n",
            "Title: Homer or Moses?: Early Christian Interpretations of the History of Culture (Hermeneutische Untersuchungen zur Theologie)\n",
            "Authors: ['Arthur J. Droge']\n",
            "InfoLink: http://books.google.nl/books?id=R0A4HXqmb_8C&dq=Homer+or+Moses%3F:+Early+Christian+Interpretations+of+the+History+of+Culture+(Hermeneutische+Untersuchungen+zur+Theologie)&hl=&source=gbs_api\n",
            "Published Date: 1989\n",
            "Categories: ['Religion']\n",
            "----------------------------------------\n"
          ]
        }
      ]
    },
    {
      "cell_type": "markdown",
      "source": [
        "## SECTION 1.2: RATINGS BY USER"
      ],
      "metadata": {
        "id": "812AtNMTsmH6"
      }
    },
    {
      "cell_type": "code",
      "source": [
        "# Count ratings per user\n",
        "user_rating_counts = ratings_df['User_id'].value_counts()\n",
        "\n",
        "# Filter for users with at least 5 ratings for the plot\n",
        "plot_users_counts = user_rating_counts[user_rating_counts >= 5]\n",
        "\n",
        "# Create custom bins for the plot\n",
        "bins = [4, 10, 20, 50, 100, 200, 500, float('inf')]\n",
        "labels = ['5-9', '10-20', '21-50', '51-100', '101-200', '201-500', '500+']\n",
        "\n",
        "# Bin the data\n",
        "binned_counts = pd.cut(plot_users_counts, bins=bins, labels=labels)\n",
        "binned_counts = binned_counts.value_counts().sort_index()\n",
        "\n",
        "# Bar plot\n",
        "plt.figure(figsize=(12, 6))\n",
        "binned_counts.plot(kind='bar')\n",
        "plt.title('Distribution of Number of Ratings per User\\n(Users with 5+ ratings)')\n",
        "plt.xlabel('Number of Ratings')\n",
        "plt.ylabel('Count of Users')\n",
        "plt.xticks(rotation=45)\n",
        "\n",
        "for i, v in enumerate(binned_counts):\n",
        "   plt.text(i, v + 100, f'{v:,}', ha='center')\n",
        "\n",
        "plt.tight_layout()\n",
        "plt.show()\n"
      ],
      "metadata": {
        "colab": {
          "base_uri": "https://localhost:8080/",
          "height": 607
        },
        "id": "UejrBYICrQpp",
        "outputId": "6e32d76b-a94c-460a-8f94-96b3c0b3824a"
      },
      "execution_count": null,
      "outputs": [
        {
          "output_type": "display_data",
          "data": {
            "text/plain": [
              "<Figure size 1200x600 with 1 Axes>"
            ],
            "image/png": "[encoded data removed]"
          },
          "metadata": {}
        }
      ]
    },
    {
      "cell_type": "code",
      "source": [
        "# Print statistics for ALL users\n",
        "print(\"\\nDistribution of all users by rating count:\")\n",
        "print(f\"Users with 1-4 ratings: {len(user_rating_counts[user_rating_counts < 5]):,} ({len(user_rating_counts[user_rating_counts < 5])/len(user_rating_counts)*100:.1f}%)\")\n",
        "for label, count in binned_counts.items():\n",
        "   print(f\"{label}: {count:,} users ({count/len(user_rating_counts)*100:.1f}%)\")\n",
        "\n",
        "print(f\"\\nTotal number of users: {len(user_rating_counts):,}\")\n",
        "print(f\"Average ratings per user: {user_rating_counts.mean():.1f}\")\n",
        "print(f\"Median ratings per user: {user_rating_counts.median():.1f}\")"
      ],
      "metadata": {
        "colab": {
          "base_uri": "https://localhost:8080/"
        },
        "id": "m-lgovZIseKR",
        "outputId": "bcdbd61d-5943-4281-f573-9c676dfdd6d3"
      },
      "execution_count": null,
      "outputs": [
        {
          "output_type": "stream",
          "name": "stdout",
          "text": [
            "\n",
            "Distribution of all users by rating count:\n",
            "Users with 1-4 ratings: 926,167 (91.8%)\n",
            "5-9: 56,746 users (5.6%)\n",
            "10-20: 17,022 users (1.7%)\n",
            "21-50: 6,365 users (0.6%)\n",
            "51-100: 1,659 users (0.2%)\n",
            "101-200: 679 users (0.1%)\n",
            "201-500: 277 users (0.0%)\n",
            "500+: 57 users (0.0%)\n",
            "\n",
            "Total number of users: 1,008,972\n",
            "Average ratings per user: 2.4\n",
            "Median ratings per user: 1.0\n"
          ]
        }
      ]
    },
    {
      "cell_type": "markdown",
      "source": [
        "Most users have less than five ratings."
      ],
      "metadata": {
        "id": "2rvg77bZzr0c"
      }
    },
    {
      "cell_type": "code",
      "source": [
        "def analyze_ratings_distribution():\n",
        "   \"\"\"\n",
        "   Analyze the distribution of user ratings\n",
        "   \"\"\"\n",
        "   ratings = ratings_df['review/score']\n",
        "\n",
        "   # Basic statistics\n",
        "   print(\"Basic Rating Statistics:\")\n",
        "   print(\"-\" * 80)\n",
        "   print(ratings.describe())\n",
        "\n",
        "   # Value counts\n",
        "   print(\"\\nRating Distribution:\")\n",
        "   print(\"-\" * 80)\n",
        "   counts = ratings.value_counts().sort_index()\n",
        "   total = len(ratings)\n",
        "\n",
        "   for rating, count in counts.items():\n",
        "       percentage = (count/total) * 100\n",
        "       print(f\"Rating {rating:.1f}: {count:,} reviews ({percentage:.1f}%)\")\n",
        "\n",
        "   # Calculate mean and median\n",
        "   print(f\"\\nMean rating: {ratings.mean():.2f}\")\n",
        "   print(f\"Median rating: {ratings.median():.2f}\")\n",
        "\n",
        "   # Show how many unique values there are\n",
        "   print(f\"\\nNumber of unique rating values: {len(ratings.unique())}\")\n",
        "   if len(ratings.unique()) > 5:\n",
        "       print(\"\\nUnique rating values:\")\n",
        "       print(sorted(ratings.unique()))\n",
        "\n",
        "analyze_ratings_distribution()"
      ],
      "metadata": {
        "colab": {
          "base_uri": "https://localhost:8080/"
        },
        "id": "ATYzlzebvN2x",
        "outputId": "9739cabc-352d-4ccc-b932-62d78d6544d4"
      },
      "execution_count": null,
      "outputs": [
        {
          "output_type": "stream",
          "name": "stdout",
          "text": [
            "Basic Rating Statistics:\n",
            "--------------------------------------------------------------------------------\n",
            "count    3.000000e+06\n",
            "mean     4.215289e+00\n",
            "std      1.203054e+00\n",
            "min      1.000000e+00\n",
            "25%      4.000000e+00\n",
            "50%      5.000000e+00\n",
            "75%      5.000000e+00\n",
            "max      5.000000e+00\n",
            "Name: review/score, dtype: float64\n",
            "\n",
            "Rating Distribution:\n",
            "--------------------------------------------------------------------------------\n",
            "Rating 1.0: 201,688 reviews (6.7%)\n",
            "Rating 2.0: 151,058 reviews (5.0%)\n",
            "Rating 3.0: 254,295 reviews (8.5%)\n",
            "Rating 4.0: 585,616 reviews (19.5%)\n",
            "Rating 5.0: 1,807,343 reviews (60.2%)\n",
            "\n",
            "Mean rating: 4.22\n",
            "Median rating: 5.00\n",
            "\n",
            "Number of unique rating values: 5\n"
          ]
        }
      ]
    },
    {
      "cell_type": "code",
      "source": [
        "# Merge the dataframes\n",
        "merged_df = ratings_df.merge(books_df, on='Title', how='left', indicator=True)\n",
        "\n",
        "# Keep only matched records and drop the merge indicator (although all records match)\n",
        "merged_df = merged_df[merged_df['_merge'] == 'both'].drop('_merge', axis=1)\n",
        "\n",
        "print(\"\\nColumns in merged dataset:\")\n",
        "print(merged_df.columns.tolist())"
      ],
      "metadata": {
        "colab": {
          "base_uri": "https://localhost:8080/"
        },
        "id": "4GbNDckprX0Q",
        "outputId": "1865eb01-10ef-43ba-c06c-d0f76fe070d5"
      },
      "execution_count": null,
      "outputs": [
        {
          "output_type": "stream",
          "name": "stdout",
          "text": [
            "\n",
            "Columns in merged dataset:\n",
            "['Id', 'Title', 'Price', 'User_id', 'profileName', 'review/helpfulness', 'review/score', 'review/time', 'review/summary', 'review/text', 'description', 'authors', 'image', 'previewLink', 'publisher', 'publishedDate', 'infoLink', 'categories', 'ratingsCount']\n"
          ]
        }
      ]
    },
    {
      "cell_type": "code",
      "source": [
        "print(merged_df.shape)"
      ],
      "metadata": {
        "colab": {
          "base_uri": "https://localhost:8080/"
        },
        "id": "ZBPAbtf8fzTe",
        "outputId": "26c26238-d31f-44a3-b4ed-9ee25468b0ff"
      },
      "execution_count": null,
      "outputs": [
        {
          "output_type": "stream",
          "name": "stdout",
          "text": [
            "(3000000, 19)\n"
          ]
        }
      ]
    },
    {
      "cell_type": "markdown",
      "source": [
        "Looking at duplicates"
      ],
      "metadata": {
        "id": "cDcXfDPWkW9l"
      }
    },
    {
      "cell_type": "code",
      "source": [
        "# Identify duplicate rows based on the combination of 'user_id', 'title', and 'authors'\n",
        "duplicate_rows = merged_df[merged_df.duplicated(subset=['User_id', 'Title', 'Authors'], keep=False)]\n",
        "\n",
        "duplicate_rows = duplicate_rows.sort_values(by=['User_id', 'Title', 'Authors'])\n",
        "\n",
        "print(len(duplicate_rows))"
      ],
      "metadata": {
        "id": "NJC9yg4MkWWk"
      },
      "execution_count": null,
      "outputs": []
    },
    {
      "cell_type": "markdown",
      "source": [
        "## SECTION 1.3: REVIEW LENGTH"
      ],
      "metadata": {
        "id": "LdhH03_hshpM"
      }
    },
    {
      "cell_type": "code",
      "source": [
        "# Calculate length of each review\n",
        "merged_df['review_length'] = merged_df['review/text'].str.len()\n",
        "\n",
        "# Custom bins for review lengths\n",
        "bins = [0, 100, 250, 500, 1000, 2500, 5000, float('inf')]\n",
        "labels = ['0-100', '101-250', '251-500', '501-1000', '1001-2500', '2501-5000', '5000+']\n",
        "\n",
        "binned_lengths = pd.cut(merged_df['review_length'], bins=bins, labels=labels)\n",
        "binned_counts = binned_lengths.value_counts().sort_index()\n",
        "\n",
        "# Bar plot\n",
        "plt.figure(figsize=(12, 6))\n",
        "binned_counts.plot(kind='bar')\n",
        "plt.title('Distribution of Review Lengths')\n",
        "plt.xlabel('Number of Characters')\n",
        "plt.ylabel('Count of Reviews')\n",
        "plt.xticks(rotation=45)\n",
        "\n",
        "for i, v in enumerate(binned_counts):\n",
        "   plt.text(i, v + 100, f'{v:,}', ha='center')\n",
        "\n",
        "plt.tight_layout()\n",
        "plt.show()"
      ],
      "metadata": {
        "colab": {
          "base_uri": "https://localhost:8080/",
          "height": 607
        },
        "id": "E__N1r-hsj7T",
        "outputId": "86b92bdc-cbd3-4519-8bb0-4f5d7a0a84a1"
      },
      "execution_count": null,
      "outputs": [
        {
          "output_type": "display_data",
          "data": {
            "text/plain": [
              "<Figure size 1200x600 with 1 Axes>"
            ],
            "image/png": "[encoded data removed]"
          },
          "metadata": {}
        }
      ]
    },
    {
      "cell_type": "code",
      "source": [
        "# Print statistics\n",
        "print(\"\\nReview Length Statistics:\")\n",
        "print(f\"Mean length: {merged_df['review_length'].mean():.0f} characters\")\n",
        "print(f\"Median length: {merged_df['review_length'].median():.0f} characters\")\n",
        "print(f\"Min length: {merged_df['review_length'].min():.0f} characters\")\n",
        "print(f\"Max length: {merged_df['review_length'].max():.0f} characters\")\n",
        "\n",
        "print(\"\\nDistribution across bins:\")\n",
        "for label, count in binned_counts.items():\n",
        "   percentage = (count/len(merged_df)) * 100\n",
        "   print(f\"{label}: {count:,} reviews ({percentage:.1f}%)\")"
      ],
      "metadata": {
        "colab": {
          "base_uri": "https://localhost:8080/"
        },
        "id": "mAH4nyZ0sqEz",
        "outputId": "84a636a0-9188-432a-f2f9-b99ed9b999e3"
      },
      "execution_count": null,
      "outputs": [
        {
          "output_type": "stream",
          "name": "stdout",
          "text": [
            "\n",
            "Review Length Statistics:\n",
            "Mean length: 823 characters\n",
            "Median length: 516 characters\n",
            "Min length: 1 characters\n",
            "Max length: 32576 characters\n",
            "\n",
            "Distribution across bins:\n",
            "0-100: 79,332 reviews (2.6%)\n",
            "101-250: 629,897 reviews (21.0%)\n",
            "251-500: 752,404 reviews (25.1%)\n",
            "501-1000: 780,150 reviews (26.0%)\n",
            "1001-2500: 596,717 reviews (19.9%)\n",
            "2501-5000: 138,072 reviews (4.6%)\n",
            "5000+: 23,420 reviews (0.8%)\n"
          ]
        }
      ]
    },
    {
      "cell_type": "markdown",
      "source": [
        "## SECTION 1.4: BOOK CATEGORIES"
      ],
      "metadata": {
        "id": "qID1i3Bjsu79"
      }
    },
    {
      "cell_type": "code",
      "source": [
        "# Count how many books have no categories at all\n",
        "missing_categories = books_df['categories'].isna().sum()\n",
        "\n",
        "# Extract and flatten category lists from non-missing rows\n",
        "categories_series = books_df['categories'].dropna()\n",
        "\n",
        "def extract_categories(cat_string):\n",
        "    try:\n",
        "        # Remove brackets and single quotes, split by comma b/c some books have more than one category\n",
        "        cats = cat_string.strip('[]').replace(\"'\", \"\").split(',')\n",
        "        return [c.strip() for c in cats]\n",
        "    except:\n",
        "        return []\n",
        "\n",
        "all_categories = []\n",
        "for cats_str in categories_series:\n",
        "    all_categories.extend(extract_categories(cats_str))\n",
        "\n",
        "category_counts = pd.Series(all_categories).value_counts()\n",
        "\n",
        "# Plot top 25 categories (arbitrary choice)\n",
        "plt.figure(figsize=(17, 8))\n",
        "category_counts.head(25).plot(kind='bar')\n",
        "plt.title('Top 25 Book Categories')\n",
        "plt.xlabel('Category')\n",
        "plt.ylabel('Number of Books')\n",
        "plt.xticks(rotation=45, ha='right')\n",
        "\n",
        "for i, v in enumerate(category_counts.head(25)):\n",
        "    plt.text(i, v + 5, str(v), ha='center')\n",
        "\n",
        "plt.tight_layout()\n",
        "plt.show()\n"
      ],
      "metadata": {
        "colab": {
          "base_uri": "https://localhost:8080/",
          "height": 807
        },
        "id": "iXf0wV6ssw84",
        "outputId": "1704531d-ec54-4fb1-c2ca-01281bed4cf8"
      },
      "execution_count": null,
      "outputs": [
        {
          "output_type": "display_data",
          "data": {
            "text/plain": [
              "<Figure size 1700x800 with 1 Axes>"
            ],
            "image/png": "[encoded data removed]"
          },
          "metadata": {}
        }
      ]
    },
    {
      "cell_type": "code",
      "source": [
        "top_n = 25\n",
        "top_n_cats = set(category_counts.head(top_n).index)\n",
        "\n",
        "# Create a parsed_categories column for all rows\n",
        "books_df['parsed_categories'] = books_df['categories'].apply(\n",
        "    lambda x: extract_categories(x) if pd.notna(x) else []\n",
        ")\n",
        "\n",
        "# A boolean indicating whether a book has at least one of the top N categories\n",
        "books_df['has_top_category'] = books_df['parsed_categories'].apply(\n",
        "    lambda cats: len(set(cats) & top_n_cats) > 0\n",
        ")\n",
        "\n",
        "num_books_outside_top_n = (~books_df['has_top_category']).sum()\n",
        "pct_books_outside_top_n = num_books_outside_top_n / len(books_df) * 100\n",
        "\n",
        "# Print statistics\n",
        "print(f\"\\nTotal number of books: {len(books_df)}\")\n",
        "print(f\"Books missing categories: {missing_categories} ({missing_categories/len(books_df)*100:.1f}%)\")\n",
        "print(f\"Number of unique categories overall: {len(category_counts)}\")\n",
        "print(f\"Books with no top-{top_n} categories: {num_books_outside_top_n} \"\n",
        "      f\"({pct_books_outside_top_n:.1f}%)\\n\")\n",
        "\n",
        "print(f\"Top {top_n} categories by frequency:\")\n",
        "for cat, count in category_counts.head(top_n).items():\n",
        "    print(f\"  {cat}: {count} books\")"
      ],
      "metadata": {
        "colab": {
          "base_uri": "https://localhost:8080/"
        },
        "id": "j5G8Fwn1zwHK",
        "outputId": "4f6c6bcd-8eb6-46ac-c13e-91bd038ad76f"
      },
      "execution_count": null,
      "outputs": [
        {
          "output_type": "stream",
          "name": "stdout",
          "text": [
            "\n",
            "Total number of books: 212404\n",
            "Books missing categories: 41199 (19.4%)\n",
            "Number of unique categories overall: 10990\n",
            "Books with no top-25 categories: 107345 (50.5%)\n",
            "\n",
            "Top 25 categories by frequency:\n",
            "  Fiction: 23419 books\n",
            "  Religion: 9459 books\n",
            "  History: 9340 books\n",
            "  Juvenile Fiction: 6643 books\n",
            "  Biography & Autobiography: 6324 books\n",
            "  Business & Economics: 5625 books\n",
            "  Computers: 4312 books\n",
            "  Social Science: 3834 books\n",
            "  Juvenile Nonfiction: 3446 books\n",
            "  Education: 2638 books\n",
            "  Science: 2623 books\n",
            "  Cooking: 2588 books\n",
            "  Sports & Recreation: 2267 books\n",
            "  Family & Relationships: 2178 books\n",
            "  Literary Criticism: 2147 books\n",
            "  Art: 2141 books\n",
            "  Music: 2106 books\n",
            "  Medical: 2092 books\n",
            "  Body: 2052 books\n",
            "  Mind & Spirit: 2049 books\n",
            "  Language Arts & Disciplines: 2036 books\n",
            "  Health & Fitness: 2030 books\n",
            "  Political Science: 1955 books\n",
            "  Psychology: 1920 books\n",
            "  Philosophy: 1884 books\n"
          ]
        }
      ]
    },
    {
      "cell_type": "code",
      "source": [
        "# Extract categories for each row as a list:\n",
        "def extract_categories(cat_string):\n",
        "    if pd.isna(cat_string):\n",
        "        return []\n",
        "    try:\n",
        "        return [c.strip().strip(\"'\") for c in cat_string.strip('[]').split(',')]\n",
        "    except:\n",
        "        return []\n",
        "\n",
        "books_df['parsed_categories'] = books_df['categories'].apply(extract_categories)\n",
        "\n",
        "# 2. Top 50 categories by frequency\n",
        "top_50_categories = set(category_counts.head(50).index)\n",
        "\n",
        "# 3. For each book, check if it has at least one top category\n",
        "def has_top_category(cats):\n",
        "    # 'cats' is a list of categories for the book\n",
        "    # return True if there's an intersection with top_50_categories\n",
        "    return len(set(cats) & top_50_categories) > 0\n",
        "\n",
        "books_df['has_top_category'] = books_df['parsed_categories'].apply(has_top_category)\n",
        "\n",
        "# 4. Calculate how many books do *not* have any top category\n",
        "num_books_outside_top_50 = (~books_df['has_top_category']).sum()\n",
        "pct_books_outside_top_50 = num_books_outside_top_50 / len(books_df) * 100\n",
        "\n",
        "# 5. Print summary\n",
        "print(f\"Total number of books: {len(books_df)}\")\n",
        "print(f\"Books with no top-50 categories: {num_books_outside_top_50} ({pct_books_outside_top_50:.1f}%)\")\n",
        "print(f\"Number of unique categories overall: {len(category_counts)}\\n\")\n",
        "\n",
        "print(\"Top 50 categories:\")\n",
        "for cat, count in category_counts.head(50).items():\n",
        "    print(f\"{cat}: {count} books\")\n"
      ],
      "metadata": {
        "colab": {
          "base_uri": "https://localhost:8080/"
        },
        "id": "oOCEINr5-FVj",
        "outputId": "62850270-19e1-44a7-8047-51edaea674b8"
      },
      "execution_count": null,
      "outputs": [
        {
          "output_type": "stream",
          "name": "stdout",
          "text": [
            "Total number of books: 212404\n",
            "Books with no top-50 categories: 81967 (38.6%)\n",
            "Number of unique categories overall: 10990\n",
            "\n",
            "Top 50 categories:\n",
            "Fiction: 23419 books\n",
            "Religion: 9459 books\n",
            "History: 9340 books\n",
            "Juvenile Fiction: 6643 books\n",
            "Biography & Autobiography: 6324 books\n",
            "Business & Economics: 5625 books\n",
            "Computers: 4312 books\n",
            "Social Science: 3834 books\n",
            "Juvenile Nonfiction: 3446 books\n",
            "Education: 2638 books\n",
            "Science: 2623 books\n",
            "Cooking: 2588 books\n",
            "Sports & Recreation: 2267 books\n",
            "Family & Relationships: 2178 books\n",
            "Literary Criticism: 2147 books\n",
            "Art: 2141 books\n",
            "Music: 2106 books\n",
            "Medical: 2092 books\n",
            "Body: 2052 books\n",
            "Mind & Spirit: 2049 books\n",
            "Language Arts & Disciplines: 2036 books\n",
            "Health & Fitness: 2030 books\n",
            "Political Science: 1955 books\n",
            "Psychology: 1920 books\n",
            "Philosophy: 1884 books\n",
            "Travel: 1812 books\n",
            "Technology & Engineering: 1662 books\n",
            "Self-Help: 1519 books\n",
            "Poetry: 1504 books\n",
            "Foreign Language Study: 1404 books\n",
            "Crafts & Hobbies: 1350 books\n",
            "Performing Arts: 1305 books\n",
            "Reference: 1277 books\n",
            "Mathematics: 1186 books\n",
            "Comics & Graphic Novels: 1162 books\n",
            "Nature: 1146 books\n",
            "Architecture: 1020 books\n",
            "Transportation: 924 books\n",
            "Law: 895 books\n",
            "Humor: 799 books\n",
            "Photography: 783 books\n",
            "American literature: 737 books\n",
            "Antiques & Collectibles: 697 books\n",
            "Drama: 686 books\n",
            "Bible: 667 books\n",
            "Pets: 630 books\n",
            "Literary Collections: 607 books\n",
            "Young Adult Fiction: 595 books\n",
            "Games: 545 books\n",
            "American: 536 books\n"
          ]
        }
      ]
    },
    {
      "cell_type": "markdown",
      "source": [
        "Let's see how many categories books have."
      ],
      "metadata": {
        "id": "D7UCzFF7djro"
      }
    },
    {
      "cell_type": "code",
      "source": [
        "# Count categories per book\n",
        "def count_categories(cat_string):\n",
        "   if pd.isna(cat_string):\n",
        "       return 0\n",
        "   try:\n",
        "       # Remove brackets and split by comma\n",
        "       cats = cat_string.strip('[]').replace(\"'\", \"\").split(',')\n",
        "       return len([c.strip() for c in cats])\n",
        "   except:\n",
        "       return 0\n",
        "\n",
        "books_df['category_count'] = books_df['categories'].apply(count_categories)\n",
        "\n",
        "# Print statistics\n",
        "print(\"\\nCategory count statistics:\")\n",
        "print(f\"Books with no categories: {len(books_df[books_df['category_count'] == 0])}\")\n",
        "print(\"\\nDistribution of number of categories per book:\")\n",
        "print(books_df['category_count'].value_counts().sort_index())"
      ],
      "metadata": {
        "colab": {
          "base_uri": "https://localhost:8080/"
        },
        "id": "Qm6kVav2s4Iw",
        "outputId": "19730572-5b0a-4598-936c-b2889e2c4779"
      },
      "execution_count": null,
      "outputs": [
        {
          "output_type": "stream",
          "name": "stdout",
          "text": [
            "\n",
            "Category count statistics:\n",
            "Books with no categories: 41199\n",
            "\n",
            "Distribution of number of categories per book:\n",
            "category_count\n",
            "0     41199\n",
            "1    165385\n",
            "2      5418\n",
            "3       325\n",
            "4        52\n",
            "5        25\n",
            "Name: count, dtype: int64\n"
          ]
        }
      ]
    },
    {
      "cell_type": "code",
      "source": [
        "# Let's look at some books with exactly 2 categories\n",
        "print(\"Books with exactly 2 categories:\")\n",
        "two_categories = books_df[books_df['categories'].apply(lambda x:\n",
        "   len(str(x).strip('[]').replace(\"'\", \"\").split(',')) == 2 if pd.notna(x) else False)]\n",
        "\n",
        "# Display title and categories for a sample\n",
        "print(\"\\nSample of books with 2 categories:\")\n",
        "sample = two_categories[['Title', 'categories']].head(10)\n",
        "for _, row in sample.iterrows():\n",
        "   print(f\"\\nTitle: {row['Title']}\")\n",
        "   print(f\"Categories: {row['categories']}\")"
      ],
      "metadata": {
        "colab": {
          "base_uri": "https://localhost:8080/"
        },
        "id": "YqWeYCars5vp",
        "outputId": "5fd9b3f0-29a1-4331-f5a1-6275a924fd20"
      },
      "execution_count": null,
      "outputs": [
        {
          "output_type": "stream",
          "name": "stdout",
          "text": [
            "Books with exactly 2 categories:\n",
            "\n",
            "Sample of books with 2 categories:\n",
            "\n",
            "Title: History of Magic and the Occult\n",
            "Categories: ['Body, Mind & Spirit']\n",
            "\n",
            "Title: Little One, Maid of Israel\n",
            "Categories: ['Bible stories, English']\n",
            "\n",
            "Title: Hidden History of the Kovno Ghetto\n",
            "Categories: ['Holocaust, Jewish (1939-1945)']\n",
            "\n",
            "Title: Death Dream\n",
            "Categories: ['Body, Mind & Spirit']\n",
            "\n",
            "Title: Screenwriter: Words Become Pictures/304506\n",
            "Categories: ['Illumination of books and manuscripts, Dutch']\n",
            "\n",
            "Title: Engendering Culture: Manhood and Womanhood In New Deal Public Art and Theater\n",
            "Categories: ['Arts, American']\n",
            "\n",
            "Title: Lost Cities of Africa and Arabia (The Lost City Series)\n",
            "Categories: ['Body, Mind & Spirit']\n",
            "\n",
            "Title: A wonder book for girls and boys\n",
            "Categories: ['Mythology, Classical']\n",
            "\n",
            "Title: Witches' Way, The\n",
            "Categories: ['Body, Mind & Spirit']\n",
            "\n",
            "Title: The Tao of I Ching: Way to Divination\n",
            "Categories: ['Body, Mind & Spirit']\n"
          ]
        }
      ]
    },
    {
      "cell_type": "markdown",
      "source": [
        "# SECTION 2: DATA CLEANING"
      ],
      "metadata": {
        "id": "FsZ6mhgms7FV"
      }
    },
    {
      "cell_type": "markdown",
      "source": [
        "## SECTION 2.1: LOADING AND MERGING"
      ],
      "metadata": {
        "id": "kHH1xX1GrIIK"
      }
    },
    {
      "cell_type": "markdown",
      "source": [
        "We first load our book dataframe and rating dataframe"
      ],
      "metadata": {
        "id": "rUVZILqRw_yL"
      }
    },
    {
      "cell_type": "code",
      "source": [
        "# Load the data\n",
        "books_df = load_data('books_data.csv')\n",
        "ratings_df = load_data('books_rating.csv')\n"
      ],
      "metadata": {
        "colab": {
          "base_uri": "https://localhost:8080/"
        },
        "id": "RaO7EiI4xB_i",
        "outputId": "c70715be-04d7-4ae9-a9e2-fe54227773a8"
      },
      "execution_count": 7,
      "outputs": [
        {
          "output_type": "stream",
          "name": "stdout",
          "text": [
            "Loading cached data from books_data.pkl\n",
            "Loading cached data from books_rating.pkl\n"
          ]
        }
      ]
    },
    {
      "cell_type": "code",
      "source": [
        "print(books_df.shape)\n",
        "print(ratings_df.shape)"
      ],
      "metadata": {
        "colab": {
          "base_uri": "https://localhost:8080/"
        },
        "id": "PfMOgYqxxaqe",
        "outputId": "eb509463-6b87-413b-f113-2fbac771b4b7"
      },
      "execution_count": 8,
      "outputs": [
        {
          "output_type": "stream",
          "name": "stdout",
          "text": [
            "(212404, 10)\n",
            "(3000000, 10)\n"
          ]
        }
      ]
    },
    {
      "cell_type": "markdown",
      "source": [
        "Merge the dataframes"
      ],
      "metadata": {
        "id": "rwGhVp5TxOtp"
      }
    },
    {
      "cell_type": "code",
      "source": [
        "# Merge the dataframes\n",
        "merged_df = ratings_df.merge(books_df, on='Title', how='left', indicator=True)\n",
        "\n",
        "# Keep only matched records and drop the merge indicator (although all records match)\n",
        "merged_df = merged_df[merged_df['_merge'] == 'both'].drop('_merge', axis=1)\n",
        "\n",
        "print(\"\\nColumns in merged dataset:\")\n",
        "print(merged_df.columns.tolist())\n",
        "\n",
        "print(merged_df.shape)\n"
      ],
      "metadata": {
        "colab": {
          "base_uri": "https://localhost:8080/"
        },
        "id": "95PQRWXQxDSH",
        "outputId": "57f9f7fc-74f2-4fd2-c8c4-7243814cc40e"
      },
      "execution_count": 9,
      "outputs": [
        {
          "output_type": "stream",
          "name": "stdout",
          "text": [
            "\n",
            "Columns in merged dataset:\n",
            "['Id', 'Title', 'Price', 'User_id', 'profileName', 'review/helpfulness', 'review/score', 'review/time', 'review/summary', 'review/text', 'description', 'authors', 'image', 'previewLink', 'publisher', 'publishedDate', 'infoLink', 'categories', 'ratingsCount']\n",
            "(3000000, 19)\n"
          ]
        }
      ]
    },
    {
      "cell_type": "markdown",
      "source": [
        "## SECTION 2.2: RENAMING AND REFORMATTING, DROPPING DUPLICATES"
      ],
      "metadata": {
        "id": "VZXrUAQHrUGx"
      }
    },
    {
      "cell_type": "code",
      "source": [
        "def standardize_column_names(df):\n",
        "    \"\"\"\n",
        "    Standardizes column names by:\n",
        "    1. Adding underscores between lowercase and uppercase letters.\n",
        "    2. Converting all column names to lowercase.\n",
        "    3. Replacing slashes ('/') with underscores ('_').\n",
        "\n",
        "    Args:\n",
        "        df (pd.DataFrame): The input DataFrame whose columns will be standardized.\n",
        "\n",
        "    Returns:\n",
        "        pd.DataFrame: The DataFrame with standardized column names.\n",
        "    \"\"\"\n",
        "    original_columns = df.columns.tolist()\n",
        "\n",
        "    # Add underscores between lowercase and uppercase letters\n",
        "    df.columns = df.columns.str.replace(r'([a-z])([A-Z])', r'\\1_\\2', regex=True)\n",
        "\n",
        "    # Convert column names to lowercase\n",
        "    df.columns = df.columns.str.lower()\n",
        "\n",
        "    # Replace slashes ('/') with underscores ('_')\n",
        "    df.columns = df.columns.str.replace('/', '_')\n",
        "\n",
        "    # Log changes\n",
        "    updated_columns = df.columns.tolist()\n",
        "    print(\"Column name changes:\")\n",
        "    for old, new in zip(original_columns, updated_columns):\n",
        "        if old != new:\n",
        "            print(f\"  - '{old}' renamed to '{new}'\")\n",
        "\n",
        "    return df\n"
      ],
      "metadata": {
        "id": "53Ay0JzPfP9M"
      },
      "execution_count": 10,
      "outputs": []
    },
    {
      "cell_type": "code",
      "source": [
        "# Apply the function\n",
        "merged_df = standardize_column_names(merged_df)\n",
        "\n",
        "# View the updated DataFrame\n",
        "print(\"\\nUpdated DataFrame columns:\")\n",
        "print(merged_df.columns)\n"
      ],
      "metadata": {
        "colab": {
          "base_uri": "https://localhost:8080/"
        },
        "id": "x5S2dkEhf01R",
        "outputId": "5df0a9b7-7909-4d2a-bf58-40f5b1fbfafc"
      },
      "execution_count": 11,
      "outputs": [
        {
          "output_type": "stream",
          "name": "stdout",
          "text": [
            "Column name changes:\n",
            "  - 'Id' renamed to 'id'\n",
            "  - 'Title' renamed to 'title'\n",
            "  - 'Price' renamed to 'price'\n",
            "  - 'User_id' renamed to 'user_id'\n",
            "  - 'profileName' renamed to 'profile_name'\n",
            "  - 'review/helpfulness' renamed to 'review_helpfulness'\n",
            "  - 'review/score' renamed to 'review_score'\n",
            "  - 'review/time' renamed to 'review_time'\n",
            "  - 'review/summary' renamed to 'review_summary'\n",
            "  - 'review/text' renamed to 'review_text'\n",
            "  - 'previewLink' renamed to 'preview_link'\n",
            "  - 'publishedDate' renamed to 'published_date'\n",
            "  - 'infoLink' renamed to 'info_link'\n",
            "  - 'ratingsCount' renamed to 'ratings_count'\n",
            "\n",
            "Updated DataFrame columns:\n",
            "Index(['id', 'title', 'price', 'user_id', 'profile_name', 'review_helpfulness',\n",
            "       'review_score', 'review_time', 'review_summary', 'review_text',\n",
            "       'description', 'authors', 'image', 'preview_link', 'publisher',\n",
            "       'published_date', 'info_link', 'categories', 'ratings_count'],\n",
            "      dtype='object')\n"
          ]
        }
      ]
    },
    {
      "cell_type": "markdown",
      "source": [
        "Fixing the review date field"
      ],
      "metadata": {
        "id": "pADotz5qmKcs"
      }
    },
    {
      "cell_type": "code",
      "source": [
        "from datetime import datetime\n",
        "\n",
        "def convert_unix_to_date(df, column_name):\n",
        "    \"\"\"\n",
        "    Converts a column with Unix time (Epoch time) to a human-readable date format (YYYY-MM-DD).\n",
        "    \"\"\"\n",
        "\n",
        "    # Convert Unix time to date (only YYYY-MM-DD)\n",
        "    df[column_name] = pd.to_datetime(df[column_name], unit='s').dt.date\n",
        "\n",
        "    return df\n"
      ],
      "metadata": {
        "id": "qbt4njZyI-a0"
      },
      "execution_count": 12,
      "outputs": []
    },
    {
      "cell_type": "code",
      "source": [
        "# Apply the function to the 'review/time' column\n",
        "merged_df = convert_unix_to_date(merged_df, 'review_time')\n",
        "\n",
        "# Check the result\n",
        "print(merged_df[['review_time']].head())\n"
      ],
      "metadata": {
        "colab": {
          "base_uri": "https://localhost:8080/"
        },
        "id": "cUv9GXIknw9N",
        "outputId": "1941d25e-24e3-4e6e-f91e-8317df344d8f"
      },
      "execution_count": 13,
      "outputs": [
        {
          "output_type": "stream",
          "name": "stdout",
          "text": [
            "  review_time\n",
            "0  1999-10-23\n",
            "1  2004-09-21\n",
            "2  2004-03-09\n",
            "3  2004-07-25\n",
            "4  2005-02-10\n"
          ]
        }
      ]
    },
    {
      "cell_type": "markdown",
      "source": [
        "Fix helpfulness field"
      ],
      "metadata": {
        "id": "13AKVtStxZHg"
      }
    },
    {
      "cell_type": "code",
      "source": [
        "def extract_helpfulness_number(helpfulness_str):\n",
        "    parts = str(helpfulness_str).split('/')\n",
        "    return int(parts[0]) if parts[0].isdigit() else 0\n",
        ""
      ],
      "metadata": {
        "id": "wwqr06IqxbWc"
      },
      "execution_count": 14,
      "outputs": []
    },
    {
      "cell_type": "code",
      "source": [
        "# Apply the function to 'review_helpfulness' using .loc\n",
        "merged_df.loc[:, 'review_helpfulness'] = merged_df['review_helpfulness'].apply(extract_helpfulness_number)\n"
      ],
      "metadata": {
        "id": "qzqrIZQrxcDT"
      },
      "execution_count": 15,
      "outputs": []
    },
    {
      "cell_type": "markdown",
      "source": [
        "Taking care of duplicates"
      ],
      "metadata": {
        "id": "8W0ZQsVLmIdY"
      }
    },
    {
      "cell_type": "code",
      "source": [
        "def drop_bad_rows(df, subset_cols):\n",
        "    \"\"\"\n",
        "    Cleans the dataset by:\n",
        "    1. Dropping rows with no description.\n",
        "    2. Dropping duplicate rows based on a subset of columns.\n",
        "\n",
        "    Args:\n",
        "        df (pd.DataFrame): The input DataFrame.\n",
        "        subset_cols (list): The columns to use for identifying duplicates.\n",
        "\n",
        "    Returns:\n",
        "        pd.DataFrame: A cleaned DataFrame with no missing descriptions and no duplicate rows.\n",
        "    \"\"\"\n",
        "    # Step 1: Drop rows with no description\n",
        "    initial_count = len(df)\n",
        "    df = df[df['description'].notna()]\n",
        "    desc_dropped = initial_count - len(df)\n",
        "    print(f\"Step 1: Dropped {desc_dropped} rows with no description. Remaining rows: {len(df)}\")\n",
        "\n",
        "    # Step 2: Drop duplicate rows based on subset_cols\n",
        "    duplicate_rows = df[df.duplicated(subset=subset_cols, keep=False)]\n",
        "    print(f\"Step 2: Found {len(duplicate_rows)} duplicate rows based on columns {subset_cols}.\")\n",
        "\n",
        "    df = df.drop_duplicates(subset=subset_cols, keep='first')\n",
        "    duplicates_dropped = initial_count - len(df) - desc_dropped\n",
        "    print(f\"Step 2: Dropped {duplicates_dropped} duplicate rows. Remaining rows: {len(df)}\")\n",
        "\n",
        "    return df\n"
      ],
      "metadata": {
        "id": "NrmUj7AJlbv5"
      },
      "execution_count": 16,
      "outputs": []
    },
    {
      "cell_type": "code",
      "source": [
        "# Define the columns to identify duplicates\n",
        "subset_columns = ['user_id', 'title', 'authors']\n",
        "\n",
        "# Apply the combined cleaning function\n",
        "merged_df = drop_bad_rows(merged_df, subset_columns)\n"
      ],
      "metadata": {
        "colab": {
          "base_uri": "https://localhost:8080/"
        },
        "id": "KoE8Uu3Wlxyk",
        "outputId": "8ef03291-1eb5-4eea-ce31-cce8b8d0e83a"
      },
      "execution_count": 17,
      "outputs": [
        {
          "output_type": "stream",
          "name": "stdout",
          "text": [
            "Step 1: Dropped 640225 rows with no description. Remaining rows: 2359775\n",
            "Step 2: Found 835085 duplicate rows based on columns ['user_id', 'title', 'authors'].\n",
            "Step 2: Dropped 653250 duplicate rows. Remaining rows: 1706525\n"
          ]
        }
      ]
    },
    {
      "cell_type": "code",
      "source": [
        "def extract_publication_year(date_str):\n",
        "    \"\"\"\n",
        "    Extract publication year from various date formats.\n",
        "\n",
        "    Args:\n",
        "        date_str: Date in various formats (year, MM/DD/YY, YYYY-MM, etc.)\n",
        "\n",
        "    Returns:\n",
        "        int: Four-digit year or None if invalid/missing\n",
        "    \"\"\"\n",
        "    if pd.isna(date_str):\n",
        "        return None\n",
        "\n",
        "    date_str = str(date_str).strip()\n",
        "\n",
        "    try:\n",
        "        # If it's just a year (4 digits)\n",
        "        if date_str.isdigit() and len(date_str) == 4:\n",
        "            year = int(date_str)\n",
        "            # Basic validation\n",
        "            if 1500 <= year <= 2025:\n",
        "                return year\n",
        "\n",
        "        # If it's MM/DD/YY format\n",
        "        elif '/' in date_str:\n",
        "            # Split the date\n",
        "            parts = date_str.split('/')\n",
        "            if len(parts) == 3:\n",
        "                year = int(parts[2])\n",
        "                return year\n",
        "\n",
        "        # If it's YYYY-MM format\n",
        "        elif '-' in date_str:\n",
        "            year = int(date_str.split('-')[0])\n",
        "            if 1500 <= year <= 2025:\n",
        "                return year\n",
        "\n",
        "    except (ValueError, IndexError):\n",
        "        return None\n",
        "\n",
        "    return None\n",
        ""
      ],
      "metadata": {
        "id": "CiK4-3VxupHL"
      },
      "execution_count": 18,
      "outputs": []
    },
    {
      "cell_type": "code",
      "source": [
        "merged_df.loc[:, \"publish_year\"] = (\n",
        "    merged_df[\"published_date\"]\n",
        "    .apply(extract_publication_year)\n",
        "    .astype(\"Int64\")\n",
        ")\n"
      ],
      "metadata": {
        "id": "dsKAZhbRsMDR"
      },
      "execution_count": 19,
      "outputs": []
    },
    {
      "cell_type": "code",
      "source": [
        "merged_df.shape"
      ],
      "metadata": {
        "colab": {
          "base_uri": "https://localhost:8080/"
        },
        "id": "LrThppSCgvGZ",
        "outputId": "af5e188b-d5ee-41f4-cdf9-e8921bd5acda"
      },
      "execution_count": 20,
      "outputs": [
        {
          "output_type": "execute_result",
          "data": {
            "text/plain": [
              "(1706525, 20)"
            ]
          },
          "metadata": {},
          "execution_count": 20
        }
      ]
    },
    {
      "cell_type": "code",
      "source": [
        "merged_df.head()"
      ],
      "metadata": {
        "colab": {
          "base_uri": "https://localhost:8080/",
          "height": 573
        },
        "id": "D-dpRK3XmO53",
        "outputId": "694d89a8-ca6f-4cd2-e09b-6308e0619e4e"
      },
      "execution_count": 21,
      "outputs": [
        {
          "output_type": "execute_result",
          "data": {
            "text/plain": [
              "           id                     title  price         user_id  \\\n",
              "1  0826414346  Dr. Seuss: American Icon    NaN  A30TK6U7DNS82R   \n",
              "2  0826414346  Dr. Seuss: American Icon    NaN  A3UH4UZ4RSVO82   \n",
              "3  0826414346  Dr. Seuss: American Icon    NaN  A2MVUWT453QH61   \n",
              "4  0826414346  Dr. Seuss: American Icon    NaN  A22X4XUPKF66MR   \n",
              "5  0826414346  Dr. Seuss: American Icon    NaN  A2F6NONFUDB6UK   \n",
              "\n",
              "                         profile_name review_helpfulness  review_score  \\\n",
              "1                       Kevin Killian                 10           5.0   \n",
              "2                        John Granger                 10           5.0   \n",
              "3  Roy E. Perry \"amateur philosopher\"                  7           4.0   \n",
              "4     D. H. Richards \"ninthwavestore\"                  3           4.0   \n",
              "5                              Malvin                  2           4.0   \n",
              "\n",
              "  review_time                                   review_summary  \\\n",
              "1  2004-09-21                                Really Enjoyed It   \n",
              "2  2004-03-09  Essential for every personal and Public Library   \n",
              "3  2004-07-25  Phlip Nel gives silly Seuss a serious treatment   \n",
              "4  2005-02-10                           Good academic overview   \n",
              "5  2005-09-20       One of America's greatest creative talents   \n",
              "\n",
              "                                         review_text  \\\n",
              "1  I don't care much for Dr. Seuss but after read...   \n",
              "2  If people become the books they read and if \"t...   \n",
              "3  Theodore Seuss Geisel (1904-1991), aka &quot;D...   \n",
              "4  Philip Nel - Dr. Seuss: American IconThis is b...   \n",
              "5  \"Dr. Seuss: American Icon\" by Philip Nel is a ...   \n",
              "\n",
              "                                         description         authors  \\\n",
              "1  Philip Nel takes a fascinating look into the k...  ['Philip Nel']   \n",
              "2  Philip Nel takes a fascinating look into the k...  ['Philip Nel']   \n",
              "3  Philip Nel takes a fascinating look into the k...  ['Philip Nel']   \n",
              "4  Philip Nel takes a fascinating look into the k...  ['Philip Nel']   \n",
              "5  Philip Nel takes a fascinating look into the k...  ['Philip Nel']   \n",
              "\n",
              "                                               image  \\\n",
              "1  http://books.google.com/books/content?id=IjvHQ...   \n",
              "2  http://books.google.com/books/content?id=IjvHQ...   \n",
              "3  http://books.google.com/books/content?id=IjvHQ...   \n",
              "4  http://books.google.com/books/content?id=IjvHQ...   \n",
              "5  http://books.google.com/books/content?id=IjvHQ...   \n",
              "\n",
              "                                        preview_link  publisher  \\\n",
              "1  http://books.google.nl/books?id=IjvHQsCn_pgC&p...  A&C Black   \n",
              "2  http://books.google.nl/books?id=IjvHQsCn_pgC&p...  A&C Black   \n",
              "3  http://books.google.nl/books?id=IjvHQsCn_pgC&p...  A&C Black   \n",
              "4  http://books.google.nl/books?id=IjvHQsCn_pgC&p...  A&C Black   \n",
              "5  http://books.google.nl/books?id=IjvHQsCn_pgC&p...  A&C Black   \n",
              "\n",
              "  published_date                                          info_link  \\\n",
              "1     2005-01-01  http://books.google.nl/books?id=IjvHQsCn_pgC&d...   \n",
              "2     2005-01-01  http://books.google.nl/books?id=IjvHQsCn_pgC&d...   \n",
              "3     2005-01-01  http://books.google.nl/books?id=IjvHQsCn_pgC&d...   \n",
              "4     2005-01-01  http://books.google.nl/books?id=IjvHQsCn_pgC&d...   \n",
              "5     2005-01-01  http://books.google.nl/books?id=IjvHQsCn_pgC&d...   \n",
              "\n",
              "                      categories  ratings_count  publish_year  \n",
              "1  ['Biography & Autobiography']            NaN          2005  \n",
              "2  ['Biography & Autobiography']            NaN          2005  \n",
              "3  ['Biography & Autobiography']            NaN          2005  \n",
              "4  ['Biography & Autobiography']            NaN          2005  \n",
              "5  ['Biography & Autobiography']            NaN          2005  "
            ],
            "text/html": [
              "\n",
              "  <div id=\"df-07275b40-4413-4cfd-acd2-f1e9944d1214\" class=\"colab-df-container\">\n",
              "    <div>\n",
              "<style scoped>\n",
              "    .dataframe tbody tr th:only-of-type {\n",
              "        vertical-align: middle;\n",
              "    }\n",
              "\n",
              "    .dataframe tbody tr th {\n",
              "        vertical-align: top;\n",
              "    }\n",
              "\n",
              "    .dataframe thead th {\n",
              "        text-align: right;\n",
              "    }\n",
              "</style>\n",
              "<table border=\"1\" class=\"dataframe\">\n",
              "  <thead>\n",
              "    <tr style=\"text-align: right;\">\n",
              "      <th></th>\n",
              "      <th>id</th>\n",
              "      <th>title</th>\n",
              "      <th>price</th>\n",
              "      <th>user_id</th>\n",
              "      <th>profile_name</th>\n",
              "      <th>review_helpfulness</th>\n",
              "      <th>review_score</th>\n",
              "      <th>review_time</th>\n",
              "      <th>review_summary</th>\n",
              "      <th>review_text</th>\n",
              "      <th>description</th>\n",
              "      <th>authors</th>\n",
              "      <th>image</th>\n",
              "      <th>preview_link</th>\n",
              "      <th>publisher</th>\n",
              "      <th>published_date</th>\n",
              "      <th>info_link</th>\n",
              "      <th>categories</th>\n",
              "      <th>ratings_count</th>\n",
              "      <th>publish_year</th>\n",
              "    </tr>\n",
              "  </thead>\n",
              "  <tbody>\n",
              "    <tr>\n",
              "      <th>1</th>\n",
              "      <td>0826414346</td>\n",
              "      <td>Dr. Seuss: American Icon</td>\n",
              "      <td>NaN</td>\n",
              "      <td>A30TK6U7DNS82R</td>\n",
              "      <td>Kevin Killian</td>\n",
              "      <td>10</td>\n",
              "      <td>5.0</td>\n",
              "      <td>2004-09-21</td>\n",
              "      <td>Really Enjoyed It</td>\n",
              "      <td>I don't care much for Dr. Seuss but after read...</td>\n",
              "      <td>Philip Nel takes a fascinating look into the k...</td>\n",
              "      <td>['Philip Nel']</td>\n",
              "      <td>http://books.google.com/books/content?id=IjvHQ...</td>\n",
              "      <td>http://books.google.nl/books?id=IjvHQsCn_pgC&amp;p...</td>\n",
              "      <td>A&amp;C Black</td>\n",
              "      <td>2005-01-01</td>\n",
              "      <td>http://books.google.nl/books?id=IjvHQsCn_pgC&amp;d...</td>\n",
              "      <td>['Biography &amp; Autobiography']</td>\n",
              "      <td>NaN</td>\n",
              "      <td>2005</td>\n",
              "    </tr>\n",
              "    <tr>\n",
              "      <th>2</th>\n",
              "      <td>0826414346</td>\n",
              "      <td>Dr. Seuss: American Icon</td>\n",
              "      <td>NaN</td>\n",
              "      <td>A3UH4UZ4RSVO82</td>\n",
              "      <td>John Granger</td>\n",
              "      <td>10</td>\n",
              "      <td>5.0</td>\n",
              "      <td>2004-03-09</td>\n",
              "      <td>Essential for every personal and Public Library</td>\n",
              "      <td>If people become the books they read and if \"t...</td>\n",
              "      <td>Philip Nel takes a fascinating look into the k...</td>\n",
              "      <td>['Philip Nel']</td>\n",
              "      <td>http://books.google.com/books/content?id=IjvHQ...</td>\n",
              "      <td>http://books.google.nl/books?id=IjvHQsCn_pgC&amp;p...</td>\n",
              "      <td>A&amp;C Black</td>\n",
              "      <td>2005-01-01</td>\n",
              "      <td>http://books.google.nl/books?id=IjvHQsCn_pgC&amp;d...</td>\n",
              "      <td>['Biography &amp; Autobiography']</td>\n",
              "      <td>NaN</td>\n",
              "      <td>2005</td>\n",
              "    </tr>\n",
              "    <tr>\n",
              "      <th>3</th>\n",
              "      <td>0826414346</td>\n",
              "      <td>Dr. Seuss: American Icon</td>\n",
              "      <td>NaN</td>\n",
              "      <td>A2MVUWT453QH61</td>\n",
              "      <td>Roy E. Perry \"amateur philosopher\"</td>\n",
              "      <td>7</td>\n",
              "      <td>4.0</td>\n",
              "      <td>2004-07-25</td>\n",
              "      <td>Phlip Nel gives silly Seuss a serious treatment</td>\n",
              "      <td>Theodore Seuss Geisel (1904-1991), aka &amp;quot;D...</td>\n",
              "      <td>Philip Nel takes a fascinating look into the k...</td>\n",
              "      <td>['Philip Nel']</td>\n",
              "      <td>http://books.google.com/books/content?id=IjvHQ...</td>\n",
              "      <td>http://books.google.nl/books?id=IjvHQsCn_pgC&amp;p...</td>\n",
              "      <td>A&amp;C Black</td>\n",
              "      <td>2005-01-01</td>\n",
              "      <td>http://books.google.nl/books?id=IjvHQsCn_pgC&amp;d...</td>\n",
              "      <td>['Biography &amp; Autobiography']</td>\n",
              "      <td>NaN</td>\n",
              "      <td>2005</td>\n",
              "    </tr>\n",
              "    <tr>\n",
              "      <th>4</th>\n",
              "      <td>0826414346</td>\n",
              "      <td>Dr. Seuss: American Icon</td>\n",
              "      <td>NaN</td>\n",
              "      <td>A22X4XUPKF66MR</td>\n",
              "      <td>D. H. Richards \"ninthwavestore\"</td>\n",
              "      <td>3</td>\n",
              "      <td>4.0</td>\n",
              "      <td>2005-02-10</td>\n",
              "      <td>Good academic overview</td>\n",
              "      <td>Philip Nel - Dr. Seuss: American IconThis is b...</td>\n",
              "      <td>Philip Nel takes a fascinating look into the k...</td>\n",
              "      <td>['Philip Nel']</td>\n",
              "      <td>http://books.google.com/books/content?id=IjvHQ...</td>\n",
              "      <td>http://books.google.nl/books?id=IjvHQsCn_pgC&amp;p...</td>\n",
              "      <td>A&amp;C Black</td>\n",
              "      <td>2005-01-01</td>\n",
              "      <td>http://books.google.nl/books?id=IjvHQsCn_pgC&amp;d...</td>\n",
              "      <td>['Biography &amp; Autobiography']</td>\n",
              "      <td>NaN</td>\n",
              "      <td>2005</td>\n",
              "    </tr>\n",
              "    <tr>\n",
              "      <th>5</th>\n",
              "      <td>0826414346</td>\n",
              "      <td>Dr. Seuss: American Icon</td>\n",
              "      <td>NaN</td>\n",
              "      <td>A2F6NONFUDB6UK</td>\n",
              "      <td>Malvin</td>\n",
              "      <td>2</td>\n",
              "      <td>4.0</td>\n",
              "      <td>2005-09-20</td>\n",
              "      <td>One of America's greatest creative talents</td>\n",
              "      <td>\"Dr. Seuss: American Icon\" by Philip Nel is a ...</td>\n",
              "      <td>Philip Nel takes a fascinating look into the k...</td>\n",
              "      <td>['Philip Nel']</td>\n",
              "      <td>http://books.google.com/books/content?id=IjvHQ...</td>\n",
              "      <td>http://books.google.nl/books?id=IjvHQsCn_pgC&amp;p...</td>\n",
              "      <td>A&amp;C Black</td>\n",
              "      <td>2005-01-01</td>\n",
              "      <td>http://books.google.nl/books?id=IjvHQsCn_pgC&amp;d...</td>\n",
              "      <td>['Biography &amp; Autobiography']</td>\n",
              "      <td>NaN</td>\n",
              "      <td>2005</td>\n",
              "    </tr>\n",
              "  </tbody>\n",
              "</table>\n",
              "</div>\n",
              "    <div class=\"colab-df-buttons\">\n",
              "\n",
              "  <div class=\"colab-df-container\">\n",
              "    <button class=\"colab-df-convert\" onclick=\"convertToInteractive('df-07275b40-4413-4cfd-acd2-f1e9944d1214')\"\n",
              "            title=\"Convert this dataframe to an interactive table.\"\n",
              "            style=\"display:none;\">\n",
              "\n",
              "  <svg xmlns=\"http://www.w3.org/2000/svg\" height=\"24px\" viewBox=\"0 -960 960 960\">\n",
              "    <path d=\"M120-120v-720h720v720H120Zm60-500h600v-160H180v160Zm220 220h160v-160H400v160Zm0 220h160v-160H400v160ZM180-400h160v-160H180v160Zm440 0h160v-160H620v160ZM180-180h160v-160H180v160Zm440 0h160v-160H620v160Z\"/>\n",
              "  </svg>\n",
              "    </button>\n",
              "\n",
              "  <style>\n",
              "    .colab-df-container {\n",
              "      display:flex;\n",
              "      gap: 12px;\n",
              "    }\n",
              "\n",
              "    .colab-df-convert {\n",
              "      background-color: #E8F0FE;\n",
              "      border: none;\n",
              "      border-radius: 50%;\n",
              "      cursor: pointer;\n",
              "      display: none;\n",
              "      fill: #1967D2;\n",
              "      height: 32px;\n",
              "      padding: 0 0 0 0;\n",
              "      width: 32px;\n",
              "    }\n",
              "\n",
              "    .colab-df-convert:hover {\n",
              "      background-color: #E2EBFA;\n",
              "      box-shadow: 0px 1px 2px rgba(60, 64, 67, 0.3), 0px 1px 3px 1px rgba(60, 64, 67, 0.15);\n",
              "      fill: #174EA6;\n",
              "    }\n",
              "\n",
              "    .colab-df-buttons div {\n",
              "      margin-bottom: 4px;\n",
              "    }\n",
              "\n",
              "    [theme=dark] .colab-df-convert {\n",
              "      background-color: #3B4455;\n",
              "      fill: #D2E3FC;\n",
              "    }\n",
              "\n",
              "    [theme=dark] .colab-df-convert:hover {\n",
              "      background-color: #434B5C;\n",
              "      box-shadow: 0px 1px 3px 1px rgba(0, 0, 0, 0.15);\n",
              "      filter: drop-shadow(0px 1px 2px rgba(0, 0, 0, 0.3));\n",
              "      fill: #FFFFFF;\n",
              "    }\n",
              "  </style>\n",
              "\n",
              "    <script>\n",
              "      const buttonEl =\n",
              "        document.querySelector('#df-07275b40-4413-4cfd-acd2-f1e9944d1214 button.colab-df-convert');\n",
              "      buttonEl.style.display =\n",
              "        google.colab.kernel.accessAllowed ? 'block' : 'none';\n",
              "\n",
              "      async function convertToInteractive(key) {\n",
              "        const element = document.querySelector('#df-07275b40-4413-4cfd-acd2-f1e9944d1214');\n",
              "        const dataTable =\n",
              "          await google.colab.kernel.invokeFunction('convertToInteractive',\n",
              "                                                    [key], {});\n",
              "        if (!dataTable) return;\n",
              "\n",
              "        const docLinkHtml = 'Like what you see? Visit the ' +\n",
              "          '<a target=\"_blank\" href=https://colab.research.google.com/notebooks/data_table.ipynb>data table notebook</a>'\n",
              "          + ' to learn more about interactive tables.';\n",
              "        element.innerHTML = '';\n",
              "        dataTable['output_type'] = 'display_data';\n",
              "        await google.colab.output.renderOutput(dataTable, element);\n",
              "        const docLink = document.createElement('div');\n",
              "        docLink.innerHTML = docLinkHtml;\n",
              "        element.appendChild(docLink);\n",
              "      }\n",
              "    </script>\n",
              "  </div>\n",
              "\n",
              "\n",
              "<div id=\"df-05a8ec14-976f-4f3c-a221-45907b04c0b2\">\n",
              "  <button class=\"colab-df-quickchart\" onclick=\"quickchart('df-05a8ec14-976f-4f3c-a221-45907b04c0b2')\"\n",
              "            title=\"Suggest charts\"\n",
              "            style=\"display:none;\">\n",
              "\n",
              "<svg xmlns=\"http://www.w3.org/2000/svg\" height=\"24px\"viewBox=\"0 0 24 24\"\n",
              "     width=\"24px\">\n",
              "    <g>\n",
              "        <path d=\"M19 3H5c-1.1 0-2 .9-2 2v14c0 1.1.9 2 2 2h14c1.1 0 2-.9 2-2V5c0-1.1-.9-2-2-2zM9 17H7v-7h2v7zm4 0h-2V7h2v10zm4 0h-2v-4h2v4z\"/>\n",
              "    </g>\n",
              "</svg>\n",
              "  </button>\n",
              "\n",
              "<style>\n",
              "  .colab-df-quickchart {\n",
              "      --bg-color: #E8F0FE;\n",
              "      --fill-color: #1967D2;\n",
              "      --hover-bg-color: #E2EBFA;\n",
              "      --hover-fill-color: #174EA6;\n",
              "      --disabled-fill-color: #AAA;\n",
              "      --disabled-bg-color: #DDD;\n",
              "  }\n",
              "\n",
              "  [theme=dark] .colab-df-quickchart {\n",
              "      --bg-color: #3B4455;\n",
              "      --fill-color: #D2E3FC;\n",
              "      --hover-bg-color: #434B5C;\n",
              "      --hover-fill-color: #FFFFFF;\n",
              "      --disabled-bg-color: #3B4455;\n",
              "      --disabled-fill-color: #666;\n",
              "  }\n",
              "\n",
              "  .colab-df-quickchart {\n",
              "    background-color: var(--bg-color);\n",
              "    border: none;\n",
              "    border-radius: 50%;\n",
              "    cursor: pointer;\n",
              "    display: none;\n",
              "    fill: var(--fill-color);\n",
              "    height: 32px;\n",
              "    padding: 0;\n",
              "    width: 32px;\n",
              "  }\n",
              "\n",
              "  .colab-df-quickchart:hover {\n",
              "    background-color: var(--hover-bg-color);\n",
              "    box-shadow: 0 1px 2px rgba(60, 64, 67, 0.3), 0 1px 3px 1px rgba(60, 64, 67, 0.15);\n",
              "    fill: var(--button-hover-fill-color);\n",
              "  }\n",
              "\n",
              "  .colab-df-quickchart-complete:disabled,\n",
              "  .colab-df-quickchart-complete:disabled:hover {\n",
              "    background-color: var(--disabled-bg-color);\n",
              "    fill: var(--disabled-fill-color);\n",
              "    box-shadow: none;\n",
              "  }\n",
              "\n",
              "  .colab-df-spinner {\n",
              "    border: 2px solid var(--fill-color);\n",
              "    border-color: transparent;\n",
              "    border-bottom-color: var(--fill-color);\n",
              "    animation:\n",
              "      spin 1s steps(1) infinite;\n",
              "  }\n",
              "\n",
              "  @keyframes spin {\n",
              "    0% {\n",
              "      border-color: transparent;\n",
              "      border-bottom-color: var(--fill-color);\n",
              "      border-left-color: var(--fill-color);\n",
              "    }\n",
              "    20% {\n",
              "      border-color: transparent;\n",
              "      border-left-color: var(--fill-color);\n",
              "      border-top-color: var(--fill-color);\n",
              "    }\n",
              "    30% {\n",
              "      border-color: transparent;\n",
              "      border-left-color: var(--fill-color);\n",
              "      border-top-color: var(--fill-color);\n",
              "      border-right-color: var(--fill-color);\n",
              "    }\n",
              "    40% {\n",
              "      border-color: transparent;\n",
              "      border-right-color: var(--fill-color);\n",
              "      border-top-color: var(--fill-color);\n",
              "    }\n",
              "    60% {\n",
              "      border-color: transparent;\n",
              "      border-right-color: var(--fill-color);\n",
              "    }\n",
              "    80% {\n",
              "      border-color: transparent;\n",
              "      border-right-color: var(--fill-color);\n",
              "      border-bottom-color: var(--fill-color);\n",
              "    }\n",
              "    90% {\n",
              "      border-color: transparent;\n",
              "      border-bottom-color: var(--fill-color);\n",
              "    }\n",
              "  }\n",
              "</style>\n",
              "\n",
              "  <script>\n",
              "    async function quickchart(key) {\n",
              "      const quickchartButtonEl =\n",
              "        document.querySelector('#' + key + ' button');\n",
              "      quickchartButtonEl.disabled = true;  // To prevent multiple clicks.\n",
              "      quickchartButtonEl.classList.add('colab-df-spinner');\n",
              "      try {\n",
              "        const charts = await google.colab.kernel.invokeFunction(\n",
              "            'suggestCharts', [key], {});\n",
              "      } catch (error) {\n",
              "        console.error('Error during call to suggestCharts:', error);\n",
              "      }\n",
              "      quickchartButtonEl.classList.remove('colab-df-spinner');\n",
              "      quickchartButtonEl.classList.add('colab-df-quickchart-complete');\n",
              "    }\n",
              "    (() => {\n",
              "      let quickchartButtonEl =\n",
              "        document.querySelector('#df-05a8ec14-976f-4f3c-a221-45907b04c0b2 button');\n",
              "      quickchartButtonEl.style.display =\n",
              "        google.colab.kernel.accessAllowed ? 'block' : 'none';\n",
              "    })();\n",
              "  </script>\n",
              "</div>\n",
              "\n",
              "    </div>\n",
              "  </div>\n"
            ],
            "application/vnd.google.colaboratory.intrinsic+json": {
              "type": "dataframe",
              "variable_name": "merged_df"
            }
          },
          "metadata": {},
          "execution_count": 21
        }
      ]
    },
    {
      "cell_type": "markdown",
      "source": [
        "## SECTION 2.3: CONSOLIDATING BOOK INFO"
      ],
      "metadata": {
        "id": "zPHTPmoFrqgI"
      }
    },
    {
      "cell_type": "markdown",
      "source": [
        "Function to standardize titles of books that are the same."
      ],
      "metadata": {
        "id": "bTfJi3uss_HJ"
      }
    },
    {
      "cell_type": "code",
      "source": [
        "def standardize_title(title):\n",
        "    \"\"\"\n",
        "    Standardize book titles by:\n",
        "    1. Converting to lowercase\n",
        "    2. Removing edition/format information in parentheses\n",
        "    3. Removing special characters\n",
        "    4. Removing extra whitespace\n",
        "    \"\"\"\n",
        "    if pd.isna(title):\n",
        "        return title\n",
        "\n",
        "    import re\n",
        "\n",
        "    # Convert to lowercase\n",
        "    title = title.lower()\n",
        "\n",
        "    # Remove parenthetical text that typically indicates editions/formats\n",
        "    # Catches patterns like (Penguin Classics), (Spanish Edition), etc.\n",
        "    title = re.sub(r'\\([^)]*edition[^)]*\\)', '', title)\n",
        "    title = re.sub(r'\\([^)]*classics[^)]*\\)', '', title)\n",
        "    title = re.sub(r'\\([^)]*series[^)]*\\)', '', title)\n",
        "    title = re.sub(r'\\([^)]*volume[^)]*\\)', '', title)\n",
        "\n",
        "    # Remove remaining parentheses content\n",
        "    title = re.sub(r'\\([^)]*\\)', '', title)\n",
        "    title = re.sub(r'\\[[^]]*\\]', '', title)\n",
        "\n",
        "    # Remove special characters but keep basic punctuation and ampersands\n",
        "    title = re.sub(r'[^\\w\\s&,-]', '', title)\n",
        "\n",
        "    # Remove extra whitespace\n",
        "    title = ' '.join(title.split())\n",
        "\n",
        "    return title.strip()\n"
      ],
      "metadata": {
        "id": "6omBQA3Us9Lc"
      },
      "execution_count": 22,
      "outputs": []
    },
    {
      "cell_type": "markdown",
      "source": [
        "Book consolidation and helper function."
      ],
      "metadata": {
        "id": "MC1DdskSwsdM"
      }
    },
    {
      "cell_type": "code",
      "source": [
        "def get_primary_author(authors):\n",
        "    \"\"\"Extract primary author from authors list\"\"\"\n",
        "    if pd.isna(authors):\n",
        "        return None\n",
        "    try:\n",
        "        # Convert string representation of list to actual list and get first author\n",
        "        # Remove brackets and quotes, then split on comma\n",
        "        authors_list = authors.strip('[]').replace(\"'\", \"\").split(',')\n",
        "        return authors_list[0].strip()\n",
        "    except:\n",
        "        return authors\n",
        ""
      ],
      "metadata": {
        "id": "fUvAJQKJHcx4"
      },
      "execution_count": 23,
      "outputs": []
    },
    {
      "cell_type": "code",
      "source": [
        "def consolidate_book_versions(df):\n",
        "    \"\"\"\n",
        "    For each (standard_title, primary_author), find the 'canonical' Title\n",
        "    (the one with the most reviews). Then pull the book columns from\n",
        "    that canonical Title into all rows having the same standard_title\n",
        "    and primary_author.\n",
        "    \"\"\"\n",
        "    # Standardized title and primary author\n",
        "    df['standard_title'] = df['title'].apply(standardize_title)\n",
        "    df['primary_author'] = df['authors'].apply(get_primary_author)\n",
        "\n",
        "    # Count reviews of each distinct (standard_title, primary_author, Title)\n",
        "    group_counts = (\n",
        "        df.groupby(['standard_title', 'primary_author', 'title'])\n",
        "          .size()\n",
        "          .rename('review_count')\n",
        "          .reset_index()\n",
        "    )\n",
        "\n",
        "    # 3) For each (standard_title, primary_author), find Title with the max review_count\n",
        "    idx = group_counts.groupby(['standard_title', 'primary_author'])['review_count'].idxmax()\n",
        "    canonical_versions = group_counts.loc[idx].reset_index(drop=True)\n",
        "    # canonical_versions now has: standard_title, primary_author, Title, review_count\n",
        "\n",
        "    # 4) Get the \"book metadata columns\" so we can grab this from canonical row\n",
        "    book_cols = [\n",
        "        'description',\n",
        "        'image',\n",
        "        'preview_link',\n",
        "        'publisher',\n",
        "        'published_date',\n",
        "        'info_link',\n",
        "        'categories',\n",
        "        'ratings_count',\n",
        "    ]\n",
        "\n",
        "    canonical_info = (\n",
        "        df.drop_duplicates(subset='title')\n",
        "          .loc[:, ['title'] + book_cols]\n",
        "    )\n",
        "\n",
        "    #    Merge the canonical versions with the canonical_info\n",
        "    #    so each row in canonical_versions has *its* Title’s book metadata.\n",
        "    canonical_versions = canonical_versions.merge(canonical_info, on='title', how='left')\n",
        "\n",
        "    result = df.merge(\n",
        "        canonical_versions.drop(columns=['title', 'review_count']),\n",
        "        on=['standard_title', 'primary_author'],\n",
        "        how='left',\n",
        "        suffixes=('', '_canonical')\n",
        "    )\n",
        "\n",
        "    for col in book_cols:\n",
        "        result[col] = result[f'{col}_canonical']\n",
        "        result.drop(columns=[f'{col}_canonical'], inplace=True)\n",
        "\n",
        "    return result\n"
      ],
      "metadata": {
        "id": "eDIJvs0oxOil"
      },
      "execution_count": 24,
      "outputs": []
    },
    {
      "cell_type": "markdown",
      "source": [
        "Testing this out with the book 'Emma' by Jane Austen, which has a number of similar versions."
      ],
      "metadata": {
        "id": "Zst080Vcv8rG"
      }
    },
    {
      "cell_type": "code",
      "source": [
        "# Get all Emma versions and their review counts before consolidation\n",
        "emma_versions = merged_df[\n",
        "    merged_df['title'].str.contains('Emma', case=False, regex=True) &\n",
        "    merged_df['authors'].str.contains('Jane Austen', case=False, na=False)\n",
        "]\n",
        "\n",
        "print(\"Emma Versions Before Consolidation:\")\n",
        "print(\"-\" * 80)\n",
        "\n",
        "# Count reviews and show descriptions for each version\n",
        "version_info = (emma_versions.groupby(['title', 'publisher', 'published_date', 'description'])\n",
        "              .size()\n",
        "              .reset_index(name='review_count'))\n",
        "# Sort by review count\n",
        "version_info = version_info.sort_values('review_count', ascending=False)\n",
        "\n",
        "# Set display options to show all rows and full text\n",
        "pd.set_option('display.max_rows', None)\n",
        "pd.set_option('display.max_columns', None)\n",
        "pd.set_option('display.width', None)\n",
        "pd.set_option('display.max_colwidth', None)\n",
        "\n",
        "print(\"Before consolidation:\")\n",
        "for _, row in version_info.iterrows():\n",
        "    print(f\"\\nTitle: {row['title']}\")\n",
        "    print(f\"Publisher: {row['publisher']}\")\n",
        "    print(f\"Published: {row['published_date']}\")\n",
        "    print(f\"Review Count: {row['review_count']}\")\n",
        "    print(f\"Description: {row['description']}\")\n",
        "    print(\"-\" * 40)\n"
      ],
      "metadata": {
        "colab": {
          "base_uri": "https://localhost:8080/"
        },
        "id": "XPXlZOljEeTj",
        "outputId": "56c2926d-1f43-4d70-c491-c6a3de5b94c1"
      },
      "execution_count": 25,
      "outputs": [
        {
          "output_type": "stream",
          "name": "stdout",
          "text": [
            "Emma Versions Before Consolidation:\n",
            "--------------------------------------------------------------------------------\n",
            "Before consolidation:\n",
            "\n",
            "Title: Emma\n",
            "Publisher: Penguin Classics\n",
            "Published: 2015\n",
            "Review Count: 386\n",
            "Description: The culmination of Jane Austen's genius, a sparkling comedy of love and marriage--now in a stunning 200th-anniversary Penguin Classics Deluxe Edition Now a major motion picture starring Anya Taylor-Joy Beautiful, clever, rich--and single--Emma Woodhouse is perfectly content with her life and sees no need for either love or marriage. Nothing, however, delights her more than interfering in the romantic lives of others. But when she ignores the warnings of her good friend Mr. Knightley and attempts to arrange a suitable match for her protégée, Harriet Smith, her carefully laid plans soon unravel and have consequences that she never expected. With its imperfect but charming heroine and its witty and subtle exploration of relationships, Emma is often seen as Jane Austen's most flawless work. This Penguin Classics Deluxe Edition celebrates two hundred years of Austen's beloved novel. With a beautiful cover designed by illustrator Dadu Shin and comprehensive notes drawing specially from the Jane Austen Collection at Goucher College, this is an edition to be treasured by students and collectors alike. For more than sixty-five years, Penguin has been the leading publisher of classic literature in the English-speaking world. With more than 1,500 titles, Penguin Classics represents a global bookshelf of the best works throughout history and across genres and disciplines. Readers trust the series to provide authoritative texts enhanced by introductions and notes by distinguished scholars and contemporary authors, as well as up-to-date translations by award-winning translators.\n",
            "----------------------------------------\n",
            "\n",
            "Title: Emma (CH) (Jane Austen Collection)\n",
            "Publisher: Shoes and Ships and Sealing Wax Limited\n",
            "Published: 2006-10\n",
            "Review Count: 382\n",
            "Description: Jane Austen's complete novels, collected together in one uniquely comprehensive volume, now published with the complete set of Hugh Thomson's famous illustrations. Comprises the complete text of: \"Sense and Sensibility,\" \"Pride and Prejudice,\" \"Mansfield Park,\" \"Emma,\" \"Northanger Abbey,\" \"Persuasion,\" \"Lady Susan,\" and \"Love and Friendship.\" This is the only single-volume edition of Jane Austen's novels to contain not only the wickedly humorous \"Lady Susan,\" but also the irrepressibly exuberant early work \"Love and Friendship.\" This collection allows readers to explore the development of one of the English language's greatest writers, following her development from the farcical comedy of \"Love and Friendship\" and \"Northanger Abbey,\" via her most popular work, \"Pride and Prejudice,\" to the masterpiece \"Emma,\" and the considered romance of \"Persuasion.\" A unique collection of the finest and most perceptive love stories ever written. Hugh Thomson first illustrated Jane Austen's works in the 1890's; his illustrations are prized for their wit and liveliness. The illustrations in this edition have been photographed directly from the original books, and digitally retouched for enhanced clarity. Copies of the original Hugh Thomson illustrated edition of Pride and Prejudice, from which these illustrations are taken, are highly prized by collectors, and valued at up to $10,000.\n",
            "----------------------------------------\n",
            "\n",
            "Title: Emma (Letras Universales / Universal Writings) (Spanish Edition)\n",
            "Publisher: Catedra Ediciones\n",
            "Published: 1997\n",
            "Review Count: 382\n",
            "Description: Asistimos en los últimos tiempos a una revitalización del interés por la obra de Jane Austen. En 1996 se estrenó una versión cinematográfica de «Emma». En 1995 se estrenó otra de sus novelas «Sentido y sensibilidad», protagonizada por Emma Thompson, y en la televisión inglesa se emitió una serie de gran éxito de su novela «Orgullo y prejuicio».\n",
            "----------------------------------------\n",
            "\n",
            "Title: Emma (Signet classics)\n",
            "Publisher: Signet Classics\n",
            "Published: 1980\n",
            "Review Count: 382\n",
            "Description: Emma is bright, pretty, rich, supremely self-assured, and determined to impose her romantic ideals on all those around her. Her well-ordered life is about to change, though, as she embarks on a journey of growth and discovery described with the wit, grace, and style and humor that is Jane Austen's unforgettable signature.\n",
            "----------------------------------------\n",
            "\n",
            "Title: Emma (Riverside Editions)\n",
            "Publisher: Houghton Mifflin College Division\n",
            "Published: 1957\n",
            "Review Count: 382\n",
            "Description: Content with her life and not interested in marriage, Emma Woodhouse, a rich and beautiful heiress, causes complications with her matchmaking schemes.\n",
            "----------------------------------------\n",
            "\n",
            "Title: Emma (Progress English)\n",
            "Publisher: Oxford University Press, USA\n",
            "Published: 1988\n",
            "Review Count: 382\n",
            "Description: Emma is beautiful, clever and rich. She likes to arrange marriages between her friends and neighbours, but makes lot of mistakes and causes more problems than happy marriages.\n",
            "----------------------------------------\n",
            "\n",
            "Title: Emma (World's Classics)\n",
            "Publisher: Oxford University Press\n",
            "Published: 2008-04-17\n",
            "Review Count: 382\n",
            "Description: Emma Woodhouse imagines that she dominates those around her in the small town of Highbury, but her inept matchmaking creates problems for herself and others.\n",
            "----------------------------------------\n",
            "\n",
            "Title: Emma (The World's Classics)\n",
            "Publisher: Oxford University Press\n",
            "Published: 2008-04-17\n",
            "Review Count: 382\n",
            "Description: Emma Woodhouse imagines that she dominates those around her in the small town of Highbury, but her inept matchmaking creates problems for herself and others.\n",
            "----------------------------------------\n",
            "\n",
            "Title: Emma (Summer Classics)\n",
            "Publisher: Penguin Classics\n",
            "Published: 2002\n",
            "Review Count: 382\n",
            "Description: Emma Woodhouse may have decided that she will never marry, but that doesn't stop her interfering in the romantic fortunes of others. Having persuaded her sweet, silly friend Harriet Smith to turn down one proposal of marriage, Emma is determined to find Harriet a more suitable man. But Emma's attempts at matchmaking lead her into one scrape after another, and in the process she almost misses her own chance of love.\n",
            "----------------------------------------\n",
            "\n",
            "Title: Emma & I\n",
            "Publisher: Penguin Classics\n",
            "Published: 2015\n",
            "Review Count: 7\n",
            "Description: The culmination of Jane Austen's genius, a sparkling comedy of love and marriage--now in a stunning 200th-anniversary Penguin Classics Deluxe Edition Now a major motion picture starring Anya Taylor-Joy Beautiful, clever, rich--and single--Emma Woodhouse is perfectly content with her life and sees no need for either love or marriage. Nothing, however, delights her more than interfering in the romantic lives of others. But when she ignores the warnings of her good friend Mr. Knightley and attempts to arrange a suitable match for her protégée, Harriet Smith, her carefully laid plans soon unravel and have consequences that she never expected. With its imperfect but charming heroine and its witty and subtle exploration of relationships, Emma is often seen as Jane Austen's most flawless work. This Penguin Classics Deluxe Edition celebrates two hundred years of Austen's beloved novel. With a beautiful cover designed by illustrator Dadu Shin and comprehensive notes drawing specially from the Jane Austen Collection at Goucher College, this is an edition to be treasured by students and collectors alike. For more than sixty-five years, Penguin has been the leading publisher of classic literature in the English-speaking world. With more than 1,500 titles, Penguin Classics represents a global bookshelf of the best works throughout history and across genres and disciplines. Readers trust the series to provide authoritative texts enhanced by introductions and notes by distinguished scholars and contemporary authors, as well as up-to-date translations by award-winning translators.\n",
            "----------------------------------------\n",
            "\n",
            "Title: Emma & I.\n",
            "Publisher: Penguin Classics\n",
            "Published: 2015\n",
            "Review Count: 7\n",
            "Description: The culmination of Jane Austen's genius, a sparkling comedy of love and marriage--now in a stunning 200th-anniversary Penguin Classics Deluxe Edition Now a major motion picture starring Anya Taylor-Joy Beautiful, clever, rich--and single--Emma Woodhouse is perfectly content with her life and sees no need for either love or marriage. Nothing, however, delights her more than interfering in the romantic lives of others. But when she ignores the warnings of her good friend Mr. Knightley and attempts to arrange a suitable match for her protégée, Harriet Smith, her carefully laid plans soon unravel and have consequences that she never expected. With its imperfect but charming heroine and its witty and subtle exploration of relationships, Emma is often seen as Jane Austen's most flawless work. This Penguin Classics Deluxe Edition celebrates two hundred years of Austen's beloved novel. With a beautiful cover designed by illustrator Dadu Shin and comprehensive notes drawing specially from the Jane Austen Collection at Goucher College, this is an edition to be treasured by students and collectors alike. For more than sixty-five years, Penguin has been the leading publisher of classic literature in the English-speaking world. With more than 1,500 titles, Penguin Classics represents a global bookshelf of the best works throughout history and across genres and disciplines. Readers trust the series to provide authoritative texts enhanced by introductions and notes by distinguished scholars and contemporary authors, as well as up-to-date translations by award-winning translators.\n",
            "----------------------------------------\n",
            "\n",
            "Title: Emma (Clasicos Universales Planeta) (Spanish Edition)\n",
            "Publisher: Planeta Publishing Corporation\n",
            "Published: 1998-06-01\n",
            "Review Count: 3\n",
            "Description: Emma (1816) is Jane Austen's most characteristic work. Convinced that she understands the world, Emma rules over her invalid father and the small social circle of Highbury with well-meaning tyranny. But she is highly fallible where love is concerned, and her failings there cause many misunderstandings - as well as giving the reader much enjoyment as order is restored. In her new introduction to this edition Terry Castle examines the pleasure given by Emma's reassuringly stable world and by its comedy, and examines the relationships, imagery, and continuing power of Austen's perhaps greatest novel.\n",
            "----------------------------------------\n",
            "\n",
            "Title: The Complete Novels of Jane Austen, Vol. 2 (Emma / Northanger Abbey / Persuasion)\n",
            "Publisher: Modern Library\n",
            "Published: 2012-06-20\n",
            "Review Count: 3\n",
            "Description: The second volume in the Complete Novels of Jane Austen, this volume contains the classics Emma, Northanger Abbey, and Persuasion. EMMA “Emma Woodhouse, handsome, clever, and rich, with a comfortable home and happy disposition seemed to unite some of the best blessings of existence; and had lived nearly twenty-one years in the world with very little to distress or vex her.” So begins Jane Austen’s comic masterpiece Emma. In Emma, Austen’s prose brilliantly elevates, in the words of Virginia Woolf, “the trivialities of day-to-day existence, of parties, picnics, and country dances” of early-nineteenth-century life in the English countryside to an unrivaled level of pleasure for the reader. At the center of this world is the inimitable Emma Woodhouse, a self-proclaimed matchmaker who, by the novel’s conclusion, may just find herself the victim of her own best intentions. NORTHANGER ABBEY Jane Austen’s first novel, Northanger Abbey—published posthumously in 1818—tells the story of Catherine Morland and her dangerously sweet nature, innocence, and sometime self-delusion. Though Austen’s fallible heroine is repeatedly drawn into scrapes while vacationing at Bath and during her subsequent visit to Northanger Abbey, Catherine eventually triumphs, blossoming into a discerning woman who learns truths about love, life, and the heady power of literature. The satirical Northanger Abbey pokes fun at the gothic novel while earnestly emphasizing caution to the female sex. PERSUASION Called a “perfect novel” by Harold Bloom, Persuasion was written while Jane Austen was in failing health. She died soon after its completion, and it was published in an edition with Northanger Abbey in 1818. In the novel, Anne Elliot, the heroine Austen called “almost too good for me,” has let herself be persuaded not to marry Frederick Wentworth, a fine and attractive man without means. Eight years later, Captain Wentworth returns from the Napoleonic Wars with a triumphant naval career behind him, a substantial fortune to his name, and an eagerness to wed. Austen explores the complexities of human relationships as they change over time. Persuasion is the last work of one of the greatest of novelists, the end of a quiet career pursued in anonymity in rural England that produced novels which continue to give pleasure to millions of readers throughout the world.\n",
            "----------------------------------------\n",
            "\n",
            "Title: Emma (Penguin Readers, Level 4)\n",
            "Publisher: Penguin Readers\n",
            "Published: 2020-11-05\n",
            "Review Count: 1\n",
            "Description: Emma Woodhouse is beautiful, clever and rich, and she has everything she wants. She does not want a husband for herself, but she loves match-making for her friends. But is Emma really as clever as she thinks? And what will she do when things start to go wrong? Penguin Readers is a series of popular classics, exciting contemporary fiction, and thought-provoking non-fiction written for learners of English as a foreign language. Beautifully illustrated and carefully adapted, the series introduces language learners around the world to the bestselling authors and most compelling content from Penguin Random House. The eight levels of Penguin Readers follow the Common European Framework and include language activities that help readers to develop key skills.\n",
            "----------------------------------------\n"
          ]
        }
      ]
    },
    {
      "cell_type": "code",
      "source": [
        "# Now consolidate and check the results\n",
        "consolidated_df = consolidate_book_versions(merged_df)\n",
        "\n",
        "print(\"\\nAfter Consolidation:\")\n",
        "print(\"-\" * 80)\n",
        "\n",
        "emma_consolidated = consolidated_df[\n",
        "    consolidated_df['title'].str.contains('Emma', case=False, regex=True) &\n",
        "    consolidated_df['authors'].str.contains('Jane Austen', case=False, na=False)\n",
        "]\n",
        "\n",
        "# Check consolidated versions\n",
        "consolidated_info = (emma_consolidated.groupby(['standard_title', 'publisher', 'published_date', 'description'])\n",
        "                    .size()\n",
        "                    .reset_index(name='review_count'))\n",
        "consolidated_info = consolidated_info.sort_values('review_count', ascending=False)\n",
        "\n",
        "for _, row in consolidated_info.iterrows():\n",
        "    print(f\"\\nStandardized Title: {row['standard_title']}\")\n",
        "    print(f\"Publisher: {row['publisher']}\")\n",
        "    print(f\"Published: {row['published_date']}\")\n",
        "    print(f\"Review Count: {row['review_count']}\")\n",
        "    print(f\"Description: {row['description']}\")\n",
        "    print(\"-\" * 40)\n",
        "\n",
        "# Reset display options\n",
        "pd.reset_option('display.max_rows')\n",
        "pd.reset_option('display.max_columns')\n",
        "pd.reset_option('display.width')\n",
        "pd.reset_option('display.max_colwidth')"
      ],
      "metadata": {
        "colab": {
          "base_uri": "https://localhost:8080/"
        },
        "id": "dHwQB02Ew3Hh",
        "outputId": "acbc04b5-62d0-43e1-a202-ced6d095430b"
      },
      "execution_count": 26,
      "outputs": [
        {
          "output_type": "stream",
          "name": "stdout",
          "text": [
            "\n",
            "After Consolidation:\n",
            "--------------------------------------------------------------------------------\n",
            "\n",
            "Standardized Title: emma\n",
            "Publisher: Penguin Classics\n",
            "Published: 2015\n",
            "Review Count: 3446\n",
            "Description: The culmination of Jane Austen's genius, a sparkling comedy of love and marriage--now in a stunning 200th-anniversary Penguin Classics Deluxe Edition Now a major motion picture starring Anya Taylor-Joy Beautiful, clever, rich--and single--Emma Woodhouse is perfectly content with her life and sees no need for either love or marriage. Nothing, however, delights her more than interfering in the romantic lives of others. But when she ignores the warnings of her good friend Mr. Knightley and attempts to arrange a suitable match for her protégée, Harriet Smith, her carefully laid plans soon unravel and have consequences that she never expected. With its imperfect but charming heroine and its witty and subtle exploration of relationships, Emma is often seen as Jane Austen's most flawless work. This Penguin Classics Deluxe Edition celebrates two hundred years of Austen's beloved novel. With a beautiful cover designed by illustrator Dadu Shin and comprehensive notes drawing specially from the Jane Austen Collection at Goucher College, this is an edition to be treasured by students and collectors alike. For more than sixty-five years, Penguin has been the leading publisher of classic literature in the English-speaking world. With more than 1,500 titles, Penguin Classics represents a global bookshelf of the best works throughout history and across genres and disciplines. Readers trust the series to provide authoritative texts enhanced by introductions and notes by distinguished scholars and contemporary authors, as well as up-to-date translations by award-winning translators.\n",
            "----------------------------------------\n",
            "\n",
            "Standardized Title: emma & i\n",
            "Publisher: Penguin Classics\n",
            "Published: 2015\n",
            "Review Count: 14\n",
            "Description: The culmination of Jane Austen's genius, a sparkling comedy of love and marriage--now in a stunning 200th-anniversary Penguin Classics Deluxe Edition Now a major motion picture starring Anya Taylor-Joy Beautiful, clever, rich--and single--Emma Woodhouse is perfectly content with her life and sees no need for either love or marriage. Nothing, however, delights her more than interfering in the romantic lives of others. But when she ignores the warnings of her good friend Mr. Knightley and attempts to arrange a suitable match for her protégée, Harriet Smith, her carefully laid plans soon unravel and have consequences that she never expected. With its imperfect but charming heroine and its witty and subtle exploration of relationships, Emma is often seen as Jane Austen's most flawless work. This Penguin Classics Deluxe Edition celebrates two hundred years of Austen's beloved novel. With a beautiful cover designed by illustrator Dadu Shin and comprehensive notes drawing specially from the Jane Austen Collection at Goucher College, this is an edition to be treasured by students and collectors alike. For more than sixty-five years, Penguin has been the leading publisher of classic literature in the English-speaking world. With more than 1,500 titles, Penguin Classics represents a global bookshelf of the best works throughout history and across genres and disciplines. Readers trust the series to provide authoritative texts enhanced by introductions and notes by distinguished scholars and contemporary authors, as well as up-to-date translations by award-winning translators.\n",
            "----------------------------------------\n",
            "\n",
            "Standardized Title: the complete novels of jane austen, vol 2\n",
            "Publisher: Modern Library\n",
            "Published: 2012-06-20\n",
            "Review Count: 3\n",
            "Description: The second volume in the Complete Novels of Jane Austen, this volume contains the classics Emma, Northanger Abbey, and Persuasion. EMMA “Emma Woodhouse, handsome, clever, and rich, with a comfortable home and happy disposition seemed to unite some of the best blessings of existence; and had lived nearly twenty-one years in the world with very little to distress or vex her.” So begins Jane Austen’s comic masterpiece Emma. In Emma, Austen’s prose brilliantly elevates, in the words of Virginia Woolf, “the trivialities of day-to-day existence, of parties, picnics, and country dances” of early-nineteenth-century life in the English countryside to an unrivaled level of pleasure for the reader. At the center of this world is the inimitable Emma Woodhouse, a self-proclaimed matchmaker who, by the novel’s conclusion, may just find herself the victim of her own best intentions. NORTHANGER ABBEY Jane Austen’s first novel, Northanger Abbey—published posthumously in 1818—tells the story of Catherine Morland and her dangerously sweet nature, innocence, and sometime self-delusion. Though Austen’s fallible heroine is repeatedly drawn into scrapes while vacationing at Bath and during her subsequent visit to Northanger Abbey, Catherine eventually triumphs, blossoming into a discerning woman who learns truths about love, life, and the heady power of literature. The satirical Northanger Abbey pokes fun at the gothic novel while earnestly emphasizing caution to the female sex. PERSUASION Called a “perfect novel” by Harold Bloom, Persuasion was written while Jane Austen was in failing health. She died soon after its completion, and it was published in an edition with Northanger Abbey in 1818. In the novel, Anne Elliot, the heroine Austen called “almost too good for me,” has let herself be persuaded not to marry Frederick Wentworth, a fine and attractive man without means. Eight years later, Captain Wentworth returns from the Napoleonic Wars with a triumphant naval career behind him, a substantial fortune to his name, and an eagerness to wed. Austen explores the complexities of human relationships as they change over time. Persuasion is the last work of one of the greatest of novelists, the end of a quiet career pursued in anonymity in rural England that produced novels which continue to give pleasure to millions of readers throughout the world.\n",
            "----------------------------------------\n"
          ]
        }
      ]
    },
    {
      "cell_type": "markdown",
      "source": [
        "Perform consolidation function on full data."
      ],
      "metadata": {
        "id": "1FBhW0NGw4T1"
      }
    },
    {
      "cell_type": "code",
      "source": [
        "consolidated_df = consolidate_book_versions(merged_df)"
      ],
      "metadata": {
        "id": "FGRZePb0xSFJ"
      },
      "execution_count": 27,
      "outputs": []
    },
    {
      "cell_type": "code",
      "source": [
        "consolidated_df.shape"
      ],
      "metadata": {
        "colab": {
          "base_uri": "https://localhost:8080/"
        },
        "id": "SMT-0yWTxf1W",
        "outputId": "d7295025-ac1a-42d7-ca55-80088ef2382e"
      },
      "execution_count": 28,
      "outputs": [
        {
          "output_type": "execute_result",
          "data": {
            "text/plain": [
              "(1706525, 22)"
            ]
          },
          "metadata": {},
          "execution_count": 28
        }
      ]
    },
    {
      "cell_type": "markdown",
      "source": [
        "## SECTION 2.4: FILTERING DOWN BY REVIEWS PER USER"
      ],
      "metadata": {
        "id": "jvDu5WkBxM6g"
      }
    },
    {
      "cell_type": "code",
      "source": [
        "def filter_by_user_reviews(df, min_reviews=10):\n",
        "    \"\"\"\n",
        "    Filter dataframe to keep only users with at least min_reviews reviews.\n",
        "\n",
        "    Args:\n",
        "        df: DataFrame containing user reviews\n",
        "        min_reviews: Minimum number of reviews required per user\n",
        "\n",
        "    Returns:\n",
        "        DataFrame containing only users with sufficient reviews\n",
        "    \"\"\"\n",
        "    # Count reviews per user\n",
        "    user_review_counts = df['user_id'].value_counts()\n",
        "\n",
        "    # Get users who meet the threshold\n",
        "    qualified_users = user_review_counts[user_review_counts >= min_reviews].index\n",
        "\n",
        "    # Filter the dataframe\n",
        "    filtered_df = df[df['user_id'].isin(qualified_users)]\n",
        "\n",
        "    # Calculate statistics\n",
        "    original_num_users = df['user_id'].nunique()\n",
        "    remaining_num_users = filtered_df['user_id'].nunique()\n",
        "    original_num_reviews = len(df)\n",
        "    remaining_num_reviews = len(filtered_df)\n",
        "    original_num_titles = df['title'].nunique()\n",
        "    remaining_num_titles = filtered_df['title'].nunique()\n",
        "    original_num_authors = df['authors'].nunique()\n",
        "    remaining_num_authors = filtered_df['authors'].nunique()\n",
        "\n",
        "    # Print statistics\n",
        "    print(f\"Original number of users: {original_num_users:,}\")\n",
        "    print(f\"Users with {min_reviews}+ reviews: {remaining_num_users:,}\")\n",
        "    print(f\"Original number of reviews: {original_num_reviews:,}\")\n",
        "    print(f\"Remaining reviews: {remaining_num_reviews:,}\")\n",
        "    print(f\"Original number of unique titles: {original_num_titles:,}\")\n",
        "    print(f\"Remaining unique titles: {remaining_num_titles:,}\")\n",
        "    print(f\"Original number of unique authors: {original_num_authors:,}\")\n",
        "    print(f\"Remaining unique authors: {remaining_num_authors:,}\")\n",
        "\n",
        "    return filtered_df\n"
      ],
      "metadata": {
        "id": "tiDe9vma0VLo"
      },
      "execution_count": 29,
      "outputs": []
    },
    {
      "cell_type": "code",
      "source": [
        "filtered_df = filter_by_user_reviews(consolidated_df,10)\n"
      ],
      "metadata": {
        "colab": {
          "base_uri": "https://localhost:8080/"
        },
        "id": "bJhdBDrAzTSs",
        "outputId": "2eb50356-4f40-4986-a3ef-55e7d7e3af7d"
      },
      "execution_count": 30,
      "outputs": [
        {
          "output_type": "stream",
          "name": "stdout",
          "text": [
            "Original number of users: 850,181\n",
            "Users with 10+ reviews: 14,402\n",
            "Original number of reviews: 1,706,525\n",
            "Remaining reviews: 397,950\n",
            "Original number of unique titles: 143,962\n",
            "Remaining unique titles: 73,239\n",
            "Original number of unique authors: 101,368\n",
            "Remaining unique authors: 50,757\n"
          ]
        }
      ]
    },
    {
      "cell_type": "markdown",
      "source": [
        "## SECTION 2.4: IMPUTING MISSING CATEGORIES"
      ],
      "metadata": {
        "id": "a_YFI-0o6o3o"
      }
    },
    {
      "cell_type": "code",
      "source": [
        "import pandas as pd\n",
        "import numpy as np\n",
        "\n",
        "from sentence_transformers import SentenceTransformer\n",
        "from sklearn.metrics.pairwise import cosine_similarity\n",
        "from collections import defaultdict\n"
      ],
      "metadata": {
        "id": "IcqvR0cu7SOO"
      },
      "execution_count": 74,
      "outputs": []
    },
    {
      "cell_type": "code",
      "source": [
        "def extract_categories(cat_string):\n",
        "    \"\"\"\n",
        "    Safely parse categories from string that may look like: \"['Fiction','Romance']\" etc.\n",
        "    \"\"\"\n",
        "    if pd.isna(cat_string):\n",
        "        return []\n",
        "    try:\n",
        "        # Remove brackets and split by comma\n",
        "        cats = cat_string.strip('[]').replace(\"'\", \"\").split(',')\n",
        "        return [c.strip() for c in cats if c.strip() != \"\"]\n",
        "    except:\n",
        "        return []\n",
        "\n",
        "def create_category_embeddings(filtered_df, all_embeddings, min_examples=20):\n",
        "    \"\"\"\n",
        "    Create average embeddings for each category by:\n",
        "      1. Exploding categories into long-form (one row per (book, category)).\n",
        "      2. Summing & counting embeddings by category.\n",
        "      3. Returning a dictionary of { category_name: embedding_vector }.\n",
        "\n",
        "    filtered_df must have:\n",
        "      - 'parsed_categories' (list of str)\n",
        "      - 'embedding_idx' (int index into all_embeddings)\n",
        "    \"\"\"\n",
        "    # Only keep rows with at least one category and a valid embedding_idx\n",
        "    valid_books = filtered_df[\n",
        "        (filtered_df['parsed_categories'].notna()) &\n",
        "        (filtered_df['parsed_categories'].str.len() > 0) &\n",
        "        (filtered_df['embedding_idx'].notna())\n",
        "    ].copy()\n",
        "\n",
        "    # Explode to long form\n",
        "    exploded_df = valid_books.explode('parsed_categories')\n",
        "\n",
        "    # Group by category to collect embedding indices\n",
        "    cat2idx_series = exploded_df.groupby('parsed_categories')['embedding_idx'].apply(list)\n",
        "\n",
        "    sum_dict = {}\n",
        "    count_dict = {}\n",
        "\n",
        "    if len(cat2idx_series) > 0:\n",
        "        first_cat = cat2idx_series.index[0]\n",
        "        first_idx_list = cat2idx_series.iloc[0]\n",
        "        if len(first_idx_list) > 0:\n",
        "            vector_dim = all_embeddings[first_idx_list[0]].shape[0]\n",
        "        else:\n",
        "            vector_dim = all_embeddings.shape[1]\n",
        "    else:\n",
        "        # No valid categories at all\n",
        "        return {}\n",
        "\n",
        "    # Accumulate sums and counts\n",
        "    for cat, idx_list in cat2idx_series.items():\n",
        "        # Grab embeddings for these indices\n",
        "        arr_stack = all_embeddings[idx_list, :]\n",
        "        sum_dict[cat] = arr_stack.sum(axis=0)\n",
        "        count_dict[cat] = arr_stack.shape[0]\n",
        "\n",
        "    # Create final centroids\n",
        "    category_centroids = {}\n",
        "    for cat, total_vec in sum_dict.items():\n",
        "        cnt = count_dict[cat]\n",
        "        if cnt >= min_examples:\n",
        "            category_centroids[cat] = total_vec / cnt\n",
        "\n",
        "    return category_centroids\n",
        "\n",
        "def assign_categories(filtered_df, category_centroids, all_embeddings, threshold=0.6, top_k=1):\n",
        "    \"\"\"\n",
        "    Assign categories to books that are missing categories, by:\n",
        "      1. Computing cosine similarity to each centroid using all_embeddings.\n",
        "      2. Assigning categories above threshold.\n",
        "      3. If none pass threshold, assign top_k categories.\n",
        "\n",
        "    filtered_df must have:\n",
        "      - 'categories'\n",
        "      - 'embedding_idx'\n",
        "    \"\"\"\n",
        "    # Identify uncategorized books that have a valid embedding_idx\n",
        "    mask = filtered_df['categories'].isna() & (filtered_df['embedding_idx'].notna())\n",
        "    uncategorized_books = filtered_df[mask].copy()\n",
        "    if uncategorized_books.empty:\n",
        "        return pd.Series([None]*0, index=[])\n",
        "\n",
        "    # Build matrix of category centroids\n",
        "    all_cats = list(category_centroids.keys())\n",
        "    cat_matrix = np.stack([category_centroids[c] for c in all_cats], axis=0)\n",
        "\n",
        "    # Extract embedding rows for the uncategorized books\n",
        "    idx_array = uncategorized_books['embedding_idx'].values\n",
        "    desc_embeddings = all_embeddings[idx_array, :]\n",
        "\n",
        "    # Compute pairwise similarities\n",
        "    cos_sims = cosine_similarity(desc_embeddings, cat_matrix)\n",
        "\n",
        "    assigned_categories = []\n",
        "    for i in range(cos_sims.shape[0]):\n",
        "        row_sims = cos_sims[i]\n",
        "        # Find all categories above threshold\n",
        "        cat_indices = np.where(row_sims >= threshold)[0]\n",
        "\n",
        "        if len(cat_indices) > 0:\n",
        "            assigned = [all_cats[j] for j in cat_indices]\n",
        "        else:\n",
        "            # If none exceed threshold, pick top_k\n",
        "            top_indices = np.argsort(-row_sims)[:top_k]\n",
        "            assigned = [all_cats[j] for j in top_indices]\n",
        "\n",
        "        assigned_categories.append(assigned)\n",
        "\n",
        "    return pd.Series(assigned_categories, index=uncategorized_books.index)\n"
      ],
      "metadata": {
        "id": "jYbp9ZlB5HWu"
      },
      "execution_count": 75,
      "outputs": []
    },
    {
      "cell_type": "code",
      "source": [
        "#model = SentenceTransformer('all-mpnet-base-v2', device='cuda')\n",
        "model = SentenceTransformer('all-MiniLM-L6-v2', device='cuda') # smaller model"
      ],
      "metadata": {
        "id": "8x41iZzLjYw_"
      },
      "execution_count": 76,
      "outputs": []
    },
    {
      "cell_type": "code",
      "source": [
        "import torch\n",
        "print(\"CUDA available:\", torch.cuda.is_available())\n",
        "print(\"Current device:\", torch.cuda.current_device())\n",
        "print(\"Device name:\", torch.cuda.get_device_name(0))"
      ],
      "metadata": {
        "colab": {
          "base_uri": "https://localhost:8080/"
        },
        "id": "jOKNckVBoLoY",
        "outputId": "f2c5689f-1ea2-45b7-8533-d5ca1376ccfc"
      },
      "execution_count": 77,
      "outputs": [
        {
          "output_type": "stream",
          "name": "stdout",
          "text": [
            "CUDA available: True\n",
            "Current device: 0\n",
            "Device name: NVIDIA A100-SXM4-40GB\n"
          ]
        }
      ]
    },
    {
      "cell_type": "code",
      "source": [
        "# Parse categories into a new column\n",
        "filtered_df['parsed_categories'] = filtered_df['categories'].apply(extract_categories)\n",
        "\n",
        "# Create column for embedding indices\n",
        "filtered_df['embedding_idx'] = np.arange(len(filtered_df))\n",
        "\n",
        "descriptions = filtered_df['description'].fillna(\"\").tolist()\n",
        "all_embeddings = model.encode(\n",
        "    descriptions,\n",
        "    batch_size=2048,\n",
        "    show_progress_bar=True,\n",
        "    convert_to_numpy=True\n",
        ")\n"
      ],
      "metadata": {
        "colab": {
          "base_uri": "https://localhost:8080/",
          "height": 49,
          "referenced_widgets": [
            "1fbf32a7cc714daeaad72ca5ec4abca7",
            "b5e57ee73e8340248ef5a3e9f49faf3d",
            "cb3cc3254d56438183bb0b4d56d5cbda",
            "541d9b536a664b0794dde3f007cae655",
            "8844129f95fd4b53a9f95e1b9d9c679b",
            "817468254eb044878fc31994dea538c1",
            "2b2d5541065b44fab79d4151e7117590",
            "503ce6591a0047d5ac08ac07fcd5dbbc",
            "85581449e7cd43d288030dc3e793ed30",
            "3eb33825f54445808fd24ebd084900e1",
            "df233990cf7c4dd689c570d257d48c95"
          ]
        },
        "id": "JiF0iLtc61g_",
        "outputId": "95f08e78-59ec-478a-fac2-dd9480fe1e57"
      },
      "execution_count": 78,
      "outputs": [
        {
          "output_type": "display_data",
          "data": {
            "text/plain": [
              "Batches:   0%|          | 0/193 [00:00<?, ?it/s]"
            ],
            "application/vnd.jupyter.widget-view+json": {
              "version_major": 2,
              "version_minor": 0,
              "model_id": "1fbf32a7cc714daeaad72ca5ec4abca7"
            }
          },
          "metadata": {}
        }
      ]
    },
    {
      "cell_type": "code",
      "source": [
        "# Build category centroids using the external embedding array\n",
        "category_centroids = create_category_embeddings(filtered_df, all_embeddings, min_examples=25)\n",
        "\n",
        "# Assign categories to missing rows\n",
        "assigned_series = assign_categories(filtered_df, category_centroids, all_embeddings, threshold=0.6, top_k=1)\n"
      ],
      "metadata": {
        "id": "ZDNskPScrQI2"
      },
      "execution_count": 79,
      "outputs": []
    },
    {
      "cell_type": "code",
      "source": [
        "# Store results in a new column\n",
        "filtered_df['assigned_categories'] = None\n",
        "filtered_df.loc[assigned_series.index, 'assigned_categories'] = assigned_series\n"
      ],
      "metadata": {
        "id": "tejza57jkP9B"
      },
      "execution_count": 80,
      "outputs": []
    },
    {
      "cell_type": "code",
      "source": [
        "filtered_df = filtered_df[filtered_df['description'].notna()]\n",
        "\n",
        "# Filter rows where 'categories' is NaN and 'assigned_categories' is not NaN\n",
        "mask = (filtered_df['categories'].isna()) & (filtered_df['assigned_categories'].notna())\n",
        "missing_then_imputed = filtered_df[mask].copy()\n",
        "\n",
        "# Drop duplicate titles to ensure each book is printed only once\n",
        "unique_books = missing_then_imputed.drop_duplicates(subset='title')\n",
        "\n",
        "# Sample 50 rows from the unique books\n",
        "sample_rows = unique_books.head(10)\n",
        "\n",
        "# Iterate over the sampled rows and print details\n",
        "for idx, row in sample_rows.iterrows():\n",
        "    title = row.get('title', 'N/A')\n",
        "    description = row.get('description', 'N/A')\n",
        "    assigned_cat = row.get('assigned_categories', None)\n",
        "\n",
        "    print(\"==== Example Book ====\")\n",
        "    print(f\"Title:       {title}\")\n",
        "    print(f\"Description: {description}\")\n",
        "    print(f\"Assigned:    {assigned_cat}\\n\")\n"
      ],
      "metadata": {
        "colab": {
          "base_uri": "https://localhost:8080/"
        },
        "id": "bYeF8qGwtuQl",
        "outputId": "a78f6a0a-7434-44da-f3de-883b3d8365fd"
      },
      "execution_count": 81,
      "outputs": [
        {
          "output_type": "stream",
          "name": "stdout",
          "text": [
            "==== Example Book ====\n",
            "Title:       Dealing With Disappointment: Helping Kids Cope When Things Don't Go Their Way\n",
            "Description: Why Dragons So Angry? Despite our best efforts, reality doesn't always meet our expectations. There is no need to be upset or mad. * Anger can be a positive emotion when it helps kids work through issues or problems* Help kids learn how to manage their anger in safe and healthy ways* Teach your kids to deal with disappointment * Being angry doesn't make you bad Get this book and learn how to train your angry ! A must have book for children and parents to teach kids about emotions and anger management. Fun, cute and entertaining, this playful book will teach kids how to handle when things don't go their way. Did you know that anger isn't totally bad like we have always been taught? Children from my observation often experience strong and sudden bursts of emotion. Teaching children how to manage their emotions in a healthy way is an essential skill they need to have. This will go a long way to affect their growth and behavior in a positive way. I can assuredly tell you that helping your child navigate their emotions can sometimes feel like an enormous challenge, but it doesn't have to be. That is the main reason why I wrote this book. Get this book now and enjoy!\n",
            "Assigned:    ['Family & Relationships']\n",
            "\n",
            "==== Example Book ====\n",
            "Title:       HTML: The Complete Reference\n",
            "Description: The Definitive Guide to HTML and CSS--Fully Updated Written by a Web development expert, the fifth edition of this trusted resource has been thoroughly revised and reorganized to address HTML5, the revolutionary new Web standard. The book covers all the elements supported in today's Web browsers--from the standard (X)HTML tags to the archaic and proprietary tags that may be encountered. HTML and CSS: The Complete Reference, Fifth Edition contains full details on CSS 2.1 as well as every proprietary and emerging CSS3 property currently supported. Annotated examples of correct markup and style show you how to use all of these technologies to build impressive Web pages. Helpful appendixes cover the syntax of character entities, fonts, colors, and URLs. This comprehensive reference is an essential tool for professional Web developers. Master transitional HTML 4.01 and XHTML 1.0 markup Write emerging standards-based markup with HTML5 Enhance presentation with Cascading Style Sheets (CSS1 and CSS 2.1) Learn proprietary and emerging CSS3 features Learn how to read (X)HTML document type definitions (DTDs) Apply everything in an open standards-focused fashion Thomas A. Powell is president of PINT, Incorporated (pint.com), a nationally recognized Web agency. He developed the Web Publishing Certificate program for the University of California, San Diego Extension and is an instructor for the Computer Science Department at UCSD. He is the author of the previous bestselling editions of this book and Ajax: The Complete Reference, and co-author of JavaScript: The Complete Reference.\n",
            "Assigned:    ['Computers']\n",
            "\n",
            "==== Example Book ====\n",
            "Title:       The soul of man under socialism\n",
            "Description: The soul of man under socialism by Oscar Wilde is a fascinating libertarian socialist world-view and a critique of charity. Oscar Wilde is widely accepted as being one of the greatest authors who ever lived. This is an excellent addition to the collection and a masterful piece of literature.\n",
            "Assigned:    ['Philosophy']\n",
            "\n",
            "==== Example Book ====\n",
            "Title:       Olympic Wandering: Time Travel Through Greece\n",
            "Description: In the spirit of Lawrence Durrell and Henry Miller, Dr. David Lundberg takes us on a mystical trip through the land of the Greeks.Olympic Wandering is part historical novel, part travel narrative, and all fun. Follow Ulysses through the seldom-told adventure of his life as a young king within Greece. Then follow the author as he traces the same steps over a period of twenty years, the same time period as the Iliad and the Odyssey.In a land both ancient and modern Lundberg meets a different spirit. It displays itself in attitudes, in personalities, in temperament. It's a spirit molded not by bloodlines or genealogy but by climate and geography. The author moves through Greece, traces the footprints of Ulysses and realizes that when you look into Greek faces, you see the past and you see the future. You see eternity.Each man and each woman is an undiscovered country, a landscape of thoughts, words and gestures contained in a unique body that is inherently Greek. And every island, every beach, every village is like a person, individual and special.Seamlessly weaving history, culture and legend, Olympic Wandering frames a land of timeless scenery where the individual is still all-important.This is everyday magic!\n",
            "Assigned:    ['Travel']\n",
            "\n",
            "==== Example Book ====\n",
            "Title:       Revealing Hands: How to Read Palms\n",
            "Description: Learn to read palm in less than 24 hours! You hold your future in your hands.. you just need to read it! In learning to read the lines and formations on your palms and fingers, you will gain insight into your unique characteristics, your health issues, your money, your personality, your love life, your social skills, and many other important aspects of day-to-day life. And it's easy to learn and do! Just read this book and start reading palms. It is believed that there is a connection between astrology and palmistry and understanding it can help people interpret their future, in order to navigate accordingly. In this book, you will learn: Uncover the basics of palmistry, How to read your palms, Discover the various types of hands, and different ways they can be classified and interpreted, The secrets the fingers can reveal, Explore the different lines of your palms and their meaning, Discover the importance of shapes that can hide in your hands and fingers, where to find them, and what they say about a person's temperament and their future, learn how palmists make connections between the parts of the hand with the various celestial bodies and signs of the zodiac, Uncover how to use all these factors to bring everything together to foretell your fate and start reading palms of friends and family. Scroll back up and grab your copy today!\n",
            "Assigned:    ['Body']\n",
            "\n",
            "==== Example Book ====\n",
            "Title:       Dirt Rich\n",
            "Description: Real estate investment is nothing new, but attaining financial freedom through property without ever having to deal with the headaches of renters, renovations, or rodents isn't something you hear about every day. Yet with Mark Podolsky's tried-and-true technique of raw land investment, you can become Dirt Rich without ever having to battle with a tenant, toilet, or termite. In this step-by-step guide, Mark breaks down his \"ultimate subscription model\" for creating passive income through the niche of raw land investment. Featuring details on common pitfalls, tips on cultivating an investor's mind, and advice on working smart instead of hard, this handbook will show you how to obtain a life of fiscal independence, with the flexibility to work where you want, when you want, and with whom you want. Financial freedom is within your reach. It's time to make your dreams a reality by starting to think dirty.\n",
            "Assigned:    ['Business & Economics']\n",
            "\n",
            "==== Example Book ====\n",
            "Title:       Stuck with You (Time of Your Life)\n",
            "Description: \"If you need a dose of upbeat medicine - this is it.\" TONY CAMPOLO, PHD - EASTERN UNIVERSITY \"A book that sizzles with wisdom. Tremendous thoughts to rekindle the fires of a servant.\" CHARLES \"TREMENDOUS\" JONES, AUTHOR OF Life Is Tremendous \"This book reminds you to become your best. Uplifting and easy reading.\" DAVID C. BENTALL-NEXT STEP FAMILY CONSULTING \"Read this book from cover to cover. It is a must for anyone wanting to feel hopeful, inspired, energized. Greg not only talks the talk, he walks the walk.\" VALERIE CADE, CSP, AUTHOR OF Bully Free At Work \"If you need a book on vision - this is a must. I have used Greg's book in speeches, lectures and sermons. Absolutely fantastic!\" REV. DR. KARL KELLER, PASTOR - LUTHERAN CHURCH OF CANADA\n",
            "Assigned:    ['Self-Help']\n",
            "\n",
            "==== Example Book ====\n",
            "Title:       Dumb witness\n",
            "Description: An elderly spinster has been poisoned in her country home...Everyone blamed Emily's accident on a rubber ball left on the stairs by her frisky terrier. But the more she thought about her fall, the more convinced she became that one of her relatives was trying to kill her.On April 17th she wrote her suspicions in a letter to Hercule Poirot. Mysteriously he didn't receive the letter until June 28th... by which time Emily was already dead...\n",
            "Assigned:    ['Detective and mystery stories']\n",
            "\n",
            "==== Example Book ====\n",
            "Title:       Joy (Fruit of the Spirit)\n",
            "Description: The Fruits of the Spirit series - Volume Four\n",
            "Assigned:    ['Body', 'Mind & Spirit']\n",
            "\n",
            "==== Example Book ====\n",
            "Title:       DARK ANGEL NIGHT WORLD 4\n",
            "Description: The night world is not a place - it is a secret society of vampires, werewolves and witches. Night worlders must never let humans find out the night world exists, and they must never fall in love. This is the story of what happens when the rules are broken.\n",
            "Assigned:    ['High interest-low vocabulary books']\n",
            "\n"
          ]
        }
      ]
    },
    {
      "cell_type": "code",
      "source": [
        "filtered_df['assigned_categories'] = filtered_df['assigned_categories'].where(\n",
        "    filtered_df['assigned_categories'].notna(), filtered_df['categories']\n",
        ")\n"
      ],
      "metadata": {
        "id": "hCPXQHPnEn92"
      },
      "execution_count": 96,
      "outputs": []
    },
    {
      "cell_type": "markdown",
      "source": [
        "##  SECTION 2.5 CATEGORY DIMENSIONALITY REDUCTION\n"
      ],
      "metadata": {
        "id": "qok-QvI015Fh"
      }
    },
    {
      "cell_type": "markdown",
      "source": [
        "We have over 10k unique categories and a distribution with a long tail. We can reduce this number by clustering similar categories..."
      ],
      "metadata": {
        "id": "_vtYcjI82G8w"
      }
    },
    {
      "cell_type": "code",
      "source": [
        "from sentence_transformers import SentenceTransformer\n",
        "from sklearn.cluster import AgglomerativeClustering\n",
        "from sklearn.decomposition import PCA\n",
        "from scipy.spatial.distance import cdist"
      ],
      "metadata": {
        "id": "UzA5CmOr2P_a"
      },
      "execution_count": 156,
      "outputs": []
    },
    {
      "cell_type": "code",
      "source": [
        "def extract_categories(cat_string):\n",
        "    \"\"\"\n",
        "    Extract categories from a string or return the input if it's already a list.\n",
        "    \"\"\"\n",
        "    if isinstance(cat_string, list):\n",
        "        # If it's already a list, return it as-is\n",
        "        return cat_string\n",
        "    if pd.isna(cat_string):\n",
        "        return []\n",
        "    try:\n",
        "        # Remove brackets and split by commas for string representations of lists\n",
        "        cats = cat_string.strip('[]').replace(\"'\", \"\").split(',')\n",
        "        return [c.strip() for c in cats if c.strip() != \"\"]\n",
        "    except:\n",
        "        return []\n",
        "\n",
        "# Fix: Handle lists directly in assigned_categories\n",
        "all_cats = []\n",
        "for cats in filtered_df['assigned_categories'].dropna():\n",
        "    all_cats.extend(extract_categories(cats))\n",
        "\n",
        "# Count category frequencies\n",
        "category_counts = pd.Series(all_cats).value_counts()\n",
        "unique_categories = list(category_counts.index)\n",
        "\n",
        "print(f\"Number of unique categories: {len(unique_categories)}\")\n",
        "\n"
      ],
      "metadata": {
        "colab": {
          "base_uri": "https://localhost:8080/"
        },
        "id": "JK0vBj0m2P44",
        "outputId": "b71f4dd8-53f7-444f-d3c4-d9c434eb364f"
      },
      "execution_count": 157,
      "outputs": [
        {
          "output_type": "stream",
          "name": "stdout",
          "text": [
            "Number of unique categories: 2975\n"
          ]
        }
      ]
    },
    {
      "cell_type": "markdown",
      "source": [
        "We can use the [all-mpnet-base-v2](https://huggingface.co/sentence-transformers/all-mpnet-base-v2) sentence transformer model, which maps sentences & paragraphs to a 768 dimensional dense vector space."
      ],
      "metadata": {
        "id": "VyPfR3HL2U1B"
      }
    },
    {
      "cell_type": "code",
      "source": [
        "# Create embeddings\n",
        "\n",
        "#model = SentenceTransformer('all-MiniLM-L6-v2')\n",
        "model = SentenceTransformer('all-mpnet-base-v2')"
      ],
      "metadata": {
        "id": "EOJ3eXYr2PzJ"
      },
      "execution_count": 158,
      "outputs": []
    },
    {
      "cell_type": "code",
      "source": [
        "category_embeddings = model.encode(unique_categories)"
      ],
      "metadata": {
        "id": "3oWzjjY-2PrZ"
      },
      "execution_count": 159,
      "outputs": []
    },
    {
      "cell_type": "markdown",
      "source": [
        "We can reduce the number of dimensions using PCA. We're telling PCA to keep enough components to explain 95% of the variance in the data, rather than specifying an exact number of dimensions."
      ],
      "metadata": {
        "id": "qCyOYoq12hPD"
      }
    },
    {
      "cell_type": "code",
      "source": [
        "# Apply PCA for dimensionality reduction\n",
        "pca = PCA(n_components=0.95)  # Keep 95% of variance\n",
        "reduced_embeddings = pca.fit_transform(category_embeddings)\n",
        "print(f\"Reduced dimensions: {reduced_embeddings.shape[1]}\")"
      ],
      "metadata": {
        "colab": {
          "base_uri": "https://localhost:8080/"
        },
        "id": "MyjIitM62PdB",
        "outputId": "9f868f43-ba45-4338-debe-0e6689a36bf5"
      },
      "execution_count": 160,
      "outputs": [
        {
          "output_type": "stream",
          "name": "stdout",
          "text": [
            "Reduced dimensions: 301\n"
          ]
        }
      ]
    },
    {
      "cell_type": "markdown",
      "source": [
        "Instead of picking how many clusters we want in advance, the algorithm figures it out by seeing when merging two clusters would exceed that distance."
      ],
      "metadata": {
        "id": "hCqOiINP2qx_"
      }
    },
    {
      "cell_type": "code",
      "source": [
        "distance_threshold = 3.5"
      ],
      "metadata": {
        "id": "7WXUZWL22ljH"
      },
      "execution_count": 161,
      "outputs": []
    },
    {
      "cell_type": "code",
      "source": [
        "# Perform clustering with distance threshold\n",
        "clustering = AgglomerativeClustering(\n",
        "    n_clusters=None,\n",
        "    distance_threshold=distance_threshold,\n",
        "    linkage='ward'\n",
        ")\n",
        "cluster_labels = clustering.fit_predict(reduced_embeddings)"
      ],
      "metadata": {
        "id": "sHwjX5AM2r6d"
      },
      "execution_count": 162,
      "outputs": []
    },
    {
      "cell_type": "code",
      "source": [
        "# Build cluster summaries using most frequent category\n",
        "clusters_summary = []\n",
        "for cluster_idx in range(cluster_labels.max() + 1):\n",
        "    # Indices belonging to this cluster\n",
        "    cluster_indices = np.where(cluster_labels == cluster_idx)[0]\n",
        "    # Actual category names\n",
        "    cluster_cats = [unique_categories[i] for i in cluster_indices]\n",
        "\n",
        "    # Sort cluster categories by descending frequency\n",
        "    cluster_cats_sorted_by_freq = sorted(\n",
        "        cluster_cats,\n",
        "        key=lambda cat: category_counts[cat],\n",
        "        reverse=True\n",
        "    )\n",
        "    # Most frequent category\n",
        "    most_frequent_cat = cluster_cats_sorted_by_freq[0] if cluster_cats_sorted_by_freq else None\n",
        "\n",
        "    clusters_summary.append({\n",
        "        'cluster_id': cluster_idx,\n",
        "        'label': most_frequent_cat,\n",
        "        'size': len(cluster_cats),\n",
        "        'categories_sorted_by_freq': cluster_cats_sorted_by_freq\n",
        "    })\n"
      ],
      "metadata": {
        "id": "4cBz4h072rzB"
      },
      "execution_count": 163,
      "outputs": []
    },
    {
      "cell_type": "markdown",
      "source": [
        "Note that the clusters below have a label that just shows the most frequent category in that cluster. This label is NOT meant to indicate a \"true\" summary name for the cluster. We can tackle this later, if needed."
      ],
      "metadata": {
        "id": "cSIt3eFF2-xH"
      }
    },
    {
      "cell_type": "code",
      "source": [
        "# Sort clusters by size (descending) and display results\n",
        "clusters_summary = sorted(clusters_summary, key=lambda x: x['size'], reverse=True)\n",
        "\n",
        "# Show the top 5 categories by frequency for each cluster\n",
        "top_n = 5\n",
        "for cluster in clusters_summary:\n",
        "    top_categories = cluster['categories_sorted_by_freq'][:top_n]\n",
        "    print(f\"\\nCluster {cluster['cluster_id']} - Label: {cluster['label']}\")\n",
        "    print(f\"Size: {cluster['size']} categories\")\n",
        "    print(f\"Sample categories (top {top_n} by freq): {top_categories}\")\n",
        ""
      ],
      "metadata": {
        "colab": {
          "base_uri": "https://localhost:8080/"
        },
        "id": "gUkk7ulC2rqy",
        "outputId": "90f1d9c0-5cda-47d0-f1a7-298e334e3627"
      },
      "execution_count": 164,
      "outputs": [
        {
          "output_type": "stream",
          "name": "stdout",
          "text": [
            "\n",
            "Cluster 0 - Label: Philosophy\n",
            "Size: 181 categories\n",
            "Sample categories (top 5 by freq): ['Philosophy', 'Mind & Spirit', 'Psychology', 'Adultery', 'Design']\n",
            "\n",
            "Cluster 32 - Label: Reference\n",
            "Size: 153 categories\n",
            "Sample categories (top 5 by freq): ['Reference', 'House & Home', 'Copyright', 'Canon (Literarature)', 'Christmas stories']\n",
            "\n",
            "Cluster 19 - Label: Bildungsromans\n",
            "Size: 135 categories\n",
            "Sample categories (top 5 by freq): ['Bildungsromans', 'Ahab', 'Campion', 'Marple', 'Cadfael']\n",
            "\n",
            "Cluster 2 - Label: Fiction\n",
            "Size: 126 categories\n",
            "Sample categories (top 5 by freq): ['Fiction', 'Juvenile Fiction', 'Young Adult Fiction', 'Juvenile Nonfiction', 'FICTION']\n",
            "\n",
            "Cluster 7 - Label: Pets\n",
            "Size: 121 categories\n",
            "Sample categories (top 5 by freq): ['Pets', 'Animals', 'Predation (Biology)', 'Cats', 'Animal experimentation']\n",
            "\n",
            "Cluster 1 - Label: Pirates\n",
            "Size: 117 categories\n",
            "Sample categories (top 5 by freq): ['Pirates', 'Sea stories', 'Admirals', 'Military art and science', 'Boats and boating']\n",
            "\n",
            "Cluster 5 - Label: History\n",
            "Size: 112 categories\n",
            "Sample categories (top 5 by freq): ['History', 'Biography & Autobiography', 'Social Science', 'Totalitarianism', 'Capitalism']\n",
            "\n",
            "Cluster 11 - Label: Education\n",
            "Size: 112 categories\n",
            "Sample categories (top 5 by freq): ['Education', 'Medical', 'Technology & Engineering', 'College teachers', 'Study Aids']\n",
            "\n",
            "Cluster 3 - Label: Art\n",
            "Size: 110 categories\n",
            "Sample categories (top 5 by freq): ['Art', 'Crafts & Hobbies', 'Photography', 'Painting', 'Painters']\n",
            "\n",
            "Cluster 9 - Label: California\n",
            "Size: 110 categories\n",
            "Sample categories (top 5 by freq): ['California', 'Chicago (Ill.)', 'New Zealand\"', 'Scotland : Imaginary place)', '44 Scotland Street (Edinburgh']\n",
            "\n",
            "Cluster 10 - Label: Science\n",
            "Size: 104 categories\n",
            "Sample categories (top 5 by freq): ['Science', 'Mathematics', 'Pictorial', 'Conversion', 'Human-alien encounters']\n",
            "\n",
            "Cluster 14 - Label: France\n",
            "Size: 104 categories\n",
            "Sample categories (top 5 by freq): ['France', 'Africa', 'United States', 'England', 'Great Britain']\n",
            "\n",
            "Cluster 12 - Label: Nature\n",
            "Size: 100 categories\n",
            "Sample categories (top 5 by freq): ['Nature', 'Architecture', 'Antiques & Collectibles', 'Architects', 'Museum visitors']\n",
            "\n",
            "Cluster 21 - Label: City and town life\n",
            "Size: 100 categories\n",
            "Sample categories (top 5 by freq): ['City and town life', 'Earthsea (Imaginary place)', 'Country life', 'Narnia (Imaginary place)', 'Discworld (Imaginary place)']\n",
            "\n",
            "Cluster 29 - Label: Business & Economics\n",
            "Size: 97 categories\n",
            "Sample categories (top 5 by freq): ['Business & Economics', 'Economics', 'Businessmen', 'Developing countries', 'Consumption (Economics)']\n",
            "\n",
            "Cluster 8 - Label: Family & Relationships\n",
            "Size: 91 categories\n",
            "Sample categories (top 5 by freq): ['Family & Relationships', 'Families', 'Brothers and sisters', 'Boys', 'Man-woman relationships']\n",
            "\n",
            "Cluster 6 - Label: Travel\n",
            "Size: 81 categories\n",
            "Sample categories (top 5 by freq): ['Travel', 'Sports & Recreation', 'Games & Activities', 'Games', 'Transportation']\n",
            "\n",
            "Cluster 20 - Label: Literary Criticism\n",
            "Size: 79 categories\n",
            "Sample categories (top 5 by freq): ['Literary Criticism', 'Audiobooks', 'Literary Collections', 'High interest-low vocabulary books', 'Electronic books']\n",
            "\n",
            "Cluster 16 - Label: Religion\n",
            "Size: 73 categories\n",
            "Sample categories (top 5 by freq): ['Religion', 'Christian life', 'Christianity', 'Islam', 'Buddhism']\n",
            "\n",
            "Cluster 24 - Label: American\n",
            "Size: 72 categories\n",
            "Sample categories (top 5 by freq): ['American', 'American Dream', 'Americans', 'American\"', 'Indians of North America']\n",
            "\n",
            "Cluster 27 - Label: Baggins\n",
            "Size: 70 categories\n",
            "Sample categories (top 5 by freq): ['Baggins', 'Captain (Fictitious character)', 'Bilbo (Fictitious character)', 'Frodo (Fictitious character)', 'Frankenstein (Fictitious character)']\n",
            "\n",
            "Cluster 33 - Label: Catholics\n",
            "Size: 69 categories\n",
            "Sample categories (top 5 by freq): ['Catholics', 'Bibles', 'Bible', 'Good and evil', 'Baptists']\n",
            "\n",
            "Cluster 22 - Label: Political Science\n",
            "Size: 67 categories\n",
            "Sample categories (top 5 by freq): ['Political Science', 'Law', 'Presidents', 'Administration of estates', 'Political science']\n",
            "\n",
            "Cluster 17 - Label: Self-Help\n",
            "Size: 62 categories\n",
            "Sample categories (top 5 by freq): ['Self-Help', 'Body', 'Health & Fitness', 'Yoga', 'Hatha yoga']\n",
            "\n",
            "Cluster 23 - Label: Language Arts & Disciplines\n",
            "Size: 59 categories\n",
            "Sample categories (top 5 by freq): ['Language Arts & Disciplines', 'Foreign Language Study', 'English', 'French', 'English language']\n",
            "\n",
            "Cluster 25 - Label: Computers\n",
            "Size: 57 categories\n",
            "Sample categories (top 5 by freq): ['Computers', 'Robots', 'Civilization', 'COMPUTERS', 'Computer networks']\n",
            "\n",
            "Cluster 4 - Label: Cooking\n",
            "Size: 54 categories\n",
            "Sample categories (top 5 by freq): ['Cooking', 'Gardening', 'Cookery', 'Agriculture', 'Horticulture']\n",
            "\n",
            "Cluster 15 - Label: Drama\n",
            "Size: 52 categories\n",
            "Sample categories (top 5 by freq): ['Drama', 'Humor', 'Motion picture actors and actresses', 'American wit and humor', 'American drama']\n",
            "\n",
            "Cluster 26 - Label: 1939-1945\n",
            "Size: 52 categories\n",
            "Sample categories (top 5 by freq): ['1939-1945', '1811', '1898', '1800-1815', '1914-1918']\n",
            "\n",
            "Cluster 30 - Label: True Crime\n",
            "Size: 52 categories\n",
            "Sample categories (top 5 by freq): ['True Crime', 'Executions and executioners', 'Criminals', 'Murder', 'Attempted murder']\n",
            "\n",
            "Cluster 34 - Label: Alcoholics\n",
            "Size: 49 categories\n",
            "Sample categories (top 5 by freq): ['Alcoholics', 'Drugs', 'AIDS (Disease)', 'AReproductive health', 'Cancer']\n",
            "\n",
            "Cluster 13 - Label: World War\n",
            "Size: 44 categories\n",
            "Sample categories (top 5 by freq): ['World War', 'Battle of', 'Battle', 'Arab-Israeli conflict', 'Spanish-American War']\n",
            "\n",
            "Cluster 28 - Label: Performing Arts\n",
            "Size: 44 categories\n",
            "Sample categories (top 5 by freq): ['Performing Arts', 'Music', 'Artists', 'Rock musicians', 'Drummers (Musicians)']\n",
            "\n",
            "Cluster 31 - Label: African Americans\n",
            "Size: 27 categories\n",
            "Sample categories (top 5 by freq): ['African Americans', 'Women authors', 'African American women', 'African American men', 'African American criminals']\n",
            "\n",
            "Cluster 18 - Label: Poetry\n",
            "Size: 23 categories\n",
            "Sample categories (top 5 by freq): ['Poetry', 'English poetry', 'Epic poetry', 'American poetry', 'American poetry.']\n",
            "\n",
            "Cluster 35 - Label: \"Childrens stories\"\n",
            "Size: 16 categories\n",
            "Sample categories (top 5 by freq): ['\"Childrens stories\"', '\"Childrens stories', '\"Childrens poetry', '\"Childrens plays', '\"Childrens literature\"']\n"
          ]
        }
      ]
    },
    {
      "cell_type": "markdown",
      "source": [
        "Assigning clusters to records in the dataframe"
      ],
      "metadata": {
        "id": "BFaNYZVK55P9"
      }
    },
    {
      "cell_type": "code",
      "source": [
        "# Map cluster labels to descriptive names\n",
        "cluster_labels_to_names = {}\n",
        "for cluster in clusters_summary:\n",
        "    cluster_id = cluster['cluster_id']\n",
        "    top_categories = cluster['categories_sorted_by_freq'][:5]\n",
        "    cluster_name = f\"Cluster {cluster_id}: {top_categories}\"\n",
        "    cluster_labels_to_names[cluster_id] = cluster_name\n",
        "\n",
        "# Create a mapping from unique categories to cluster names\n",
        "category_to_cluster_name = {\n",
        "    unique_category: cluster_labels_to_names[cluster_label]\n",
        "    for unique_category, cluster_label in zip(unique_categories, cluster_labels)\n",
        "}\n"
      ],
      "metadata": {
        "id": "GVK7GxX158Gw"
      },
      "execution_count": 165,
      "outputs": []
    },
    {
      "cell_type": "code",
      "source": [
        "# Assign each record to a cluster in the DataFrame\n",
        "def assign_cluster(categories):\n",
        "    if pd.isna(categories):\n",
        "        return None  # Handle missing categories\n",
        "    parsed_categories = extract_categories(categories)\n",
        "    cluster_names = {category_to_cluster_name.get(cat, None) for cat in parsed_categories}\n",
        "    cluster_names.discard(None)  #\n",
        "    return list(cluster_names)[0] if cluster_names else None\n"
      ],
      "metadata": {
        "id": "urxA8Ir66Hr8"
      },
      "execution_count": 166,
      "outputs": []
    },
    {
      "cell_type": "markdown",
      "source": [
        "View some of the clusters"
      ],
      "metadata": {
        "id": "TwWN_IIuHPo5"
      }
    },
    {
      "cell_type": "code",
      "source": [
        "filtered_df['category_cluster'] = filtered_df['categories'].apply(assign_cluster)\n"
      ],
      "metadata": {
        "id": "cMrTSp2_6FwM"
      },
      "execution_count": 167,
      "outputs": []
    },
    {
      "cell_type": "code",
      "source": [
        "# Randomly sort the rows\n",
        "shuffled_df = filtered_df.sample(frac=1, random_state=50)"
      ],
      "metadata": {
        "id": "wKr3ctvcHi0S"
      },
      "execution_count": 168,
      "outputs": []
    },
    {
      "cell_type": "code",
      "source": [
        "shuffled_df[['title', 'assigned_categories', 'category_cluster']].head(20)\n"
      ],
      "metadata": {
        "colab": {
          "base_uri": "https://localhost:8080/",
          "height": 676
        },
        "id": "0mN4OOS9_8HV",
        "outputId": "9902fe5f-5165-453b-8484-60bfc33b3700"
      },
      "execution_count": 169,
      "outputs": [
        {
          "output_type": "execute_result",
          "data": {
            "text/plain": [
              "                                                     title  \\\n",
              "1193941                                   a dram of poison   \n",
              "1653247                           One Mississippi: A Novel   \n",
              "552784                                   Wuthering Heights   \n",
              "233285                                           Moby Dick   \n",
              "1298205                                        Logan's Run   \n",
              "398176   Jane Eyre: Complete and Unabridged (Puffin Cla...   \n",
              "628041       Forever Amber (The Greates Historical Novels)   \n",
              "1343115  How To Cook Everything: Simple Recipes for Gre...   \n",
              "164051                                  A Clockwork Orange   \n",
              "79544         Inspector Imanishi Investigates (Soho Crime)   \n",
              "1332956                                 Circle of the Moon   \n",
              "1454718  Ecclesiastical History of the English People (...   \n",
              "1183198                    Deadly Collection (Molly Doyle)   \n",
              "26317              Autobiography Of Benjamin Franklin, The   \n",
              "1135750                                The Road to Madness   \n",
              "763832                              The Power of the Actor   \n",
              "169260                                            Headlong   \n",
              "1426761                                 Men without women.   \n",
              "1340848                  Jungle (Pacemaker Classic Series)   \n",
              "1069386                                         Red Rabbit   \n",
              "\n",
              "                 assigned_categories  \\\n",
              "1193941                  ['Fiction']   \n",
              "1653247                  ['Fiction']   \n",
              "552784                  [Audiobooks]   \n",
              "233285       ['Young Adult Fiction']   \n",
              "1298205                  ['Fiction']   \n",
              "398176                   ['Fiction']   \n",
              "628041                   ['Fiction']   \n",
              "1343115                  ['Cooking']   \n",
              "164051          ['Juvenile Fiction']   \n",
              "79544                    ['Fiction']   \n",
              "1332956                  ['Fiction']   \n",
              "1454718                 ['Religion']   \n",
              "1183198                  ['Fiction']   \n",
              "26317    [Biography & Autobiography]   \n",
              "1135750                  ['Fiction']   \n",
              "763832           ['Performing Arts']   \n",
              "169260                   ['Fiction']   \n",
              "1426761                  ['Fiction']   \n",
              "1340848         ['Juvenile Fiction']   \n",
              "1069386    ['Intelligence officers']   \n",
              "\n",
              "                                          category_cluster  \n",
              "1193941  Cluster 2: ['Fiction', 'Juvenile Fiction', 'Yo...  \n",
              "1653247  Cluster 2: ['Fiction', 'Juvenile Fiction', 'Yo...  \n",
              "552784                                                None  \n",
              "233285   Cluster 2: ['Fiction', 'Juvenile Fiction', 'Yo...  \n",
              "1298205  Cluster 2: ['Fiction', 'Juvenile Fiction', 'Yo...  \n",
              "398176   Cluster 2: ['Fiction', 'Juvenile Fiction', 'Yo...  \n",
              "628041   Cluster 2: ['Fiction', 'Juvenile Fiction', 'Yo...  \n",
              "1343115  Cluster 4: ['Cooking', 'Gardening', 'Cookery',...  \n",
              "164051   Cluster 2: ['Fiction', 'Juvenile Fiction', 'Yo...  \n",
              "79544    Cluster 2: ['Fiction', 'Juvenile Fiction', 'Yo...  \n",
              "1332956  Cluster 2: ['Fiction', 'Juvenile Fiction', 'Yo...  \n",
              "1454718  Cluster 16: ['Religion', 'Christian life', 'Ch...  \n",
              "1183198  Cluster 2: ['Fiction', 'Juvenile Fiction', 'Yo...  \n",
              "26317                                                 None  \n",
              "1135750  Cluster 2: ['Fiction', 'Juvenile Fiction', 'Yo...  \n",
              "763832   Cluster 28: ['Performing Arts', 'Music', 'Arti...  \n",
              "169260   Cluster 2: ['Fiction', 'Juvenile Fiction', 'Yo...  \n",
              "1426761  Cluster 2: ['Fiction', 'Juvenile Fiction', 'Yo...  \n",
              "1340848  Cluster 2: ['Fiction', 'Juvenile Fiction', 'Yo...  \n",
              "1069386  Cluster 30: ['True Crime', 'Executions and exe...  "
            ],
            "text/html": [
              "\n",
              "  <div id=\"df-750de10a-cfa2-486f-b580-4c31bb57cca1\" class=\"colab-df-container\">\n",
              "    <div>\n",
              "<style scoped>\n",
              "    .dataframe tbody tr th:only-of-type {\n",
              "        vertical-align: middle;\n",
              "    }\n",
              "\n",
              "    .dataframe tbody tr th {\n",
              "        vertical-align: top;\n",
              "    }\n",
              "\n",
              "    .dataframe thead th {\n",
              "        text-align: right;\n",
              "    }\n",
              "</style>\n",
              "<table border=\"1\" class=\"dataframe\">\n",
              "  <thead>\n",
              "    <tr style=\"text-align: right;\">\n",
              "      <th></th>\n",
              "      <th>title</th>\n",
              "      <th>assigned_categories</th>\n",
              "      <th>category_cluster</th>\n",
              "    </tr>\n",
              "  </thead>\n",
              "  <tbody>\n",
              "    <tr>\n",
              "      <th>1193941</th>\n",
              "      <td>a dram of poison</td>\n",
              "      <td>['Fiction']</td>\n",
              "      <td>Cluster 2: ['Fiction', 'Juvenile Fiction', 'Yo...</td>\n",
              "    </tr>\n",
              "    <tr>\n",
              "      <th>1653247</th>\n",
              "      <td>One Mississippi: A Novel</td>\n",
              "      <td>['Fiction']</td>\n",
              "      <td>Cluster 2: ['Fiction', 'Juvenile Fiction', 'Yo...</td>\n",
              "    </tr>\n",
              "    <tr>\n",
              "      <th>552784</th>\n",
              "      <td>Wuthering Heights</td>\n",
              "      <td>[Audiobooks]</td>\n",
              "      <td>None</td>\n",
              "    </tr>\n",
              "    <tr>\n",
              "      <th>233285</th>\n",
              "      <td>Moby Dick</td>\n",
              "      <td>['Young Adult Fiction']</td>\n",
              "      <td>Cluster 2: ['Fiction', 'Juvenile Fiction', 'Yo...</td>\n",
              "    </tr>\n",
              "    <tr>\n",
              "      <th>1298205</th>\n",
              "      <td>Logan's Run</td>\n",
              "      <td>['Fiction']</td>\n",
              "      <td>Cluster 2: ['Fiction', 'Juvenile Fiction', 'Yo...</td>\n",
              "    </tr>\n",
              "    <tr>\n",
              "      <th>398176</th>\n",
              "      <td>Jane Eyre: Complete and Unabridged (Puffin Cla...</td>\n",
              "      <td>['Fiction']</td>\n",
              "      <td>Cluster 2: ['Fiction', 'Juvenile Fiction', 'Yo...</td>\n",
              "    </tr>\n",
              "    <tr>\n",
              "      <th>628041</th>\n",
              "      <td>Forever Amber (The Greates Historical Novels)</td>\n",
              "      <td>['Fiction']</td>\n",
              "      <td>Cluster 2: ['Fiction', 'Juvenile Fiction', 'Yo...</td>\n",
              "    </tr>\n",
              "    <tr>\n",
              "      <th>1343115</th>\n",
              "      <td>How To Cook Everything: Simple Recipes for Gre...</td>\n",
              "      <td>['Cooking']</td>\n",
              "      <td>Cluster 4: ['Cooking', 'Gardening', 'Cookery',...</td>\n",
              "    </tr>\n",
              "    <tr>\n",
              "      <th>164051</th>\n",
              "      <td>A Clockwork Orange</td>\n",
              "      <td>['Juvenile Fiction']</td>\n",
              "      <td>Cluster 2: ['Fiction', 'Juvenile Fiction', 'Yo...</td>\n",
              "    </tr>\n",
              "    <tr>\n",
              "      <th>79544</th>\n",
              "      <td>Inspector Imanishi Investigates (Soho Crime)</td>\n",
              "      <td>['Fiction']</td>\n",
              "      <td>Cluster 2: ['Fiction', 'Juvenile Fiction', 'Yo...</td>\n",
              "    </tr>\n",
              "    <tr>\n",
              "      <th>1332956</th>\n",
              "      <td>Circle of the Moon</td>\n",
              "      <td>['Fiction']</td>\n",
              "      <td>Cluster 2: ['Fiction', 'Juvenile Fiction', 'Yo...</td>\n",
              "    </tr>\n",
              "    <tr>\n",
              "      <th>1454718</th>\n",
              "      <td>Ecclesiastical History of the English People (...</td>\n",
              "      <td>['Religion']</td>\n",
              "      <td>Cluster 16: ['Religion', 'Christian life', 'Ch...</td>\n",
              "    </tr>\n",
              "    <tr>\n",
              "      <th>1183198</th>\n",
              "      <td>Deadly Collection (Molly Doyle)</td>\n",
              "      <td>['Fiction']</td>\n",
              "      <td>Cluster 2: ['Fiction', 'Juvenile Fiction', 'Yo...</td>\n",
              "    </tr>\n",
              "    <tr>\n",
              "      <th>26317</th>\n",
              "      <td>Autobiography Of Benjamin Franklin, The</td>\n",
              "      <td>[Biography &amp; Autobiography]</td>\n",
              "      <td>None</td>\n",
              "    </tr>\n",
              "    <tr>\n",
              "      <th>1135750</th>\n",
              "      <td>The Road to Madness</td>\n",
              "      <td>['Fiction']</td>\n",
              "      <td>Cluster 2: ['Fiction', 'Juvenile Fiction', 'Yo...</td>\n",
              "    </tr>\n",
              "    <tr>\n",
              "      <th>763832</th>\n",
              "      <td>The Power of the Actor</td>\n",
              "      <td>['Performing Arts']</td>\n",
              "      <td>Cluster 28: ['Performing Arts', 'Music', 'Arti...</td>\n",
              "    </tr>\n",
              "    <tr>\n",
              "      <th>169260</th>\n",
              "      <td>Headlong</td>\n",
              "      <td>['Fiction']</td>\n",
              "      <td>Cluster 2: ['Fiction', 'Juvenile Fiction', 'Yo...</td>\n",
              "    </tr>\n",
              "    <tr>\n",
              "      <th>1426761</th>\n",
              "      <td>Men without women.</td>\n",
              "      <td>['Fiction']</td>\n",
              "      <td>Cluster 2: ['Fiction', 'Juvenile Fiction', 'Yo...</td>\n",
              "    </tr>\n",
              "    <tr>\n",
              "      <th>1340848</th>\n",
              "      <td>Jungle (Pacemaker Classic Series)</td>\n",
              "      <td>['Juvenile Fiction']</td>\n",
              "      <td>Cluster 2: ['Fiction', 'Juvenile Fiction', 'Yo...</td>\n",
              "    </tr>\n",
              "    <tr>\n",
              "      <th>1069386</th>\n",
              "      <td>Red Rabbit</td>\n",
              "      <td>['Intelligence officers']</td>\n",
              "      <td>Cluster 30: ['True Crime', 'Executions and exe...</td>\n",
              "    </tr>\n",
              "  </tbody>\n",
              "</table>\n",
              "</div>\n",
              "    <div class=\"colab-df-buttons\">\n",
              "\n",
              "  <div class=\"colab-df-container\">\n",
              "    <button class=\"colab-df-convert\" onclick=\"convertToInteractive('df-750de10a-cfa2-486f-b580-4c31bb57cca1')\"\n",
              "            title=\"Convert this dataframe to an interactive table.\"\n",
              "            style=\"display:none;\">\n",
              "\n",
              "  <svg xmlns=\"http://www.w3.org/2000/svg\" height=\"24px\" viewBox=\"0 -960 960 960\">\n",
              "    <path d=\"M120-120v-720h720v720H120Zm60-500h600v-160H180v160Zm220 220h160v-160H400v160Zm0 220h160v-160H400v160ZM180-400h160v-160H180v160Zm440 0h160v-160H620v160ZM180-180h160v-160H180v160Zm440 0h160v-160H620v160Z\"/>\n",
              "  </svg>\n",
              "    </button>\n",
              "\n",
              "  <style>\n",
              "    .colab-df-container {\n",
              "      display:flex;\n",
              "      gap: 12px;\n",
              "    }\n",
              "\n",
              "    .colab-df-convert {\n",
              "      background-color: #E8F0FE;\n",
              "      border: none;\n",
              "      border-radius: 50%;\n",
              "      cursor: pointer;\n",
              "      display: none;\n",
              "      fill: #1967D2;\n",
              "      height: 32px;\n",
              "      padding: 0 0 0 0;\n",
              "      width: 32px;\n",
              "    }\n",
              "\n",
              "    .colab-df-convert:hover {\n",
              "      background-color: #E2EBFA;\n",
              "      box-shadow: 0px 1px 2px rgba(60, 64, 67, 0.3), 0px 1px 3px 1px rgba(60, 64, 67, 0.15);\n",
              "      fill: #174EA6;\n",
              "    }\n",
              "\n",
              "    .colab-df-buttons div {\n",
              "      margin-bottom: 4px;\n",
              "    }\n",
              "\n",
              "    [theme=dark] .colab-df-convert {\n",
              "      background-color: #3B4455;\n",
              "      fill: #D2E3FC;\n",
              "    }\n",
              "\n",
              "    [theme=dark] .colab-df-convert:hover {\n",
              "      background-color: #434B5C;\n",
              "      box-shadow: 0px 1px 3px 1px rgba(0, 0, 0, 0.15);\n",
              "      filter: drop-shadow(0px 1px 2px rgba(0, 0, 0, 0.3));\n",
              "      fill: #FFFFFF;\n",
              "    }\n",
              "  </style>\n",
              "\n",
              "    <script>\n",
              "      const buttonEl =\n",
              "        document.querySelector('#df-750de10a-cfa2-486f-b580-4c31bb57cca1 button.colab-df-convert');\n",
              "      buttonEl.style.display =\n",
              "        google.colab.kernel.accessAllowed ? 'block' : 'none';\n",
              "\n",
              "      async function convertToInteractive(key) {\n",
              "        const element = document.querySelector('#df-750de10a-cfa2-486f-b580-4c31bb57cca1');\n",
              "        const dataTable =\n",
              "          await google.colab.kernel.invokeFunction('convertToInteractive',\n",
              "                                                    [key], {});\n",
              "        if (!dataTable) return;\n",
              "\n",
              "        const docLinkHtml = 'Like what you see? Visit the ' +\n",
              "          '<a target=\"_blank\" href=https://colab.research.google.com/notebooks/data_table.ipynb>data table notebook</a>'\n",
              "          + ' to learn more about interactive tables.';\n",
              "        element.innerHTML = '';\n",
              "        dataTable['output_type'] = 'display_data';\n",
              "        await google.colab.output.renderOutput(dataTable, element);\n",
              "        const docLink = document.createElement('div');\n",
              "        docLink.innerHTML = docLinkHtml;\n",
              "        element.appendChild(docLink);\n",
              "      }\n",
              "    </script>\n",
              "  </div>\n",
              "\n",
              "\n",
              "<div id=\"df-f38b83f4-53fc-4657-b4d8-b8265b0e426e\">\n",
              "  <button class=\"colab-df-quickchart\" onclick=\"quickchart('df-f38b83f4-53fc-4657-b4d8-b8265b0e426e')\"\n",
              "            title=\"Suggest charts\"\n",
              "            style=\"display:none;\">\n",
              "\n",
              "<svg xmlns=\"http://www.w3.org/2000/svg\" height=\"24px\"viewBox=\"0 0 24 24\"\n",
              "     width=\"24px\">\n",
              "    <g>\n",
              "        <path d=\"M19 3H5c-1.1 0-2 .9-2 2v14c0 1.1.9 2 2 2h14c1.1 0 2-.9 2-2V5c0-1.1-.9-2-2-2zM9 17H7v-7h2v7zm4 0h-2V7h2v10zm4 0h-2v-4h2v4z\"/>\n",
              "    </g>\n",
              "</svg>\n",
              "  </button>\n",
              "\n",
              "<style>\n",
              "  .colab-df-quickchart {\n",
              "      --bg-color: #E8F0FE;\n",
              "      --fill-color: #1967D2;\n",
              "      --hover-bg-color: #E2EBFA;\n",
              "      --hover-fill-color: #174EA6;\n",
              "      --disabled-fill-color: #AAA;\n",
              "      --disabled-bg-color: #DDD;\n",
              "  }\n",
              "\n",
              "  [theme=dark] .colab-df-quickchart {\n",
              "      --bg-color: #3B4455;\n",
              "      --fill-color: #D2E3FC;\n",
              "      --hover-bg-color: #434B5C;\n",
              "      --hover-fill-color: #FFFFFF;\n",
              "      --disabled-bg-color: #3B4455;\n",
              "      --disabled-fill-color: #666;\n",
              "  }\n",
              "\n",
              "  .colab-df-quickchart {\n",
              "    background-color: var(--bg-color);\n",
              "    border: none;\n",
              "    border-radius: 50%;\n",
              "    cursor: pointer;\n",
              "    display: none;\n",
              "    fill: var(--fill-color);\n",
              "    height: 32px;\n",
              "    padding: 0;\n",
              "    width: 32px;\n",
              "  }\n",
              "\n",
              "  .colab-df-quickchart:hover {\n",
              "    background-color: var(--hover-bg-color);\n",
              "    box-shadow: 0 1px 2px rgba(60, 64, 67, 0.3), 0 1px 3px 1px rgba(60, 64, 67, 0.15);\n",
              "    fill: var(--button-hover-fill-color);\n",
              "  }\n",
              "\n",
              "  .colab-df-quickchart-complete:disabled,\n",
              "  .colab-df-quickchart-complete:disabled:hover {\n",
              "    background-color: var(--disabled-bg-color);\n",
              "    fill: var(--disabled-fill-color);\n",
              "    box-shadow: none;\n",
              "  }\n",
              "\n",
              "  .colab-df-spinner {\n",
              "    border: 2px solid var(--fill-color);\n",
              "    border-color: transparent;\n",
              "    border-bottom-color: var(--fill-color);\n",
              "    animation:\n",
              "      spin 1s steps(1) infinite;\n",
              "  }\n",
              "\n",
              "  @keyframes spin {\n",
              "    0% {\n",
              "      border-color: transparent;\n",
              "      border-bottom-color: var(--fill-color);\n",
              "      border-left-color: var(--fill-color);\n",
              "    }\n",
              "    20% {\n",
              "      border-color: transparent;\n",
              "      border-left-color: var(--fill-color);\n",
              "      border-top-color: var(--fill-color);\n",
              "    }\n",
              "    30% {\n",
              "      border-color: transparent;\n",
              "      border-left-color: var(--fill-color);\n",
              "      border-top-color: var(--fill-color);\n",
              "      border-right-color: var(--fill-color);\n",
              "    }\n",
              "    40% {\n",
              "      border-color: transparent;\n",
              "      border-right-color: var(--fill-color);\n",
              "      border-top-color: var(--fill-color);\n",
              "    }\n",
              "    60% {\n",
              "      border-color: transparent;\n",
              "      border-right-color: var(--fill-color);\n",
              "    }\n",
              "    80% {\n",
              "      border-color: transparent;\n",
              "      border-right-color: var(--fill-color);\n",
              "      border-bottom-color: var(--fill-color);\n",
              "    }\n",
              "    90% {\n",
              "      border-color: transparent;\n",
              "      border-bottom-color: var(--fill-color);\n",
              "    }\n",
              "  }\n",
              "</style>\n",
              "\n",
              "  <script>\n",
              "    async function quickchart(key) {\n",
              "      const quickchartButtonEl =\n",
              "        document.querySelector('#' + key + ' button');\n",
              "      quickchartButtonEl.disabled = true;  // To prevent multiple clicks.\n",
              "      quickchartButtonEl.classList.add('colab-df-spinner');\n",
              "      try {\n",
              "        const charts = await google.colab.kernel.invokeFunction(\n",
              "            'suggestCharts', [key], {});\n",
              "      } catch (error) {\n",
              "        console.error('Error during call to suggestCharts:', error);\n",
              "      }\n",
              "      quickchartButtonEl.classList.remove('colab-df-spinner');\n",
              "      quickchartButtonEl.classList.add('colab-df-quickchart-complete');\n",
              "    }\n",
              "    (() => {\n",
              "      let quickchartButtonEl =\n",
              "        document.querySelector('#df-f38b83f4-53fc-4657-b4d8-b8265b0e426e button');\n",
              "      quickchartButtonEl.style.display =\n",
              "        google.colab.kernel.accessAllowed ? 'block' : 'none';\n",
              "    })();\n",
              "  </script>\n",
              "</div>\n",
              "\n",
              "    </div>\n",
              "  </div>\n"
            ],
            "application/vnd.google.colaboratory.intrinsic+json": {
              "type": "dataframe",
              "summary": "{\n  \"name\": \"shuffled_df[['title', 'assigned_categories', 'category_cluster']]\",\n  \"rows\": 20,\n  \"fields\": [\n    {\n      \"column\": \"title\",\n      \"properties\": {\n        \"dtype\": \"string\",\n        \"num_unique_values\": 20,\n        \"samples\": [\n          \"a dram of poison\",\n          \"Men without women.\",\n          \"The Power of the Actor\"\n        ],\n        \"semantic_type\": \"\",\n        \"description\": \"\"\n      }\n    },\n    {\n      \"column\": \"assigned_categories\",\n      \"properties\": {\n        \"dtype\": \"object\",\n        \"semantic_type\": \"\",\n        \"description\": \"\"\n      }\n    },\n    {\n      \"column\": \"category_cluster\",\n      \"properties\": {\n        \"dtype\": \"category\",\n        \"num_unique_values\": 5,\n        \"samples\": [\n          \"Cluster 4: ['Cooking', 'Gardening', 'Cookery', 'Agriculture', 'Horticulture']\",\n          \"Cluster 30: ['True Crime', 'Executions and executioners', 'Criminals', 'Murder', 'Attempted murder']\",\n          \"Cluster 16: ['Religion', 'Christian life', 'Christianity', 'Islam', 'Buddhism']\"\n        ],\n        \"semantic_type\": \"\",\n        \"description\": \"\"\n      }\n    }\n  ]\n}"
            }
          },
          "metadata": {},
          "execution_count": 169
        }
      ]
    },
    {
      "cell_type": "markdown",
      "source": [
        "## SECTION 2.6: EXPORT CLEAN DATA"
      ],
      "metadata": {
        "id": "3GAIP0u0tAmK"
      }
    },
    {
      "cell_type": "code",
      "source": [
        "def analyze_null_values(df, dataset_name=\"Dataset\"):\n",
        "    \"\"\"\n",
        "    Analyze and display null values in each column of a dataframe.\n",
        "\n",
        "    Args:\n",
        "        df (pd.DataFrame): Input dataframe\n",
        "        dataset_name (str): Name of dataset for display purposes\n",
        "\n",
        "    Returns:\n",
        "        pd.Series: Percentage of null values per column\n",
        "    \"\"\"\n",
        "    # Calculate null percentages\n",
        "    null_percentages = (df.isnull().sum() / len(df) * 100).round(2)\n",
        "\n",
        "    # Create a summary dataframe\n",
        "    null_summary = pd.DataFrame({\n",
        "        'Column': null_percentages.index,\n",
        "        'Null Count': df.isnull().sum(),\n",
        "        'Null %': null_percentages,\n",
        "        'Data Type': df.dtypes\n",
        "    })\n",
        "\n",
        "    # Sort by null percentage descending\n",
        "    null_summary = null_summary.sort_values('Null %', ascending=False)\n",
        "\n",
        "    print(f\"\\n{dataset_name} Null Value Analysis:\")\n",
        "    print(\"-\" * 80)\n",
        "    print(null_summary)\n",
        "    print(\"-\" * 80)\n",
        "    print(f\"Total rows in dataset: {len(df):,}\")\n",
        "\n",
        "    return null_summary\n"
      ],
      "metadata": {
        "id": "eOTKjD_Xl42S"
      },
      "execution_count": 170,
      "outputs": []
    },
    {
      "cell_type": "code",
      "source": [
        "filtered_nulls = analyze_null_values(filtered_df, \"Reviews\")"
      ],
      "metadata": {
        "colab": {
          "base_uri": "https://localhost:8080/"
        },
        "id": "A6cAQPTRtRFa",
        "outputId": "e4fe0bf8-2630-45c5-c986-80a59288020c"
      },
      "execution_count": 171,
      "outputs": [
        {
          "output_type": "stream",
          "name": "stdout",
          "text": [
            "\n",
            "Reviews Null Value Analysis:\n",
            "--------------------------------------------------------------------------------\n",
            "                                  Column  Null Count  Null % Data Type\n",
            "price                              price      337803   85.52   float64\n",
            "ratings_count              ratings_count      133717   33.85   float64\n",
            "publisher                      publisher       30443    7.71    object\n",
            "category_cluster        category_cluster       15677    3.97    object\n",
            "categories                    categories       15677    3.97    object\n",
            "image                              image       11573    2.93    object\n",
            "publish_year                publish_year        1532    0.39     Int64\n",
            "published_date            published_date        1188    0.30    object\n",
            "review_summary            review_summary          35    0.01    object\n",
            "title                              title           0    0.00    object\n",
            "review_text                  review_text           0    0.00    object\n",
            "review_time                  review_time           0    0.00    object\n",
            "review_score                review_score           0    0.00   float64\n",
            "review_helpfulness    review_helpfulness           0    0.00    object\n",
            "user_id                          user_id           0    0.00    object\n",
            "profile_name                profile_name           0    0.00    object\n",
            "id                                    id           0    0.00    object\n",
            "preview_link                preview_link           0    0.00    object\n",
            "info_link                      info_link           0    0.00    object\n",
            "description                  description           0    0.00    object\n",
            "authors                          authors           0    0.00    object\n",
            "standard_title            standard_title           0    0.00    object\n",
            "primary_author            primary_author           0    0.00    object\n",
            "parsed_categories      parsed_categories           0    0.00    object\n",
            "embedding_idx              embedding_idx           0    0.00     int64\n",
            "assigned_categories  assigned_categories           0    0.00    object\n",
            "--------------------------------------------------------------------------------\n",
            "Total rows in dataset: 394,985\n"
          ]
        }
      ]
    },
    {
      "cell_type": "code",
      "source": [
        "num_unique_users = filtered_df[\"user_id\"].nunique()\n",
        "print(\"Number of unique user IDs:\", num_unique_users)"
      ],
      "metadata": {
        "colab": {
          "base_uri": "https://localhost:8080/"
        },
        "id": "Vdl2JKdRwjT9",
        "outputId": "d46c1b97-c250-4c61-9635-f70055fb6036"
      },
      "execution_count": 173,
      "outputs": [
        {
          "output_type": "stream",
          "name": "stdout",
          "text": [
            "Number of unique user IDs: 14402\n"
          ]
        }
      ]
    },
    {
      "cell_type": "markdown",
      "source": [
        "Dropping columns we don't need"
      ],
      "metadata": {
        "id": "7rJ_YM8jtT6H"
      }
    },
    {
      "cell_type": "code",
      "source": [
        "drop_columns = ['price','ratings_count','publisher','image','published_date','info_link','preview_link','profile_name']\n",
        "\n",
        "filtered_df = filtered_df.drop(columns=drop_columns)\n"
      ],
      "metadata": {
        "id": "WiIybCwUyKm6"
      },
      "execution_count": 174,
      "outputs": []
    },
    {
      "cell_type": "markdown",
      "source": [
        "Re-ordering columns"
      ],
      "metadata": {
        "id": "QTF-04d8yIhD"
      }
    },
    {
      "cell_type": "code",
      "source": [
        "filtered_df.drop(columns=['assigned_categories'], inplace=True, errors='ignore')\n",
        "\n",
        "new_col_order = [\n",
        "    'id',\n",
        "    'user_id',\n",
        "    'title',\n",
        "    'standard_title',\n",
        "    'authors',\n",
        "    'primary_author',\n",
        "    'categories',\n",
        "    'parsed_categories',\n",
        "    'category_cluster',\n",
        "    'publish_year',\n",
        "    'review_helpfulness',\n",
        "    'review_score',\n",
        "    'review_time',\n",
        "    'review_summary',\n",
        "    'review_text',\n",
        "    'description',\n",
        "    'embedding_idx'\n",
        "]\n",
        "\n",
        "filtered_df = filtered_df.reindex(columns=new_col_order)\n"
      ],
      "metadata": {
        "id": "7cquo9CGxCzj"
      },
      "execution_count": 175,
      "outputs": []
    },
    {
      "cell_type": "markdown",
      "source": [
        "Looking at the final dataframe"
      ],
      "metadata": {
        "id": "KhHCsYxmtcym"
      }
    },
    {
      "cell_type": "code",
      "source": [
        "filtered_df.head()"
      ],
      "metadata": {
        "colab": {
          "base_uri": "https://localhost:8080/",
          "height": 573
        },
        "id": "z4-H2kRxxFPy",
        "outputId": "ffcd57c2-913f-4716-bb75-df246f9b6ed9"
      },
      "execution_count": 176,
      "outputs": [
        {
          "output_type": "execute_result",
          "data": {
            "text/plain": [
              "            id         user_id                                  title  \\\n",
              "0   0826414346  A30TK6U7DNS82R               Dr. Seuss: American Icon   \n",
              "2   0826414346  A2MVUWT453QH61               Dr. Seuss: American Icon   \n",
              "4   0826414346  A2F6NONFUDB6UK               Dr. Seuss: American Icon   \n",
              "5   0826414346  A14OJS0VWMOSWO               Dr. Seuss: American Icon   \n",
              "10  0829814000  A373VVEU6Z9M0N  Wonderful Worship in Smaller Churches   \n",
              "\n",
              "                           standard_title           authors primary_author  \\\n",
              "0                  dr seuss american icon    ['Philip Nel']     Philip Nel   \n",
              "2                  dr seuss american icon    ['Philip Nel']     Philip Nel   \n",
              "4                  dr seuss american icon    ['Philip Nel']     Philip Nel   \n",
              "5                  dr seuss american icon    ['Philip Nel']     Philip Nel   \n",
              "10  wonderful worship in smaller churches  ['David R. Ray']   David R. Ray   \n",
              "\n",
              "                       categories            parsed_categories  \\\n",
              "0   ['Biography & Autobiography']  [Biography & Autobiography]   \n",
              "2   ['Biography & Autobiography']  [Biography & Autobiography]   \n",
              "4   ['Biography & Autobiography']  [Biography & Autobiography]   \n",
              "5   ['Biography & Autobiography']  [Biography & Autobiography]   \n",
              "10                   ['Religion']                   [Religion]   \n",
              "\n",
              "                                     category_cluster  publish_year  \\\n",
              "0   Cluster 5: ['History', 'Biography & Autobiogra...          2005   \n",
              "2   Cluster 5: ['History', 'Biography & Autobiogra...          2005   \n",
              "4   Cluster 5: ['History', 'Biography & Autobiogra...          2005   \n",
              "5   Cluster 5: ['History', 'Biography & Autobiogra...          2005   \n",
              "10  Cluster 16: ['Religion', 'Christian life', 'Ch...          2000   \n",
              "\n",
              "   review_helpfulness  review_score review_time  \\\n",
              "0                  10           5.0  2004-09-21   \n",
              "2                   7           4.0  2004-07-25   \n",
              "4                   2           4.0  2005-09-20   \n",
              "5                   3           5.0  2004-11-11   \n",
              "10                  1           5.0  2010-12-08   \n",
              "\n",
              "                                       review_summary  \\\n",
              "0                                   Really Enjoyed It   \n",
              "2     Phlip Nel gives silly Seuss a serious treatment   \n",
              "4          One of America's greatest creative talents   \n",
              "5   A memorably excellent survey of Dr. Seuss' man...   \n",
              "10          Small Churches CAN Have Wonderful Worship   \n",
              "\n",
              "                                          review_text  \\\n",
              "0   I don't care much for Dr. Seuss but after read...   \n",
              "2   Theodore Seuss Geisel (1904-1991), aka &quot;D...   \n",
              "4   \"Dr. Seuss: American Icon\" by Philip Nel is a ...   \n",
              "5   Theodor Seuss Giesel was best known as 'Dr. Se...   \n",
              "10  Many small churches feel like they can not hav...   \n",
              "\n",
              "                                          description  embedding_idx  \n",
              "0   Philip Nel takes a fascinating look into the k...              0  \n",
              "2   Philip Nel takes a fascinating look into the k...              1  \n",
              "4   Philip Nel takes a fascinating look into the k...              2  \n",
              "5   Philip Nel takes a fascinating look into the k...              3  \n",
              "10  This resource includes twelve principles in un...              4  "
            ],
            "text/html": [
              "\n",
              "  <div id=\"df-afe44613-917c-447c-a981-1949c3a55d37\" class=\"colab-df-container\">\n",
              "    <div>\n",
              "<style scoped>\n",
              "    .dataframe tbody tr th:only-of-type {\n",
              "        vertical-align: middle;\n",
              "    }\n",
              "\n",
              "    .dataframe tbody tr th {\n",
              "        vertical-align: top;\n",
              "    }\n",
              "\n",
              "    .dataframe thead th {\n",
              "        text-align: right;\n",
              "    }\n",
              "</style>\n",
              "<table border=\"1\" class=\"dataframe\">\n",
              "  <thead>\n",
              "    <tr style=\"text-align: right;\">\n",
              "      <th></th>\n",
              "      <th>id</th>\n",
              "      <th>user_id</th>\n",
              "      <th>title</th>\n",
              "      <th>standard_title</th>\n",
              "      <th>authors</th>\n",
              "      <th>primary_author</th>\n",
              "      <th>categories</th>\n",
              "      <th>parsed_categories</th>\n",
              "      <th>category_cluster</th>\n",
              "      <th>publish_year</th>\n",
              "      <th>review_helpfulness</th>\n",
              "      <th>review_score</th>\n",
              "      <th>review_time</th>\n",
              "      <th>review_summary</th>\n",
              "      <th>review_text</th>\n",
              "      <th>description</th>\n",
              "      <th>embedding_idx</th>\n",
              "    </tr>\n",
              "  </thead>\n",
              "  <tbody>\n",
              "    <tr>\n",
              "      <th>0</th>\n",
              "      <td>0826414346</td>\n",
              "      <td>A30TK6U7DNS82R</td>\n",
              "      <td>Dr. Seuss: American Icon</td>\n",
              "      <td>dr seuss american icon</td>\n",
              "      <td>['Philip Nel']</td>\n",
              "      <td>Philip Nel</td>\n",
              "      <td>['Biography &amp; Autobiography']</td>\n",
              "      <td>[Biography &amp; Autobiography]</td>\n",
              "      <td>Cluster 5: ['History', 'Biography &amp; Autobiogra...</td>\n",
              "      <td>2005</td>\n",
              "      <td>10</td>\n",
              "      <td>5.0</td>\n",
              "      <td>2004-09-21</td>\n",
              "      <td>Really Enjoyed It</td>\n",
              "      <td>I don't care much for Dr. Seuss but after read...</td>\n",
              "      <td>Philip Nel takes a fascinating look into the k...</td>\n",
              "      <td>0</td>\n",
              "    </tr>\n",
              "    <tr>\n",
              "      <th>2</th>\n",
              "      <td>0826414346</td>\n",
              "      <td>A2MVUWT453QH61</td>\n",
              "      <td>Dr. Seuss: American Icon</td>\n",
              "      <td>dr seuss american icon</td>\n",
              "      <td>['Philip Nel']</td>\n",
              "      <td>Philip Nel</td>\n",
              "      <td>['Biography &amp; Autobiography']</td>\n",
              "      <td>[Biography &amp; Autobiography]</td>\n",
              "      <td>Cluster 5: ['History', 'Biography &amp; Autobiogra...</td>\n",
              "      <td>2005</td>\n",
              "      <td>7</td>\n",
              "      <td>4.0</td>\n",
              "      <td>2004-07-25</td>\n",
              "      <td>Phlip Nel gives silly Seuss a serious treatment</td>\n",
              "      <td>Theodore Seuss Geisel (1904-1991), aka &amp;quot;D...</td>\n",
              "      <td>Philip Nel takes a fascinating look into the k...</td>\n",
              "      <td>1</td>\n",
              "    </tr>\n",
              "    <tr>\n",
              "      <th>4</th>\n",
              "      <td>0826414346</td>\n",
              "      <td>A2F6NONFUDB6UK</td>\n",
              "      <td>Dr. Seuss: American Icon</td>\n",
              "      <td>dr seuss american icon</td>\n",
              "      <td>['Philip Nel']</td>\n",
              "      <td>Philip Nel</td>\n",
              "      <td>['Biography &amp; Autobiography']</td>\n",
              "      <td>[Biography &amp; Autobiography]</td>\n",
              "      <td>Cluster 5: ['History', 'Biography &amp; Autobiogra...</td>\n",
              "      <td>2005</td>\n",
              "      <td>2</td>\n",
              "      <td>4.0</td>\n",
              "      <td>2005-09-20</td>\n",
              "      <td>One of America's greatest creative talents</td>\n",
              "      <td>\"Dr. Seuss: American Icon\" by Philip Nel is a ...</td>\n",
              "      <td>Philip Nel takes a fascinating look into the k...</td>\n",
              "      <td>2</td>\n",
              "    </tr>\n",
              "    <tr>\n",
              "      <th>5</th>\n",
              "      <td>0826414346</td>\n",
              "      <td>A14OJS0VWMOSWO</td>\n",
              "      <td>Dr. Seuss: American Icon</td>\n",
              "      <td>dr seuss american icon</td>\n",
              "      <td>['Philip Nel']</td>\n",
              "      <td>Philip Nel</td>\n",
              "      <td>['Biography &amp; Autobiography']</td>\n",
              "      <td>[Biography &amp; Autobiography]</td>\n",
              "      <td>Cluster 5: ['History', 'Biography &amp; Autobiogra...</td>\n",
              "      <td>2005</td>\n",
              "      <td>3</td>\n",
              "      <td>5.0</td>\n",
              "      <td>2004-11-11</td>\n",
              "      <td>A memorably excellent survey of Dr. Seuss' man...</td>\n",
              "      <td>Theodor Seuss Giesel was best known as 'Dr. Se...</td>\n",
              "      <td>Philip Nel takes a fascinating look into the k...</td>\n",
              "      <td>3</td>\n",
              "    </tr>\n",
              "    <tr>\n",
              "      <th>10</th>\n",
              "      <td>0829814000</td>\n",
              "      <td>A373VVEU6Z9M0N</td>\n",
              "      <td>Wonderful Worship in Smaller Churches</td>\n",
              "      <td>wonderful worship in smaller churches</td>\n",
              "      <td>['David R. Ray']</td>\n",
              "      <td>David R. Ray</td>\n",
              "      <td>['Religion']</td>\n",
              "      <td>[Religion]</td>\n",
              "      <td>Cluster 16: ['Religion', 'Christian life', 'Ch...</td>\n",
              "      <td>2000</td>\n",
              "      <td>1</td>\n",
              "      <td>5.0</td>\n",
              "      <td>2010-12-08</td>\n",
              "      <td>Small Churches CAN Have Wonderful Worship</td>\n",
              "      <td>Many small churches feel like they can not hav...</td>\n",
              "      <td>This resource includes twelve principles in un...</td>\n",
              "      <td>4</td>\n",
              "    </tr>\n",
              "  </tbody>\n",
              "</table>\n",
              "</div>\n",
              "    <div class=\"colab-df-buttons\">\n",
              "\n",
              "  <div class=\"colab-df-container\">\n",
              "    <button class=\"colab-df-convert\" onclick=\"convertToInteractive('df-afe44613-917c-447c-a981-1949c3a55d37')\"\n",
              "            title=\"Convert this dataframe to an interactive table.\"\n",
              "            style=\"display:none;\">\n",
              "\n",
              "  <svg xmlns=\"http://www.w3.org/2000/svg\" height=\"24px\" viewBox=\"0 -960 960 960\">\n",
              "    <path d=\"M120-120v-720h720v720H120Zm60-500h600v-160H180v160Zm220 220h160v-160H400v160Zm0 220h160v-160H400v160ZM180-400h160v-160H180v160Zm440 0h160v-160H620v160ZM180-180h160v-160H180v160Zm440 0h160v-160H620v160Z\"/>\n",
              "  </svg>\n",
              "    </button>\n",
              "\n",
              "  <style>\n",
              "    .colab-df-container {\n",
              "      display:flex;\n",
              "      gap: 12px;\n",
              "    }\n",
              "\n",
              "    .colab-df-convert {\n",
              "      background-color: #E8F0FE;\n",
              "      border: none;\n",
              "      border-radius: 50%;\n",
              "      cursor: pointer;\n",
              "      display: none;\n",
              "      fill: #1967D2;\n",
              "      height: 32px;\n",
              "      padding: 0 0 0 0;\n",
              "      width: 32px;\n",
              "    }\n",
              "\n",
              "    .colab-df-convert:hover {\n",
              "      background-color: #E2EBFA;\n",
              "      box-shadow: 0px 1px 2px rgba(60, 64, 67, 0.3), 0px 1px 3px 1px rgba(60, 64, 67, 0.15);\n",
              "      fill: #174EA6;\n",
              "    }\n",
              "\n",
              "    .colab-df-buttons div {\n",
              "      margin-bottom: 4px;\n",
              "    }\n",
              "\n",
              "    [theme=dark] .colab-df-convert {\n",
              "      background-color: #3B4455;\n",
              "      fill: #D2E3FC;\n",
              "    }\n",
              "\n",
              "    [theme=dark] .colab-df-convert:hover {\n",
              "      background-color: #434B5C;\n",
              "      box-shadow: 0px 1px 3px 1px rgba(0, 0, 0, 0.15);\n",
              "      filter: drop-shadow(0px 1px 2px rgba(0, 0, 0, 0.3));\n",
              "      fill: #FFFFFF;\n",
              "    }\n",
              "  </style>\n",
              "\n",
              "    <script>\n",
              "      const buttonEl =\n",
              "        document.querySelector('#df-afe44613-917c-447c-a981-1949c3a55d37 button.colab-df-convert');\n",
              "      buttonEl.style.display =\n",
              "        google.colab.kernel.accessAllowed ? 'block' : 'none';\n",
              "\n",
              "      async function convertToInteractive(key) {\n",
              "        const element = document.querySelector('#df-afe44613-917c-447c-a981-1949c3a55d37');\n",
              "        const dataTable =\n",
              "          await google.colab.kernel.invokeFunction('convertToInteractive',\n",
              "                                                    [key], {});\n",
              "        if (!dataTable) return;\n",
              "\n",
              "        const docLinkHtml = 'Like what you see? Visit the ' +\n",
              "          '<a target=\"_blank\" href=https://colab.research.google.com/notebooks/data_table.ipynb>data table notebook</a>'\n",
              "          + ' to learn more about interactive tables.';\n",
              "        element.innerHTML = '';\n",
              "        dataTable['output_type'] = 'display_data';\n",
              "        await google.colab.output.renderOutput(dataTable, element);\n",
              "        const docLink = document.createElement('div');\n",
              "        docLink.innerHTML = docLinkHtml;\n",
              "        element.appendChild(docLink);\n",
              "      }\n",
              "    </script>\n",
              "  </div>\n",
              "\n",
              "\n",
              "<div id=\"df-2aa87345-02b9-47b4-9b1e-e64de5b9b993\">\n",
              "  <button class=\"colab-df-quickchart\" onclick=\"quickchart('df-2aa87345-02b9-47b4-9b1e-e64de5b9b993')\"\n",
              "            title=\"Suggest charts\"\n",
              "            style=\"display:none;\">\n",
              "\n",
              "<svg xmlns=\"http://www.w3.org/2000/svg\" height=\"24px\"viewBox=\"0 0 24 24\"\n",
              "     width=\"24px\">\n",
              "    <g>\n",
              "        <path d=\"M19 3H5c-1.1 0-2 .9-2 2v14c0 1.1.9 2 2 2h14c1.1 0 2-.9 2-2V5c0-1.1-.9-2-2-2zM9 17H7v-7h2v7zm4 0h-2V7h2v10zm4 0h-2v-4h2v4z\"/>\n",
              "    </g>\n",
              "</svg>\n",
              "  </button>\n",
              "\n",
              "<style>\n",
              "  .colab-df-quickchart {\n",
              "      --bg-color: #E8F0FE;\n",
              "      --fill-color: #1967D2;\n",
              "      --hover-bg-color: #E2EBFA;\n",
              "      --hover-fill-color: #174EA6;\n",
              "      --disabled-fill-color: #AAA;\n",
              "      --disabled-bg-color: #DDD;\n",
              "  }\n",
              "\n",
              "  [theme=dark] .colab-df-quickchart {\n",
              "      --bg-color: #3B4455;\n",
              "      --fill-color: #D2E3FC;\n",
              "      --hover-bg-color: #434B5C;\n",
              "      --hover-fill-color: #FFFFFF;\n",
              "      --disabled-bg-color: #3B4455;\n",
              "      --disabled-fill-color: #666;\n",
              "  }\n",
              "\n",
              "  .colab-df-quickchart {\n",
              "    background-color: var(--bg-color);\n",
              "    border: none;\n",
              "    border-radius: 50%;\n",
              "    cursor: pointer;\n",
              "    display: none;\n",
              "    fill: var(--fill-color);\n",
              "    height: 32px;\n",
              "    padding: 0;\n",
              "    width: 32px;\n",
              "  }\n",
              "\n",
              "  .colab-df-quickchart:hover {\n",
              "    background-color: var(--hover-bg-color);\n",
              "    box-shadow: 0 1px 2px rgba(60, 64, 67, 0.3), 0 1px 3px 1px rgba(60, 64, 67, 0.15);\n",
              "    fill: var(--button-hover-fill-color);\n",
              "  }\n",
              "\n",
              "  .colab-df-quickchart-complete:disabled,\n",
              "  .colab-df-quickchart-complete:disabled:hover {\n",
              "    background-color: var(--disabled-bg-color);\n",
              "    fill: var(--disabled-fill-color);\n",
              "    box-shadow: none;\n",
              "  }\n",
              "\n",
              "  .colab-df-spinner {\n",
              "    border: 2px solid var(--fill-color);\n",
              "    border-color: transparent;\n",
              "    border-bottom-color: var(--fill-color);\n",
              "    animation:\n",
              "      spin 1s steps(1) infinite;\n",
              "  }\n",
              "\n",
              "  @keyframes spin {\n",
              "    0% {\n",
              "      border-color: transparent;\n",
              "      border-bottom-color: var(--fill-color);\n",
              "      border-left-color: var(--fill-color);\n",
              "    }\n",
              "    20% {\n",
              "      border-color: transparent;\n",
              "      border-left-color: var(--fill-color);\n",
              "      border-top-color: var(--fill-color);\n",
              "    }\n",
              "    30% {\n",
              "      border-color: transparent;\n",
              "      border-left-color: var(--fill-color);\n",
              "      border-top-color: var(--fill-color);\n",
              "      border-right-color: var(--fill-color);\n",
              "    }\n",
              "    40% {\n",
              "      border-color: transparent;\n",
              "      border-right-color: var(--fill-color);\n",
              "      border-top-color: var(--fill-color);\n",
              "    }\n",
              "    60% {\n",
              "      border-color: transparent;\n",
              "      border-right-color: var(--fill-color);\n",
              "    }\n",
              "    80% {\n",
              "      border-color: transparent;\n",
              "      border-right-color: var(--fill-color);\n",
              "      border-bottom-color: var(--fill-color);\n",
              "    }\n",
              "    90% {\n",
              "      border-color: transparent;\n",
              "      border-bottom-color: var(--fill-color);\n",
              "    }\n",
              "  }\n",
              "</style>\n",
              "\n",
              "  <script>\n",
              "    async function quickchart(key) {\n",
              "      const quickchartButtonEl =\n",
              "        document.querySelector('#' + key + ' button');\n",
              "      quickchartButtonEl.disabled = true;  // To prevent multiple clicks.\n",
              "      quickchartButtonEl.classList.add('colab-df-spinner');\n",
              "      try {\n",
              "        const charts = await google.colab.kernel.invokeFunction(\n",
              "            'suggestCharts', [key], {});\n",
              "      } catch (error) {\n",
              "        console.error('Error during call to suggestCharts:', error);\n",
              "      }\n",
              "      quickchartButtonEl.classList.remove('colab-df-spinner');\n",
              "      quickchartButtonEl.classList.add('colab-df-quickchart-complete');\n",
              "    }\n",
              "    (() => {\n",
              "      let quickchartButtonEl =\n",
              "        document.querySelector('#df-2aa87345-02b9-47b4-9b1e-e64de5b9b993 button');\n",
              "      quickchartButtonEl.style.display =\n",
              "        google.colab.kernel.accessAllowed ? 'block' : 'none';\n",
              "    })();\n",
              "  </script>\n",
              "</div>\n",
              "\n",
              "    </div>\n",
              "  </div>\n"
            ],
            "application/vnd.google.colaboratory.intrinsic+json": {
              "type": "dataframe",
              "variable_name": "filtered_df"
            }
          },
          "metadata": {},
          "execution_count": 176
        }
      ]
    },
    {
      "cell_type": "markdown",
      "source": [
        "Exporting the dataframe as a .pkl file"
      ],
      "metadata": {
        "id": "Xhk-xBYgteXm"
      }
    },
    {
      "cell_type": "code",
      "source": [
        "filtered_df.to_pickle(\"books_data_clean.pkl\")"
      ],
      "metadata": {
        "id": "abc4mHsNxgaU"
      },
      "execution_count": 177,
      "outputs": []
    }
  ]
}