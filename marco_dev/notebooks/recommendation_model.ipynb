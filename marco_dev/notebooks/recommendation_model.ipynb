{
  "cells": [
    {
      "metadata": {
        "id": "8bda1da925405aeb"
      },
      "cell_type": "markdown",
      "source": [
        "# Train and Validate a Collaborative Filtering Rec Sys on the Books Reviews Dataset\n"
      ],
      "id": "8bda1da925405aeb"
    },
    {
      "metadata": {
        "ExecuteTime": {
          "end_time": "2025-02-08T20:35:20.195373Z",
          "start_time": "2025-02-08T20:35:18.874373Z"
        },
        "id": "5923f6e3864374bd",
        "colab": {
          "base_uri": "https://localhost:8080/"
        },
        "outputId": "79522a88-6f77-4710-e37d-0a2c031c37ed"
      },
      "cell_type": "code",
      "source": [
        "from datetime import datetime\n",
        "!pip install -q tensorflow-recommenders\n",
        "!pip install -q plotnine"
      ],
      "id": "5923f6e3864374bd",
      "outputs": [
        {
          "output_type": "stream",
          "name": "stdout",
          "text": [
            "\u001b[?25l   \u001b[90m━━━━━━━━━━━━━━━━━━━━━━━━━━━━━━━━━━━━━━━━\u001b[0m \u001b[32m0.0/96.2 kB\u001b[0m \u001b[31m?\u001b[0m eta \u001b[36m-:--:--\u001b[0m\r\u001b[2K   \u001b[90m━━━━━━━━━━━━━━━━━━━━━━━━━━━━━━━━━━━━━━━━\u001b[0m \u001b[32m96.2/96.2 kB\u001b[0m \u001b[31m3.4 MB/s\u001b[0m eta \u001b[36m0:00:00\u001b[0m\n",
            "\u001b[?25h"
          ]
        }
      ],
      "execution_count": 1
    },
    {
      "cell_type": "code",
      "source": [
        "# Google Colab Specific\n",
        "import os\n",
        "os.environ['TF_USE_LEGACY_KERAS'] = '1'"
      ],
      "metadata": {
        "id": "SYFeTok-T56h"
      },
      "id": "SYFeTok-T56h",
      "execution_count": 2,
      "outputs": []
    },
    {
      "metadata": {
        "ExecuteTime": {
          "end_time": "2025-02-08T20:35:23.353967Z",
          "start_time": "2025-02-08T20:35:20.200424Z"
        },
        "id": "5073d9d96019b84c"
      },
      "cell_type": "code",
      "source": [
        "import io\n",
        "import datetime\n",
        "import json\n",
        "\n",
        "from typing import List, Union, Dict, Text\n",
        "\n",
        "import numpy as np\n",
        "import pandas as pd\n",
        "import tensorflow as tf\n",
        "import tensorflow_recommenders as tfrs\n",
        "\n",
        "import plotnine\n",
        "import gdown"
      ],
      "id": "5073d9d96019b84c",
      "outputs": [],
      "execution_count": 3
    },
    {
      "cell_type": "code",
      "source": [
        "# Google Colab Specific\n",
        "from google.colab import drive\n",
        "drive.mount('/content/drive')"
      ],
      "metadata": {
        "colab": {
          "base_uri": "https://localhost:8080/"
        },
        "id": "ywHeKpqKVQ-l",
        "outputId": "4521528a-ac33-485f-a4e9-1930e3ffba25"
      },
      "id": "ywHeKpqKVQ-l",
      "execution_count": 4,
      "outputs": [
        {
          "output_type": "stream",
          "name": "stdout",
          "text": [
            "Mounted at /content/drive\n"
          ]
        }
      ]
    },
    {
      "metadata": {
        "ExecuteTime": {
          "end_time": "2025-02-08T20:35:30.172787Z",
          "start_time": "2025-02-08T20:35:23.415516Z"
        },
        "colab": {
          "base_uri": "https://localhost:8080/",
          "height": 660
        },
        "id": "930fdbdc47c05b49",
        "outputId": "1e4a8663-55aa-42af-823a-e55eeae88d60"
      },
      "cell_type": "code",
      "source": [
        "# Import Books Metadata\n",
        "book_meta_id = \"1mUUnGp-kgcYeZVa9jxK0RmVItbBdIgUZ\"\n",
        "book_meta_url = f\"https://drive.google.com/uc?id=1mUUnGp-kgcYeZVa9jxK0RmVItbBdIgUZ\"\n",
        "book_meta_output = \"books_data.csv\"\n",
        "gdown.download(book_meta_url, book_meta_output, quiet=False)\n",
        "\n",
        "books_df = pd.read_csv(book_meta_output)\n",
        "books_df.head()"
      ],
      "id": "930fdbdc47c05b49",
      "outputs": [
        {
          "output_type": "stream",
          "name": "stderr",
          "text": [
            "Downloading...\n",
            "From (original): https://drive.google.com/uc?id=1mUUnGp-kgcYeZVa9jxK0RmVItbBdIgUZ\n",
            "From (redirected): https://drive.google.com/uc?id=1mUUnGp-kgcYeZVa9jxK0RmVItbBdIgUZ&confirm=t&uuid=afec238b-022b-40b0-9843-73642d8533ed\n",
            "To: /content/books_data.csv\n",
            "100%|██████████| 181M/181M [00:04<00:00, 36.5MB/s]\n"
          ]
        },
        {
          "output_type": "execute_result",
          "data": {
            "text/plain": [
              "                                               Title  \\\n",
              "0                     Its Only Art If Its Well Hung!   \n",
              "1                           Dr. Seuss: American Icon   \n",
              "2              Wonderful Worship in Smaller Churches   \n",
              "3                      Whispers of the Wicked Saints   \n",
              "4  Nation Dance: Religion, Identity and Cultural ...   \n",
              "\n",
              "                                         description              authors  \\\n",
              "0                                                NaN     ['Julie Strain']   \n",
              "1  Philip Nel takes a fascinating look into the k...       ['Philip Nel']   \n",
              "2  This resource includes twelve principles in un...     ['David R. Ray']   \n",
              "3  Julia Thomas finds her life spinning out of co...  ['Veronica Haddon']   \n",
              "4                                                NaN      ['Edward Long']   \n",
              "\n",
              "                                               image  \\\n",
              "0  http://books.google.com/books/content?id=DykPA...   \n",
              "1  http://books.google.com/books/content?id=IjvHQ...   \n",
              "2  http://books.google.com/books/content?id=2tsDA...   \n",
              "3  http://books.google.com/books/content?id=aRSIg...   \n",
              "4                                                NaN   \n",
              "\n",
              "                                         previewLink  publisher publishedDate  \\\n",
              "0  http://books.google.nl/books?id=DykPAAAACAAJ&d...        NaN          1996   \n",
              "1  http://books.google.nl/books?id=IjvHQsCn_pgC&p...  A&C Black    2005-01-01   \n",
              "2  http://books.google.nl/books?id=2tsDAAAACAAJ&d...        NaN          2000   \n",
              "3  http://books.google.nl/books?id=aRSIgJlq6JwC&d...  iUniverse       2005-02   \n",
              "4  http://books.google.nl/books?id=399SPgAACAAJ&d...        NaN    2003-03-01   \n",
              "\n",
              "                                            infoLink  \\\n",
              "0  http://books.google.nl/books?id=DykPAAAACAAJ&d...   \n",
              "1  http://books.google.nl/books?id=IjvHQsCn_pgC&d...   \n",
              "2  http://books.google.nl/books?id=2tsDAAAACAAJ&d...   \n",
              "3  http://books.google.nl/books?id=aRSIgJlq6JwC&d...   \n",
              "4  http://books.google.nl/books?id=399SPgAACAAJ&d...   \n",
              "\n",
              "                      categories  ratingsCount  \n",
              "0    ['Comics & Graphic Novels']           NaN  \n",
              "1  ['Biography & Autobiography']           NaN  \n",
              "2                   ['Religion']           NaN  \n",
              "3                    ['Fiction']           NaN  \n",
              "4                            NaN           NaN  "
            ],
            "text/html": [
              "\n",
              "  <div id=\"df-ada336a6-3123-4251-985a-2e09d923b2f3\" class=\"colab-df-container\">\n",
              "    <div>\n",
              "<style scoped>\n",
              "    .dataframe tbody tr th:only-of-type {\n",
              "        vertical-align: middle;\n",
              "    }\n",
              "\n",
              "    .dataframe tbody tr th {\n",
              "        vertical-align: top;\n",
              "    }\n",
              "\n",
              "    .dataframe thead th {\n",
              "        text-align: right;\n",
              "    }\n",
              "</style>\n",
              "<table border=\"1\" class=\"dataframe\">\n",
              "  <thead>\n",
              "    <tr style=\"text-align: right;\">\n",
              "      <th></th>\n",
              "      <th>Title</th>\n",
              "      <th>description</th>\n",
              "      <th>authors</th>\n",
              "      <th>image</th>\n",
              "      <th>previewLink</th>\n",
              "      <th>publisher</th>\n",
              "      <th>publishedDate</th>\n",
              "      <th>infoLink</th>\n",
              "      <th>categories</th>\n",
              "      <th>ratingsCount</th>\n",
              "    </tr>\n",
              "  </thead>\n",
              "  <tbody>\n",
              "    <tr>\n",
              "      <th>0</th>\n",
              "      <td>Its Only Art If Its Well Hung!</td>\n",
              "      <td>NaN</td>\n",
              "      <td>['Julie Strain']</td>\n",
              "      <td>http://books.google.com/books/content?id=DykPA...</td>\n",
              "      <td>http://books.google.nl/books?id=DykPAAAACAAJ&amp;d...</td>\n",
              "      <td>NaN</td>\n",
              "      <td>1996</td>\n",
              "      <td>http://books.google.nl/books?id=DykPAAAACAAJ&amp;d...</td>\n",
              "      <td>['Comics &amp; Graphic Novels']</td>\n",
              "      <td>NaN</td>\n",
              "    </tr>\n",
              "    <tr>\n",
              "      <th>1</th>\n",
              "      <td>Dr. Seuss: American Icon</td>\n",
              "      <td>Philip Nel takes a fascinating look into the k...</td>\n",
              "      <td>['Philip Nel']</td>\n",
              "      <td>http://books.google.com/books/content?id=IjvHQ...</td>\n",
              "      <td>http://books.google.nl/books?id=IjvHQsCn_pgC&amp;p...</td>\n",
              "      <td>A&amp;C Black</td>\n",
              "      <td>2005-01-01</td>\n",
              "      <td>http://books.google.nl/books?id=IjvHQsCn_pgC&amp;d...</td>\n",
              "      <td>['Biography &amp; Autobiography']</td>\n",
              "      <td>NaN</td>\n",
              "    </tr>\n",
              "    <tr>\n",
              "      <th>2</th>\n",
              "      <td>Wonderful Worship in Smaller Churches</td>\n",
              "      <td>This resource includes twelve principles in un...</td>\n",
              "      <td>['David R. Ray']</td>\n",
              "      <td>http://books.google.com/books/content?id=2tsDA...</td>\n",
              "      <td>http://books.google.nl/books?id=2tsDAAAACAAJ&amp;d...</td>\n",
              "      <td>NaN</td>\n",
              "      <td>2000</td>\n",
              "      <td>http://books.google.nl/books?id=2tsDAAAACAAJ&amp;d...</td>\n",
              "      <td>['Religion']</td>\n",
              "      <td>NaN</td>\n",
              "    </tr>\n",
              "    <tr>\n",
              "      <th>3</th>\n",
              "      <td>Whispers of the Wicked Saints</td>\n",
              "      <td>Julia Thomas finds her life spinning out of co...</td>\n",
              "      <td>['Veronica Haddon']</td>\n",
              "      <td>http://books.google.com/books/content?id=aRSIg...</td>\n",
              "      <td>http://books.google.nl/books?id=aRSIgJlq6JwC&amp;d...</td>\n",
              "      <td>iUniverse</td>\n",
              "      <td>2005-02</td>\n",
              "      <td>http://books.google.nl/books?id=aRSIgJlq6JwC&amp;d...</td>\n",
              "      <td>['Fiction']</td>\n",
              "      <td>NaN</td>\n",
              "    </tr>\n",
              "    <tr>\n",
              "      <th>4</th>\n",
              "      <td>Nation Dance: Religion, Identity and Cultural ...</td>\n",
              "      <td>NaN</td>\n",
              "      <td>['Edward Long']</td>\n",
              "      <td>NaN</td>\n",
              "      <td>http://books.google.nl/books?id=399SPgAACAAJ&amp;d...</td>\n",
              "      <td>NaN</td>\n",
              "      <td>2003-03-01</td>\n",
              "      <td>http://books.google.nl/books?id=399SPgAACAAJ&amp;d...</td>\n",
              "      <td>NaN</td>\n",
              "      <td>NaN</td>\n",
              "    </tr>\n",
              "  </tbody>\n",
              "</table>\n",
              "</div>\n",
              "    <div class=\"colab-df-buttons\">\n",
              "\n",
              "  <div class=\"colab-df-container\">\n",
              "    <button class=\"colab-df-convert\" onclick=\"convertToInteractive('df-ada336a6-3123-4251-985a-2e09d923b2f3')\"\n",
              "            title=\"Convert this dataframe to an interactive table.\"\n",
              "            style=\"display:none;\">\n",
              "\n",
              "  <svg xmlns=\"http://www.w3.org/2000/svg\" height=\"24px\" viewBox=\"0 -960 960 960\">\n",
              "    <path d=\"M120-120v-720h720v720H120Zm60-500h600v-160H180v160Zm220 220h160v-160H400v160Zm0 220h160v-160H400v160ZM180-400h160v-160H180v160Zm440 0h160v-160H620v160ZM180-180h160v-160H180v160Zm440 0h160v-160H620v160Z\"/>\n",
              "  </svg>\n",
              "    </button>\n",
              "\n",
              "  <style>\n",
              "    .colab-df-container {\n",
              "      display:flex;\n",
              "      gap: 12px;\n",
              "    }\n",
              "\n",
              "    .colab-df-convert {\n",
              "      background-color: #E8F0FE;\n",
              "      border: none;\n",
              "      border-radius: 50%;\n",
              "      cursor: pointer;\n",
              "      display: none;\n",
              "      fill: #1967D2;\n",
              "      height: 32px;\n",
              "      padding: 0 0 0 0;\n",
              "      width: 32px;\n",
              "    }\n",
              "\n",
              "    .colab-df-convert:hover {\n",
              "      background-color: #E2EBFA;\n",
              "      box-shadow: 0px 1px 2px rgba(60, 64, 67, 0.3), 0px 1px 3px 1px rgba(60, 64, 67, 0.15);\n",
              "      fill: #174EA6;\n",
              "    }\n",
              "\n",
              "    .colab-df-buttons div {\n",
              "      margin-bottom: 4px;\n",
              "    }\n",
              "\n",
              "    [theme=dark] .colab-df-convert {\n",
              "      background-color: #3B4455;\n",
              "      fill: #D2E3FC;\n",
              "    }\n",
              "\n",
              "    [theme=dark] .colab-df-convert:hover {\n",
              "      background-color: #434B5C;\n",
              "      box-shadow: 0px 1px 3px 1px rgba(0, 0, 0, 0.15);\n",
              "      filter: drop-shadow(0px 1px 2px rgba(0, 0, 0, 0.3));\n",
              "      fill: #FFFFFF;\n",
              "    }\n",
              "  </style>\n",
              "\n",
              "    <script>\n",
              "      const buttonEl =\n",
              "        document.querySelector('#df-ada336a6-3123-4251-985a-2e09d923b2f3 button.colab-df-convert');\n",
              "      buttonEl.style.display =\n",
              "        google.colab.kernel.accessAllowed ? 'block' : 'none';\n",
              "\n",
              "      async function convertToInteractive(key) {\n",
              "        const element = document.querySelector('#df-ada336a6-3123-4251-985a-2e09d923b2f3');\n",
              "        const dataTable =\n",
              "          await google.colab.kernel.invokeFunction('convertToInteractive',\n",
              "                                                    [key], {});\n",
              "        if (!dataTable) return;\n",
              "\n",
              "        const docLinkHtml = 'Like what you see? Visit the ' +\n",
              "          '<a target=\"_blank\" href=https://colab.research.google.com/notebooks/data_table.ipynb>data table notebook</a>'\n",
              "          + ' to learn more about interactive tables.';\n",
              "        element.innerHTML = '';\n",
              "        dataTable['output_type'] = 'display_data';\n",
              "        await google.colab.output.renderOutput(dataTable, element);\n",
              "        const docLink = document.createElement('div');\n",
              "        docLink.innerHTML = docLinkHtml;\n",
              "        element.appendChild(docLink);\n",
              "      }\n",
              "    </script>\n",
              "  </div>\n",
              "\n",
              "\n",
              "<div id=\"df-8e49052d-f0ae-40eb-ae91-5bce38a7e520\">\n",
              "  <button class=\"colab-df-quickchart\" onclick=\"quickchart('df-8e49052d-f0ae-40eb-ae91-5bce38a7e520')\"\n",
              "            title=\"Suggest charts\"\n",
              "            style=\"display:none;\">\n",
              "\n",
              "<svg xmlns=\"http://www.w3.org/2000/svg\" height=\"24px\"viewBox=\"0 0 24 24\"\n",
              "     width=\"24px\">\n",
              "    <g>\n",
              "        <path d=\"M19 3H5c-1.1 0-2 .9-2 2v14c0 1.1.9 2 2 2h14c1.1 0 2-.9 2-2V5c0-1.1-.9-2-2-2zM9 17H7v-7h2v7zm4 0h-2V7h2v10zm4 0h-2v-4h2v4z\"/>\n",
              "    </g>\n",
              "</svg>\n",
              "  </button>\n",
              "\n",
              "<style>\n",
              "  .colab-df-quickchart {\n",
              "      --bg-color: #E8F0FE;\n",
              "      --fill-color: #1967D2;\n",
              "      --hover-bg-color: #E2EBFA;\n",
              "      --hover-fill-color: #174EA6;\n",
              "      --disabled-fill-color: #AAA;\n",
              "      --disabled-bg-color: #DDD;\n",
              "  }\n",
              "\n",
              "  [theme=dark] .colab-df-quickchart {\n",
              "      --bg-color: #3B4455;\n",
              "      --fill-color: #D2E3FC;\n",
              "      --hover-bg-color: #434B5C;\n",
              "      --hover-fill-color: #FFFFFF;\n",
              "      --disabled-bg-color: #3B4455;\n",
              "      --disabled-fill-color: #666;\n",
              "  }\n",
              "\n",
              "  .colab-df-quickchart {\n",
              "    background-color: var(--bg-color);\n",
              "    border: none;\n",
              "    border-radius: 50%;\n",
              "    cursor: pointer;\n",
              "    display: none;\n",
              "    fill: var(--fill-color);\n",
              "    height: 32px;\n",
              "    padding: 0;\n",
              "    width: 32px;\n",
              "  }\n",
              "\n",
              "  .colab-df-quickchart:hover {\n",
              "    background-color: var(--hover-bg-color);\n",
              "    box-shadow: 0 1px 2px rgba(60, 64, 67, 0.3), 0 1px 3px 1px rgba(60, 64, 67, 0.15);\n",
              "    fill: var(--button-hover-fill-color);\n",
              "  }\n",
              "\n",
              "  .colab-df-quickchart-complete:disabled,\n",
              "  .colab-df-quickchart-complete:disabled:hover {\n",
              "    background-color: var(--disabled-bg-color);\n",
              "    fill: var(--disabled-fill-color);\n",
              "    box-shadow: none;\n",
              "  }\n",
              "\n",
              "  .colab-df-spinner {\n",
              "    border: 2px solid var(--fill-color);\n",
              "    border-color: transparent;\n",
              "    border-bottom-color: var(--fill-color);\n",
              "    animation:\n",
              "      spin 1s steps(1) infinite;\n",
              "  }\n",
              "\n",
              "  @keyframes spin {\n",
              "    0% {\n",
              "      border-color: transparent;\n",
              "      border-bottom-color: var(--fill-color);\n",
              "      border-left-color: var(--fill-color);\n",
              "    }\n",
              "    20% {\n",
              "      border-color: transparent;\n",
              "      border-left-color: var(--fill-color);\n",
              "      border-top-color: var(--fill-color);\n",
              "    }\n",
              "    30% {\n",
              "      border-color: transparent;\n",
              "      border-left-color: var(--fill-color);\n",
              "      border-top-color: var(--fill-color);\n",
              "      border-right-color: var(--fill-color);\n",
              "    }\n",
              "    40% {\n",
              "      border-color: transparent;\n",
              "      border-right-color: var(--fill-color);\n",
              "      border-top-color: var(--fill-color);\n",
              "    }\n",
              "    60% {\n",
              "      border-color: transparent;\n",
              "      border-right-color: var(--fill-color);\n",
              "    }\n",
              "    80% {\n",
              "      border-color: transparent;\n",
              "      border-right-color: var(--fill-color);\n",
              "      border-bottom-color: var(--fill-color);\n",
              "    }\n",
              "    90% {\n",
              "      border-color: transparent;\n",
              "      border-bottom-color: var(--fill-color);\n",
              "    }\n",
              "  }\n",
              "</style>\n",
              "\n",
              "  <script>\n",
              "    async function quickchart(key) {\n",
              "      const quickchartButtonEl =\n",
              "        document.querySelector('#' + key + ' button');\n",
              "      quickchartButtonEl.disabled = true;  // To prevent multiple clicks.\n",
              "      quickchartButtonEl.classList.add('colab-df-spinner');\n",
              "      try {\n",
              "        const charts = await google.colab.kernel.invokeFunction(\n",
              "            'suggestCharts', [key], {});\n",
              "      } catch (error) {\n",
              "        console.error('Error during call to suggestCharts:', error);\n",
              "      }\n",
              "      quickchartButtonEl.classList.remove('colab-df-spinner');\n",
              "      quickchartButtonEl.classList.add('colab-df-quickchart-complete');\n",
              "    }\n",
              "    (() => {\n",
              "      let quickchartButtonEl =\n",
              "        document.querySelector('#df-8e49052d-f0ae-40eb-ae91-5bce38a7e520 button');\n",
              "      quickchartButtonEl.style.display =\n",
              "        google.colab.kernel.accessAllowed ? 'block' : 'none';\n",
              "    })();\n",
              "  </script>\n",
              "</div>\n",
              "\n",
              "    </div>\n",
              "  </div>\n"
            ],
            "application/vnd.google.colaboratory.intrinsic+json": {
              "type": "dataframe",
              "variable_name": "books_df"
            }
          },
          "metadata": {},
          "execution_count": 5
        }
      ],
      "execution_count": 5
    },
    {
      "metadata": {
        "ExecuteTime": {
          "end_time": "2025-02-08T20:35:30.199688Z",
          "start_time": "2025-02-08T20:35:30.197423Z"
        },
        "colab": {
          "base_uri": "https://localhost:8080/"
        },
        "id": "7e6f9428f355483d",
        "outputId": "b43cf136-5b29-428a-9962-1b4a02b2d2a1"
      },
      "cell_type": "code",
      "source": [
        "books_df.shape"
      ],
      "id": "7e6f9428f355483d",
      "outputs": [
        {
          "output_type": "execute_result",
          "data": {
            "text/plain": [
              "(212404, 10)"
            ]
          },
          "metadata": {},
          "execution_count": 6
        }
      ],
      "execution_count": 6
    },
    {
      "metadata": {
        "ExecuteTime": {
          "end_time": "2025-02-08T20:36:43.345473Z",
          "start_time": "2025-02-08T20:35:30.228307Z"
        },
        "colab": {
          "base_uri": "https://localhost:8080/",
          "height": 467
        },
        "id": "f979277b4925ab27",
        "outputId": "7f708272-d05b-44dd-ff3a-5587ed47edef"
      },
      "cell_type": "code",
      "source": [
        "# Import Books Reviews\n",
        "book_rev_id = \"1vaUum8JMyzsub74ih1rqJVaVidV0pXLP\"\n",
        "book_rev_url = f\"https://drive.google.com/uc?id=1vaUum8JMyzsub74ih1rqJVaVidV0pXLP\"\n",
        "book_rev_output = \"books_rating.csv\"\n",
        "gdown.download(book_rev_url, book_rev_output, quiet=False)\n",
        "\n",
        "ratings_df = pd.read_csv(book_rev_output)\n",
        "ratings_df.head()"
      ],
      "id": "f979277b4925ab27",
      "outputs": [
        {
          "output_type": "stream",
          "name": "stderr",
          "text": [
            "Downloading...\n",
            "From (original): https://drive.google.com/uc?id=1vaUum8JMyzsub74ih1rqJVaVidV0pXLP\n",
            "From (redirected): https://drive.google.com/uc?id=1vaUum8JMyzsub74ih1rqJVaVidV0pXLP&confirm=t&uuid=5c72512a-7113-4cc1-8ee6-6e4feec8ccb8\n",
            "To: /content/books_rating.csv\n",
            "100%|██████████| 2.86G/2.86G [00:59<00:00, 47.7MB/s]\n"
          ]
        },
        {
          "output_type": "execute_result",
          "data": {
            "text/plain": [
              "           Id                           Title  Price         User_id  \\\n",
              "0  1882931173  Its Only Art If Its Well Hung!    NaN   AVCGYZL8FQQTD   \n",
              "1  0826414346        Dr. Seuss: American Icon    NaN  A30TK6U7DNS82R   \n",
              "2  0826414346        Dr. Seuss: American Icon    NaN  A3UH4UZ4RSVO82   \n",
              "3  0826414346        Dr. Seuss: American Icon    NaN  A2MVUWT453QH61   \n",
              "4  0826414346        Dr. Seuss: American Icon    NaN  A22X4XUPKF66MR   \n",
              "\n",
              "                          profileName review/helpfulness  review/score  \\\n",
              "0               Jim of Oz \"jim-of-oz\"                7/7           4.0   \n",
              "1                       Kevin Killian              10/10           5.0   \n",
              "2                        John Granger              10/11           5.0   \n",
              "3  Roy E. Perry \"amateur philosopher\"                7/7           4.0   \n",
              "4     D. H. Richards \"ninthwavestore\"                3/3           4.0   \n",
              "\n",
              "   review/time                                   review/summary  \\\n",
              "0    940636800           Nice collection of Julie Strain images   \n",
              "1   1095724800                                Really Enjoyed It   \n",
              "2   1078790400  Essential for every personal and Public Library   \n",
              "3   1090713600  Phlip Nel gives silly Seuss a serious treatment   \n",
              "4   1107993600                           Good academic overview   \n",
              "\n",
              "                                         review/text  \n",
              "0  This is only for Julie Strain fans. It's a col...  \n",
              "1  I don't care much for Dr. Seuss but after read...  \n",
              "2  If people become the books they read and if \"t...  \n",
              "3  Theodore Seuss Geisel (1904-1991), aka &quot;D...  \n",
              "4  Philip Nel - Dr. Seuss: American IconThis is b...  "
            ],
            "text/html": [
              "\n",
              "  <div id=\"df-ebbc8a42-b3d5-4abc-a5a7-a94add428bda\" class=\"colab-df-container\">\n",
              "    <div>\n",
              "<style scoped>\n",
              "    .dataframe tbody tr th:only-of-type {\n",
              "        vertical-align: middle;\n",
              "    }\n",
              "\n",
              "    .dataframe tbody tr th {\n",
              "        vertical-align: top;\n",
              "    }\n",
              "\n",
              "    .dataframe thead th {\n",
              "        text-align: right;\n",
              "    }\n",
              "</style>\n",
              "<table border=\"1\" class=\"dataframe\">\n",
              "  <thead>\n",
              "    <tr style=\"text-align: right;\">\n",
              "      <th></th>\n",
              "      <th>Id</th>\n",
              "      <th>Title</th>\n",
              "      <th>Price</th>\n",
              "      <th>User_id</th>\n",
              "      <th>profileName</th>\n",
              "      <th>review/helpfulness</th>\n",
              "      <th>review/score</th>\n",
              "      <th>review/time</th>\n",
              "      <th>review/summary</th>\n",
              "      <th>review/text</th>\n",
              "    </tr>\n",
              "  </thead>\n",
              "  <tbody>\n",
              "    <tr>\n",
              "      <th>0</th>\n",
              "      <td>1882931173</td>\n",
              "      <td>Its Only Art If Its Well Hung!</td>\n",
              "      <td>NaN</td>\n",
              "      <td>AVCGYZL8FQQTD</td>\n",
              "      <td>Jim of Oz \"jim-of-oz\"</td>\n",
              "      <td>7/7</td>\n",
              "      <td>4.0</td>\n",
              "      <td>940636800</td>\n",
              "      <td>Nice collection of Julie Strain images</td>\n",
              "      <td>This is only for Julie Strain fans. It's a col...</td>\n",
              "    </tr>\n",
              "    <tr>\n",
              "      <th>1</th>\n",
              "      <td>0826414346</td>\n",
              "      <td>Dr. Seuss: American Icon</td>\n",
              "      <td>NaN</td>\n",
              "      <td>A30TK6U7DNS82R</td>\n",
              "      <td>Kevin Killian</td>\n",
              "      <td>10/10</td>\n",
              "      <td>5.0</td>\n",
              "      <td>1095724800</td>\n",
              "      <td>Really Enjoyed It</td>\n",
              "      <td>I don't care much for Dr. Seuss but after read...</td>\n",
              "    </tr>\n",
              "    <tr>\n",
              "      <th>2</th>\n",
              "      <td>0826414346</td>\n",
              "      <td>Dr. Seuss: American Icon</td>\n",
              "      <td>NaN</td>\n",
              "      <td>A3UH4UZ4RSVO82</td>\n",
              "      <td>John Granger</td>\n",
              "      <td>10/11</td>\n",
              "      <td>5.0</td>\n",
              "      <td>1078790400</td>\n",
              "      <td>Essential for every personal and Public Library</td>\n",
              "      <td>If people become the books they read and if \"t...</td>\n",
              "    </tr>\n",
              "    <tr>\n",
              "      <th>3</th>\n",
              "      <td>0826414346</td>\n",
              "      <td>Dr. Seuss: American Icon</td>\n",
              "      <td>NaN</td>\n",
              "      <td>A2MVUWT453QH61</td>\n",
              "      <td>Roy E. Perry \"amateur philosopher\"</td>\n",
              "      <td>7/7</td>\n",
              "      <td>4.0</td>\n",
              "      <td>1090713600</td>\n",
              "      <td>Phlip Nel gives silly Seuss a serious treatment</td>\n",
              "      <td>Theodore Seuss Geisel (1904-1991), aka &amp;quot;D...</td>\n",
              "    </tr>\n",
              "    <tr>\n",
              "      <th>4</th>\n",
              "      <td>0826414346</td>\n",
              "      <td>Dr. Seuss: American Icon</td>\n",
              "      <td>NaN</td>\n",
              "      <td>A22X4XUPKF66MR</td>\n",
              "      <td>D. H. Richards \"ninthwavestore\"</td>\n",
              "      <td>3/3</td>\n",
              "      <td>4.0</td>\n",
              "      <td>1107993600</td>\n",
              "      <td>Good academic overview</td>\n",
              "      <td>Philip Nel - Dr. Seuss: American IconThis is b...</td>\n",
              "    </tr>\n",
              "  </tbody>\n",
              "</table>\n",
              "</div>\n",
              "    <div class=\"colab-df-buttons\">\n",
              "\n",
              "  <div class=\"colab-df-container\">\n",
              "    <button class=\"colab-df-convert\" onclick=\"convertToInteractive('df-ebbc8a42-b3d5-4abc-a5a7-a94add428bda')\"\n",
              "            title=\"Convert this dataframe to an interactive table.\"\n",
              "            style=\"display:none;\">\n",
              "\n",
              "  <svg xmlns=\"http://www.w3.org/2000/svg\" height=\"24px\" viewBox=\"0 -960 960 960\">\n",
              "    <path d=\"M120-120v-720h720v720H120Zm60-500h600v-160H180v160Zm220 220h160v-160H400v160Zm0 220h160v-160H400v160ZM180-400h160v-160H180v160Zm440 0h160v-160H620v160ZM180-180h160v-160H180v160Zm440 0h160v-160H620v160Z\"/>\n",
              "  </svg>\n",
              "    </button>\n",
              "\n",
              "  <style>\n",
              "    .colab-df-container {\n",
              "      display:flex;\n",
              "      gap: 12px;\n",
              "    }\n",
              "\n",
              "    .colab-df-convert {\n",
              "      background-color: #E8F0FE;\n",
              "      border: none;\n",
              "      border-radius: 50%;\n",
              "      cursor: pointer;\n",
              "      display: none;\n",
              "      fill: #1967D2;\n",
              "      height: 32px;\n",
              "      padding: 0 0 0 0;\n",
              "      width: 32px;\n",
              "    }\n",
              "\n",
              "    .colab-df-convert:hover {\n",
              "      background-color: #E2EBFA;\n",
              "      box-shadow: 0px 1px 2px rgba(60, 64, 67, 0.3), 0px 1px 3px 1px rgba(60, 64, 67, 0.15);\n",
              "      fill: #174EA6;\n",
              "    }\n",
              "\n",
              "    .colab-df-buttons div {\n",
              "      margin-bottom: 4px;\n",
              "    }\n",
              "\n",
              "    [theme=dark] .colab-df-convert {\n",
              "      background-color: #3B4455;\n",
              "      fill: #D2E3FC;\n",
              "    }\n",
              "\n",
              "    [theme=dark] .colab-df-convert:hover {\n",
              "      background-color: #434B5C;\n",
              "      box-shadow: 0px 1px 3px 1px rgba(0, 0, 0, 0.15);\n",
              "      filter: drop-shadow(0px 1px 2px rgba(0, 0, 0, 0.3));\n",
              "      fill: #FFFFFF;\n",
              "    }\n",
              "  </style>\n",
              "\n",
              "    <script>\n",
              "      const buttonEl =\n",
              "        document.querySelector('#df-ebbc8a42-b3d5-4abc-a5a7-a94add428bda button.colab-df-convert');\n",
              "      buttonEl.style.display =\n",
              "        google.colab.kernel.accessAllowed ? 'block' : 'none';\n",
              "\n",
              "      async function convertToInteractive(key) {\n",
              "        const element = document.querySelector('#df-ebbc8a42-b3d5-4abc-a5a7-a94add428bda');\n",
              "        const dataTable =\n",
              "          await google.colab.kernel.invokeFunction('convertToInteractive',\n",
              "                                                    [key], {});\n",
              "        if (!dataTable) return;\n",
              "\n",
              "        const docLinkHtml = 'Like what you see? Visit the ' +\n",
              "          '<a target=\"_blank\" href=https://colab.research.google.com/notebooks/data_table.ipynb>data table notebook</a>'\n",
              "          + ' to learn more about interactive tables.';\n",
              "        element.innerHTML = '';\n",
              "        dataTable['output_type'] = 'display_data';\n",
              "        await google.colab.output.renderOutput(dataTable, element);\n",
              "        const docLink = document.createElement('div');\n",
              "        docLink.innerHTML = docLinkHtml;\n",
              "        element.appendChild(docLink);\n",
              "      }\n",
              "    </script>\n",
              "  </div>\n",
              "\n",
              "\n",
              "<div id=\"df-60c4b835-5c76-49df-9c07-ab5aeae40720\">\n",
              "  <button class=\"colab-df-quickchart\" onclick=\"quickchart('df-60c4b835-5c76-49df-9c07-ab5aeae40720')\"\n",
              "            title=\"Suggest charts\"\n",
              "            style=\"display:none;\">\n",
              "\n",
              "<svg xmlns=\"http://www.w3.org/2000/svg\" height=\"24px\"viewBox=\"0 0 24 24\"\n",
              "     width=\"24px\">\n",
              "    <g>\n",
              "        <path d=\"M19 3H5c-1.1 0-2 .9-2 2v14c0 1.1.9 2 2 2h14c1.1 0 2-.9 2-2V5c0-1.1-.9-2-2-2zM9 17H7v-7h2v7zm4 0h-2V7h2v10zm4 0h-2v-4h2v4z\"/>\n",
              "    </g>\n",
              "</svg>\n",
              "  </button>\n",
              "\n",
              "<style>\n",
              "  .colab-df-quickchart {\n",
              "      --bg-color: #E8F0FE;\n",
              "      --fill-color: #1967D2;\n",
              "      --hover-bg-color: #E2EBFA;\n",
              "      --hover-fill-color: #174EA6;\n",
              "      --disabled-fill-color: #AAA;\n",
              "      --disabled-bg-color: #DDD;\n",
              "  }\n",
              "\n",
              "  [theme=dark] .colab-df-quickchart {\n",
              "      --bg-color: #3B4455;\n",
              "      --fill-color: #D2E3FC;\n",
              "      --hover-bg-color: #434B5C;\n",
              "      --hover-fill-color: #FFFFFF;\n",
              "      --disabled-bg-color: #3B4455;\n",
              "      --disabled-fill-color: #666;\n",
              "  }\n",
              "\n",
              "  .colab-df-quickchart {\n",
              "    background-color: var(--bg-color);\n",
              "    border: none;\n",
              "    border-radius: 50%;\n",
              "    cursor: pointer;\n",
              "    display: none;\n",
              "    fill: var(--fill-color);\n",
              "    height: 32px;\n",
              "    padding: 0;\n",
              "    width: 32px;\n",
              "  }\n",
              "\n",
              "  .colab-df-quickchart:hover {\n",
              "    background-color: var(--hover-bg-color);\n",
              "    box-shadow: 0 1px 2px rgba(60, 64, 67, 0.3), 0 1px 3px 1px rgba(60, 64, 67, 0.15);\n",
              "    fill: var(--button-hover-fill-color);\n",
              "  }\n",
              "\n",
              "  .colab-df-quickchart-complete:disabled,\n",
              "  .colab-df-quickchart-complete:disabled:hover {\n",
              "    background-color: var(--disabled-bg-color);\n",
              "    fill: var(--disabled-fill-color);\n",
              "    box-shadow: none;\n",
              "  }\n",
              "\n",
              "  .colab-df-spinner {\n",
              "    border: 2px solid var(--fill-color);\n",
              "    border-color: transparent;\n",
              "    border-bottom-color: var(--fill-color);\n",
              "    animation:\n",
              "      spin 1s steps(1) infinite;\n",
              "  }\n",
              "\n",
              "  @keyframes spin {\n",
              "    0% {\n",
              "      border-color: transparent;\n",
              "      border-bottom-color: var(--fill-color);\n",
              "      border-left-color: var(--fill-color);\n",
              "    }\n",
              "    20% {\n",
              "      border-color: transparent;\n",
              "      border-left-color: var(--fill-color);\n",
              "      border-top-color: var(--fill-color);\n",
              "    }\n",
              "    30% {\n",
              "      border-color: transparent;\n",
              "      border-left-color: var(--fill-color);\n",
              "      border-top-color: var(--fill-color);\n",
              "      border-right-color: var(--fill-color);\n",
              "    }\n",
              "    40% {\n",
              "      border-color: transparent;\n",
              "      border-right-color: var(--fill-color);\n",
              "      border-top-color: var(--fill-color);\n",
              "    }\n",
              "    60% {\n",
              "      border-color: transparent;\n",
              "      border-right-color: var(--fill-color);\n",
              "    }\n",
              "    80% {\n",
              "      border-color: transparent;\n",
              "      border-right-color: var(--fill-color);\n",
              "      border-bottom-color: var(--fill-color);\n",
              "    }\n",
              "    90% {\n",
              "      border-color: transparent;\n",
              "      border-bottom-color: var(--fill-color);\n",
              "    }\n",
              "  }\n",
              "</style>\n",
              "\n",
              "  <script>\n",
              "    async function quickchart(key) {\n",
              "      const quickchartButtonEl =\n",
              "        document.querySelector('#' + key + ' button');\n",
              "      quickchartButtonEl.disabled = true;  // To prevent multiple clicks.\n",
              "      quickchartButtonEl.classList.add('colab-df-spinner');\n",
              "      try {\n",
              "        const charts = await google.colab.kernel.invokeFunction(\n",
              "            'suggestCharts', [key], {});\n",
              "      } catch (error) {\n",
              "        console.error('Error during call to suggestCharts:', error);\n",
              "      }\n",
              "      quickchartButtonEl.classList.remove('colab-df-spinner');\n",
              "      quickchartButtonEl.classList.add('colab-df-quickchart-complete');\n",
              "    }\n",
              "    (() => {\n",
              "      let quickchartButtonEl =\n",
              "        document.querySelector('#df-60c4b835-5c76-49df-9c07-ab5aeae40720 button');\n",
              "      quickchartButtonEl.style.display =\n",
              "        google.colab.kernel.accessAllowed ? 'block' : 'none';\n",
              "    })();\n",
              "  </script>\n",
              "</div>\n",
              "\n",
              "    </div>\n",
              "  </div>\n"
            ],
            "application/vnd.google.colaboratory.intrinsic+json": {
              "type": "dataframe",
              "variable_name": "ratings_df"
            }
          },
          "metadata": {},
          "execution_count": 7
        }
      ],
      "execution_count": 7
    },
    {
      "metadata": {
        "ExecuteTime": {
          "end_time": "2025-02-08T20:36:43.393203Z",
          "start_time": "2025-02-08T20:36:43.390847Z"
        },
        "colab": {
          "base_uri": "https://localhost:8080/"
        },
        "id": "b589fb29425d79b",
        "outputId": "ae49d513-c9a3-4da0-b97d-40eaedd1702a"
      },
      "cell_type": "code",
      "source": [
        "ratings_df.shape"
      ],
      "id": "b589fb29425d79b",
      "outputs": [
        {
          "output_type": "execute_result",
          "data": {
            "text/plain": [
              "(3000000, 10)"
            ]
          },
          "metadata": {},
          "execution_count": 8
        }
      ],
      "execution_count": 8
    },
    {
      "metadata": {
        "id": "36fc52f1d96e5a42"
      },
      "cell_type": "markdown",
      "source": [
        "## Data Cleansing"
      ],
      "id": "36fc52f1d96e5a42"
    },
    {
      "metadata": {
        "ExecuteTime": {
          "end_time": "2025-02-08T20:36:43.506521Z",
          "start_time": "2025-02-08T20:36:43.468771Z"
        },
        "colab": {
          "base_uri": "https://localhost:8080/"
        },
        "id": "4a11322a300f7ab",
        "outputId": "3843ecce-4094-4b3a-d392-316cb98abf36"
      },
      "cell_type": "code",
      "source": [
        "books_df['Title'].nunique()"
      ],
      "id": "4a11322a300f7ab",
      "outputs": [
        {
          "output_type": "execute_result",
          "data": {
            "text/plain": [
              "212403"
            ]
          },
          "metadata": {},
          "execution_count": 9
        }
      ],
      "execution_count": 9
    },
    {
      "metadata": {
        "ExecuteTime": {
          "end_time": "2025-02-08T20:36:43.616682Z",
          "start_time": "2025-02-08T20:36:43.525085Z"
        },
        "colab": {
          "base_uri": "https://localhost:8080/",
          "height": 398
        },
        "id": "7da02612d99447c7",
        "outputId": "bfbabf38-6b72-45b1-e99d-2045b473b492"
      },
      "cell_type": "code",
      "source": [
        "books_df.isnull().sum()"
      ],
      "id": "7da02612d99447c7",
      "outputs": [
        {
          "output_type": "execute_result",
          "data": {
            "text/plain": [
              "Title                 1\n",
              "description       68442\n",
              "authors           31413\n",
              "image             52075\n",
              "previewLink       23836\n",
              "publisher         75886\n",
              "publishedDate     25305\n",
              "infoLink          23836\n",
              "categories        41199\n",
              "ratingsCount     162652\n",
              "dtype: int64"
            ],
            "text/html": [
              "<div>\n",
              "<style scoped>\n",
              "    .dataframe tbody tr th:only-of-type {\n",
              "        vertical-align: middle;\n",
              "    }\n",
              "\n",
              "    .dataframe tbody tr th {\n",
              "        vertical-align: top;\n",
              "    }\n",
              "\n",
              "    .dataframe thead th {\n",
              "        text-align: right;\n",
              "    }\n",
              "</style>\n",
              "<table border=\"1\" class=\"dataframe\">\n",
              "  <thead>\n",
              "    <tr style=\"text-align: right;\">\n",
              "      <th></th>\n",
              "      <th>0</th>\n",
              "    </tr>\n",
              "  </thead>\n",
              "  <tbody>\n",
              "    <tr>\n",
              "      <th>Title</th>\n",
              "      <td>1</td>\n",
              "    </tr>\n",
              "    <tr>\n",
              "      <th>description</th>\n",
              "      <td>68442</td>\n",
              "    </tr>\n",
              "    <tr>\n",
              "      <th>authors</th>\n",
              "      <td>31413</td>\n",
              "    </tr>\n",
              "    <tr>\n",
              "      <th>image</th>\n",
              "      <td>52075</td>\n",
              "    </tr>\n",
              "    <tr>\n",
              "      <th>previewLink</th>\n",
              "      <td>23836</td>\n",
              "    </tr>\n",
              "    <tr>\n",
              "      <th>publisher</th>\n",
              "      <td>75886</td>\n",
              "    </tr>\n",
              "    <tr>\n",
              "      <th>publishedDate</th>\n",
              "      <td>25305</td>\n",
              "    </tr>\n",
              "    <tr>\n",
              "      <th>infoLink</th>\n",
              "      <td>23836</td>\n",
              "    </tr>\n",
              "    <tr>\n",
              "      <th>categories</th>\n",
              "      <td>41199</td>\n",
              "    </tr>\n",
              "    <tr>\n",
              "      <th>ratingsCount</th>\n",
              "      <td>162652</td>\n",
              "    </tr>\n",
              "  </tbody>\n",
              "</table>\n",
              "</div><br><label><b>dtype:</b> int64</label>"
            ]
          },
          "metadata": {},
          "execution_count": 10
        }
      ],
      "execution_count": 10
    },
    {
      "metadata": {
        "ExecuteTime": {
          "end_time": "2025-02-08T20:36:43.711190Z",
          "start_time": "2025-02-08T20:36:43.642271Z"
        },
        "colab": {
          "base_uri": "https://localhost:8080/"
        },
        "id": "b69fa1529748d3a6",
        "outputId": "8901b842-1d60-449c-eeac-669a9361d11f"
      },
      "cell_type": "code",
      "source": [
        "books_df = books_df.drop_duplicates(subset=['Title']).reset_index(drop=True)\n",
        "books_df.dropna(subset=['Title'], inplace=True)\n",
        "books_df.shape"
      ],
      "id": "b69fa1529748d3a6",
      "outputs": [
        {
          "output_type": "execute_result",
          "data": {
            "text/plain": [
              "(212403, 10)"
            ]
          },
          "metadata": {},
          "execution_count": 11
        }
      ],
      "execution_count": 11
    },
    {
      "metadata": {
        "ExecuteTime": {
          "end_time": "2025-02-08T20:36:43.820881Z",
          "start_time": "2025-02-08T20:36:43.731434Z"
        },
        "colab": {
          "base_uri": "https://localhost:8080/"
        },
        "id": "f2635dd5bdfd4605",
        "outputId": "1c0bbfad-0b71-412c-e2b3-09c5e4122b9c"
      },
      "cell_type": "code",
      "source": [
        "ratings_df['Id'].nunique()"
      ],
      "id": "f2635dd5bdfd4605",
      "outputs": [
        {
          "output_type": "execute_result",
          "data": {
            "text/plain": [
              "221998"
            ]
          },
          "metadata": {},
          "execution_count": 12
        }
      ],
      "execution_count": 12
    },
    {
      "metadata": {
        "ExecuteTime": {
          "end_time": "2025-02-08T20:36:44.285195Z",
          "start_time": "2025-02-08T20:36:43.827020Z"
        },
        "colab": {
          "base_uri": "https://localhost:8080/",
          "height": 398
        },
        "id": "a5c24f09989c2bb6",
        "outputId": "cfad481a-b7fa-4707-f77d-ac0b519cd33d"
      },
      "cell_type": "code",
      "source": [
        "ratings_df.isnull().sum()"
      ],
      "id": "a5c24f09989c2bb6",
      "outputs": [
        {
          "output_type": "execute_result",
          "data": {
            "text/plain": [
              "Id                          0\n",
              "Title                     208\n",
              "Price                 2518829\n",
              "User_id                561787\n",
              "profileName            561905\n",
              "review/helpfulness          0\n",
              "review/score                0\n",
              "review/time                 0\n",
              "review/summary            407\n",
              "review/text                 8\n",
              "dtype: int64"
            ],
            "text/html": [
              "<div>\n",
              "<style scoped>\n",
              "    .dataframe tbody tr th:only-of-type {\n",
              "        vertical-align: middle;\n",
              "    }\n",
              "\n",
              "    .dataframe tbody tr th {\n",
              "        vertical-align: top;\n",
              "    }\n",
              "\n",
              "    .dataframe thead th {\n",
              "        text-align: right;\n",
              "    }\n",
              "</style>\n",
              "<table border=\"1\" class=\"dataframe\">\n",
              "  <thead>\n",
              "    <tr style=\"text-align: right;\">\n",
              "      <th></th>\n",
              "      <th>0</th>\n",
              "    </tr>\n",
              "  </thead>\n",
              "  <tbody>\n",
              "    <tr>\n",
              "      <th>Id</th>\n",
              "      <td>0</td>\n",
              "    </tr>\n",
              "    <tr>\n",
              "      <th>Title</th>\n",
              "      <td>208</td>\n",
              "    </tr>\n",
              "    <tr>\n",
              "      <th>Price</th>\n",
              "      <td>2518829</td>\n",
              "    </tr>\n",
              "    <tr>\n",
              "      <th>User_id</th>\n",
              "      <td>561787</td>\n",
              "    </tr>\n",
              "    <tr>\n",
              "      <th>profileName</th>\n",
              "      <td>561905</td>\n",
              "    </tr>\n",
              "    <tr>\n",
              "      <th>review/helpfulness</th>\n",
              "      <td>0</td>\n",
              "    </tr>\n",
              "    <tr>\n",
              "      <th>review/score</th>\n",
              "      <td>0</td>\n",
              "    </tr>\n",
              "    <tr>\n",
              "      <th>review/time</th>\n",
              "      <td>0</td>\n",
              "    </tr>\n",
              "    <tr>\n",
              "      <th>review/summary</th>\n",
              "      <td>407</td>\n",
              "    </tr>\n",
              "    <tr>\n",
              "      <th>review/text</th>\n",
              "      <td>8</td>\n",
              "    </tr>\n",
              "  </tbody>\n",
              "</table>\n",
              "</div><br><label><b>dtype:</b> int64</label>"
            ]
          },
          "metadata": {},
          "execution_count": 13
        }
      ],
      "execution_count": 13
    },
    {
      "metadata": {
        "ExecuteTime": {
          "end_time": "2025-02-08T20:36:45.045278Z",
          "start_time": "2025-02-08T20:36:44.310359Z"
        },
        "colab": {
          "base_uri": "https://localhost:8080/"
        },
        "id": "55e7a414e5452918",
        "outputId": "762becae-02cb-4497-e3f3-090d0b7b2938"
      },
      "cell_type": "code",
      "source": [
        "ratings_df = ratings_df.dropna(subset=['Title', 'User_id']).reset_index(drop=True)\n",
        "ratings_df.shape"
      ],
      "id": "55e7a414e5452918",
      "outputs": [
        {
          "output_type": "execute_result",
          "data": {
            "text/plain": [
              "(2438018, 10)"
            ]
          },
          "metadata": {},
          "execution_count": 14
        }
      ],
      "execution_count": 14
    },
    {
      "metadata": {
        "ExecuteTime": {
          "end_time": "2025-02-08T20:36:45.458254Z",
          "start_time": "2025-02-08T20:36:45.066376Z"
        },
        "colab": {
          "base_uri": "https://localhost:8080/",
          "height": 380
        },
        "id": "bc54bc3957bfed37",
        "outputId": "8fc19c8a-0fed-4a91-8b92-3f135d98accf"
      },
      "cell_type": "code",
      "source": [
        "ratings_df['review_date'] = pd.to_datetime(ratings_df['review/time'], unit='s')\n",
        "ratings_df = ratings_df.drop(columns=['review/time'])\n",
        "ratings_df.head()"
      ],
      "id": "bc54bc3957bfed37",
      "outputs": [
        {
          "output_type": "execute_result",
          "data": {
            "text/plain": [
              "           Id                           Title  Price         User_id  \\\n",
              "0  1882931173  Its Only Art If Its Well Hung!    NaN   AVCGYZL8FQQTD   \n",
              "1  0826414346        Dr. Seuss: American Icon    NaN  A30TK6U7DNS82R   \n",
              "2  0826414346        Dr. Seuss: American Icon    NaN  A3UH4UZ4RSVO82   \n",
              "3  0826414346        Dr. Seuss: American Icon    NaN  A2MVUWT453QH61   \n",
              "4  0826414346        Dr. Seuss: American Icon    NaN  A22X4XUPKF66MR   \n",
              "\n",
              "                          profileName review/helpfulness  review/score  \\\n",
              "0               Jim of Oz \"jim-of-oz\"                7/7           4.0   \n",
              "1                       Kevin Killian              10/10           5.0   \n",
              "2                        John Granger              10/11           5.0   \n",
              "3  Roy E. Perry \"amateur philosopher\"                7/7           4.0   \n",
              "4     D. H. Richards \"ninthwavestore\"                3/3           4.0   \n",
              "\n",
              "                                    review/summary  \\\n",
              "0           Nice collection of Julie Strain images   \n",
              "1                                Really Enjoyed It   \n",
              "2  Essential for every personal and Public Library   \n",
              "3  Phlip Nel gives silly Seuss a serious treatment   \n",
              "4                           Good academic overview   \n",
              "\n",
              "                                         review/text review_date  \n",
              "0  This is only for Julie Strain fans. It's a col...  1999-10-23  \n",
              "1  I don't care much for Dr. Seuss but after read...  2004-09-21  \n",
              "2  If people become the books they read and if \"t...  2004-03-09  \n",
              "3  Theodore Seuss Geisel (1904-1991), aka &quot;D...  2004-07-25  \n",
              "4  Philip Nel - Dr. Seuss: American IconThis is b...  2005-02-10  "
            ],
            "text/html": [
              "\n",
              "  <div id=\"df-166a59c0-6d4b-4631-ab5d-6ee750049963\" class=\"colab-df-container\">\n",
              "    <div>\n",
              "<style scoped>\n",
              "    .dataframe tbody tr th:only-of-type {\n",
              "        vertical-align: middle;\n",
              "    }\n",
              "\n",
              "    .dataframe tbody tr th {\n",
              "        vertical-align: top;\n",
              "    }\n",
              "\n",
              "    .dataframe thead th {\n",
              "        text-align: right;\n",
              "    }\n",
              "</style>\n",
              "<table border=\"1\" class=\"dataframe\">\n",
              "  <thead>\n",
              "    <tr style=\"text-align: right;\">\n",
              "      <th></th>\n",
              "      <th>Id</th>\n",
              "      <th>Title</th>\n",
              "      <th>Price</th>\n",
              "      <th>User_id</th>\n",
              "      <th>profileName</th>\n",
              "      <th>review/helpfulness</th>\n",
              "      <th>review/score</th>\n",
              "      <th>review/summary</th>\n",
              "      <th>review/text</th>\n",
              "      <th>review_date</th>\n",
              "    </tr>\n",
              "  </thead>\n",
              "  <tbody>\n",
              "    <tr>\n",
              "      <th>0</th>\n",
              "      <td>1882931173</td>\n",
              "      <td>Its Only Art If Its Well Hung!</td>\n",
              "      <td>NaN</td>\n",
              "      <td>AVCGYZL8FQQTD</td>\n",
              "      <td>Jim of Oz \"jim-of-oz\"</td>\n",
              "      <td>7/7</td>\n",
              "      <td>4.0</td>\n",
              "      <td>Nice collection of Julie Strain images</td>\n",
              "      <td>This is only for Julie Strain fans. It's a col...</td>\n",
              "      <td>1999-10-23</td>\n",
              "    </tr>\n",
              "    <tr>\n",
              "      <th>1</th>\n",
              "      <td>0826414346</td>\n",
              "      <td>Dr. Seuss: American Icon</td>\n",
              "      <td>NaN</td>\n",
              "      <td>A30TK6U7DNS82R</td>\n",
              "      <td>Kevin Killian</td>\n",
              "      <td>10/10</td>\n",
              "      <td>5.0</td>\n",
              "      <td>Really Enjoyed It</td>\n",
              "      <td>I don't care much for Dr. Seuss but after read...</td>\n",
              "      <td>2004-09-21</td>\n",
              "    </tr>\n",
              "    <tr>\n",
              "      <th>2</th>\n",
              "      <td>0826414346</td>\n",
              "      <td>Dr. Seuss: American Icon</td>\n",
              "      <td>NaN</td>\n",
              "      <td>A3UH4UZ4RSVO82</td>\n",
              "      <td>John Granger</td>\n",
              "      <td>10/11</td>\n",
              "      <td>5.0</td>\n",
              "      <td>Essential for every personal and Public Library</td>\n",
              "      <td>If people become the books they read and if \"t...</td>\n",
              "      <td>2004-03-09</td>\n",
              "    </tr>\n",
              "    <tr>\n",
              "      <th>3</th>\n",
              "      <td>0826414346</td>\n",
              "      <td>Dr. Seuss: American Icon</td>\n",
              "      <td>NaN</td>\n",
              "      <td>A2MVUWT453QH61</td>\n",
              "      <td>Roy E. Perry \"amateur philosopher\"</td>\n",
              "      <td>7/7</td>\n",
              "      <td>4.0</td>\n",
              "      <td>Phlip Nel gives silly Seuss a serious treatment</td>\n",
              "      <td>Theodore Seuss Geisel (1904-1991), aka &amp;quot;D...</td>\n",
              "      <td>2004-07-25</td>\n",
              "    </tr>\n",
              "    <tr>\n",
              "      <th>4</th>\n",
              "      <td>0826414346</td>\n",
              "      <td>Dr. Seuss: American Icon</td>\n",
              "      <td>NaN</td>\n",
              "      <td>A22X4XUPKF66MR</td>\n",
              "      <td>D. H. Richards \"ninthwavestore\"</td>\n",
              "      <td>3/3</td>\n",
              "      <td>4.0</td>\n",
              "      <td>Good academic overview</td>\n",
              "      <td>Philip Nel - Dr. Seuss: American IconThis is b...</td>\n",
              "      <td>2005-02-10</td>\n",
              "    </tr>\n",
              "  </tbody>\n",
              "</table>\n",
              "</div>\n",
              "    <div class=\"colab-df-buttons\">\n",
              "\n",
              "  <div class=\"colab-df-container\">\n",
              "    <button class=\"colab-df-convert\" onclick=\"convertToInteractive('df-166a59c0-6d4b-4631-ab5d-6ee750049963')\"\n",
              "            title=\"Convert this dataframe to an interactive table.\"\n",
              "            style=\"display:none;\">\n",
              "\n",
              "  <svg xmlns=\"http://www.w3.org/2000/svg\" height=\"24px\" viewBox=\"0 -960 960 960\">\n",
              "    <path d=\"M120-120v-720h720v720H120Zm60-500h600v-160H180v160Zm220 220h160v-160H400v160Zm0 220h160v-160H400v160ZM180-400h160v-160H180v160Zm440 0h160v-160H620v160ZM180-180h160v-160H180v160Zm440 0h160v-160H620v160Z\"/>\n",
              "  </svg>\n",
              "    </button>\n",
              "\n",
              "  <style>\n",
              "    .colab-df-container {\n",
              "      display:flex;\n",
              "      gap: 12px;\n",
              "    }\n",
              "\n",
              "    .colab-df-convert {\n",
              "      background-color: #E8F0FE;\n",
              "      border: none;\n",
              "      border-radius: 50%;\n",
              "      cursor: pointer;\n",
              "      display: none;\n",
              "      fill: #1967D2;\n",
              "      height: 32px;\n",
              "      padding: 0 0 0 0;\n",
              "      width: 32px;\n",
              "    }\n",
              "\n",
              "    .colab-df-convert:hover {\n",
              "      background-color: #E2EBFA;\n",
              "      box-shadow: 0px 1px 2px rgba(60, 64, 67, 0.3), 0px 1px 3px 1px rgba(60, 64, 67, 0.15);\n",
              "      fill: #174EA6;\n",
              "    }\n",
              "\n",
              "    .colab-df-buttons div {\n",
              "      margin-bottom: 4px;\n",
              "    }\n",
              "\n",
              "    [theme=dark] .colab-df-convert {\n",
              "      background-color: #3B4455;\n",
              "      fill: #D2E3FC;\n",
              "    }\n",
              "\n",
              "    [theme=dark] .colab-df-convert:hover {\n",
              "      background-color: #434B5C;\n",
              "      box-shadow: 0px 1px 3px 1px rgba(0, 0, 0, 0.15);\n",
              "      filter: drop-shadow(0px 1px 2px rgba(0, 0, 0, 0.3));\n",
              "      fill: #FFFFFF;\n",
              "    }\n",
              "  </style>\n",
              "\n",
              "    <script>\n",
              "      const buttonEl =\n",
              "        document.querySelector('#df-166a59c0-6d4b-4631-ab5d-6ee750049963 button.colab-df-convert');\n",
              "      buttonEl.style.display =\n",
              "        google.colab.kernel.accessAllowed ? 'block' : 'none';\n",
              "\n",
              "      async function convertToInteractive(key) {\n",
              "        const element = document.querySelector('#df-166a59c0-6d4b-4631-ab5d-6ee750049963');\n",
              "        const dataTable =\n",
              "          await google.colab.kernel.invokeFunction('convertToInteractive',\n",
              "                                                    [key], {});\n",
              "        if (!dataTable) return;\n",
              "\n",
              "        const docLinkHtml = 'Like what you see? Visit the ' +\n",
              "          '<a target=\"_blank\" href=https://colab.research.google.com/notebooks/data_table.ipynb>data table notebook</a>'\n",
              "          + ' to learn more about interactive tables.';\n",
              "        element.innerHTML = '';\n",
              "        dataTable['output_type'] = 'display_data';\n",
              "        await google.colab.output.renderOutput(dataTable, element);\n",
              "        const docLink = document.createElement('div');\n",
              "        docLink.innerHTML = docLinkHtml;\n",
              "        element.appendChild(docLink);\n",
              "      }\n",
              "    </script>\n",
              "  </div>\n",
              "\n",
              "\n",
              "<div id=\"df-74186036-fe7b-40ad-8ef2-6c9830a01b1a\">\n",
              "  <button class=\"colab-df-quickchart\" onclick=\"quickchart('df-74186036-fe7b-40ad-8ef2-6c9830a01b1a')\"\n",
              "            title=\"Suggest charts\"\n",
              "            style=\"display:none;\">\n",
              "\n",
              "<svg xmlns=\"http://www.w3.org/2000/svg\" height=\"24px\"viewBox=\"0 0 24 24\"\n",
              "     width=\"24px\">\n",
              "    <g>\n",
              "        <path d=\"M19 3H5c-1.1 0-2 .9-2 2v14c0 1.1.9 2 2 2h14c1.1 0 2-.9 2-2V5c0-1.1-.9-2-2-2zM9 17H7v-7h2v7zm4 0h-2V7h2v10zm4 0h-2v-4h2v4z\"/>\n",
              "    </g>\n",
              "</svg>\n",
              "  </button>\n",
              "\n",
              "<style>\n",
              "  .colab-df-quickchart {\n",
              "      --bg-color: #E8F0FE;\n",
              "      --fill-color: #1967D2;\n",
              "      --hover-bg-color: #E2EBFA;\n",
              "      --hover-fill-color: #174EA6;\n",
              "      --disabled-fill-color: #AAA;\n",
              "      --disabled-bg-color: #DDD;\n",
              "  }\n",
              "\n",
              "  [theme=dark] .colab-df-quickchart {\n",
              "      --bg-color: #3B4455;\n",
              "      --fill-color: #D2E3FC;\n",
              "      --hover-bg-color: #434B5C;\n",
              "      --hover-fill-color: #FFFFFF;\n",
              "      --disabled-bg-color: #3B4455;\n",
              "      --disabled-fill-color: #666;\n",
              "  }\n",
              "\n",
              "  .colab-df-quickchart {\n",
              "    background-color: var(--bg-color);\n",
              "    border: none;\n",
              "    border-radius: 50%;\n",
              "    cursor: pointer;\n",
              "    display: none;\n",
              "    fill: var(--fill-color);\n",
              "    height: 32px;\n",
              "    padding: 0;\n",
              "    width: 32px;\n",
              "  }\n",
              "\n",
              "  .colab-df-quickchart:hover {\n",
              "    background-color: var(--hover-bg-color);\n",
              "    box-shadow: 0 1px 2px rgba(60, 64, 67, 0.3), 0 1px 3px 1px rgba(60, 64, 67, 0.15);\n",
              "    fill: var(--button-hover-fill-color);\n",
              "  }\n",
              "\n",
              "  .colab-df-quickchart-complete:disabled,\n",
              "  .colab-df-quickchart-complete:disabled:hover {\n",
              "    background-color: var(--disabled-bg-color);\n",
              "    fill: var(--disabled-fill-color);\n",
              "    box-shadow: none;\n",
              "  }\n",
              "\n",
              "  .colab-df-spinner {\n",
              "    border: 2px solid var(--fill-color);\n",
              "    border-color: transparent;\n",
              "    border-bottom-color: var(--fill-color);\n",
              "    animation:\n",
              "      spin 1s steps(1) infinite;\n",
              "  }\n",
              "\n",
              "  @keyframes spin {\n",
              "    0% {\n",
              "      border-color: transparent;\n",
              "      border-bottom-color: var(--fill-color);\n",
              "      border-left-color: var(--fill-color);\n",
              "    }\n",
              "    20% {\n",
              "      border-color: transparent;\n",
              "      border-left-color: var(--fill-color);\n",
              "      border-top-color: var(--fill-color);\n",
              "    }\n",
              "    30% {\n",
              "      border-color: transparent;\n",
              "      border-left-color: var(--fill-color);\n",
              "      border-top-color: var(--fill-color);\n",
              "      border-right-color: var(--fill-color);\n",
              "    }\n",
              "    40% {\n",
              "      border-color: transparent;\n",
              "      border-right-color: var(--fill-color);\n",
              "      border-top-color: var(--fill-color);\n",
              "    }\n",
              "    60% {\n",
              "      border-color: transparent;\n",
              "      border-right-color: var(--fill-color);\n",
              "    }\n",
              "    80% {\n",
              "      border-color: transparent;\n",
              "      border-right-color: var(--fill-color);\n",
              "      border-bottom-color: var(--fill-color);\n",
              "    }\n",
              "    90% {\n",
              "      border-color: transparent;\n",
              "      border-bottom-color: var(--fill-color);\n",
              "    }\n",
              "  }\n",
              "</style>\n",
              "\n",
              "  <script>\n",
              "    async function quickchart(key) {\n",
              "      const quickchartButtonEl =\n",
              "        document.querySelector('#' + key + ' button');\n",
              "      quickchartButtonEl.disabled = true;  // To prevent multiple clicks.\n",
              "      quickchartButtonEl.classList.add('colab-df-spinner');\n",
              "      try {\n",
              "        const charts = await google.colab.kernel.invokeFunction(\n",
              "            'suggestCharts', [key], {});\n",
              "      } catch (error) {\n",
              "        console.error('Error during call to suggestCharts:', error);\n",
              "      }\n",
              "      quickchartButtonEl.classList.remove('colab-df-spinner');\n",
              "      quickchartButtonEl.classList.add('colab-df-quickchart-complete');\n",
              "    }\n",
              "    (() => {\n",
              "      let quickchartButtonEl =\n",
              "        document.querySelector('#df-74186036-fe7b-40ad-8ef2-6c9830a01b1a button');\n",
              "      quickchartButtonEl.style.display =\n",
              "        google.colab.kernel.accessAllowed ? 'block' : 'none';\n",
              "    })();\n",
              "  </script>\n",
              "</div>\n",
              "\n",
              "    </div>\n",
              "  </div>\n"
            ],
            "application/vnd.google.colaboratory.intrinsic+json": {
              "type": "dataframe",
              "variable_name": "ratings_df"
            }
          },
          "metadata": {},
          "execution_count": 15
        }
      ],
      "execution_count": 15
    },
    {
      "metadata": {
        "ExecuteTime": {
          "end_time": "2025-02-08T20:36:45.486135Z",
          "start_time": "2025-02-08T20:36:45.484013Z"
        },
        "colab": {
          "base_uri": "https://localhost:8080/"
        },
        "id": "39e2b5ba48b31edc",
        "outputId": "5b1e849a-626c-4013-e9d7-2a709ccb8838"
      },
      "cell_type": "code",
      "source": [
        "# Convert all columns titles to lower case\n",
        "books_df.columns = books_df.columns.str.lower()\n",
        "print(f'Books DF columns: {books_df.columns}')\n",
        "\n",
        "ratings_df.columns = ratings_df.columns.str.lower()\n",
        "print(f'Ratings DF columns: {ratings_df.columns}')"
      ],
      "id": "39e2b5ba48b31edc",
      "outputs": [
        {
          "output_type": "stream",
          "name": "stdout",
          "text": [
            "Books DF columns: Index(['title', 'description', 'authors', 'image', 'previewlink', 'publisher',\n",
            "       'publisheddate', 'infolink', 'categories', 'ratingscount'],\n",
            "      dtype='object')\n",
            "Ratings DF columns: Index(['id', 'title', 'price', 'user_id', 'profilename', 'review/helpfulness',\n",
            "       'review/score', 'review/summary', 'review/text', 'review_date'],\n",
            "      dtype='object')\n"
          ]
        }
      ],
      "execution_count": 16
    },
    {
      "metadata": {
        "ExecuteTime": {
          "end_time": "2025-02-08T20:36:45.518193Z",
          "start_time": "2025-02-08T20:36:45.515743Z"
        },
        "colab": {
          "base_uri": "https://localhost:8080/"
        },
        "id": "4058ad1b7a075988",
        "outputId": "a6eb4e89-0c48-4391-cbca-fe77657093d6"
      },
      "cell_type": "code",
      "source": [
        "# Format column title\n",
        "ratings_df.columns = ratings_df.columns.str.replace('/', '_')\n",
        "print(f'Ratings DF columns: {ratings_df.columns}')"
      ],
      "id": "4058ad1b7a075988",
      "outputs": [
        {
          "output_type": "stream",
          "name": "stdout",
          "text": [
            "Ratings DF columns: Index(['id', 'title', 'price', 'user_id', 'profilename', 'review_helpfulness',\n",
            "       'review_score', 'review_summary', 'review_text', 'review_date'],\n",
            "      dtype='object')\n"
          ]
        }
      ],
      "execution_count": 17
    },
    {
      "metadata": {
        "id": "c8354d9b9bc7175b"
      },
      "cell_type": "markdown",
      "source": [
        "## Split Dataset for Validation based on Date"
      ],
      "id": "c8354d9b9bc7175b"
    },
    {
      "metadata": {
        "ExecuteTime": {
          "end_time": "2025-02-08T20:36:45.546846Z",
          "start_time": "2025-02-08T20:36:45.542184Z"
        },
        "colab": {
          "base_uri": "https://localhost:8080/"
        },
        "id": "2f1a5cbdcfc80409",
        "outputId": "5b293843-f077-42ad-ad6f-621d9ead429f"
      },
      "cell_type": "code",
      "source": [
        "validation_start_date = (ratings_df['review_date'].max() - datetime.timedelta(days=365)).date()\n",
        "validation_start_date = pd.Timestamp(validation_start_date)\n",
        "validation_start_date"
      ],
      "id": "2f1a5cbdcfc80409",
      "outputs": [
        {
          "output_type": "execute_result",
          "data": {
            "text/plain": [
              "Timestamp('2012-03-04 00:00:00')"
            ]
          },
          "metadata": {},
          "execution_count": 18
        }
      ],
      "execution_count": 18
    },
    {
      "metadata": {
        "ExecuteTime": {
          "end_time": "2025-02-08T20:36:45.566943Z",
          "start_time": "2025-02-08T20:36:45.563061Z"
        },
        "colab": {
          "base_uri": "https://localhost:8080/"
        },
        "id": "7ca23956223dbc11",
        "outputId": "7ba82ad8-52d8-4814-cb01-c83d14a21995"
      },
      "cell_type": "code",
      "source": [
        "ratings_df['review_date'].max()"
      ],
      "id": "7ca23956223dbc11",
      "outputs": [
        {
          "output_type": "execute_result",
          "data": {
            "text/plain": [
              "Timestamp('2013-03-04 00:00:00')"
            ]
          },
          "metadata": {},
          "execution_count": 19
        }
      ],
      "execution_count": 19
    },
    {
      "metadata": {
        "ExecuteTime": {
          "end_time": "2025-02-08T20:36:45.740756Z",
          "start_time": "2025-02-08T20:36:45.585054Z"
        },
        "id": "4a8f96cdc1149260",
        "colab": {
          "base_uri": "https://localhost:8080/"
        },
        "outputId": "1dc9e38c-81bf-49b3-e414-6554ad919199"
      },
      "cell_type": "code",
      "source": [
        "#### RAM Killer ####\n",
        "# Define file paths (on Google Drive or local path)\n",
        "train_file_path = \"/content/drive/MyDrive/Capstone - Spring 2025 Personal/modeling/train_df.csv\"\n",
        "test_file_path = \"/content/drive/MyDrive/Capstone - Spring 2025 Personal/modeling/test_df.csv\"\n",
        "\n",
        "# Check if the train/test files exist\n",
        "if not os.path.exists(train_file_path) or not os.path.exists(test_file_path):\n",
        "    print(\"Train/test split files do not exist. Creating them now...\")\n",
        "\n",
        "    # Sort the dataframe by user_id and timestamp\n",
        "    ratings_df = ratings_df.sort_values(by=['user_id', 'review_date'])\n",
        "\n",
        "    # Create train/test splits using groupby and apply with progress bar\n",
        "    train_df = ratings_df.groupby('user_id').progress_apply(lambda x: x.iloc[:-1]).reset_index(drop=True)\n",
        "    test_df = ratings_df.groupby('user_id').progress_apply(lambda x: x.iloc[-1:]).reset_index(drop=True)\n",
        "\n",
        "    # Save the splits to CSV files on Google Drive\n",
        "    train_df.to_csv(train_file_path, index=False)\n",
        "    test_df.to_csv(test_file_path, index=False)\n",
        "\n",
        "    print(f\"Training set saved at: {train_file_path}\")\n",
        "    print(f\"Test set saved at: {test_file_path}\")\n",
        "else:\n",
        "    print(f\"Train/test split files already exist. Loading them...\")\n",
        "\n",
        "    # Load the saved train/test splits from CSV files\n",
        "    train_df = pd.read_csv(train_file_path)\n",
        "    test_df = pd.read_csv(test_file_path)\n",
        "\n",
        "# Check the sizes of the datasets\n",
        "print(f\"Training set: {train_df.shape}\")\n",
        "print(f\"Test set: {test_df.shape}\")"
      ],
      "id": "4a8f96cdc1149260",
      "outputs": [
        {
          "output_type": "stream",
          "name": "stdout",
          "text": [
            "Train/test split files already exist. Loading them...\n",
            "Training set: (1429057, 10)\n",
            "Test set: (1008961, 10)\n"
          ]
        }
      ],
      "execution_count": 20
    },
    {
      "metadata": {
        "id": "8e1e957bcff67306"
      },
      "cell_type": "markdown",
      "source": [
        "## Train on all data before Validation Date"
      ],
      "id": "8e1e957bcff67306"
    },
    {
      "metadata": {
        "ExecuteTime": {
          "end_time": "2025-02-08T20:36:45.985039Z",
          "start_time": "2025-02-08T20:36:45.749897Z"
        },
        "colab": {
          "base_uri": "https://localhost:8080/"
        },
        "id": "ae9de4db1f2ee08d",
        "outputId": "a6252083-79dd-43bf-9148-a49440d9ad67"
      },
      "cell_type": "code",
      "source": [
        "# Convert datasets into tensor datasets\n",
        "train_ds = tf.data.Dataset.from_tensor_slices(dict(train_df[['user_id', 'title', 'review_score']]))\n",
        "\n",
        "for x in train_ds.take(5).as_numpy_iterator():\n",
        "    print(x)\n",
        "\n",
        "print('\\n')\n",
        "\n",
        "test_ds = tf.data.Dataset.from_tensor_slices(dict(test_df[['user_id', 'title', 'review_score']]))\n",
        "\n",
        "for x in test_ds.take(5).as_numpy_iterator():\n",
        "    print(x)"
      ],
      "id": "ae9de4db1f2ee08d",
      "outputs": [
        {
          "output_type": "stream",
          "name": "stdout",
          "text": [
            "{'user_id': b'A0015610VMNR0JC9XVL1', 'title': b'The Richest Man in Babylon', 'review_score': 5.0}\n",
            "{'user_id': b'A0015610VMNR0JC9XVL1', 'title': b'The richest man in Babylon (Babylonian parables dealing with the principles of finance, etc)', 'review_score': 5.0}\n",
            "{'user_id': b'A0015610VMNR0JC9XVL1', 'title': b'The richest man in Babylon', 'review_score': 5.0}\n",
            "{'user_id': b'A0015610VMNR0JC9XVL1', 'title': b'ATTITUDE 101', 'review_score': 3.0}\n",
            "{'user_id': b'A0015610VMNR0JC9XVL1', 'title': b'The richest man in Babylon', 'review_score': 5.0}\n",
            "\n",
            "\n",
            "{'user_id': b'A00109803PZJ91RLT7DPN', 'title': b\"This Calder Range (Calder Saga's)\", 'review_score': 5.0}\n",
            "{'user_id': b'A00117421L76WVWG4UX95', 'title': b'The Queen of Harlem: A Novel', 'review_score': 5.0}\n",
            "{'user_id': b'A0015610VMNR0JC9XVL1', 'title': b'The richest man in Babylon', 'review_score': 5.0}\n",
            "{'user_id': b'A002258237PFYJV336T05', 'title': b'Swan Place', 'review_score': 5.0}\n",
            "{'user_id': b'A00264602WCXBHHFPLTQ4', 'title': b'The Berenstain Bears and Too Much Vacation', 'review_score': 5.0}\n"
          ]
        }
      ],
      "execution_count": 22
    },
    {
      "metadata": {
        "ExecuteTime": {
          "end_time": "2025-02-08T20:36:46.354242Z",
          "start_time": "2025-02-08T20:36:45.995906Z"
        },
        "colab": {
          "base_uri": "https://localhost:8080/"
        },
        "id": "c336c7f946645d5b",
        "outputId": "48faacc7-a46a-4ef7-f549-b54847563d08"
      },
      "cell_type": "code",
      "source": [
        "# Create Feature Vocabularies\n",
        "unique_user_ids = train_df['user_id'].unique()\n",
        "unique_titles = train_df['title'].unique()\n",
        "unique_review_scores = train_df['review_score'].unique()\n",
        "\n",
        "# Candidates for retrieval Task\n",
        "candidate_ds = tf.data.Dataset.from_tensor_slices(dict(\n",
        "    train_df[['title']].drop_duplicates()\n",
        "))\n",
        "\n",
        "for x in candidate_ds.take(5).as_numpy_iterator():\n",
        "    print(x)"
      ],
      "id": "c336c7f946645d5b",
      "outputs": [
        {
          "output_type": "stream",
          "name": "stdout",
          "text": [
            "{'title': b'The Richest Man in Babylon'}\n",
            "{'title': b'The richest man in Babylon (Babylonian parables dealing with the principles of finance, etc)'}\n",
            "{'title': b'The richest man in Babylon'}\n",
            "{'title': b'ATTITUDE 101'}\n",
            "{'title': b'How to Win Friends & Influence People (Cardinal Editions, C 303)'}\n"
          ]
        }
      ],
      "execution_count": 23
    },
    {
      "metadata": {
        "ExecuteTime": {
          "end_time": "2025-02-08T20:37:26.188953Z",
          "start_time": "2025-02-08T20:37:26.180891Z"
        },
        "id": "b823945fd83b209d"
      },
      "cell_type": "code",
      "source": [
        "# Cache train dataset & Candidate dataset\n",
        "train_size = train_df.shape[0]\n",
        "cached_train = train_ds.shuffle(train_size).batch(4096).cache()"
      ],
      "id": "b823945fd83b209d",
      "outputs": [],
      "execution_count": 24
    },
    {
      "metadata": {
        "id": "2fce910e3bc225c7"
      },
      "cell_type": "markdown",
      "source": [
        "## Build Two Tower Models"
      ],
      "id": "2fce910e3bc225c7"
    },
    {
      "metadata": {
        "ExecuteTime": {
          "end_time": "2025-02-08T20:37:27.756870Z",
          "start_time": "2025-02-08T20:37:27.752339Z"
        },
        "id": "32186b9419c35e84"
      },
      "cell_type": "code",
      "source": [
        "# User/Query Model\n",
        "class UserModel(tf.keras.Model):\n",
        "    '''\n",
        "    The user(query) tower\n",
        "    '''\n",
        "\n",
        "    def __init__(self,\n",
        "                 unique_user_ids: np.ndarray,\n",
        "                 feature_user_id_name: str,\n",
        "                 embedding_dimensions: int):\n",
        "        '''\n",
        "        Params\n",
        "        :param unique_user_ids: array of unique user ids\n",
        "        :param feature_user_id_name: name of the feature\n",
        "        :param embedding_dimension: number of dimensions in embedding layer\n",
        "        '''\n",
        "        super().__init__()\n",
        "        self.feature_user_id_name = feature_user_id_name\n",
        "\n",
        "        self.user_embedding_layers = tf.keras.Sequential(\n",
        "            [\n",
        "                tf.keras.layers.StringLookup(\n",
        "                    vocabulary=unique_user_ids,\n",
        "                    mask_token=None,\n",
        "                    name='user_id_vocab',\n",
        "                ),\n",
        "                tf.keras.layers.Embedding(\n",
        "                    input_dim=len(unique_user_ids) + 1,\n",
        "                    output_dim=embedding_dimensions,\n",
        "                    name='user_id_embedding',\n",
        "                ),\n",
        "            ],\n",
        "        )\n",
        "\n",
        "    def call(self, inputs: Dict[Text, tf.Tensor]) -> tf.Tensor:\n",
        "        return self.user_embedding_layers(inputs[self.feature_user_id_name])"
      ],
      "id": "32186b9419c35e84",
      "outputs": [],
      "execution_count": 25
    },
    {
      "metadata": {
        "ExecuteTime": {
          "end_time": "2025-02-08T20:37:29.406659Z",
          "start_time": "2025-02-08T20:37:29.402354Z"
        },
        "id": "3967b56d9ffa5a49"
      },
      "cell_type": "code",
      "source": [
        "class BookModel(tf.keras.Model):\n",
        "    '''\n",
        "    The book(query) tower\n",
        "    '''\n",
        "\n",
        "    def __init__(self,\n",
        "                 unique_titles: np.ndarray,\n",
        "                 feature_book_title_name: str,\n",
        "                 embedding_dimensions: int,\n",
        "                 text_vectorization_max_tokens: int):\n",
        "        '''\n",
        "        Params\n",
        "        :param unique_titles: array of unique titles\n",
        "        :param unique_review_scores: array of unique review scores\n",
        "        :param feature_book_title_name: name of the column title\n",
        "        :param embedding_dimensions: number of dimensions in embedding layer\n",
        "        :param text_vectorization_max_tokens: maximum number of tokens to vector\n",
        "        '''\n",
        "        super().__init__()\n",
        "        self.feature_book_title_name = feature_book_title_name\n",
        "\n",
        "        # Book Title embedding\n",
        "        self.book_embedding_layers = tf.keras.Sequential(\n",
        "            [\n",
        "                tf.keras.layers.StringLookup(\n",
        "                    vocabulary=unique_titles,\n",
        "                    mask_token=None,\n",
        "                    name='book_id_vocab',\n",
        "                ),\n",
        "                tf.keras.layers.Embedding(\n",
        "                    input_dim=len(unique_titles) + 1,\n",
        "                    output_dim=embedding_dimensions,\n",
        "                    name='book_id_embedding',\n",
        "                ),\n",
        "            ],\n",
        "            name='book_id_embedding',\n",
        "        )\n",
        "\n",
        "    def call(self, inputs: Dict[Text, tf.Tensor]) -> tf.Tensor:\n",
        "        return tf.concat([\n",
        "            self.book_embedding_layers(inputs[self.feature_book_title_name]),\n",
        "            # add more embedding layers as needed\n",
        "        ], axis=1)"
      ],
      "id": "3967b56d9ffa5a49",
      "outputs": [],
      "execution_count": 26
    },
    {
      "metadata": {
        "ExecuteTime": {
          "end_time": "2025-02-08T20:37:31.347232Z",
          "start_time": "2025-02-08T20:37:31.340084Z"
        },
        "id": "40f898a4e148562e"
      },
      "cell_type": "code",
      "source": [
        "class BooksTwoTowersModel(tfrs.Model):\n",
        "    '''\n",
        "    Two-Towers books recommender model\n",
        "    '''\n",
        "    def __init__(self,\n",
        "                 unique_user_ids: np.ndarray,\n",
        "                 unique_titles: np.ndarray,\n",
        "                 unique_review_scores: np.ndarray,\n",
        "                 candidate_ds: tf.data.Dataset,\n",
        "                 feature_user_id_name: str = 'user_id',\n",
        "                 feature_book_title_name: str = 'title',\n",
        "                 feature_review_score_name: str = 'review_score',\n",
        "                 embedding_dimensions: int = 64):\n",
        "        '''\n",
        "        Instantiate query tower, candidate tower, and retrieval task.\n",
        "        '''\n",
        "        super().__init__()\n",
        "        self.feature_user_id_name = feature_user_id_name\n",
        "        self.feature_book_title_name = feature_book_title_name\n",
        "        self.feature_review_score_name = feature_review_score_name\n",
        "\n",
        "        # Query Tower\n",
        "        self.user_model = UserModel(\n",
        "            unique_user_ids=unique_user_ids,\n",
        "            feature_user_id_name=feature_user_id_name,\n",
        "            embedding_dimensions=embedding_dimensions,\n",
        "        )\n",
        "\n",
        "        # Candidate Tower\n",
        "        text_vectorization_max_tokens = len(unique_titles) + len(unique_review_scores)\n",
        "\n",
        "        book_model_raw = BookModel(\n",
        "            unique_titles=unique_titles,\n",
        "            feature_book_title_name=feature_book_title_name,\n",
        "            embedding_dimensions=embedding_dimensions,\n",
        "            text_vectorization_max_tokens=text_vectorization_max_tokens,\n",
        "        )\n",
        "\n",
        "        # Dense projection layer to equate final tower output dims\n",
        "        self.book_model = tf.keras.Sequential(\n",
        "            [\n",
        "                book_model_raw,\n",
        "                tf.keras.layers.Dense(\n",
        "                    units=embedding_dimensions,\n",
        "                    name='book_dense_projection',\n",
        "                ),\n",
        "            ],\n",
        "            name='book_sequential',\n",
        "        )\n",
        "\n",
        "        # Retrieval Task\n",
        "        self.task = tfrs.tasks.Retrieval(\n",
        "            metrics=tfrs.metrics.FactorizedTopK(\n",
        "                candidates=candidate_ds.batch(128).map(self.book_model),\n",
        "                ks=(10, 20, 50)\n",
        "            )\n",
        "        )\n",
        "\n",
        "    def compute_loss(self,\n",
        "                     features: Dict[Text, tf.Tensor],\n",
        "                     training=False) -> tf.Tensor:\n",
        "        '''\n",
        "        Get embeddings for users and books.\n",
        "        Compute dot product and retrieve candidates.\n",
        "        '''\n",
        "        user_embeddings = self.user_model({\n",
        "            self.feature_user_id_name: features[self.feature_user_id_name],\n",
        "        })\n",
        "\n",
        "        book_embeddings = self.book_model({\n",
        "            self.feature_book_title_name: features[self.feature_book_title_name],\n",
        "        })\n",
        "\n",
        "        # Sample weight logic\n",
        "        review_scores = tf.cast(features[self.feature_review_score_name], tf.float32)\n",
        "        sample_weight = tf.where(review_scores >= 4, 1.0, 0.0)\n",
        "\n",
        "        return self.task(user_embeddings, book_embeddings, compute_metrics=not training)"
      ],
      "id": "40f898a4e148562e",
      "outputs": [],
      "execution_count": 27
    },
    {
      "metadata": {
        "id": "1b794cdc2f588ae5"
      },
      "cell_type": "markdown",
      "source": [
        "## Compile and Train Model"
      ],
      "id": "1b794cdc2f588ae5"
    },
    {
      "metadata": {
        "ExecuteTime": {
          "end_time": "2025-02-08T20:37:34.226045Z",
          "start_time": "2025-02-08T20:37:34.222086Z"
        },
        "id": "41323ae4514fb1e1"
      },
      "cell_type": "code",
      "source": [
        "# Setup log dir for tensorboard\n",
        "LOG_DIR = \"/content/drive/MyDrive/Capstone - Spring 2025 Personal/modeling/logs\"\n",
        "\n",
        "if not os.path.exists(LOG_DIR):\n",
        "    os.makedirs(LOG_DIR)\n",
        "\n",
        "tensorboard_callback = tf.keras.callbacks.TensorBoard(log_dir=LOG_DIR)"
      ],
      "id": "41323ae4514fb1e1",
      "outputs": [],
      "execution_count": 28
    },
    {
      "metadata": {
        "ExecuteTime": {
          "end_time": "2025-02-08T20:40:14.211108Z",
          "start_time": "2025-02-08T20:37:42.834609Z"
        },
        "id": "ee959e005d1b483b"
      },
      "cell_type": "code",
      "source": [
        "# Compile Model\n",
        "model = BooksTwoTowersModel(\n",
        "    unique_user_ids=unique_user_ids,\n",
        "    unique_titles=unique_titles,\n",
        "    unique_review_scores=unique_review_scores,\n",
        "    candidate_ds=candidate_ds,\n",
        "    embedding_dimensions=64,\n",
        ")\n",
        "\n",
        "model.compile(optimizer=tf.keras.optimizers.Adagrad(learning_rate=0.1))"
      ],
      "id": "ee959e005d1b483b",
      "outputs": [],
      "execution_count": 29
    },
    {
      "metadata": {
        "colab": {
          "base_uri": "https://localhost:8080/"
        },
        "id": "f40f8e076b6934c3",
        "outputId": "84644387-c468-4ce6-9901-09b211a0fe79"
      },
      "cell_type": "code",
      "outputs": [
        {
          "output_type": "stream",
          "name": "stdout",
          "text": [
            "Epoch 1/10\n",
            "349/349 [==============================] - 21s 45ms/step - factorized_top_k/top_10_categorical_accuracy: 0.0000e+00 - factorized_top_k/top_20_categorical_accuracy: 0.0000e+00 - factorized_top_k/top_50_categorical_accuracy: 0.0000e+00 - loss: 28517.4051 - regularization_loss: 0.0000e+00 - total_loss: 28517.4051\n",
            "Epoch 2/10\n",
            "349/349 [==============================] - 3s 8ms/step - factorized_top_k/top_10_categorical_accuracy: 0.0000e+00 - factorized_top_k/top_20_categorical_accuracy: 0.0000e+00 - factorized_top_k/top_50_categorical_accuracy: 0.0000e+00 - loss: 20005.3509 - regularization_loss: 0.0000e+00 - total_loss: 20005.3509\n",
            "Epoch 3/10\n",
            "349/349 [==============================] - 3s 8ms/step - factorized_top_k/top_10_categorical_accuracy: 0.0000e+00 - factorized_top_k/top_20_categorical_accuracy: 0.0000e+00 - factorized_top_k/top_50_categorical_accuracy: 0.0000e+00 - loss: 14619.5083 - regularization_loss: 0.0000e+00 - total_loss: 14619.5083\n",
            "Epoch 4/10\n",
            "349/349 [==============================] - 3s 8ms/step - factorized_top_k/top_10_categorical_accuracy: 0.0000e+00 - factorized_top_k/top_20_categorical_accuracy: 0.0000e+00 - factorized_top_k/top_50_categorical_accuracy: 0.0000e+00 - loss: 12010.5014 - regularization_loss: 0.0000e+00 - total_loss: 12010.5014\n",
            "Epoch 5/10\n",
            "349/349 [==============================] - 3s 8ms/step - factorized_top_k/top_10_categorical_accuracy: 0.0000e+00 - factorized_top_k/top_20_categorical_accuracy: 0.0000e+00 - factorized_top_k/top_50_categorical_accuracy: 0.0000e+00 - loss: 10924.9252 - regularization_loss: 0.0000e+00 - total_loss: 10924.9252\n",
            "Epoch 6/10\n",
            "349/349 [==============================] - 3s 8ms/step - factorized_top_k/top_10_categorical_accuracy: 0.0000e+00 - factorized_top_k/top_20_categorical_accuracy: 0.0000e+00 - factorized_top_k/top_50_categorical_accuracy: 0.0000e+00 - loss: 10319.5971 - regularization_loss: 0.0000e+00 - total_loss: 10319.5971\n",
            "Epoch 7/10\n",
            "349/349 [==============================] - 3s 8ms/step - factorized_top_k/top_10_categorical_accuracy: 0.0000e+00 - factorized_top_k/top_20_categorical_accuracy: 0.0000e+00 - factorized_top_k/top_50_categorical_accuracy: 0.0000e+00 - loss: 9933.7015 - regularization_loss: 0.0000e+00 - total_loss: 9933.7015\n",
            "Epoch 8/10\n",
            "349/349 [==============================] - 3s 8ms/step - factorized_top_k/top_10_categorical_accuracy: 0.0000e+00 - factorized_top_k/top_20_categorical_accuracy: 0.0000e+00 - factorized_top_k/top_50_categorical_accuracy: 0.0000e+00 - loss: 9652.3371 - regularization_loss: 0.0000e+00 - total_loss: 9652.3371\n",
            "Epoch 9/10\n",
            "349/349 [==============================] - 3s 8ms/step - factorized_top_k/top_10_categorical_accuracy: 0.0000e+00 - factorized_top_k/top_20_categorical_accuracy: 0.0000e+00 - factorized_top_k/top_50_categorical_accuracy: 0.0000e+00 - loss: 9437.3523 - regularization_loss: 0.0000e+00 - total_loss: 9437.3523\n",
            "Epoch 10/10\n",
            "349/349 [==============================] - 3s 8ms/step - factorized_top_k/top_10_categorical_accuracy: 0.0000e+00 - factorized_top_k/top_20_categorical_accuracy: 0.0000e+00 - factorized_top_k/top_50_categorical_accuracy: 0.0000e+00 - loss: 9264.2568 - regularization_loss: 0.0000e+00 - total_loss: 9264.2568\n"
          ]
        },
        {
          "output_type": "execute_result",
          "data": {
            "text/plain": [
              "<tf_keras.src.callbacks.History at 0x7f91feb1a2d0>"
            ]
          },
          "metadata": {},
          "execution_count": 30
        }
      ],
      "execution_count": 30,
      "source": [
        "# Train\n",
        "model.fit(\n",
        "    cached_train,\n",
        "    epochs=10,\n",
        "    callbacks=[tensorboard_callback],\n",
        ")"
      ],
      "id": "f40f8e076b6934c3"
    },
    {
      "metadata": {
        "colab": {
          "base_uri": "https://localhost:8080/",
          "height": 35
        },
        "id": "bc8c3b9c24fbfe3d",
        "outputId": "62b49e65-64e0-41dc-fbe0-8b9aebb01b97"
      },
      "cell_type": "code",
      "outputs": [
        {
          "output_type": "execute_result",
          "data": {
            "text/plain": [
              "'/content/drive/MyDrive/Capstone - Spring 2025 Personal/modeling/models/train-date=2025-02-09_1519'"
            ],
            "application/vnd.google.colaboratory.intrinsic+json": {
              "type": "string"
            }
          },
          "metadata": {},
          "execution_count": 31
        }
      ],
      "execution_count": 31,
      "source": [
        "TRAIN_DATE = datetime.datetime.now().strftime('%Y-%m-%d_%H%M')\n",
        "MODEL_PATH_BASE = f'/content/drive/MyDrive/Capstone - Spring 2025 Personal/modeling/models/train-date={TRAIN_DATE}'\n",
        "MODEL_PATH_BASE"
      ],
      "id": "bc8c3b9c24fbfe3d"
    },
    {
      "metadata": {
        "colab": {
          "base_uri": "https://localhost:8080/"
        },
        "id": "89af8e13276efde6",
        "outputId": "01214f38-ae3c-41be-e389-e54bdc116a85"
      },
      "cell_type": "code",
      "outputs": [
        {
          "output_type": "stream",
          "name": "stderr",
          "text": [
            "WARNING:tensorflow:Model's `__init__()` arguments contain non-serializable objects. Please implement a `get_config()` method in the subclassed Model for proper saving and loading. Defaulting to empty config.\n",
            "WARNING:tensorflow:Model's `__init__()` arguments contain non-serializable objects. Please implement a `get_config()` method in the subclassed Model for proper saving and loading. Defaulting to empty config.\n",
            "WARNING:tensorflow:Model's `__init__()` arguments contain non-serializable objects. Please implement a `get_config()` method in the subclassed Model for proper saving and loading. Defaulting to empty config.\n",
            "WARNING:tensorflow:Model's `__init__()` arguments contain non-serializable objects. Please implement a `get_config()` method in the subclassed Model for proper saving and loading. Defaulting to empty config.\n",
            "WARNING:tensorflow:Model's `__init__()` arguments contain non-serializable objects. Please implement a `get_config()` method in the subclassed Model for proper saving and loading. Defaulting to empty config.\n",
            "WARNING:tensorflow:Model's `__init__()` arguments contain non-serializable objects. Please implement a `get_config()` method in the subclassed Model for proper saving and loading. Defaulting to empty config.\n",
            "WARNING:tensorflow:Model's `__init__()` arguments contain non-serializable objects. Please implement a `get_config()` method in the subclassed Model for proper saving and loading. Defaulting to empty config.\n",
            "WARNING:tensorflow:Model's `__init__()` arguments contain non-serializable objects. Please implement a `get_config()` method in the subclassed Model for proper saving and loading. Defaulting to empty config.\n",
            "WARNING:tensorflow:Model's `__init__()` arguments contain non-serializable objects. Please implement a `get_config()` method in the subclassed Model for proper saving and loading. Defaulting to empty config.\n",
            "WARNING:tensorflow:Model's `__init__()` arguments contain non-serializable objects. Please implement a `get_config()` method in the subclassed Model for proper saving and loading. Defaulting to empty config.\n",
            "WARNING:tensorflow:Model's `__init__()` arguments contain non-serializable objects. Please implement a `get_config()` method in the subclassed Model for proper saving and loading. Defaulting to empty config.\n",
            "WARNING:tensorflow:Model's `__init__()` arguments contain non-serializable objects. Please implement a `get_config()` method in the subclassed Model for proper saving and loading. Defaulting to empty config.\n"
          ]
        }
      ],
      "execution_count": 32,
      "source": [
        "model.user_model.save(MODEL_PATH_BASE + '/user-tower', save_format='tf')\n",
        "model.book_model.save(MODEL_PATH_BASE + '/book-tower', save_format='tf')"
      ],
      "id": "89af8e13276efde6"
    },
    {
      "metadata": {
        "id": "249d8cd552880931"
      },
      "cell_type": "code",
      "outputs": [],
      "execution_count": null,
      "source": [
        "# Load existing model\n",
        "MODEL_PATH_BASE = '/content/drive/MyDrive/Capstone - Spring 2025 Personal/modeling/models/train-date=2025-02-08_1519'\n",
        "\n",
        "user_model = tf.keras.models.load_model(MODEL_PATH_BASE + '/user-tower')\n",
        "article_model = tf.keras.models.load_model(MODEL_PATH_BASE + '/book-tower')"
      ],
      "id": "249d8cd552880931"
    },
    {
      "cell_type": "markdown",
      "source": [
        "## Validate Recommendation over Test Period (last 1 year)"
      ],
      "metadata": {
        "id": "1cWk39ZDX5Ag"
      },
      "id": "1cWk39ZDX5Ag"
    },
    {
      "cell_type": "markdown",
      "source": [
        "### Set up utility functions"
      ],
      "metadata": {
        "id": "dbgmUvS9ZmXg"
      },
      "id": "dbgmUvS9ZmXg"
    },
    {
      "cell_type": "code",
      "source": [
        "test_ds = tf.data.Dataset.from_tensor_slices({\n",
        "    \"user_id\": test_df[\"user_id\"].values,  # User IDs\n",
        "    \"title\": test_df[\"title\"].values,      # Book Titles\n",
        "    \"review_score\": test_df[\"review_score\"].values,  # Review Scores\n",
        "}).batch(256)"
      ],
      "metadata": {
        "id": "hlMCZxHHc-sM"
      },
      "id": "hlMCZxHHc-sM",
      "execution_count": 36,
      "outputs": []
    },
    {
      "cell_type": "code",
      "source": [
        "test_ds"
      ],
      "metadata": {
        "colab": {
          "base_uri": "https://localhost:8080/"
        },
        "id": "iOFD52Deej0n",
        "outputId": "111c503a-b9ec-4ef0-9219-0405937d56e8"
      },
      "id": "iOFD52Deej0n",
      "execution_count": 37,
      "outputs": [
        {
          "output_type": "execute_result",
          "data": {
            "text/plain": [
              "<_BatchDataset element_spec={'user_id': TensorSpec(shape=(None,), dtype=tf.string, name=None), 'title': TensorSpec(shape=(None,), dtype=tf.string, name=None), 'review_score': TensorSpec(shape=(None,), dtype=tf.float64, name=None)}>"
            ]
          },
          "metadata": {},
          "execution_count": 37
        }
      ]
    },
    {
      "metadata": {
        "colab": {
          "base_uri": "https://localhost:8080/"
        },
        "id": "c2d6e4d1aa1a2a2e",
        "outputId": "86e32801-1402-490b-f2f3-8d78967beabb"
      },
      "cell_type": "code",
      "outputs": [
        {
          "output_type": "stream",
          "name": "stdout",
          "text": [
            "3942/3942 [==============================] - 3808s 966ms/step - factorized_top_k/top_10_categorical_accuracy: 0.1458 - factorized_top_k/top_20_categorical_accuracy: 0.1556 - factorized_top_k/top_50_categorical_accuracy: 0.1638 - loss: 1351.2619 - regularization_loss: 0.0000e+00 - total_loss: 1351.2619\n"
          ]
        }
      ],
      "execution_count": 38,
      "source": [
        "#### RAM Killer - takes about 1hr to run ####\n",
        "# Evaluate Model and save results\n",
        "metrics_file = \"/content/drive/MyDrive/Capstone - Spring 2025 Personal/modeling/models/model_metrics.json\"\n",
        "\n",
        "# Check if the file exists\n",
        "if os.path.exists(metrics_file):\n",
        "    print(\"Metrics file already exists. Loading saved results...\")\n",
        "\n",
        "    # Load the saved results from the JSON file\n",
        "    with open(metrics_file, \"r\") as file:\n",
        "        metrics = json.load(file)\n",
        "else:\n",
        "    print(\"Metrics file not found. Running model evaluation...\")\n",
        "\n",
        "    # Run model evaluation\n",
        "    metrics = model.evaluate(test_ds, return_dict=True)\n",
        "\n",
        "    # Save the metrics as JSON\n",
        "    with open(metrics_file, \"w\") as file:\n",
        "        json.dump(metrics, file, indent=4)\n",
        "    print(\"Metrics saved as JSON!\")"
      ],
      "id": "c2d6e4d1aa1a2a2e"
    },
    {
      "cell_type": "code",
      "source": [
        "# Print Test results for TwoTower model\n",
        "print(f\"Precision@10: {metrics['factorized_top_k/top_10_categorical_accuracy']}\")\n",
        "print(f\"Precision@20: {metrics['factorized_top_k/top_20_categorical_accuracy']}\")\n",
        "print(f\"Precision@50: {metrics['factorized_top_k/top_50_categorical_accuracy']}\")"
      ],
      "metadata": {
        "colab": {
          "base_uri": "https://localhost:8080/"
        },
        "id": "qZzFWfXAZocC",
        "outputId": "8af9c64a-9262-4215-fcf4-e2542a46fb79"
      },
      "id": "qZzFWfXAZocC",
      "execution_count": 39,
      "outputs": [
        {
          "output_type": "stream",
          "name": "stdout",
          "text": [
            "Precision@10: 0.1457519233226776\n",
            "Precision@20: 0.15561552345752716\n",
            "Precision@50: 0.16378730535507202\n"
          ]
        }
      ]
    },
    {
      "metadata": {
        "id": "bdccd68cfbe82f61"
      },
      "cell_type": "code",
      "outputs": [],
      "execution_count": 48,
      "source": [
        "# Create function to generate random recs\n",
        "def random_recs(users, candidates, k=10):\n",
        "  '''\n",
        "  Generate random recommendations for users\n",
        "\n",
        "  Params\n",
        "  :param users: list of users\n",
        "  :param books: list of books\n",
        "  :param k: number of recommendations to generate\n",
        "  '''\n",
        "  recommendations = []\n",
        "  for user in users:\n",
        "      random_book = np.random.choice(candidates, size=k, replace=False)\n",
        "      recommendations.append({'user_id': user, 'title': list(random_book)})\n",
        "\n",
        "  return pd.DataFrame(recommendations)"
      ],
      "id": "bdccd68cfbe82f61"
    },
    {
      "cell_type": "code",
      "source": [
        "# Create function to calculate precision @ K\n",
        "def precision_at_k(recommendations, test_df, k=10):\n",
        "  '''\n",
        "  Compute Precision@K for a given set of recommendations and test data.\n",
        "\n",
        "  Params\n",
        "  :param recommendations: DataFrame of recommendations\n",
        "  :param test_df: DataFrame of test data\n",
        "  :param k: Number of recommendations to consider\n",
        "  '''\n",
        "\n",
        "  def precision_at_k(recommendations, test_df, k):\n",
        "    # Create a dictionary where the keys are user IDs and the values are the set of book titles\n",
        "    test_dict = test_df.groupby('user_id')['title'].apply(set).to_dict()\n",
        "\n",
        "    # Define a helper function to calculate precision for each user\n",
        "    def calculate_precision(row):\n",
        "        user_id = row['user_id']\n",
        "        recommended_titles = set(row['title'][:k])  # Get the top-k recommended books\n",
        "        actual_titles = test_dict.get(user_id, set())\n",
        "        precision = len(recommended_titles & actual_titles) / k\n",
        "        return precision\n",
        "\n",
        "    # Apply the helper function to each row in the recommendations DataFrame\n",
        "    precisions = recommendations.apply(calculate_precision, axis=1)\n",
        "\n",
        "    # Return the average precision\n",
        "    return precisions.mean()"
      ],
      "metadata": {
        "id": "nYy3XqPRgTb0"
      },
      "id": "nYy3XqPRgTb0",
      "execution_count": 51,
      "outputs": []
    },
    {
      "cell_type": "code",
      "source": [
        "# Convert candidate_ds into a list (or array) of books\n",
        "candidate_books = [item['title'].numpy().decode() for item in candidate_ds]\n",
        "\n",
        "# Define k_values for which you want to evaluate precision\n",
        "k_values = [10, 20, 50]\n",
        "\n",
        "# Create a dictionary to store precision results for each k\n",
        "precisions_random = {}\n",
        "\n",
        "# Loop through k_values, generate random recommendations, and calculate precision\n",
        "for k in k_values:\n",
        "    # Generate random recommendations for current k\n",
        "    random_recs_df = random_recs(test_df['user_id'].unique(), candidate_books, k=k)\n",
        "\n",
        "    # Calculate precision for the current k value\n",
        "    precision = precision_at_k(random_recs_df, test_df, k)\n",
        "\n",
        "    # Store precision result\n",
        "    precisions_random[k] = precision\n",
        "\n",
        "# Print the results for each k\n",
        "for k, precision in precisions_random.items():\n",
        "    print(f\"Precision at {k}: {precision}\")"
      ],
      "metadata": {
        "id": "UWPD1sLBgTen"
      },
      "id": "UWPD1sLBgTen",
      "execution_count": null,
      "outputs": []
    },
    {
      "cell_type": "code",
      "source": [],
      "metadata": {
        "id": "V5vOc0MPVwps"
      },
      "id": "V5vOc0MPVwps",
      "execution_count": null,
      "outputs": []
    },
    {
      "cell_type": "code",
      "source": [],
      "metadata": {
        "id": "PPCBlXmEVwsd"
      },
      "id": "PPCBlXmEVwsd",
      "execution_count": null,
      "outputs": []
    },
    {
      "cell_type": "code",
      "source": [],
      "metadata": {
        "id": "E6X1QNOqVwu0"
      },
      "id": "E6X1QNOqVwu0",
      "execution_count": null,
      "outputs": []
    }
  ],
  "metadata": {
    "kernelspec": {
      "display_name": "Python 3",
      "name": "python3"
    },
    "language_info": {
      "codemirror_mode": {
        "name": "ipython",
        "version": 2
      },
      "file_extension": ".py",
      "mimetype": "text/x-python",
      "name": "python",
      "nbconvert_exporter": "python",
      "pygments_lexer": "ipython2",
      "version": "2.7.6"
    },
    "colab": {
      "provenance": [],
      "gpuType": "L4"
    },
    "accelerator": "GPU"
  },
  "nbformat": 4,
  "nbformat_minor": 5
}