{
  "cells": [
    {
      "cell_type": "markdown",
      "id": "cbd764960fb562ac",
      "metadata": {
        "id": "cbd764960fb562ac"
      },
      "source": [
        "# Script to Create User Profiles based on Past Item Interactions"
      ]
    },
    {
      "cell_type": "code",
      "source": [
        "!pip install -q bitsandbytes"
      ],
      "metadata": {
        "colab": {
          "base_uri": "https://localhost:8080/"
        },
        "id": "yqLbvK-KtwT2",
        "outputId": "37acfab2-b9df-4732-f1db-17628e11bfa0"
      },
      "id": "yqLbvK-KtwT2",
      "execution_count": 1,
      "outputs": [
        {
          "output_type": "stream",
          "name": "stdout",
          "text": [
            "\u001b[2K   \u001b[90m━━━━━━━━━━━━━━━━━━━━━━━━━━━━━━━━━━━━━━━━\u001b[0m \u001b[32m76.1/76.1 MB\u001b[0m \u001b[31m8.0 MB/s\u001b[0m eta \u001b[36m0:00:00\u001b[0m\n",
            "\u001b[2K   \u001b[90m━━━━━━━━━━━━━━━━━━━━━━━━━━━━━━━━━━━━━━━━\u001b[0m \u001b[32m363.4/363.4 MB\u001b[0m \u001b[31m3.5 MB/s\u001b[0m eta \u001b[36m0:00:00\u001b[0m\n",
            "\u001b[2K   \u001b[90m━━━━━━━━━━━━━━━━━━━━━━━━━━━━━━━━━━━━━━━━\u001b[0m \u001b[32m13.8/13.8 MB\u001b[0m \u001b[31m51.6 MB/s\u001b[0m eta \u001b[36m0:00:00\u001b[0m\n",
            "\u001b[2K   \u001b[90m━━━━━━━━━━━━━━━━━━━━━━━━━━━━━━━━━━━━━━━━\u001b[0m \u001b[32m24.6/24.6 MB\u001b[0m \u001b[31m40.3 MB/s\u001b[0m eta \u001b[36m0:00:00\u001b[0m\n",
            "\u001b[2K   \u001b[90m━━━━━━━━━━━━━━━━━━━━━━━━━━━━━━━━━━━━━━━━\u001b[0m \u001b[32m883.7/883.7 kB\u001b[0m \u001b[31m33.8 MB/s\u001b[0m eta \u001b[36m0:00:00\u001b[0m\n",
            "\u001b[2K   \u001b[90m━━━━━━━━━━━━━━━━━━━━━━━━━━━━━━━━━━━━━━━━\u001b[0m \u001b[32m664.8/664.8 MB\u001b[0m \u001b[31m2.6 MB/s\u001b[0m eta \u001b[36m0:00:00\u001b[0m\n",
            "\u001b[2K   \u001b[90m━━━━━━━━━━━━━━━━━━━━━━━━━━━━━━━━━━━━━━━━\u001b[0m \u001b[32m211.5/211.5 MB\u001b[0m \u001b[31m5.3 MB/s\u001b[0m eta \u001b[36m0:00:00\u001b[0m\n",
            "\u001b[2K   \u001b[90m━━━━━━━━━━━━━━━━━━━━━━━━━━━━━━━━━━━━━━━━\u001b[0m \u001b[32m56.3/56.3 MB\u001b[0m \u001b[31m12.5 MB/s\u001b[0m eta \u001b[36m0:00:00\u001b[0m\n",
            "\u001b[2K   \u001b[90m━━━━━━━━━━━━━━━━━━━━━━━━━━━━━━━━━━━━━━━━\u001b[0m \u001b[32m127.9/127.9 MB\u001b[0m \u001b[31m7.2 MB/s\u001b[0m eta \u001b[36m0:00:00\u001b[0m\n",
            "\u001b[2K   \u001b[90m━━━━━━━━━━━━━━━━━━━━━━━━━━━━━━━━━━━━━━━━\u001b[0m \u001b[32m207.5/207.5 MB\u001b[0m \u001b[31m5.9 MB/s\u001b[0m eta \u001b[36m0:00:00\u001b[0m\n",
            "\u001b[2K   \u001b[90m━━━━━━━━━━━━━━━━━━━━━━━━━━━━━━━━━━━━━━━━\u001b[0m \u001b[32m21.1/21.1 MB\u001b[0m \u001b[31m61.4 MB/s\u001b[0m eta \u001b[36m0:00:00\u001b[0m\n",
            "\u001b[?25h"
          ]
        }
      ]
    },
    {
      "cell_type": "code",
      "execution_count": 2,
      "id": "initial_id",
      "metadata": {
        "ExecuteTime": {
          "end_time": "2025-02-15T23:44:57.954115Z",
          "start_time": "2025-02-15T23:44:57.949538Z"
        },
        "id": "initial_id"
      },
      "outputs": [],
      "source": [
        "import os"
      ]
    },
    {
      "cell_type": "code",
      "execution_count": 3,
      "id": "710c751b4d41e180",
      "metadata": {
        "ExecuteTime": {
          "end_time": "2025-02-15T23:45:03.585863Z",
          "start_time": "2025-02-15T23:44:58.968305Z"
        },
        "id": "710c751b4d41e180"
      },
      "outputs": [],
      "source": [
        "import pickle\n",
        "import numpy as np\n",
        "import random\n",
        "import itertools\n",
        "import io\n",
        "import json\n",
        "\n",
        "import torch\n",
        "from transformers import AutoTokenizer, AutoModelForCausalLM, BitsAndBytesConfig"
      ]
    },
    {
      "cell_type": "code",
      "source": [
        "from google.colab import drive\n",
        "drive.mount('/content/drive')"
      ],
      "metadata": {
        "colab": {
          "base_uri": "https://localhost:8080/"
        },
        "id": "eadoi3fZq-fW",
        "outputId": "ff87be6c-1897-4e46-8c43-974d630e5804"
      },
      "id": "eadoi3fZq-fW",
      "execution_count": 4,
      "outputs": [
        {
          "output_type": "stream",
          "name": "stdout",
          "text": [
            "Mounted at /content/drive\n"
          ]
        }
      ]
    },
    {
      "cell_type": "code",
      "source": [
        "!huggingface-cli login"
      ],
      "metadata": {
        "colab": {
          "base_uri": "https://localhost:8080/"
        },
        "id": "vFj79baFJy1T",
        "outputId": "3ac25bd4-9a8f-4206-ffb6-a79b57963451"
      },
      "id": "vFj79baFJy1T",
      "execution_count": 5,
      "outputs": [
        {
          "output_type": "stream",
          "name": "stdout",
          "text": [
            "\n",
            "    _|    _|  _|    _|    _|_|_|    _|_|_|  _|_|_|  _|      _|    _|_|_|      _|_|_|_|    _|_|      _|_|_|  _|_|_|_|\n",
            "    _|    _|  _|    _|  _|        _|          _|    _|_|    _|  _|            _|        _|    _|  _|        _|\n",
            "    _|_|_|_|  _|    _|  _|  _|_|  _|  _|_|    _|    _|  _|  _|  _|  _|_|      _|_|_|    _|_|_|_|  _|        _|_|_|\n",
            "    _|    _|  _|    _|  _|    _|  _|    _|    _|    _|    _|_|  _|    _|      _|        _|    _|  _|        _|\n",
            "    _|    _|    _|_|      _|_|_|    _|_|_|  _|_|_|  _|      _|    _|_|_|      _|        _|    _|    _|_|_|  _|_|_|_|\n",
            "\n",
            "    To log in, `huggingface_hub` requires a token generated from https://huggingface.co/settings/tokens .\n",
            "Enter your token (input will not be visible): \n",
            "Add token as git credential? (Y/n) n\n",
            "Token is valid (permission: fineGrained).\n",
            "The token `MIDS-Capstone` has been saved to /root/.cache/huggingface/stored_tokens\n",
            "Your token has been saved to /root/.cache/huggingface/token\n",
            "Login successful.\n",
            "The current active token is: `MIDS-Capstone`\n"
          ]
        }
      ]
    },
    {
      "cell_type": "code",
      "source": [
        "# Hugging Face Login\n",
        "# Need a HuggingFace account and an access token\n",
        "from huggingface_hub import notebook_login\n",
        "notebook_login()"
      ],
      "metadata": {
        "colab": {
          "base_uri": "https://localhost:8080/",
          "height": 17,
          "referenced_widgets": [
            "0eac404df7664a26924cda04e972f1de",
            "ab09cda17dcc4529bc8f052c4c4f81ae",
            "5c1ba235609141ffbdef319dd7206ba0",
            "d6e00c2c161043258fd329f01e4ffedb",
            "828b937cc3e5455abb2f201b84b30f33",
            "41f560a9c58c45f3b72366d86e1283a5",
            "9760d9469dd74489a3660f6e83d50e9d",
            "39d28be4f4de48eaa06c17259f14601b",
            "bbd116771462440c86c9a9d60c0e9f8a",
            "572a5e8811944d4799359ca37415d496",
            "1fb51be696de4778b9436d034f397322",
            "a13ac17a8a88495982d8ce9dc1e80cab",
            "8af60302dd3142688a0b671ae7e6a20f",
            "6db179799d7743c6828699f0efffc3f1",
            "67ae4692eb9745c195f5b2185661a815",
            "ddeac8e2d67b42fd8f353fcc106ef27a",
            "9c85da4c09cf44b5995459e24b011103",
            "7af4a350d03f44ff83b05d797df05f5c",
            "6aca1b229ba249daa6dcd375a94219f7",
            "89a44b25a58242879d94643e9d0a39bc"
          ]
        },
        "id": "zqgcBKUu1qAI",
        "outputId": "4ca99bdf-f5dc-4302-dfb2-a3ba19eb29a4"
      },
      "id": "zqgcBKUu1qAI",
      "execution_count": 6,
      "outputs": [
        {
          "output_type": "display_data",
          "data": {
            "text/plain": [
              "VBox(children=(HTML(value='<center> <img\\nsrc=https://huggingface.co/front/assets/huggingface_logo-noborder.sv…"
            ],
            "application/vnd.jupyter.widget-view+json": {
              "version_major": 2,
              "version_minor": 0,
              "model_id": "0eac404df7664a26924cda04e972f1de"
            }
          },
          "metadata": {}
        }
      ]
    },
    {
      "cell_type": "code",
      "execution_count": 6,
      "id": "5c7095f1-ac36-49a5-b01e-55831a46a894",
      "metadata": {
        "id": "5c7095f1-ac36-49a5-b01e-55831a46a894"
      },
      "outputs": [],
      "source": [
        "# Function to download the data\n",
        "def load_dict_from_s3(bucket_name, file_key):\n",
        "    \"\"\"\n",
        "    Load dictionary from S3 pickle file.\n",
        "    \"\"\"\n",
        "    response = s3.get_object(Bucket=bucket_name, Key=file_key)\n",
        "    file_content = response['Body'].read()\n",
        "    data_dict = pickle.loads(file_content)\n",
        "\n",
        "    return data_dict"
      ]
    },
    {
      "cell_type": "code",
      "source": [
        "# Function to download data in Google Colab\n",
        "def load_dict_from_drive(file_path):\n",
        "    \"\"\"\n",
        "    Load dictionary from Google Drive pickle file.\n",
        "    \"\"\"\n",
        "    with open(file_path, 'rb') as file:\n",
        "        data_dict = pickle.load(file)\n",
        "\n",
        "    return data_dict"
      ],
      "metadata": {
        "id": "lD3rgDvNqZpG"
      },
      "id": "lD3rgDvNqZpG",
      "execution_count": 7,
      "outputs": []
    },
    {
      "cell_type": "markdown",
      "id": "13aae32a57e0ac87",
      "metadata": {
        "id": "13aae32a57e0ac87"
      },
      "source": [
        "## Define LLM Task to create User Profiles"
      ]
    },
    {
      "cell_type": "code",
      "execution_count": 8,
      "id": "0eb598ed-23ea-43f3-86a3-8f588310cd09",
      "metadata": {
        "id": "0eb598ed-23ea-43f3-86a3-8f588310cd09"
      },
      "outputs": [],
      "source": [
        "# AWS\n",
        "class ChatBot:\n",
        "    def __init__(self, model_name=\"meta-llama-3-1-8b-instruct-005734\"):\n",
        "        # Initialize the SageMaker runtime client\n",
        "        self.sagemaker_runtime = boto3.client('sagemaker-runtime')\n",
        "        self.endpoint_name = \"jumpstart-dft-llama-3-1-8b-instruct-20250225-005734\"\n",
        "        self.model_name = model_name\n",
        "\n",
        "    def get_response(self, message):\n",
        "        try:\n",
        "            payload = json.dumps({\"inputs\": message})\n",
        "            response = self.sagemaker_runtime.invoke_endpoint(\n",
        "                EndpointName=self.endpoint_name,\n",
        "                ContentType='application/json',\n",
        "                Body=payload\n",
        "            )\n",
        "            result = json.loads(response['Body'].read().decode())\n",
        "\n",
        "            # Print raw response for debugging\n",
        "            print(\"\\n===== RAW RESPONSE FROM SAGEMAKER =====\")\n",
        "            print(result)\n",
        "            print(\"========================================\\n\")\n",
        "\n",
        "            # Extract and clean response\n",
        "            if isinstance(result, list) and len(result) > 0:\n",
        "                generated_text = result[0].get('generated_text', '').strip()\n",
        "            else:\n",
        "                generated_text = \"Error: Unexpected response format from SageMaker.\"\n",
        "\n",
        "            return generated_text\n",
        "\n",
        "        except Exception as e:\n",
        "            print(f\"Error in get_response: {e}\")\n",
        "            return \"Error: Unable to generate a response.\"\n",
        "\n",
        "    def build_prompt(self, item_list, item_info_dict):\n",
        "        \"\"\"\n",
        "        Build a user profiling prompt based on books read\n",
        "        \"\"\"\n",
        "        content_begin = \"\"\"\n",
        "        Now, you are a book analyst tasked to identify a user's favorite book genres based on their past readings. I will provide you with a list of books that a user has watched in the past.\n",
        "        Each book contains two pieces of information: title and genre. Based on this information, identify in the provided data the user's TOP 3 most-read genres.\n",
        "\n",
        "        Here are some examples of what the output should look like:\n",
        "\n",
        "        ### Example 1:\n",
        "        **INPUT**\n",
        "        User's Reading History:\n",
        "        - Title: The Great Gatsby, Genre: Fiction\n",
        "        - Title: Thinking, Fast and Slow, Genre: Psychology\n",
        "        - Title: 1984, Genre: Dystopian\n",
        "        - Title: Brave New World, Genre: Dystopian\n",
        "        - Title: Fahrenheit 451, Genre: Dystopian\n",
        "        - Title: Blink, Genre: Psychology\n",
        "        - Title: The Catcher in the Rye, Genre: Fiction\n",
        "\n",
        "        **OUTPUT**\n",
        "        User favorite genres: [Dystopian], [Fiction], [Psychology]\n",
        "\n",
        "        ---\n",
        "\n",
        "        ### Here is the list of previously read books:\n",
        "        \"\"\"\n",
        "\n",
        "        content_end = \"\"\"\n",
        "        Please provide the profile strictly in the following format:\n",
        "        User interests: [Interest 1], [Interest 2], [Interest 3]\n",
        "\n",
        "        Emphasize that only the most likely three genres should be provided, and strictly adhere to the above format.\n",
        "        \"\"\"\n",
        "\n",
        "        # Get Data and remove dups\n",
        "        unique_items = set()\n",
        "        filtered_list = []\n",
        "\n",
        "        for item_id in item_list:\n",
        "            title = item_info_dict.get(item_id, {}).get('standard_title', 'Unknown Title')\n",
        "            genre = item_info_dict.get(item_id, {}).get('parsed_categories', 'Unknown Genre')\n",
        "\n",
        "            if isinstance(genre, list):\n",
        "                genre = \", \".join(genre)\n",
        "\n",
        "            item_tuple = (title, genre)\n",
        "            if item_tuple not in unique_items:\n",
        "                unique_items.add(item_tuple)\n",
        "                filtered_list.append(f\"- Title: {title}, Genre: {genre}\")\n",
        "\n",
        "        # Join unique filtered items\n",
        "        content_item_list = \"\\n\".join(filtered_list)\n",
        "\n",
        "        return content_begin + content_item_list + content_end\n",
        "\n",
        "\n",
        "    def chat(self, item_list, item_info_dict, user_Id):\n",
        "        \"\"\"\n",
        "        Generate a user profile based on historical book interactions.\n",
        "        \"\"\"\n",
        "        content = self.build_prompt(item_list, item_info_dict)\n",
        "\n",
        "        # Print the raw prompt before sending it to the LLM\n",
        "        print(\"\\n===== RAW INPUT TO LLM =====\")\n",
        "        print(content)\n",
        "        print(\"============================\\n\")\n",
        "\n",
        "        response = self.get_response(content)\n",
        "\n",
        "        # Print the response received from the model\n",
        "        print(\"\\n===== RAW OUTPUT FROM LLM =====\")\n",
        "        print(response)\n",
        "        print(\"===============================\\n\")\n",
        "\n",
        "        return {user_Id: response}"
      ]
    },
    {
      "cell_type": "code",
      "source": [
        "# Google Colab\n",
        "class ChatBot:\n",
        "    def __init__(self, model_name=\"meta-llama/Llama-3.1-8B-Instruct\"):\n",
        "        \"\"\"\n",
        "        Initialize the ChatBot with the specified model name.\n",
        "        \"\"\"\n",
        "        self.model_name = model_name\n",
        "        self.tokenizer = AutoTokenizer.from_pretrained(model_name)\n",
        "        self.tokenizer.pad_token = self.tokenizer.eos_token\n",
        "\n",
        "        # Optimize model loading with 4-bit quantization\n",
        "        bnb_config = BitsAndBytesConfig(\n",
        "            load_in_4bit=True,\n",
        "            bnb_4bit_compute_dtype=torch.float16\n",
        "        )\n",
        "\n",
        "        self.model = AutoModelForCausalLM.from_pretrained(\n",
        "            model_name,\n",
        "            device_map=\"auto\",\n",
        "            quantization_config=bnb_config\n",
        "        )\n",
        "\n",
        "    def get_response(self, message):\n",
        "        try:\n",
        "          formatted_prompt = f\"[INST] {message} [/INST]\"\n",
        "          inputs = self.tokenizer(\n",
        "              formatted_prompt,\n",
        "              return_tensors=\"pt\",\n",
        "              padding=True,\n",
        "              truncation=True,\n",
        "              max_length=1024\n",
        "            ).to(\"cuda\")\n",
        "\n",
        "          attention_mask = inputs.attention_mask\n",
        "\n",
        "          output = self.model.generate(\n",
        "              inputs.input_ids,\n",
        "              attention_mask=attention_mask,\n",
        "              max_new_tokens=150,\n",
        "              temperature=0.7,\n",
        "              top_p=0.9,\n",
        "              do_sample=True,\n",
        "              pad_token_id=self.tokenizer.eos_token_id\n",
        "              )\n",
        "\n",
        "          response = self.tokenizer.decode(output[0], skip_special_tokens=True)\n",
        "          print(\"Generated Response:\", response.strip())\n",
        "          return response.strip()\n",
        "\n",
        "        except Exception as e:\n",
        "          print(f\"Error in get_response: {e}\")\n",
        "          return \"Error: Unable to generate a response.\"\n",
        "\n",
        "    def build_prompt(self, item_list, item_info_dict):\n",
        "        \"\"\"\n",
        "        Build a user profiling prompt based on books read.\n",
        "        \"\"\"\n",
        "        content_begin = \"\"\"\n",
        "        You are an expert book analyst. Based on the user's reading history,\n",
        "        you will identify their top 3 favorite book genres.\n",
        "\n",
        "        ---\n",
        "\n",
        "        ### User's Reading History:\n",
        "        \"\"\"\n",
        "\n",
        "        content_end = \"\"\"\n",
        "        Please provide the answer in this format:\n",
        "        User favorite genres: [Genre 1], [Genre 2], [Genre 3]\n",
        "        \"\"\"\n",
        "\n",
        "        # Remove duplicates\n",
        "        unique_items = set()\n",
        "        filtered_list = []\n",
        "\n",
        "        for item_id in item_list:\n",
        "            title = item_info_dict.get(item_id, {}).get('standard_title', 'Unknown Title')\n",
        "            genre = item_info_dict.get(item_id, {}).get('parsed_categories', 'Unknown Genre')\n",
        "\n",
        "            if isinstance(genre, list):\n",
        "                genre = \", \".join(genre)\n",
        "\n",
        "            item_tuple = (title, genre)\n",
        "            if item_tuple not in unique_items:\n",
        "                unique_items.add(item_tuple)\n",
        "                filtered_list.append(f\"- Title: {title}, Genre: {genre}\")\n",
        "\n",
        "        # Format the prompt\n",
        "        content_item_list = \"\\n\".join(filtered_list)\n",
        "        return content_begin + content_item_list + content_end\n",
        "\n",
        "    def chat(self, item_list, item_info_dict, user_Id):\n",
        "        \"\"\"\n",
        "        Generate a user profile based on historical book interactions.\n",
        "        \"\"\"\n",
        "        content = self.build_prompt(item_list, item_info_dict)\n",
        "        response = self.get_response(content)\n",
        "\n",
        "        return {user_Id: response}"
      ],
      "metadata": {
        "id": "NiT0dRpCwNlL"
      },
      "id": "NiT0dRpCwNlL",
      "execution_count": 20,
      "outputs": []
    },
    {
      "cell_type": "markdown",
      "id": "5aea29846f4cfd4e",
      "metadata": {
        "id": "5aea29846f4cfd4e"
      },
      "source": [
        "## Create User Profiles"
      ]
    },
    {
      "cell_type": "code",
      "execution_count": null,
      "id": "32eef730-2533-439f-a3dd-f641f64ea8bb",
      "metadata": {
        "id": "32eef730-2533-439f-a3dd-f641f64ea8bb"
      },
      "outputs": [],
      "source": [
        "# Setup Paths - AWS\n",
        "s3 = boto3.client('s3')\n",
        "bucket_name = 'w210recsys'"
      ]
    },
    {
      "cell_type": "code",
      "execution_count": 7,
      "id": "9b6806b93a5f9f7b",
      "metadata": {
        "ExecuteTime": {
          "end_time": "2025-02-15T23:45:05.603208Z",
          "start_time": "2025-02-15T23:45:05.556138Z"
        },
        "id": "9b6806b93a5f9f7b"
      },
      "outputs": [],
      "source": [
        "# #Import User-Item interactions dictionary - AWS\n",
        "# file_key = 'processed/user_item_dict.pkl'\n",
        "# user_item_dict = load_dict_from_drive(bucket_name, file_key)"
      ]
    },
    {
      "cell_type": "code",
      "source": [
        "# Import User-Item interactions dictionary - Colab\n",
        "file_key = '/content/drive/My Drive/Capstone - Spring 2025 Personal/user_item_dict.pkl'\n",
        "user_item_dict = load_dict_from_drive(file_key)"
      ],
      "metadata": {
        "id": "YKyBWqtHrmCt"
      },
      "id": "YKyBWqtHrmCt",
      "execution_count": 9,
      "outputs": []
    },
    {
      "cell_type": "code",
      "execution_count": 10,
      "id": "dad33b8321efc159",
      "metadata": {
        "ExecuteTime": {
          "end_time": "2025-02-15T23:45:06.641668Z",
          "start_time": "2025-02-15T23:45:06.639637Z"
        },
        "colab": {
          "base_uri": "https://localhost:8080/"
        },
        "id": "dad33b8321efc159",
        "outputId": "ea13708e-4aff-4b85-9598-e84d81f10ab1"
      },
      "outputs": [
        {
          "output_type": "stream",
          "name": "stdout",
          "text": [
            "User ID: A01038432MVI9JXYTTK5T, Items: [15693, 17623, 20231, 23671, 25313, 26282, 34776, 34901, 51220, 55669, 56795, 60236]\n",
            "User ID: A100NGGXRQF0AQ, Items: [141, 3330, 5426, 8736, 15511, 21557, 25655, 26605, 38825, 45116, 59372, 60614, 63574, 65047, 70451]\n",
            "User ID: A100V1W0C8BWOL, Items: [21901, 24501, 28429, 29020, 30221, 32803, 36113, 10022, 47988, 58373, 64427]\n",
            "User ID: A100YHBWL4TR4D, Items: [7209, 7396, 11726, 14023, 19355, 21738, 27003, 30061, 33300, 45369, 47419, 45667, 50844, 68750]\n",
            "User ID: A101446I5AWY0Z, Items: [2219, 2269, 3322, 4343, 5987, 8056, 10827, 15499, 16602, 17109, 23670, 31893, 32068, 32259, 32596, 39109, 40873, 41154, 48451, 51637, 55990, 66303, 67211, 68516, 72230]\n"
          ]
        }
      ],
      "source": [
        "for i, (key, value) in enumerate(user_item_dict.items()):\n",
        "    if i >= 5:\n",
        "        break\n",
        "    print(f\"User ID: {key}, Items: {value}\")"
      ]
    },
    {
      "cell_type": "code",
      "execution_count": 11,
      "id": "ccfc498c1450f03c",
      "metadata": {
        "ExecuteTime": {
          "end_time": "2025-02-15T23:45:08.220596Z",
          "start_time": "2025-02-15T23:45:08.217292Z"
        },
        "colab": {
          "base_uri": "https://localhost:8080/"
        },
        "id": "ccfc498c1450f03c",
        "outputId": "d783d9b8-e4f7-43e3-f726-9c3030e1a493"
      },
      "outputs": [
        {
          "output_type": "stream",
          "name": "stdout",
          "text": [
            "{'A2YF4ZMECJVLK9': [200, 229, 706, 818, 1488, 1736, 1976, 2039, 2500, 2533, 2776, 2893, 3262, 3290, 3466, 3521, 3540, 3716, 3957, 4033, 4158, 4447, 2435, 4531, 4575, 4594, 4884, 4943, 5194, 5530, 5796, 5814, 6154, 6481, 6494, 6611, 6748, 6852, 6855, 7036, 7087, 7384, 7435, 7835, 7935, 8254, 8294, 8300, 8680, 8768, 8902, 8954, 9068, 9174, 9232, 9555, 9684, 9740, 9757, 9813, 10119, 10550, 10807, 11004, 11403, 11559, 11613, 11839, 12132, 12356, 12594, 12611, 12820, 13040, 13107, 13154, 13334, 13649, 14101, 14069, 14249, 14483, 14505, 14614, 14717, 14876, 15034, 15486, 15723, 15764, 16246, 16260, 16275, 17068, 17070, 17100, 17454, 17568, 18243, 18442, 18454, 18627, 19023, 19276, 19449, 19964, 20286, 20359, 20361, 20370, 21007, 21234, 21366, 21603, 22086, 22472, 22545, 22725, 23480, 23825, 24091, 7846, 24218, 25771, 26342, 26609, 26654, 26823, 27000, 27367, 27378, 27421, 27607, 27791, 28709, 14830, 29126, 29220, 29283, 29396, 29528, 29537, 29703, 30147, 30273, 30864, 30918, 31128, 31451, 31734, 31808, 31867, 31911, 31922, 32134, 32525, 32657, 32893, 33342, 33348, 33406, 34176, 34422, 34502, 34698, 34923, 35345, 35606, 35720, 35814, 35973, 36091, 36135, 36197, 36311, 36545, 36784, 36815, 36847, 36877, 36948, 36984, 37287, 37355, 38204, 38569, 39368, 40137, 40387, 40601, 40714, 40861, 41024, 41118, 41442, 41823, 41904, 42037, 42214, 42398, 42582, 42898, 43786, 43916, 44174, 44223, 44776, 45203, 46186, 46550, 46631, 46643, 47000, 47064, 47309, 47382, 47606, 47832, 48499, 48760, 48811, 48906, 49850, 49920, 50585, 51281, 51531, 52113, 52287, 52422, 52788, 52793, 52803, 53259, 53796, 53943, 54012, 54673, 54826, 55617, 55739, 55848, 55938, 57127, 57300, 57357, 57394, 57714, 57947, 58687, 58970, 59222, 59497, 59591, 59866, 60010, 60348, 60380, 60418, 60926, 61037, 61319, 62033, 62266, 62305, 62401, 62497, 62716, 62772, 63061, 63442, 64059, 64192, 64851, 64885, 65173, 38147, 65380, 65631, 65998, 66045, 66319, 66423, 66834, 67060, 67075, 67180, 67314, 67476, 67750, 68634, 69231, 69260, 69418, 69524, 70004, 70862, 70963, 71492, 71899, 71912, 72040, 72230], 'A1UC7MUGDFJFXD': [4708, 7749, 8797, 19357, 24489, 46523, 53195, 53285, 63854, 66206, 66232, 68451]}\n"
          ]
        }
      ],
      "source": [
        "###### FOR TESTING ONLY ######\n",
        "N = 2\n",
        "sampled_keys = random.sample(list(user_item_dict.keys()), N)\n",
        "sampled_dict = {key: user_item_dict[key] for key in sampled_keys}\n",
        "\n",
        "print(sampled_dict)"
      ]
    },
    {
      "cell_type": "code",
      "execution_count": 12,
      "id": "a62bc8ca0dd5d3bf",
      "metadata": {
        "ExecuteTime": {
          "end_time": "2025-02-15T23:45:09.592864Z",
          "start_time": "2025-02-15T23:45:09.585606Z"
        },
        "id": "a62bc8ca0dd5d3bf"
      },
      "outputs": [],
      "source": [
        "# #Import Items (books) metadata dictionary - AWS\n",
        "# file_key = 'processed/item_info_dict.pkl'\n",
        "# item_info_dict = load_dict_from_s3(bucket_name, file_key)"
      ]
    },
    {
      "cell_type": "code",
      "source": [
        "# Import Items (books) metadata dictionary - Colab\n",
        "file_key ='/content/drive/My Drive/Capstone - Spring 2025 Personal/item_info_dict.pkl'\n",
        "item_info_dict = load_dict_from_drive(file_key)"
      ],
      "metadata": {
        "id": "AIVVSletr1rP"
      },
      "id": "AIVVSletr1rP",
      "execution_count": 13,
      "outputs": []
    },
    {
      "cell_type": "code",
      "execution_count": 14,
      "id": "118dade067069abd",
      "metadata": {
        "ExecuteTime": {
          "end_time": "2025-02-15T23:45:10.917824Z",
          "start_time": "2025-02-15T23:45:10.915275Z"
        },
        "colab": {
          "base_uri": "https://localhost:8080/"
        },
        "id": "118dade067069abd",
        "outputId": "c8bdc9ea-80eb-4057-8739-fa1cd550d3be"
      },
      "outputs": [
        {
          "output_type": "stream",
          "name": "stdout",
          "text": [
            "0 : {'standard_title': 'dr seuss american icon', 'parsed_categories': ['Biography & Autobiography']}\n",
            "1 : {'standard_title': 'wonderful worship in smaller churches', 'parsed_categories': ['Religion']}\n",
            "2 : {'standard_title': 'rising sons and daughters life among japans new young', 'parsed_categories': ['Social Science']}\n",
            "3 : {'standard_title': 'muslim womens choices religious belief and social reality', 'parsed_categories': ['Religion']}\n",
            "4 : {'standard_title': 'dramatica for screenwriters', 'parsed_categories': ['Reference']}\n"
          ]
        }
      ],
      "source": [
        "for key, value in itertools.islice(item_info_dict.items(), 5):\n",
        "    print(key, \":\", value)"
      ]
    },
    {
      "cell_type": "markdown",
      "id": "d112b8cea0b1689f",
      "metadata": {
        "id": "d112b8cea0b1689f"
      },
      "source": [
        "### Load the LLM model"
      ]
    },
    {
      "cell_type": "code",
      "source": [
        "# Pick a model\n",
        "model_name = \"meta-llama/Llama-2-7b-chat-hf\""
      ],
      "metadata": {
        "id": "pHXeOxapz6HM"
      },
      "id": "pHXeOxapz6HM",
      "execution_count": 21,
      "outputs": []
    },
    {
      "cell_type": "code",
      "execution_count": 22,
      "id": "d8513fb5-ad23-4315-bc09-eda755d37f2c",
      "metadata": {
        "id": "d8513fb5-ad23-4315-bc09-eda755d37f2c",
        "colab": {
          "base_uri": "https://localhost:8080/",
          "height": 49,
          "referenced_widgets": [
            "5d486a41f01a40dbbe253cec2af1b26c",
            "82437141138b4804ab6a2b455719497a",
            "bc23432552924da59f5ea751bdccb462",
            "ca6f9b533d6640f098bcd0beb15912ed",
            "f7e903713417458298a895accc29d37c",
            "1843383826fd467283fbae954fba677a",
            "0a3dd5e2b47545349b93ad0ef6377a22",
            "791810da155546f294ed1a43e236b5fe",
            "c640d507a91443059488bd1c9fbf470d",
            "96196e5e63dc4c7eb5fee755865626c4",
            "54d05ebc508d4bac88abbf7e0d5193d6"
          ]
        },
        "outputId": "e30ca489-b81b-4b66-da91-2b1ea29d1444"
      },
      "outputs": [
        {
          "output_type": "display_data",
          "data": {
            "text/plain": [
              "Loading checkpoint shards:   0%|          | 0/2 [00:00<?, ?it/s]"
            ],
            "application/vnd.jupyter.widget-view+json": {
              "version_major": 2,
              "version_minor": 0,
              "model_id": "5d486a41f01a40dbbe253cec2af1b26c"
            }
          },
          "metadata": {}
        }
      ],
      "source": [
        "# Create an instance of the ChatBot class\n",
        "chatbot = ChatBot(model_name=model_name)"
      ]
    },
    {
      "cell_type": "code",
      "execution_count": 23,
      "id": "249eb0dd5f077ce",
      "metadata": {
        "ExecuteTime": {
          "end_time": "2025-02-15T22:25:37.410142Z",
          "start_time": "2025-02-15T22:25:37.403098Z"
        },
        "colab": {
          "base_uri": "https://localhost:8080/"
        },
        "id": "249eb0dd5f077ce",
        "outputId": "7de4ccc9-82af-4277-92f4-9a2b4c3da426"
      },
      "outputs": [
        {
          "output_type": "stream",
          "name": "stdout",
          "text": [
            "Number of unique users: 14402\n",
            "Number of unique books: 72308\n"
          ]
        }
      ],
      "source": [
        "print(f\"Number of unique users: {len(user_item_dict)}\")\n",
        "print(f\"Number of unique books: {len(item_info_dict)}\")"
      ]
    },
    {
      "cell_type": "code",
      "execution_count": 24,
      "id": "e73a2d7fe947a097",
      "metadata": {
        "ExecuteTime": {
          "end_time": "2025-02-15T23:45:12.908739Z",
          "start_time": "2025-02-15T23:45:12.396723Z"
        },
        "id": "e73a2d7fe947a097"
      },
      "outputs": [],
      "source": [
        "# Create dictionary to store results\n",
        "result_dict = {}\n",
        "counter = 0"
      ]
    },
    {
      "cell_type": "code",
      "execution_count": 25,
      "id": "10be95f584332d8b",
      "metadata": {
        "colab": {
          "base_uri": "https://localhost:8080/"
        },
        "id": "10be95f584332d8b",
        "outputId": "ac68f670-c71f-4b4e-d18f-0040bdc60f45"
      },
      "outputs": [
        {
          "output_type": "stream",
          "name": "stdout",
          "text": [
            "Generated Response: [INST] \n",
            "        You are an expert book analyst. Based on the user's reading history, \n",
            "        you will identify their top 3 favorite book genres.\n",
            "\n",
            "        ---\n",
            "        \n",
            "        ### User's Reading History:\n",
            "        - Title: the fire next time, Genre: Political Science\n",
            "- Title: foundation, Genre: Education\n",
            "- Title: aiding and abetting a novel, Genre: Fiction\n",
            "- Title: lord of light, Genre: Fiction\n",
            "- Title: the martian way, Genre: Fiction\n",
            "- Title: a connecticut yankee in king arthurs court, Genre: Fiction\n",
            "- Title: come to me, Genre: Fiction\n",
            "- Title: welcome to higby, Genre: Labor Day\n",
            "- Title: rights of man, Genre: Political science\n",
            "- Title: the mill on the floss, Genre: Fiction\n",
            "- Title: the history of the siege of lisbon, Genre: Fiction\n",
            "- Title: room with a view, Genre: Fiction\n",
            "- Title: the troll garden,, Genre: Man-woman relationships\n",
            "- Title: the narrative of arthur gordon pym of nantucket, Genre: Fiction\n",
            "- Title: collapse how societies choose to fail or succeed, Genre: History\n",
            "- Title: the chosen, Genre: Juvenile Nonfiction\n",
            "- Title: story of general dann and maras daughter, griot and the snow dog a novel, Genre: Fiction\n",
            "- Title: the bridge of san luis rey, Genre: Fiction\n",
            "- Title: the great midland, Genre: Fiction\n",
            "- Title: secret life of saeed the pessoptimist, Genre: Fiction\n",
            "- Title: the brethren inside the supreme court, Genre: Political Science\n",
            "- Title: family matters, Genre: Fiction\n",
            "- Title: midaq alley, Genre: Fiction\n",
            "- Title: o pioneers, Genre: Families\n",
            "- Title: the thin man, Genre: FICTION\n",
            "- Title: the glass key, Genre: Fiction\n",
            "- Title: rabbit, run, Genre: Fiction\n",
            "- Title: kim, Genre: Fiction\n",
            "- Title: mason & dixon, Genre: Foreign Language Study\n",
            "- Title: the last of the mohicans, Genre: Fiction\n",
            "- Title: praying for sheetrock, Genre: History\n",
            "- Title: the dispossessed, Genre: Fiction\n",
            "- Title: headlong, Genre: Fiction\n",
            "- Title: year of wonders, Genre: History\n",
            "- Title: the alhambra, Genre: Travel\n",
            "- Title: baron in the trees, the, Genre: Fiction\n",
            "- Title: anthills of the savannah, Genre: Fiction\n",
            "- Title: a room with a view, Genre: Fiction\n",
            "- Title: slan, Genre: Fiction\n",
            "- Title: parable of the talents a novel, Genre: Fiction\n",
            "- Title: long days journey into night, Genre: Drama\n",
            "- Title: camouflage, Genre: Business & Economics\n",
            "- Title: under the net, Genre: Fiction\n",
            "- Title: hindoo holiday an indian journal, Genre: Literary Collections\n",
            "- Title: the sea wolf, Genre: Fiction\n",
            "- Title: the stone diaries, Genre: Fiction\n",
            "- Title: the pastures of heaven, Genre: Fiction\n",
            "- Title: a month in the country, Genre: Fiction\n",
            "- Title: berlin a novel, Genre: Fiction\n",
            "- Title: waiting, Genre: Fiction\n",
            "- Title: motherless brooklyn, Genre: Fiction\n",
            "- Title: i rose like a rocket the political education of theodore roosevelt, Genre: Biography & Autobiography\n",
            "- Title: guns, germs, and steel the fates of human societies, Genre: History\n",
            "- Title: medieval women, Genre: Social Science\n",
            "- Title: the bell, Genre: Body, Mind & Spirit\n",
            "- Title: the prince and the pauper, Genre: Fiction\n",
            "- Title: the confusion, Genre: Fiction\n",
            "- Title: exiles in america a novel, Genre: Fiction\n",
            "- Title: a connecticut yankee in king arthurs court,, Genre: Fiction\n",
            "- Title: city, Genre: History\n",
            "- Title: way station, Genre: Fiction\n",
            "- Title: the survivor, Genre: Fiction\n",
            "- Title: the good earth, Genre: Fiction\n",
            "- Title: the unvanquished, Genre: Fiction\n",
            "- Title: the wind-up bird chronicle, Genre: Fiction\n",
            "- Title: the sun of the scorching blue world, Genre: Fiction\n",
            "- Title: the end of the world as we know it, Genre: Fiction\n",
            "- Title: the death of the heart, Genre: Fiction\n",
            "- Title: the longest road, Genre: History\n",
            "- Title: the man who was almost a man, Genre: Fiction\n",
            "- Title: the woman in the dunes, Genre: Fiction\n",
            "- Title\n",
            "User A2YF4ZMECJVLK9 Response: {'A2YF4ZMECJVLK9': \"[INST] \\n        You are an expert book analyst. Based on the user's reading history, \\n        you will identify their top 3 favorite book genres.\\n\\n        ---\\n        \\n        ### User's Reading History:\\n        - Title: the fire next time, Genre: Political Science\\n- Title: foundation, Genre: Education\\n- Title: aiding and abetting a novel, Genre: Fiction\\n- Title: lord of light, Genre: Fiction\\n- Title: the martian way, Genre: Fiction\\n- Title: a connecticut yankee in king arthurs court, Genre: Fiction\\n- Title: come to me, Genre: Fiction\\n- Title: welcome to higby, Genre: Labor Day\\n- Title: rights of man, Genre: Political science\\n- Title: the mill on the floss, Genre: Fiction\\n- Title: the history of the siege of lisbon, Genre: Fiction\\n- Title: room with a view, Genre: Fiction\\n- Title: the troll garden,, Genre: Man-woman relationships\\n- Title: the narrative of arthur gordon pym of nantucket, Genre: Fiction\\n- Title: collapse how societies choose to fail or succeed, Genre: History\\n- Title: the chosen, Genre: Juvenile Nonfiction\\n- Title: story of general dann and maras daughter, griot and the snow dog a novel, Genre: Fiction\\n- Title: the bridge of san luis rey, Genre: Fiction\\n- Title: the great midland, Genre: Fiction\\n- Title: secret life of saeed the pessoptimist, Genre: Fiction\\n- Title: the brethren inside the supreme court, Genre: Political Science\\n- Title: family matters, Genre: Fiction\\n- Title: midaq alley, Genre: Fiction\\n- Title: o pioneers, Genre: Families\\n- Title: the thin man, Genre: FICTION\\n- Title: the glass key, Genre: Fiction\\n- Title: rabbit, run, Genre: Fiction\\n- Title: kim, Genre: Fiction\\n- Title: mason & dixon, Genre: Foreign Language Study\\n- Title: the last of the mohicans, Genre: Fiction\\n- Title: praying for sheetrock, Genre: History\\n- Title: the dispossessed, Genre: Fiction\\n- Title: headlong, Genre: Fiction\\n- Title: year of wonders, Genre: History\\n- Title: the alhambra, Genre: Travel\\n- Title: baron in the trees, the, Genre: Fiction\\n- Title: anthills of the savannah, Genre: Fiction\\n- Title: a room with a view, Genre: Fiction\\n- Title: slan, Genre: Fiction\\n- Title: parable of the talents a novel, Genre: Fiction\\n- Title: long days journey into night, Genre: Drama\\n- Title: camouflage, Genre: Business & Economics\\n- Title: under the net, Genre: Fiction\\n- Title: hindoo holiday an indian journal, Genre: Literary Collections\\n- Title: the sea wolf, Genre: Fiction\\n- Title: the stone diaries, Genre: Fiction\\n- Title: the pastures of heaven, Genre: Fiction\\n- Title: a month in the country, Genre: Fiction\\n- Title: berlin a novel, Genre: Fiction\\n- Title: waiting, Genre: Fiction\\n- Title: motherless brooklyn, Genre: Fiction\\n- Title: i rose like a rocket the political education of theodore roosevelt, Genre: Biography & Autobiography\\n- Title: guns, germs, and steel the fates of human societies, Genre: History\\n- Title: medieval women, Genre: Social Science\\n- Title: the bell, Genre: Body, Mind & Spirit\\n- Title: the prince and the pauper, Genre: Fiction\\n- Title: the confusion, Genre: Fiction\\n- Title: exiles in america a novel, Genre: Fiction\\n- Title: a connecticut yankee in king arthurs court,, Genre: Fiction\\n- Title: city, Genre: History\\n- Title: way station, Genre: Fiction\\n- Title: the survivor, Genre: Fiction\\n- Title: the good earth, Genre: Fiction\\n- Title: the unvanquished, Genre: Fiction\\n- Title: the wind-up bird chronicle, Genre: Fiction\\n- Title: the sun of the scorching blue world, Genre: Fiction\\n- Title: the end of the world as we know it, Genre: Fiction\\n- Title: the death of the heart, Genre: Fiction\\n- Title: the longest road, Genre: History\\n- Title: the man who was almost a man, Genre: Fiction\\n- Title: the woman in the dunes, Genre: Fiction\\n- Title\"}\n",
            "0\n",
            "Generated Response: [INST] \n",
            "        You are an expert book analyst. Based on the user's reading history, \n",
            "        you will identify their top 3 favorite book genres.\n",
            "\n",
            "        ---\n",
            "        \n",
            "        ### User's Reading History:\n",
            "        - Title: equine massage a practical guide, Genre: Pets\n",
            "- Title: black beauty, Genre: Juvenile Fiction\n",
            "- Title: tschiffelys ride ten thousand miles in the saddle from southern cross to pole star, Genre: History\n",
            "- Title: black beauty his groom and companions, Genre: Horses\n",
            "- Title: complete horse care manual, Genre: Pets\n",
            "- Title: the relaxation response, Genre: Health & Fitness\n",
            "- Title: advanced techniques of dressage an official instruction handbook of the german national equestrian federation, Genre: Cross-country (Horsemanship)\n",
            "- Title: the pig who sang to the moon the emotional world of farm animals, Genre: Nature\n",
            "- Title: conversations with horse an uncommon dialog of equine wisdom, Genre: Pets\n",
            "- Title: horse owners veterinary handbook, Genre: Pets\n",
            "- Title: howell equine handbook of tendon and ligament injuries, Genre: Pets\n",
            "- Title: tschiffelys ride, ten thousand miles in the saddle from southern cross to pole star,, Genre: Travel\n",
            "        Please provide the answer in this format:\n",
            "        User favorite genres: [Genre 1], [Genre 2], [Genre 3]\n",
            "         [/INST]  Based on the user's reading history, their top 3 favorite book genres are:\n",
            "\n",
            "User favorite genres:\n",
            "\n",
            "1. Horses - The user has read multiple books on horses, including \"Black Beauty\" and \"Complete Horse Care Manual\".\n",
            "2. Nature - The user has read a book on the emotional world of farm animals, \"The Pig Who Sang to the Moon\".\n",
            "3. Health & Fitness - The user has read \"The Relaxation Response\", which falls under the category of health and fitness.\n",
            "\n",
            "Therefore, the user's favorite genres are Horses, Nature, and Health & Fitness.\n",
            "User A1UC7MUGDFJFXD Response: {'A1UC7MUGDFJFXD': '[INST] \\n        You are an expert book analyst. Based on the user\\'s reading history, \\n        you will identify their top 3 favorite book genres.\\n\\n        ---\\n        \\n        ### User\\'s Reading History:\\n        - Title: equine massage a practical guide, Genre: Pets\\n- Title: black beauty, Genre: Juvenile Fiction\\n- Title: tschiffelys ride ten thousand miles in the saddle from southern cross to pole star, Genre: History\\n- Title: black beauty his groom and companions, Genre: Horses\\n- Title: complete horse care manual, Genre: Pets\\n- Title: the relaxation response, Genre: Health & Fitness\\n- Title: advanced techniques of dressage an official instruction handbook of the german national equestrian federation, Genre: Cross-country (Horsemanship)\\n- Title: the pig who sang to the moon the emotional world of farm animals, Genre: Nature\\n- Title: conversations with horse an uncommon dialog of equine wisdom, Genre: Pets\\n- Title: horse owners veterinary handbook, Genre: Pets\\n- Title: howell equine handbook of tendon and ligament injuries, Genre: Pets\\n- Title: tschiffelys ride, ten thousand miles in the saddle from southern cross to pole star,, Genre: Travel\\n        Please provide the answer in this format:\\n        User favorite genres: [Genre 1], [Genre 2], [Genre 3]\\n         [/INST]  Based on the user\\'s reading history, their top 3 favorite book genres are:\\n\\nUser favorite genres:\\n\\n1. Horses - The user has read multiple books on horses, including \"Black Beauty\" and \"Complete Horse Care Manual\".\\n2. Nature - The user has read a book on the emotional world of farm animals, \"The Pig Who Sang to the Moon\".\\n3. Health & Fitness - The user has read \"The Relaxation Response\", which falls under the category of health and fitness.\\n\\nTherefore, the user\\'s favorite genres are Horses, Nature, and Health & Fitness.'}\n",
            "1\n",
            "2\n"
          ]
        }
      ],
      "source": [
        "# Run code through users\n",
        "for user_id in sampled_dict:\n",
        "    item_list = sampled_dict[user_id]\n",
        "\n",
        "    # Get the response dictionary and update result_dict\n",
        "    response_dict = chatbot.chat(item_list, item_info_dict, user_id)\n",
        "    print(f\"User {user_id} Response: {response_dict}\")\n",
        "    result_dict.update(response_dict)\n",
        "\n",
        "    print(counter)\n",
        "    counter += 1\n",
        "\n",
        "print(counter)"
      ]
    },
    {
      "cell_type": "code",
      "execution_count": 26,
      "id": "b0346cd6-4cf8-4695-bec6-91ea8b75c93e",
      "metadata": {
        "id": "b0346cd6-4cf8-4695-bec6-91ea8b75c93e",
        "outputId": "c416f773-eacd-4dde-b179-845a1a4a9313",
        "colab": {
          "base_uri": "https://localhost:8080/"
        }
      },
      "outputs": [
        {
          "output_type": "execute_result",
          "data": {
            "text/plain": [
              "{'A2YF4ZMECJVLK9': \"[INST] \\n        You are an expert book analyst. Based on the user's reading history, \\n        you will identify their top 3 favorite book genres.\\n\\n        ---\\n        \\n        ### User's Reading History:\\n        - Title: the fire next time, Genre: Political Science\\n- Title: foundation, Genre: Education\\n- Title: aiding and abetting a novel, Genre: Fiction\\n- Title: lord of light, Genre: Fiction\\n- Title: the martian way, Genre: Fiction\\n- Title: a connecticut yankee in king arthurs court, Genre: Fiction\\n- Title: come to me, Genre: Fiction\\n- Title: welcome to higby, Genre: Labor Day\\n- Title: rights of man, Genre: Political science\\n- Title: the mill on the floss, Genre: Fiction\\n- Title: the history of the siege of lisbon, Genre: Fiction\\n- Title: room with a view, Genre: Fiction\\n- Title: the troll garden,, Genre: Man-woman relationships\\n- Title: the narrative of arthur gordon pym of nantucket, Genre: Fiction\\n- Title: collapse how societies choose to fail or succeed, Genre: History\\n- Title: the chosen, Genre: Juvenile Nonfiction\\n- Title: story of general dann and maras daughter, griot and the snow dog a novel, Genre: Fiction\\n- Title: the bridge of san luis rey, Genre: Fiction\\n- Title: the great midland, Genre: Fiction\\n- Title: secret life of saeed the pessoptimist, Genre: Fiction\\n- Title: the brethren inside the supreme court, Genre: Political Science\\n- Title: family matters, Genre: Fiction\\n- Title: midaq alley, Genre: Fiction\\n- Title: o pioneers, Genre: Families\\n- Title: the thin man, Genre: FICTION\\n- Title: the glass key, Genre: Fiction\\n- Title: rabbit, run, Genre: Fiction\\n- Title: kim, Genre: Fiction\\n- Title: mason & dixon, Genre: Foreign Language Study\\n- Title: the last of the mohicans, Genre: Fiction\\n- Title: praying for sheetrock, Genre: History\\n- Title: the dispossessed, Genre: Fiction\\n- Title: headlong, Genre: Fiction\\n- Title: year of wonders, Genre: History\\n- Title: the alhambra, Genre: Travel\\n- Title: baron in the trees, the, Genre: Fiction\\n- Title: anthills of the savannah, Genre: Fiction\\n- Title: a room with a view, Genre: Fiction\\n- Title: slan, Genre: Fiction\\n- Title: parable of the talents a novel, Genre: Fiction\\n- Title: long days journey into night, Genre: Drama\\n- Title: camouflage, Genre: Business & Economics\\n- Title: under the net, Genre: Fiction\\n- Title: hindoo holiday an indian journal, Genre: Literary Collections\\n- Title: the sea wolf, Genre: Fiction\\n- Title: the stone diaries, Genre: Fiction\\n- Title: the pastures of heaven, Genre: Fiction\\n- Title: a month in the country, Genre: Fiction\\n- Title: berlin a novel, Genre: Fiction\\n- Title: waiting, Genre: Fiction\\n- Title: motherless brooklyn, Genre: Fiction\\n- Title: i rose like a rocket the political education of theodore roosevelt, Genre: Biography & Autobiography\\n- Title: guns, germs, and steel the fates of human societies, Genre: History\\n- Title: medieval women, Genre: Social Science\\n- Title: the bell, Genre: Body, Mind & Spirit\\n- Title: the prince and the pauper, Genre: Fiction\\n- Title: the confusion, Genre: Fiction\\n- Title: exiles in america a novel, Genre: Fiction\\n- Title: a connecticut yankee in king arthurs court,, Genre: Fiction\\n- Title: city, Genre: History\\n- Title: way station, Genre: Fiction\\n- Title: the survivor, Genre: Fiction\\n- Title: the good earth, Genre: Fiction\\n- Title: the unvanquished, Genre: Fiction\\n- Title: the wind-up bird chronicle, Genre: Fiction\\n- Title: the sun of the scorching blue world, Genre: Fiction\\n- Title: the end of the world as we know it, Genre: Fiction\\n- Title: the death of the heart, Genre: Fiction\\n- Title: the longest road, Genre: History\\n- Title: the man who was almost a man, Genre: Fiction\\n- Title: the woman in the dunes, Genre: Fiction\\n- Title\",\n",
              " 'A1UC7MUGDFJFXD': '[INST] \\n        You are an expert book analyst. Based on the user\\'s reading history, \\n        you will identify their top 3 favorite book genres.\\n\\n        ---\\n        \\n        ### User\\'s Reading History:\\n        - Title: equine massage a practical guide, Genre: Pets\\n- Title: black beauty, Genre: Juvenile Fiction\\n- Title: tschiffelys ride ten thousand miles in the saddle from southern cross to pole star, Genre: History\\n- Title: black beauty his groom and companions, Genre: Horses\\n- Title: complete horse care manual, Genre: Pets\\n- Title: the relaxation response, Genre: Health & Fitness\\n- Title: advanced techniques of dressage an official instruction handbook of the german national equestrian federation, Genre: Cross-country (Horsemanship)\\n- Title: the pig who sang to the moon the emotional world of farm animals, Genre: Nature\\n- Title: conversations with horse an uncommon dialog of equine wisdom, Genre: Pets\\n- Title: horse owners veterinary handbook, Genre: Pets\\n- Title: howell equine handbook of tendon and ligament injuries, Genre: Pets\\n- Title: tschiffelys ride, ten thousand miles in the saddle from southern cross to pole star,, Genre: Travel\\n        Please provide the answer in this format:\\n        User favorite genres: [Genre 1], [Genre 2], [Genre 3]\\n         [/INST]  Based on the user\\'s reading history, their top 3 favorite book genres are:\\n\\nUser favorite genres:\\n\\n1. Horses - The user has read multiple books on horses, including \"Black Beauty\" and \"Complete Horse Care Manual\".\\n2. Nature - The user has read a book on the emotional world of farm animals, \"The Pig Who Sang to the Moon\".\\n3. Health & Fitness - The user has read \"The Relaxation Response\", which falls under the category of health and fitness.\\n\\nTherefore, the user\\'s favorite genres are Horses, Nature, and Health & Fitness.'}"
            ]
          },
          "metadata": {},
          "execution_count": 26
        }
      ],
      "source": [
        "result_dict"
      ]
    },
    {
      "cell_type": "markdown",
      "id": "c0b2e09d1588f93d",
      "metadata": {
        "id": "c0b2e09d1588f93d"
      },
      "source": [
        "### Save user profiles"
      ]
    },
    {
      "cell_type": "code",
      "execution_count": null,
      "id": "cb5af7b39aadd78f",
      "metadata": {
        "id": "cb5af7b39aadd78f"
      },
      "outputs": [],
      "source": [
        "s3_key = \"data/user_profile/llama/user_profile_dict.pkl\"\n",
        "\n",
        "# Serialize the dictionary into a binary stream\n",
        "pickle_buffer = io.BytesIO()\n",
        "pickle.dump(result_dict, pickle_buffer)\n",
        "pickle_buffer.seek(0)\n",
        "\n",
        "# Upload to S3\n",
        "s3_client.upload_fileobj(pickle_buffer, bucket_name, s3_key)"
      ]
    },
    {
      "cell_type": "code",
      "execution_count": null,
      "id": "dfadfa65-54bf-4f6f-a1fb-33e0a27e2cfe",
      "metadata": {
        "id": "dfadfa65-54bf-4f6f-a1fb-33e0a27e2cfe"
      },
      "outputs": [],
      "source": []
    }
  ],
  "metadata": {
    "accelerator": "GPU",
    "colab": {
      "gpuType": "T4",
      "provenance": []
    },
    "kernelspec": {
      "display_name": "Python 3",
      "name": "python3"
    },
    "language_info": {
      "codemirror_mode": {
        "name": "ipython",
        "version": 3
      },
      "file_extension": ".py",
      "mimetype": "text/x-python",
      "name": "python",
      "nbconvert_exporter": "python",
      "pygments_lexer": "ipython3",
      "version": "3.11.11"
    },
    "widgets": {
      "application/vnd.jupyter.widget-state+json": {
        "0eac404df7664a26924cda04e972f1de": {
          "model_module": "@jupyter-widgets/controls",
          "model_name": "VBoxModel",
          "model_module_version": "1.5.0",
          "state": {
            "_dom_classes": [],
            "_model_module": "@jupyter-widgets/controls",
            "_model_module_version": "1.5.0",
            "_model_name": "VBoxModel",
            "_view_count": null,
            "_view_module": "@jupyter-widgets/controls",
            "_view_module_version": "1.5.0",
            "_view_name": "VBoxView",
            "box_style": "",
            "children": [],
            "layout": "IPY_MODEL_9760d9469dd74489a3660f6e83d50e9d"
          }
        },
        "ab09cda17dcc4529bc8f052c4c4f81ae": {
          "model_module": "@jupyter-widgets/controls",
          "model_name": "HTMLModel",
          "model_module_version": "1.5.0",
          "state": {
            "_dom_classes": [],
            "_model_module": "@jupyter-widgets/controls",
            "_model_module_version": "1.5.0",
            "_model_name": "HTMLModel",
            "_view_count": null,
            "_view_module": "@jupyter-widgets/controls",
            "_view_module_version": "1.5.0",
            "_view_name": "HTMLView",
            "description": "",
            "description_tooltip": null,
            "layout": "IPY_MODEL_39d28be4f4de48eaa06c17259f14601b",
            "placeholder": "​",
            "style": "IPY_MODEL_bbd116771462440c86c9a9d60c0e9f8a",
            "value": "<center> <img\nsrc=https://huggingface.co/front/assets/huggingface_logo-noborder.svg\nalt='Hugging Face'> <br> Copy a token from <a\nhref=\"https://huggingface.co/settings/tokens\" target=\"_blank\">your Hugging Face\ntokens page</a> and paste it below. <br> Immediately click login after copying\nyour token or it might be stored in plain text in this notebook file. </center>"
          }
        },
        "5c1ba235609141ffbdef319dd7206ba0": {
          "model_module": "@jupyter-widgets/controls",
          "model_name": "PasswordModel",
          "model_module_version": "1.5.0",
          "state": {
            "_dom_classes": [],
            "_model_module": "@jupyter-widgets/controls",
            "_model_module_version": "1.5.0",
            "_model_name": "PasswordModel",
            "_view_count": null,
            "_view_module": "@jupyter-widgets/controls",
            "_view_module_version": "1.5.0",
            "_view_name": "PasswordView",
            "continuous_update": true,
            "description": "Token:",
            "description_tooltip": null,
            "disabled": false,
            "layout": "IPY_MODEL_572a5e8811944d4799359ca37415d496",
            "placeholder": "​",
            "style": "IPY_MODEL_1fb51be696de4778b9436d034f397322",
            "value": ""
          }
        },
        "d6e00c2c161043258fd329f01e4ffedb": {
          "model_module": "@jupyter-widgets/controls",
          "model_name": "CheckboxModel",
          "model_module_version": "1.5.0",
          "state": {
            "_dom_classes": [],
            "_model_module": "@jupyter-widgets/controls",
            "_model_module_version": "1.5.0",
            "_model_name": "CheckboxModel",
            "_view_count": null,
            "_view_module": "@jupyter-widgets/controls",
            "_view_module_version": "1.5.0",
            "_view_name": "CheckboxView",
            "description": "Add token as git credential?",
            "description_tooltip": null,
            "disabled": false,
            "indent": true,
            "layout": "IPY_MODEL_a13ac17a8a88495982d8ce9dc1e80cab",
            "style": "IPY_MODEL_8af60302dd3142688a0b671ae7e6a20f",
            "value": true
          }
        },
        "828b937cc3e5455abb2f201b84b30f33": {
          "model_module": "@jupyter-widgets/controls",
          "model_name": "ButtonModel",
          "model_module_version": "1.5.0",
          "state": {
            "_dom_classes": [],
            "_model_module": "@jupyter-widgets/controls",
            "_model_module_version": "1.5.0",
            "_model_name": "ButtonModel",
            "_view_count": null,
            "_view_module": "@jupyter-widgets/controls",
            "_view_module_version": "1.5.0",
            "_view_name": "ButtonView",
            "button_style": "",
            "description": "Login",
            "disabled": false,
            "icon": "",
            "layout": "IPY_MODEL_6db179799d7743c6828699f0efffc3f1",
            "style": "IPY_MODEL_67ae4692eb9745c195f5b2185661a815",
            "tooltip": ""
          }
        },
        "41f560a9c58c45f3b72366d86e1283a5": {
          "model_module": "@jupyter-widgets/controls",
          "model_name": "HTMLModel",
          "model_module_version": "1.5.0",
          "state": {
            "_dom_classes": [],
            "_model_module": "@jupyter-widgets/controls",
            "_model_module_version": "1.5.0",
            "_model_name": "HTMLModel",
            "_view_count": null,
            "_view_module": "@jupyter-widgets/controls",
            "_view_module_version": "1.5.0",
            "_view_name": "HTMLView",
            "description": "",
            "description_tooltip": null,
            "layout": "IPY_MODEL_ddeac8e2d67b42fd8f353fcc106ef27a",
            "placeholder": "​",
            "style": "IPY_MODEL_9c85da4c09cf44b5995459e24b011103",
            "value": "\n<b>Pro Tip:</b> If you don't already have one, you can create a dedicated\n'notebooks' token with 'write' access, that you can then easily reuse for all\nnotebooks. </center>"
          }
        },
        "9760d9469dd74489a3660f6e83d50e9d": {
          "model_module": "@jupyter-widgets/base",
          "model_name": "LayoutModel",
          "model_module_version": "1.2.0",
          "state": {
            "_model_module": "@jupyter-widgets/base",
            "_model_module_version": "1.2.0",
            "_model_name": "LayoutModel",
            "_view_count": null,
            "_view_module": "@jupyter-widgets/base",
            "_view_module_version": "1.2.0",
            "_view_name": "LayoutView",
            "align_content": null,
            "align_items": "center",
            "align_self": null,
            "border": null,
            "bottom": null,
            "display": "flex",
            "flex": null,
            "flex_flow": "column",
            "grid_area": null,
            "grid_auto_columns": null,
            "grid_auto_flow": null,
            "grid_auto_rows": null,
            "grid_column": null,
            "grid_gap": null,
            "grid_row": null,
            "grid_template_areas": null,
            "grid_template_columns": null,
            "grid_template_rows": null,
            "height": null,
            "justify_content": null,
            "justify_items": null,
            "left": null,
            "margin": null,
            "max_height": null,
            "max_width": null,
            "min_height": null,
            "min_width": null,
            "object_fit": null,
            "object_position": null,
            "order": null,
            "overflow": null,
            "overflow_x": null,
            "overflow_y": null,
            "padding": null,
            "right": null,
            "top": null,
            "visibility": null,
            "width": "50%"
          }
        },
        "39d28be4f4de48eaa06c17259f14601b": {
          "model_module": "@jupyter-widgets/base",
          "model_name": "LayoutModel",
          "model_module_version": "1.2.0",
          "state": {
            "_model_module": "@jupyter-widgets/base",
            "_model_module_version": "1.2.0",
            "_model_name": "LayoutModel",
            "_view_count": null,
            "_view_module": "@jupyter-widgets/base",
            "_view_module_version": "1.2.0",
            "_view_name": "LayoutView",
            "align_content": null,
            "align_items": null,
            "align_self": null,
            "border": null,
            "bottom": null,
            "display": null,
            "flex": null,
            "flex_flow": null,
            "grid_area": null,
            "grid_auto_columns": null,
            "grid_auto_flow": null,
            "grid_auto_rows": null,
            "grid_column": null,
            "grid_gap": null,
            "grid_row": null,
            "grid_template_areas": null,
            "grid_template_columns": null,
            "grid_template_rows": null,
            "height": null,
            "justify_content": null,
            "justify_items": null,
            "left": null,
            "margin": null,
            "max_height": null,
            "max_width": null,
            "min_height": null,
            "min_width": null,
            "object_fit": null,
            "object_position": null,
            "order": null,
            "overflow": null,
            "overflow_x": null,
            "overflow_y": null,
            "padding": null,
            "right": null,
            "top": null,
            "visibility": null,
            "width": null
          }
        },
        "bbd116771462440c86c9a9d60c0e9f8a": {
          "model_module": "@jupyter-widgets/controls",
          "model_name": "DescriptionStyleModel",
          "model_module_version": "1.5.0",
          "state": {
            "_model_module": "@jupyter-widgets/controls",
            "_model_module_version": "1.5.0",
            "_model_name": "DescriptionStyleModel",
            "_view_count": null,
            "_view_module": "@jupyter-widgets/base",
            "_view_module_version": "1.2.0",
            "_view_name": "StyleView",
            "description_width": ""
          }
        },
        "572a5e8811944d4799359ca37415d496": {
          "model_module": "@jupyter-widgets/base",
          "model_name": "LayoutModel",
          "model_module_version": "1.2.0",
          "state": {
            "_model_module": "@jupyter-widgets/base",
            "_model_module_version": "1.2.0",
            "_model_name": "LayoutModel",
            "_view_count": null,
            "_view_module": "@jupyter-widgets/base",
            "_view_module_version": "1.2.0",
            "_view_name": "LayoutView",
            "align_content": null,
            "align_items": null,
            "align_self": null,
            "border": null,
            "bottom": null,
            "display": null,
            "flex": null,
            "flex_flow": null,
            "grid_area": null,
            "grid_auto_columns": null,
            "grid_auto_flow": null,
            "grid_auto_rows": null,
            "grid_column": null,
            "grid_gap": null,
            "grid_row": null,
            "grid_template_areas": null,
            "grid_template_columns": null,
            "grid_template_rows": null,
            "height": null,
            "justify_content": null,
            "justify_items": null,
            "left": null,
            "margin": null,
            "max_height": null,
            "max_width": null,
            "min_height": null,
            "min_width": null,
            "object_fit": null,
            "object_position": null,
            "order": null,
            "overflow": null,
            "overflow_x": null,
            "overflow_y": null,
            "padding": null,
            "right": null,
            "top": null,
            "visibility": null,
            "width": null
          }
        },
        "1fb51be696de4778b9436d034f397322": {
          "model_module": "@jupyter-widgets/controls",
          "model_name": "DescriptionStyleModel",
          "model_module_version": "1.5.0",
          "state": {
            "_model_module": "@jupyter-widgets/controls",
            "_model_module_version": "1.5.0",
            "_model_name": "DescriptionStyleModel",
            "_view_count": null,
            "_view_module": "@jupyter-widgets/base",
            "_view_module_version": "1.2.0",
            "_view_name": "StyleView",
            "description_width": ""
          }
        },
        "a13ac17a8a88495982d8ce9dc1e80cab": {
          "model_module": "@jupyter-widgets/base",
          "model_name": "LayoutModel",
          "model_module_version": "1.2.0",
          "state": {
            "_model_module": "@jupyter-widgets/base",
            "_model_module_version": "1.2.0",
            "_model_name": "LayoutModel",
            "_view_count": null,
            "_view_module": "@jupyter-widgets/base",
            "_view_module_version": "1.2.0",
            "_view_name": "LayoutView",
            "align_content": null,
            "align_items": null,
            "align_self": null,
            "border": null,
            "bottom": null,
            "display": null,
            "flex": null,
            "flex_flow": null,
            "grid_area": null,
            "grid_auto_columns": null,
            "grid_auto_flow": null,
            "grid_auto_rows": null,
            "grid_column": null,
            "grid_gap": null,
            "grid_row": null,
            "grid_template_areas": null,
            "grid_template_columns": null,
            "grid_template_rows": null,
            "height": null,
            "justify_content": null,
            "justify_items": null,
            "left": null,
            "margin": null,
            "max_height": null,
            "max_width": null,
            "min_height": null,
            "min_width": null,
            "object_fit": null,
            "object_position": null,
            "order": null,
            "overflow": null,
            "overflow_x": null,
            "overflow_y": null,
            "padding": null,
            "right": null,
            "top": null,
            "visibility": null,
            "width": null
          }
        },
        "8af60302dd3142688a0b671ae7e6a20f": {
          "model_module": "@jupyter-widgets/controls",
          "model_name": "DescriptionStyleModel",
          "model_module_version": "1.5.0",
          "state": {
            "_model_module": "@jupyter-widgets/controls",
            "_model_module_version": "1.5.0",
            "_model_name": "DescriptionStyleModel",
            "_view_count": null,
            "_view_module": "@jupyter-widgets/base",
            "_view_module_version": "1.2.0",
            "_view_name": "StyleView",
            "description_width": ""
          }
        },
        "6db179799d7743c6828699f0efffc3f1": {
          "model_module": "@jupyter-widgets/base",
          "model_name": "LayoutModel",
          "model_module_version": "1.2.0",
          "state": {
            "_model_module": "@jupyter-widgets/base",
            "_model_module_version": "1.2.0",
            "_model_name": "LayoutModel",
            "_view_count": null,
            "_view_module": "@jupyter-widgets/base",
            "_view_module_version": "1.2.0",
            "_view_name": "LayoutView",
            "align_content": null,
            "align_items": null,
            "align_self": null,
            "border": null,
            "bottom": null,
            "display": null,
            "flex": null,
            "flex_flow": null,
            "grid_area": null,
            "grid_auto_columns": null,
            "grid_auto_flow": null,
            "grid_auto_rows": null,
            "grid_column": null,
            "grid_gap": null,
            "grid_row": null,
            "grid_template_areas": null,
            "grid_template_columns": null,
            "grid_template_rows": null,
            "height": null,
            "justify_content": null,
            "justify_items": null,
            "left": null,
            "margin": null,
            "max_height": null,
            "max_width": null,
            "min_height": null,
            "min_width": null,
            "object_fit": null,
            "object_position": null,
            "order": null,
            "overflow": null,
            "overflow_x": null,
            "overflow_y": null,
            "padding": null,
            "right": null,
            "top": null,
            "visibility": null,
            "width": null
          }
        },
        "67ae4692eb9745c195f5b2185661a815": {
          "model_module": "@jupyter-widgets/controls",
          "model_name": "ButtonStyleModel",
          "model_module_version": "1.5.0",
          "state": {
            "_model_module": "@jupyter-widgets/controls",
            "_model_module_version": "1.5.0",
            "_model_name": "ButtonStyleModel",
            "_view_count": null,
            "_view_module": "@jupyter-widgets/base",
            "_view_module_version": "1.2.0",
            "_view_name": "StyleView",
            "button_color": null,
            "font_weight": ""
          }
        },
        "ddeac8e2d67b42fd8f353fcc106ef27a": {
          "model_module": "@jupyter-widgets/base",
          "model_name": "LayoutModel",
          "model_module_version": "1.2.0",
          "state": {
            "_model_module": "@jupyter-widgets/base",
            "_model_module_version": "1.2.0",
            "_model_name": "LayoutModel",
            "_view_count": null,
            "_view_module": "@jupyter-widgets/base",
            "_view_module_version": "1.2.0",
            "_view_name": "LayoutView",
            "align_content": null,
            "align_items": null,
            "align_self": null,
            "border": null,
            "bottom": null,
            "display": null,
            "flex": null,
            "flex_flow": null,
            "grid_area": null,
            "grid_auto_columns": null,
            "grid_auto_flow": null,
            "grid_auto_rows": null,
            "grid_column": null,
            "grid_gap": null,
            "grid_row": null,
            "grid_template_areas": null,
            "grid_template_columns": null,
            "grid_template_rows": null,
            "height": null,
            "justify_content": null,
            "justify_items": null,
            "left": null,
            "margin": null,
            "max_height": null,
            "max_width": null,
            "min_height": null,
            "min_width": null,
            "object_fit": null,
            "object_position": null,
            "order": null,
            "overflow": null,
            "overflow_x": null,
            "overflow_y": null,
            "padding": null,
            "right": null,
            "top": null,
            "visibility": null,
            "width": null
          }
        },
        "9c85da4c09cf44b5995459e24b011103": {
          "model_module": "@jupyter-widgets/controls",
          "model_name": "DescriptionStyleModel",
          "model_module_version": "1.5.0",
          "state": {
            "_model_module": "@jupyter-widgets/controls",
            "_model_module_version": "1.5.0",
            "_model_name": "DescriptionStyleModel",
            "_view_count": null,
            "_view_module": "@jupyter-widgets/base",
            "_view_module_version": "1.2.0",
            "_view_name": "StyleView",
            "description_width": ""
          }
        },
        "7af4a350d03f44ff83b05d797df05f5c": {
          "model_module": "@jupyter-widgets/controls",
          "model_name": "LabelModel",
          "model_module_version": "1.5.0",
          "state": {
            "_dom_classes": [],
            "_model_module": "@jupyter-widgets/controls",
            "_model_module_version": "1.5.0",
            "_model_name": "LabelModel",
            "_view_count": null,
            "_view_module": "@jupyter-widgets/controls",
            "_view_module_version": "1.5.0",
            "_view_name": "LabelView",
            "description": "",
            "description_tooltip": null,
            "layout": "IPY_MODEL_6aca1b229ba249daa6dcd375a94219f7",
            "placeholder": "​",
            "style": "IPY_MODEL_89a44b25a58242879d94643e9d0a39bc",
            "value": "Connecting..."
          }
        },
        "6aca1b229ba249daa6dcd375a94219f7": {
          "model_module": "@jupyter-widgets/base",
          "model_name": "LayoutModel",
          "model_module_version": "1.2.0",
          "state": {
            "_model_module": "@jupyter-widgets/base",
            "_model_module_version": "1.2.0",
            "_model_name": "LayoutModel",
            "_view_count": null,
            "_view_module": "@jupyter-widgets/base",
            "_view_module_version": "1.2.0",
            "_view_name": "LayoutView",
            "align_content": null,
            "align_items": null,
            "align_self": null,
            "border": null,
            "bottom": null,
            "display": null,
            "flex": null,
            "flex_flow": null,
            "grid_area": null,
            "grid_auto_columns": null,
            "grid_auto_flow": null,
            "grid_auto_rows": null,
            "grid_column": null,
            "grid_gap": null,
            "grid_row": null,
            "grid_template_areas": null,
            "grid_template_columns": null,
            "grid_template_rows": null,
            "height": null,
            "justify_content": null,
            "justify_items": null,
            "left": null,
            "margin": null,
            "max_height": null,
            "max_width": null,
            "min_height": null,
            "min_width": null,
            "object_fit": null,
            "object_position": null,
            "order": null,
            "overflow": null,
            "overflow_x": null,
            "overflow_y": null,
            "padding": null,
            "right": null,
            "top": null,
            "visibility": null,
            "width": null
          }
        },
        "89a44b25a58242879d94643e9d0a39bc": {
          "model_module": "@jupyter-widgets/controls",
          "model_name": "DescriptionStyleModel",
          "model_module_version": "1.5.0",
          "state": {
            "_model_module": "@jupyter-widgets/controls",
            "_model_module_version": "1.5.0",
            "_model_name": "DescriptionStyleModel",
            "_view_count": null,
            "_view_module": "@jupyter-widgets/base",
            "_view_module_version": "1.2.0",
            "_view_name": "StyleView",
            "description_width": ""
          }
        },
        "5d486a41f01a40dbbe253cec2af1b26c": {
          "model_module": "@jupyter-widgets/controls",
          "model_name": "HBoxModel",
          "model_module_version": "1.5.0",
          "state": {
            "_dom_classes": [],
            "_model_module": "@jupyter-widgets/controls",
            "_model_module_version": "1.5.0",
            "_model_name": "HBoxModel",
            "_view_count": null,
            "_view_module": "@jupyter-widgets/controls",
            "_view_module_version": "1.5.0",
            "_view_name": "HBoxView",
            "box_style": "",
            "children": [
              "IPY_MODEL_82437141138b4804ab6a2b455719497a",
              "IPY_MODEL_bc23432552924da59f5ea751bdccb462",
              "IPY_MODEL_ca6f9b533d6640f098bcd0beb15912ed"
            ],
            "layout": "IPY_MODEL_f7e903713417458298a895accc29d37c"
          }
        },
        "82437141138b4804ab6a2b455719497a": {
          "model_module": "@jupyter-widgets/controls",
          "model_name": "HTMLModel",
          "model_module_version": "1.5.0",
          "state": {
            "_dom_classes": [],
            "_model_module": "@jupyter-widgets/controls",
            "_model_module_version": "1.5.0",
            "_model_name": "HTMLModel",
            "_view_count": null,
            "_view_module": "@jupyter-widgets/controls",
            "_view_module_version": "1.5.0",
            "_view_name": "HTMLView",
            "description": "",
            "description_tooltip": null,
            "layout": "IPY_MODEL_1843383826fd467283fbae954fba677a",
            "placeholder": "​",
            "style": "IPY_MODEL_0a3dd5e2b47545349b93ad0ef6377a22",
            "value": "Loading checkpoint shards: 100%"
          }
        },
        "bc23432552924da59f5ea751bdccb462": {
          "model_module": "@jupyter-widgets/controls",
          "model_name": "FloatProgressModel",
          "model_module_version": "1.5.0",
          "state": {
            "_dom_classes": [],
            "_model_module": "@jupyter-widgets/controls",
            "_model_module_version": "1.5.0",
            "_model_name": "FloatProgressModel",
            "_view_count": null,
            "_view_module": "@jupyter-widgets/controls",
            "_view_module_version": "1.5.0",
            "_view_name": "ProgressView",
            "bar_style": "success",
            "description": "",
            "description_tooltip": null,
            "layout": "IPY_MODEL_791810da155546f294ed1a43e236b5fe",
            "max": 2,
            "min": 0,
            "orientation": "horizontal",
            "style": "IPY_MODEL_c640d507a91443059488bd1c9fbf470d",
            "value": 2
          }
        },
        "ca6f9b533d6640f098bcd0beb15912ed": {
          "model_module": "@jupyter-widgets/controls",
          "model_name": "HTMLModel",
          "model_module_version": "1.5.0",
          "state": {
            "_dom_classes": [],
            "_model_module": "@jupyter-widgets/controls",
            "_model_module_version": "1.5.0",
            "_model_name": "HTMLModel",
            "_view_count": null,
            "_view_module": "@jupyter-widgets/controls",
            "_view_module_version": "1.5.0",
            "_view_name": "HTMLView",
            "description": "",
            "description_tooltip": null,
            "layout": "IPY_MODEL_96196e5e63dc4c7eb5fee755865626c4",
            "placeholder": "​",
            "style": "IPY_MODEL_54d05ebc508d4bac88abbf7e0d5193d6",
            "value": " 2/2 [01:03&lt;00:00, 28.89s/it]"
          }
        },
        "f7e903713417458298a895accc29d37c": {
          "model_module": "@jupyter-widgets/base",
          "model_name": "LayoutModel",
          "model_module_version": "1.2.0",
          "state": {
            "_model_module": "@jupyter-widgets/base",
            "_model_module_version": "1.2.0",
            "_model_name": "LayoutModel",
            "_view_count": null,
            "_view_module": "@jupyter-widgets/base",
            "_view_module_version": "1.2.0",
            "_view_name": "LayoutView",
            "align_content": null,
            "align_items": null,
            "align_self": null,
            "border": null,
            "bottom": null,
            "display": null,
            "flex": null,
            "flex_flow": null,
            "grid_area": null,
            "grid_auto_columns": null,
            "grid_auto_flow": null,
            "grid_auto_rows": null,
            "grid_column": null,
            "grid_gap": null,
            "grid_row": null,
            "grid_template_areas": null,
            "grid_template_columns": null,
            "grid_template_rows": null,
            "height": null,
            "justify_content": null,
            "justify_items": null,
            "left": null,
            "margin": null,
            "max_height": null,
            "max_width": null,
            "min_height": null,
            "min_width": null,
            "object_fit": null,
            "object_position": null,
            "order": null,
            "overflow": null,
            "overflow_x": null,
            "overflow_y": null,
            "padding": null,
            "right": null,
            "top": null,
            "visibility": null,
            "width": null
          }
        },
        "1843383826fd467283fbae954fba677a": {
          "model_module": "@jupyter-widgets/base",
          "model_name": "LayoutModel",
          "model_module_version": "1.2.0",
          "state": {
            "_model_module": "@jupyter-widgets/base",
            "_model_module_version": "1.2.0",
            "_model_name": "LayoutModel",
            "_view_count": null,
            "_view_module": "@jupyter-widgets/base",
            "_view_module_version": "1.2.0",
            "_view_name": "LayoutView",
            "align_content": null,
            "align_items": null,
            "align_self": null,
            "border": null,
            "bottom": null,
            "display": null,
            "flex": null,
            "flex_flow": null,
            "grid_area": null,
            "grid_auto_columns": null,
            "grid_auto_flow": null,
            "grid_auto_rows": null,
            "grid_column": null,
            "grid_gap": null,
            "grid_row": null,
            "grid_template_areas": null,
            "grid_template_columns": null,
            "grid_template_rows": null,
            "height": null,
            "justify_content": null,
            "justify_items": null,
            "left": null,
            "margin": null,
            "max_height": null,
            "max_width": null,
            "min_height": null,
            "min_width": null,
            "object_fit": null,
            "object_position": null,
            "order": null,
            "overflow": null,
            "overflow_x": null,
            "overflow_y": null,
            "padding": null,
            "right": null,
            "top": null,
            "visibility": null,
            "width": null
          }
        },
        "0a3dd5e2b47545349b93ad0ef6377a22": {
          "model_module": "@jupyter-widgets/controls",
          "model_name": "DescriptionStyleModel",
          "model_module_version": "1.5.0",
          "state": {
            "_model_module": "@jupyter-widgets/controls",
            "_model_module_version": "1.5.0",
            "_model_name": "DescriptionStyleModel",
            "_view_count": null,
            "_view_module": "@jupyter-widgets/base",
            "_view_module_version": "1.2.0",
            "_view_name": "StyleView",
            "description_width": ""
          }
        },
        "791810da155546f294ed1a43e236b5fe": {
          "model_module": "@jupyter-widgets/base",
          "model_name": "LayoutModel",
          "model_module_version": "1.2.0",
          "state": {
            "_model_module": "@jupyter-widgets/base",
            "_model_module_version": "1.2.0",
            "_model_name": "LayoutModel",
            "_view_count": null,
            "_view_module": "@jupyter-widgets/base",
            "_view_module_version": "1.2.0",
            "_view_name": "LayoutView",
            "align_content": null,
            "align_items": null,
            "align_self": null,
            "border": null,
            "bottom": null,
            "display": null,
            "flex": null,
            "flex_flow": null,
            "grid_area": null,
            "grid_auto_columns": null,
            "grid_auto_flow": null,
            "grid_auto_rows": null,
            "grid_column": null,
            "grid_gap": null,
            "grid_row": null,
            "grid_template_areas": null,
            "grid_template_columns": null,
            "grid_template_rows": null,
            "height": null,
            "justify_content": null,
            "justify_items": null,
            "left": null,
            "margin": null,
            "max_height": null,
            "max_width": null,
            "min_height": null,
            "min_width": null,
            "object_fit": null,
            "object_position": null,
            "order": null,
            "overflow": null,
            "overflow_x": null,
            "overflow_y": null,
            "padding": null,
            "right": null,
            "top": null,
            "visibility": null,
            "width": null
          }
        },
        "c640d507a91443059488bd1c9fbf470d": {
          "model_module": "@jupyter-widgets/controls",
          "model_name": "ProgressStyleModel",
          "model_module_version": "1.5.0",
          "state": {
            "_model_module": "@jupyter-widgets/controls",
            "_model_module_version": "1.5.0",
            "_model_name": "ProgressStyleModel",
            "_view_count": null,
            "_view_module": "@jupyter-widgets/base",
            "_view_module_version": "1.2.0",
            "_view_name": "StyleView",
            "bar_color": null,
            "description_width": ""
          }
        },
        "96196e5e63dc4c7eb5fee755865626c4": {
          "model_module": "@jupyter-widgets/base",
          "model_name": "LayoutModel",
          "model_module_version": "1.2.0",
          "state": {
            "_model_module": "@jupyter-widgets/base",
            "_model_module_version": "1.2.0",
            "_model_name": "LayoutModel",
            "_view_count": null,
            "_view_module": "@jupyter-widgets/base",
            "_view_module_version": "1.2.0",
            "_view_name": "LayoutView",
            "align_content": null,
            "align_items": null,
            "align_self": null,
            "border": null,
            "bottom": null,
            "display": null,
            "flex": null,
            "flex_flow": null,
            "grid_area": null,
            "grid_auto_columns": null,
            "grid_auto_flow": null,
            "grid_auto_rows": null,
            "grid_column": null,
            "grid_gap": null,
            "grid_row": null,
            "grid_template_areas": null,
            "grid_template_columns": null,
            "grid_template_rows": null,
            "height": null,
            "justify_content": null,
            "justify_items": null,
            "left": null,
            "margin": null,
            "max_height": null,
            "max_width": null,
            "min_height": null,
            "min_width": null,
            "object_fit": null,
            "object_position": null,
            "order": null,
            "overflow": null,
            "overflow_x": null,
            "overflow_y": null,
            "padding": null,
            "right": null,
            "top": null,
            "visibility": null,
            "width": null
          }
        },
        "54d05ebc508d4bac88abbf7e0d5193d6": {
          "model_module": "@jupyter-widgets/controls",
          "model_name": "DescriptionStyleModel",
          "model_module_version": "1.5.0",
          "state": {
            "_model_module": "@jupyter-widgets/controls",
            "_model_module_version": "1.5.0",
            "_model_name": "DescriptionStyleModel",
            "_view_count": null,
            "_view_module": "@jupyter-widgets/base",
            "_view_module_version": "1.2.0",
            "_view_name": "StyleView",
            "description_width": ""
          }
        }
      }
    }
  },
  "nbformat": 4,
  "nbformat_minor": 5
}