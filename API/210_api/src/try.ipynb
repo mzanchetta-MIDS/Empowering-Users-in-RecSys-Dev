{
 "cells": [
  {
   "cell_type": "code",
   "execution_count": null,
   "metadata": {},
   "outputs": [],
   "source": [
    "#from sklearn.metrics.pairwise import cosine_similarity\n",
    "import numpy as np\n",
    "# import os\n",
    "# import logging\n",
    "# #from src.bookEmbeddings import load_book_embeddings\n",
    "import sagemaker\n",
    "import boto3\n",
    "import io\n",
    "import pandas as pd"
   ]
  },
  {
   "cell_type": "code",
   "execution_count": null,
   "metadata": {},
   "outputs": [],
   "source": [
    "s3 = boto3.client('s3')\n",
    "# bucket = 'w210recsys'\n",
    "# key = 'model/recModel/modelFiles/book_embeddings.npy'"
   ]
  },
  {
   "cell_type": "code",
   "execution_count": null,
   "metadata": {},
   "outputs": [],
   "source": [
    "s3.download_file(bucket, key, 'book_embeddings.npy')"
   ]
  },
  {
   "cell_type": "code",
   "execution_count": 1,
   "metadata": {},
   "outputs": [
    {
     "name": "stderr",
     "output_type": "stream",
     "text": [
      "/home/zfenton/.cache/pypoetry/virtualenvs/210-api-9v8zSIhV-py3.11/lib/python3.11/site-packages/pydantic/_internal/_fields.py:192: UserWarning: Field name \"json\" in \"MonitoringDatasetFormat\" shadows an attribute in parent \"Base\"\n",
      "  warnings.warn(\n"
     ]
    },
    {
     "data": {
      "text/html": [
       "<pre style=\"white-space:pre;overflow-x:auto;line-height:normal;font-family:Menlo,'DejaVu Sans Mono',consolas,'Courier New',monospace\"><span style=\"color: #7fbfbf; text-decoration-color: #7fbfbf\">[03/15/25 13:10:20] </span><span style=\"color: #0069ff; text-decoration-color: #0069ff; font-weight: bold\">INFO    </span> Found credentials in shared credentials file: ~<span style=\"color: #e100e1; text-decoration-color: #e100e1\">/.aws/credentials</span>   <a href=\"file:///home/zfenton/.cache/pypoetry/virtualenvs/210-api-9v8zSIhV-py3.11/lib/python3.11/site-packages/botocore/credentials.py\" target=\"_blank\"><span style=\"color: #7f7f7f; text-decoration-color: #7f7f7f\">credentials.py</span></a><span style=\"color: #7f7f7f; text-decoration-color: #7f7f7f\">:</span><a href=\"file:///home/zfenton/.cache/pypoetry/virtualenvs/210-api-9v8zSIhV-py3.11/lib/python3.11/site-packages/botocore/credentials.py#1352\" target=\"_blank\"><span style=\"color: #7f7f7f; text-decoration-color: #7f7f7f\">1352</span></a>\n",
       "</pre>\n"
      ],
      "text/plain": [
       "\u001b[2;36m[03/15/25 13:10:20]\u001b[0m\u001b[2;36m \u001b[0m\u001b[1;38;2;0;105;255mINFO    \u001b[0m Found credentials in shared credentials file: ~\u001b[38;2;225;0;225m/.aws/\u001b[0m\u001b[38;2;225;0;225mcredentials\u001b[0m   \u001b]8;id=198785;file:///home/zfenton/.cache/pypoetry/virtualenvs/210-api-9v8zSIhV-py3.11/lib/python3.11/site-packages/botocore/credentials.py\u001b\\\u001b[2mcredentials.py\u001b[0m\u001b]8;;\u001b\\\u001b[2m:\u001b[0m\u001b]8;id=565280;file:///home/zfenton/.cache/pypoetry/virtualenvs/210-api-9v8zSIhV-py3.11/lib/python3.11/site-packages/botocore/credentials.py#1352\u001b\\\u001b[2m1352\u001b[0m\u001b]8;;\u001b\\\n"
      ]
     },
     "metadata": {},
     "output_type": "display_data"
    },
    {
     "name": "stdout",
     "output_type": "stream",
     "text": [
      "sagemaker.config INFO - Not applying SDK defaults from location: /etc/xdg/sagemaker/config.yaml\n",
      "sagemaker.config INFO - Not applying SDK defaults from location: /home/zfenton/.config/sagemaker/config.yaml\n"
     ]
    }
   ],
   "source": [
    "from bookEmbeddings import load_book_embeddings"
   ]
  },
  {
   "cell_type": "code",
   "execution_count": 2,
   "metadata": {},
   "outputs": [],
   "source": [
    "s3_bucket = \"w210recsys\"\n",
    "aws_book_embeddings_path = \"model/recModel/modelFiles/book_embeddings.npy\" \n",
    "aws_books_df_path = \"model/recModel/modelFiles/books_df.csv\""
   ]
  },
  {
   "cell_type": "code",
   "execution_count": 3,
   "metadata": {},
   "outputs": [
    {
     "data": {
      "text/html": [
       "<pre style=\"white-space:pre;overflow-x:auto;line-height:normal;font-family:Menlo,'DejaVu Sans Mono',consolas,'Courier New',monospace\"><span style=\"color: #7fbfbf; text-decoration-color: #7fbfbf\">                    </span><span style=\"color: #0069ff; text-decoration-color: #0069ff; font-weight: bold\">INFO    </span> Found credentials in shared credentials file: ~<span style=\"color: #e100e1; text-decoration-color: #e100e1\">/.aws/credentials</span>   <a href=\"file:///home/zfenton/.cache/pypoetry/virtualenvs/210-api-9v8zSIhV-py3.11/lib/python3.11/site-packages/botocore/credentials.py\" target=\"_blank\"><span style=\"color: #7f7f7f; text-decoration-color: #7f7f7f\">credentials.py</span></a><span style=\"color: #7f7f7f; text-decoration-color: #7f7f7f\">:</span><a href=\"file:///home/zfenton/.cache/pypoetry/virtualenvs/210-api-9v8zSIhV-py3.11/lib/python3.11/site-packages/botocore/credentials.py#1352\" target=\"_blank\"><span style=\"color: #7f7f7f; text-decoration-color: #7f7f7f\">1352</span></a>\n",
       "</pre>\n"
      ],
      "text/plain": [
       "\u001b[2;36m                   \u001b[0m\u001b[2;36m \u001b[0m\u001b[1;38;2;0;105;255mINFO    \u001b[0m Found credentials in shared credentials file: ~\u001b[38;2;225;0;225m/.aws/\u001b[0m\u001b[38;2;225;0;225mcredentials\u001b[0m   \u001b]8;id=884678;file:///home/zfenton/.cache/pypoetry/virtualenvs/210-api-9v8zSIhV-py3.11/lib/python3.11/site-packages/botocore/credentials.py\u001b\\\u001b[2mcredentials.py\u001b[0m\u001b]8;;\u001b\\\u001b[2m:\u001b[0m\u001b]8;id=38166;file:///home/zfenton/.cache/pypoetry/virtualenvs/210-api-9v8zSIhV-py3.11/lib/python3.11/site-packages/botocore/credentials.py#1352\u001b\\\u001b[2m1352\u001b[0m\u001b]8;;\u001b\\\n"
      ]
     },
     "metadata": {},
     "output_type": "display_data"
    },
    {
     "name": "stdout",
     "output_type": "stream",
     "text": [
      "Successfully loaded objects from S3: response, books_df\n",
      " \n",
      "Loaded book_embeddings to buffer: <_io.BytesIO object at 0x7f975bcc85e0>\n",
      "Successfully loaded book_embeddings to books_df {'ResponseMetadata': {'RequestId': '484T10A7K1VB92CF', 'HostId': 'wo9Cb69cUZbLKSipZd2y78sG5TB7wvtPVlGZNe/zAF405DEllMVD2Zd4sqiLwHF4yShnFTeVpX35vG33/41gZWvcogh49z+GpRL0WHE1WOM=', 'HTTPStatusCode': 200, 'HTTPHeaders': {'x-amz-id-2': 'wo9Cb69cUZbLKSipZd2y78sG5TB7wvtPVlGZNe/zAF405DEllMVD2Zd4sqiLwHF4yShnFTeVpX35vG33/41gZWvcogh49z+GpRL0WHE1WOM=', 'x-amz-request-id': '484T10A7K1VB92CF', 'date': 'Sat, 15 Mar 2025 20:10:23 GMT', 'last-modified': 'Wed, 12 Mar 2025 05:51:49 GMT', 'etag': '\"210f529b58863ddea214242c29a1324a-22\"', 'x-amz-checksum-crc32': 'SoVkAQ==-22', 'x-amz-checksum-type': 'COMPOSITE', 'x-amz-server-side-encryption': 'AES256', 'x-amz-version-id': 'I.TO6B8phS0Ou.xPPnOeM001w51PdyTX', 'accept-ranges': 'bytes', 'content-type': 'binary/octet-stream', 'content-length': '181078647', 'server': 'AmazonS3'}, 'RetryAttempts': 0}, 'AcceptRanges': 'bytes', 'LastModified': datetime.datetime(2025, 3, 12, 5, 51, 49, tzinfo=tzutc()), 'ContentLength': 181078647, 'ETag': '\"210f529b58863ddea214242c29a1324a-22\"', 'ChecksumCRC32': 'SoVkAQ==-22', 'ChecksumType': 'COMPOSITE', 'VersionId': 'I.TO6B8phS0Ou.xPPnOeM001w51PdyTX', 'ContentType': 'binary/octet-stream', 'ServerSideEncryption': 'AES256', 'Metadata': {}, 'Body': <botocore.response.StreamingBody object at 0x7f975bcbb130>}\n",
      "<class 'pandas.core.frame.DataFrame'>\n"
     ]
    }
   ],
   "source": [
    "x = load_book_embeddings(s3_bucket, aws_book_embeddings_path, aws_books_df_path)\n",
    "print(type(x))\n"
   ]
  },
  {
   "cell_type": "code",
   "execution_count": null,
   "metadata": {},
   "outputs": [],
   "source": [
    "books_df = s3.get_object(Bucket=s3_bucket, Key=aws_books_df_path)\n",
    "books_df_ = io.BytesIO(books_df['Body'].read())"
   ]
  },
  {
   "cell_type": "code",
   "execution_count": null,
   "metadata": {},
   "outputs": [],
   "source": [
    "# Example: Assuming 'buffer' is your BytesIO object containing CSV data\n",
    "books_df_.seek(0)  # Move to the start of the buffer\n",
    "df = pd.read_csv(books_df_)\n",
    "print(df.head())\n",
    "\n",
    "# Save as CSV file\n",
    "df.to_csv(\"output.csv\", index=False)"
   ]
  },
  {
   "cell_type": "code",
   "execution_count": null,
   "metadata": {},
   "outputs": [],
   "source": [
    "response = s3.get_object(Bucket=s3_bucket, Key=aws_book_embeddings_path)\n",
    "buffer = io.BytesIO(response['Body'].read())"
   ]
  },
  {
   "cell_type": "code",
   "execution_count": null,
   "metadata": {},
   "outputs": [],
   "source": [
    "df['embeddings'] = [embed for embed in np.load(buffer)]"
   ]
  },
  {
   "cell_type": "code",
   "execution_count": null,
   "metadata": {},
   "outputs": [],
   "source": [
    "df['embeddings'].iloc[0]"
   ]
  },
  {
   "cell_type": "code",
   "execution_count": null,
   "metadata": {},
   "outputs": [],
   "source": [
    "x.get('embeddings')"
   ]
  },
  {
   "cell_type": "code",
   "execution_count": null,
   "metadata": {},
   "outputs": [],
   "source": [
    "y = np.vstack(x['embeddings'].values)"
   ]
  },
  {
   "cell_type": "code",
   "execution_count": null,
   "metadata": {},
   "outputs": [],
   "source": [
    "s3_bucket = \"w210recsys\"\n",
    "aws_book_embeddings_path = \"model/recModel/modelFiles/book_embeddings.npy\" \n",
    "aws_books_df_path = \"model/recModel/modelFiles/books_df.csv\"\n",
    "\n",
    "# Load book embeddings\n",
    "#load_book_embeddings(s3_bucket, aws_book_embeddings_path, aws_books_df_path)"
   ]
  },
  {
   "cell_type": "code",
   "execution_count": null,
   "metadata": {},
   "outputs": [],
   "source": [
    "response = s3.get_object(Bucket=s3_bucket, Key=aws_book_embeddings_path)"
   ]
  },
  {
   "cell_type": "code",
   "execution_count": null,
   "metadata": {},
   "outputs": [],
   "source": [
    "def load_book_embeddings(s3_bucket, aws_book_embeddings_path, aws_books_df_path):\n",
    "\n",
    "    s3 = boto3.client('s3')\n",
    "\n",
    "    response = s3.get_object(Bucket=s3_bucket, Key=aws_book_embeddings_path)\n",
    "    # Download the books_df file from S3 into memory\n",
    "    books_df = s3.get_object(Bucket=s3_bucket, Key=aws_books_df_path)\n",
    "    print(\"Successfully loaded objects from S3: response, books_df\")\n",
    "    print(\" \")\n",
    "    print(\"Deleting objects from memory\")\n",
    "    del response\n",
    "    del books_df\n",
    "    print(\"Successfully deleted objects from memory\")\n",
    "    \n",
    "    return(\"success\")"
   ]
  },
  {
   "cell_type": "code",
   "execution_count": null,
   "metadata": {},
   "outputs": [],
   "source": [
    "load_book_embeddings(s3_bucket, aws_book_embeddings_path, aws_books_df_path)"
   ]
  },
  {
   "cell_type": "code",
   "execution_count": null,
   "metadata": {},
   "outputs": [],
   "source": []
  }
 ],
 "metadata": {
  "kernelspec": {
   "display_name": "210-api-9v8zSIhV-py3.11",
   "language": "python",
   "name": "python3"
  },
  "language_info": {
   "codemirror_mode": {
    "name": "ipython",
    "version": 3
   },
   "file_extension": ".py",
   "mimetype": "text/x-python",
   "name": "python",
   "nbconvert_exporter": "python",
   "pygments_lexer": "ipython3",
   "version": "3.11.9"
  }
 },
 "nbformat": 4,
 "nbformat_minor": 2
}
